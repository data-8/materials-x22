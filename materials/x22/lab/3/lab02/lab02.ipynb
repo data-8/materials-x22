{
 "cells": [
  {
   "cell_type": "code",
   "execution_count": null,
   "id": "1d680814",
   "metadata": {
    "deletable": false,
    "editable": false
   },
   "outputs": [],
   "source": [
    "# Initialize Otter\n",
    "import otter\n",
    "grader = otter.Notebook(\"lab02.ipynb\")"
   ]
  },
  {
   "cell_type": "code",
   "execution_count": 1,
   "id": "41cc6ad7",
   "metadata": {
    "execution": {
     "iopub.execute_input": "2022-07-06T18:03:24.279377Z",
     "iopub.status.busy": "2022-07-06T18:03:24.278833Z",
     "iopub.status.idle": "2022-07-06T18:03:25.823202Z",
     "shell.execute_reply": "2022-07-06T18:03:25.822394Z"
    }
   },
   "outputs": [],
   "source": [
    "# Run this cell to set up the notebook, but please don't change it.\n",
    "\n",
    "# These lines import the Numpy and Datascience modules.\n",
    "import numpy as np\n",
    "from datascience import *\n",
    "\n",
    "# These lines do some fancy plotting magic.\n",
    "import matplotlib\n",
    "%matplotlib inline\n",
    "import matplotlib.pyplot as plt\n",
    "plt.style.use('fivethirtyeight')\n",
    "import warnings\n",
    "warnings.simplefilter('ignore')\n",
    "\n",
    "# This line loads the visualization code for this lab.\n",
    "import visualizations\n",
    "\n",
    "import d8error"
   ]
  },
  {
   "cell_type": "markdown",
   "id": "6b4501f4",
   "metadata": {},
   "source": [
    "# 1. What is conditional probability good for?\n",
    "\n",
    "Suppose we have a known population, like all dogs in California.  So far, we've seen three ways of *predicting* something about an individual in that population, given incomplete knowledge about the identity of the individual:\n",
    "\n",
    "* If we know nothing about the individual dog, we could predict that its speed is the *average* or *median* of all the speeds in the population.\n",
    "* If we know the dog's height but not its speed, we could use *linear regression* to predict its speed from its height.  The resulting prediction is still imperfect, but it might be more accurate than the population average.\n",
    "* If we know the dog's breed, height, and age, we could use *nearest-neighbor classification* to predict its speed by comparing it to a collection of dogs with known speed.\n",
    "\n",
    "\n",
    "We can also compute conditional probabilities to make predictions about individuals or events. This technique is different from the previous methods we\u2019ve examined because \n",
    "\n",
    "1. our prediction for each outcome is described by a probability, and \n",
    "2. each probability can be exactly calculated from assumptions, as opposed to estimated from data."
   ]
  },
  {
   "cell_type": "markdown",
   "id": "35d88dc1",
   "metadata": {},
   "source": [
    "# 2. Icon arrays\n",
    "Parts 3 and 4 of this lab work with a more complex example about disease, but first, let's start with a simple example.\n",
    "\n",
    "Imagine you and Samantha are playing a game in which you are given a marble and tasked to determine the marble's texture and size. You don't know anything about the marble you're given, but you know that Samantha drew it **uniformly at random** from a bag that contained the following marbles:\n",
    "* 4 large shiny marbles,\n",
    "* 1 large dull marble,\n",
    "* 6 small shiny marbles,\n",
    "* 2 small dull marbles."
   ]
  },
  {
   "cell_type": "markdown",
   "id": "9a1f6c3f",
   "metadata": {
    "deletable": false,
    "editable": false
   },
   "source": [
    "**Question 2.0.1.** Knowing only what we've told you so far, what's the probability that the marble you're given was a large shiny marble?\n",
    "\n",
    "<!--\n",
    "BEGIN QUESTION\n",
    "name: q2_0_1\n",
    "-->"
   ]
  },
  {
   "cell_type": "code",
   "execution_count": 2,
   "id": "ac1293d3",
   "metadata": {
    "deletable": false,
    "execution": {
     "iopub.execute_input": "2022-07-06T18:03:25.827936Z",
     "iopub.status.busy": "2022-07-06T18:03:25.827538Z",
     "iopub.status.idle": "2022-07-06T18:03:25.830770Z",
     "shell.execute_reply": "2022-07-06T18:03:25.830289Z"
    }
   },
   "outputs": [],
   "source": [
    "probability_large_shiny = ..."
   ]
  },
  {
   "cell_type": "code",
   "execution_count": null,
   "id": "23ecbf07",
   "metadata": {
    "deletable": false,
    "editable": false
   },
   "outputs": [],
   "source": [
    "grader.check(\"q2_0_1\")"
   ]
  },
  {
   "cell_type": "markdown",
   "id": "28b824c7",
   "metadata": {},
   "source": [
    "Here's a table with those marbles:"
   ]
  },
  {
   "cell_type": "code",
   "execution_count": 5,
   "id": "78679e34",
   "metadata": {
    "execution": {
     "iopub.execute_input": "2022-07-06T18:03:25.848727Z",
     "iopub.status.busy": "2022-07-06T18:03:25.848387Z",
     "iopub.status.idle": "2022-07-06T18:03:26.791557Z",
     "shell.execute_reply": "2022-07-06T18:03:26.790852Z"
    }
   },
   "outputs": [],
   "source": [
    "marbles = Table.read_table(\"marbles.csv\")\n",
    "marbles.show()"
   ]
  },
  {
   "cell_type": "markdown",
   "id": "998c92f7",
   "metadata": {},
   "source": [
    "Here are the counts of each type of marble in a pivot table."
   ]
  },
  {
   "cell_type": "code",
   "execution_count": 6,
   "id": "60c350fa",
   "metadata": {
    "execution": {
     "iopub.execute_input": "2022-07-06T18:03:26.795488Z",
     "iopub.status.busy": "2022-07-06T18:03:26.795244Z",
     "iopub.status.idle": "2022-07-06T18:03:26.807485Z",
     "shell.execute_reply": "2022-07-06T18:03:26.806879Z"
    }
   },
   "outputs": [],
   "source": [
    "marbles.pivot('surface', 'size')"
   ]
  },
  {
   "cell_type": "markdown",
   "id": "c33746e4",
   "metadata": {},
   "source": [
    "Here are all the different combinations of surface and size, with the count for each surface-size combination. Each type of marble appears in its own row."
   ]
  },
  {
   "cell_type": "code",
   "execution_count": 7,
   "id": "215aa951",
   "metadata": {
    "execution": {
     "iopub.execute_input": "2022-07-06T18:03:26.810592Z",
     "iopub.status.busy": "2022-07-06T18:03:26.810346Z",
     "iopub.status.idle": "2022-07-06T18:03:26.821824Z",
     "shell.execute_reply": "2022-07-06T18:03:26.821376Z"
    }
   },
   "outputs": [],
   "source": [
    "marbles.group(['surface', 'size'])"
   ]
  },
  {
   "cell_type": "markdown",
   "id": "6d3b5dc3",
   "metadata": {},
   "source": [
    "We've included some code to display something called an *icon array*.  The functions in the cell below create icon arrays from various kinds of tables. Don't worry about understanding the code; just run this cell.\n",
    "\n",
    "**NOTE:** You may ignore the the y-axis labels. Just remember that each box represents 1 marble. "
   ]
  },
  {
   "cell_type": "code",
   "execution_count": 8,
   "id": "66cd92c8",
   "metadata": {
    "execution": {
     "iopub.execute_input": "2022-07-06T18:03:26.825138Z",
     "iopub.status.busy": "2022-07-06T18:03:26.824885Z",
     "iopub.status.idle": "2022-07-06T18:03:26.829253Z",
     "shell.execute_reply": "2022-07-06T18:03:26.828842Z"
    }
   },
   "outputs": [],
   "source": [
    "# Run this cell.\n",
    "\n",
    "#######################################################################\n",
    "# The functions you'll need to actually use are in here.  Each is a\n",
    "# way of making an icon array from a differently-formatted table.\n",
    "#######################################################################\n",
    "\n",
    "def display_icon_array(table, groups, individuals_name):\n",
    "    \"\"\"\n",
    "    Given a table and some columns to group it on, displays an icon array\n",
    "    of the groups.\n",
    "    \n",
    "    groups should be an array of labels of columns in table.\n",
    "    \n",
    "    individuals_name is your name for the individual rows of table.\n",
    "    For example, if we're talking about a population of people,\n",
    "    individuals_name should be \"people\".\n",
    "    \n",
    "    For example:\n",
    "    \n",
    "    display_icon_array(marbles, [\"surface\", \"size\"], \"marbles\")\n",
    "    \"\"\"\n",
    "    display_grouped_icon_array(table.group(groups), individuals_name)\n",
    "\n",
    "def display_grouped_icon_array(grouped_data, individuals_name):\n",
    "    \"\"\"\n",
    "    Given a table with counts for data grouped by 1 or more categories,\n",
    "    displays an icon array of the groups represented in the table.\n",
    "    \n",
    "    grouped_data should be a table of frequencies or counts, such as\n",
    "    a table created by calling the groups method on some table.\n",
    "    \n",
    "    individuals_name is your name for the individual members of the\n",
    "    dataset.  For example, if we're talking about a population of\n",
    "    people, individuals_name should be \"people\".\n",
    "    \n",
    "    For example:\n",
    "    \n",
    "    display_grouped_icon_array(marbles.group([\"surface\", \"size\"]), \"marbles\")\n",
    "    \"\"\"\n",
    "    visualizations.display_combinations(grouped_data, individuals_name=individuals_name)\n",
    "\n",
    "def display_crosstab_icon_array(crosstabulation, x_label, individuals_name):\n",
    "    \"\"\"\n",
    "    Given a crosstabulation table, displays an icon array of the groups\n",
    "    represented in the table.\n",
    "    \n",
    "    crosstabulation should be a table of frequencies or counts created by\n",
    "    calling pivot on some table.\n",
    "    \n",
    "    x_label should be the label of the categories listed as columns (on\n",
    "    the \"x axis\" when the crosstabulation table is printed).\n",
    "    \n",
    "    individuals_name is your name for the individual members of the\n",
    "    dataset.  For example, if we're talking about a population of\n",
    "    people, individuals_name should be \"people\".\n",
    "    \n",
    "    For example:\n",
    "    \n",
    "    display_crosstab_icon_array(marbles.pivot(\"surface\", \"size\"), \"surface\", \"marbles\")\n",
    "    \"\"\"\n",
    "    display_grouped_icon_array(visualizations.pivot_table_to_groups(crosstabulation, x_label), individuals_name)"
   ]
  },
  {
   "cell_type": "markdown",
   "id": "ad90d0ad",
   "metadata": {},
   "source": [
    "Here's an icon array of all the marbles, grouped by surface and size:"
   ]
  },
  {
   "cell_type": "code",
   "execution_count": 9,
   "id": "9ea211f6",
   "metadata": {
    "execution": {
     "iopub.execute_input": "2022-07-06T18:03:26.832515Z",
     "iopub.status.busy": "2022-07-06T18:03:26.832259Z",
     "iopub.status.idle": "2022-07-06T18:03:26.843610Z",
     "shell.execute_reply": "2022-07-06T18:03:26.843091Z"
    },
    "scrolled": true
   },
   "outputs": [],
   "source": [
    "# Run this cell.\n",
    "display_grouped_icon_array(marbles.group([\"surface\", \"size\"]), \"marble(s)\")"
   ]
  },
  {
   "cell_type": "markdown",
   "id": "a54baac1",
   "metadata": {},
   "source": [
    "You should imagine that the marble you've been given was selected by a random draw from these 13 icons.\n",
    "\n",
    "The following is an icon array of the marbles, grouped **only by their surface (shiny/dull)**."
   ]
  },
  {
   "cell_type": "code",
   "execution_count": 10,
   "id": "b3da855f",
   "metadata": {
    "execution": {
     "iopub.execute_input": "2022-07-06T18:03:26.847026Z",
     "iopub.status.busy": "2022-07-06T18:03:26.846684Z",
     "iopub.status.idle": "2022-07-06T18:03:26.857731Z",
     "shell.execute_reply": "2022-07-06T18:03:26.857256Z"
    }
   },
   "outputs": [],
   "source": [
    "display_grouped_icon_array(marbles.group(\"surface\"), \"marble(s)\")"
   ]
  },
  {
   "cell_type": "markdown",
   "id": "bd4c543f",
   "metadata": {
    "deletable": false,
    "editable": false
   },
   "source": [
    "Knowing nothing else about the marble, it's equally likely to be any of the marbles depicted above; this is because we've assumed that the marble is selected **uniformly at random** from the bag.\n",
    "\n",
    "**Question 2.0.2.** What's the probability that you've been given a shiny marble?  Calculate this by hand (using Python for arithmetic) by looking at your icon array.\n",
    "\n",
    "<!--\n",
    "BEGIN QUESTION\n",
    "name: q2_0_2\n",
    "-->"
   ]
  },
  {
   "cell_type": "code",
   "execution_count": 11,
   "id": "6bb14c25",
   "metadata": {
    "deletable": false,
    "execution": {
     "iopub.execute_input": "2022-07-06T18:03:26.861005Z",
     "iopub.status.busy": "2022-07-06T18:03:26.860744Z",
     "iopub.status.idle": "2022-07-06T18:03:26.863493Z",
     "shell.execute_reply": "2022-07-06T18:03:26.863060Z"
    }
   },
   "outputs": [],
   "source": [
    "probability_shiny = ..."
   ]
  },
  {
   "cell_type": "code",
   "execution_count": null,
   "id": "95d4fb5b",
   "metadata": {
    "deletable": false,
    "editable": false
   },
   "outputs": [],
   "source": [
    "grader.check(\"q2_0_2\")"
   ]
  },
  {
   "cell_type": "markdown",
   "id": "f9c3402a",
   "metadata": {},
   "source": [
    "## 2.1. Conditional probability\n",
    "\n",
    "Suppose you overhear Samantha say that you were given a large marble. Does this somehow change the chance that your marble is shiny?  Let's find out.\n",
    "\n",
    "Go back to the full icon array, displayed below for convenience."
   ]
  },
  {
   "cell_type": "code",
   "execution_count": 13,
   "id": "68d19f87",
   "metadata": {
    "execution": {
     "iopub.execute_input": "2022-07-06T18:03:26.873931Z",
     "iopub.status.busy": "2022-07-06T18:03:26.873692Z",
     "iopub.status.idle": "2022-07-06T18:03:26.886184Z",
     "shell.execute_reply": "2022-07-06T18:03:26.885689Z"
    }
   },
   "outputs": [],
   "source": [
    "display_grouped_icon_array(marbles.group([\"surface\", \"size\"]), \"marble(s)\")"
   ]
  },
  {
   "cell_type": "markdown",
   "id": "5f9a754d",
   "metadata": {},
   "source": [
    "In question 2.0.2, we assumed that the marble you were given was equally likely to be any of the marbles, simply because we didn't know any better.  That's why we looked at all the marbles to compute the probability that your marble was shiny.\n",
    "\n",
    "But assuming that you've been given a large marble, we can eliminate some of these possibilities. In particular, you can't have been given a small shiny marble or a small dull marble.\n",
    "\n",
    "You're still equally likely to have been given any of the remaining marbles, because you don't know any other information.  So here's an icon array of those remaining possibilities:"
   ]
  },
  {
   "cell_type": "code",
   "execution_count": 14,
   "id": "4bf4b011",
   "metadata": {
    "execution": {
     "iopub.execute_input": "2022-07-06T18:03:26.889496Z",
     "iopub.status.busy": "2022-07-06T18:03:26.889232Z",
     "iopub.status.idle": "2022-07-06T18:03:26.900800Z",
     "shell.execute_reply": "2022-07-06T18:03:26.900337Z"
    }
   },
   "outputs": [],
   "source": [
    "# Just run this cell.\n",
    "display_grouped_icon_array(marbles.where(\"size\", \"large\").group(\"surface\"), \"large marble(s)\")"
   ]
  },
  {
   "cell_type": "markdown",
   "id": "22827100",
   "metadata": {
    "deletable": false,
    "editable": false
   },
   "source": [
    "**Question 2.1.1.** What's the probability Samantha gives you a shiny marble, knowing that she gave you a large marble? \n",
    "\n",
    "*Hint: Use the icon array.*\n",
    "\n",
    "<!--\n",
    "BEGIN QUESTION\n",
    "name: q2_1_1\n",
    "-->"
   ]
  },
  {
   "cell_type": "code",
   "execution_count": 15,
   "id": "b58e1fda",
   "metadata": {
    "deletable": false,
    "execution": {
     "iopub.execute_input": "2022-07-06T18:03:26.903812Z",
     "iopub.status.busy": "2022-07-06T18:03:26.903569Z",
     "iopub.status.idle": "2022-07-06T18:03:26.906339Z",
     "shell.execute_reply": "2022-07-06T18:03:26.905872Z"
    }
   },
   "outputs": [],
   "source": [
    "probability_shiny_given_large = ..."
   ]
  },
  {
   "cell_type": "code",
   "execution_count": null,
   "id": "ac1c19b5",
   "metadata": {
    "deletable": false,
    "editable": false
   },
   "outputs": [],
   "source": [
    "grader.check(\"q2_1_1\")"
   ]
  },
  {
   "cell_type": "markdown",
   "id": "17523c33",
   "metadata": {},
   "source": [
    "You should have found that this is different from the probability that Samantha gave you a shiny marble, given no size information, which you computed earlier.  The distribution of surfaces among the large marbles is a little different from the distribution of surfaces among all the marbles."
   ]
  },
  {
   "cell_type": "code",
   "execution_count": 17,
   "id": "60d0668f",
   "metadata": {
    "execution": {
     "iopub.execute_input": "2022-07-06T18:03:26.916929Z",
     "iopub.status.busy": "2022-07-06T18:03:26.916672Z",
     "iopub.status.idle": "2022-07-06T18:03:26.928701Z",
     "shell.execute_reply": "2022-07-06T18:03:26.928128Z"
    }
   },
   "outputs": [],
   "source": [
    "# Run this cell to display the icon array. Then fill answer the next question.\n",
    "display_grouped_icon_array(marbles.where(\"surface\", \"shiny\").group(\"size\"), \"shiny marble(s)\")"
   ]
  },
  {
   "cell_type": "markdown",
   "id": "042c6dd9",
   "metadata": {
    "deletable": false,
    "editable": false
   },
   "source": [
    "**Question 2.1.2.** Suppose instead Samantha had said she gave you a **shiny** marble (hooray!). What's the probability that the marble given to you is large? \n",
    "\n",
    "Run the code cell above to display the icon array, then assign `probability_large_given_shiny` to the appropriate value.\n",
    "<!--\n",
    "BEGIN QUESTION\n",
    "name: q2_1_2\n",
    "-->"
   ]
  },
  {
   "cell_type": "code",
   "execution_count": 18,
   "id": "92cf6b0d",
   "metadata": {
    "execution": {
     "iopub.execute_input": "2022-07-06T18:03:26.932052Z",
     "iopub.status.busy": "2022-07-06T18:03:26.931835Z",
     "iopub.status.idle": "2022-07-06T18:03:26.934589Z",
     "shell.execute_reply": "2022-07-06T18:03:26.934103Z"
    }
   },
   "outputs": [],
   "source": [
    "probability_large_given_shiny = ..."
   ]
  },
  {
   "cell_type": "code",
   "execution_count": null,
   "id": "12782acd",
   "metadata": {
    "deletable": false,
    "editable": false
   },
   "outputs": [],
   "source": [
    "grader.check(\"q2_1_2\")"
   ]
  },
  {
   "cell_type": "markdown",
   "id": "659d447c",
   "metadata": {},
   "source": [
    "**Question 2.1.3.** Can you answer the previous two questions just by looking at the full icon array?  (You can run the cell below to see it again.)\n",
    "\n",
    "*Hint:* Check out [Ch 18.2](https://inferentialthinking.com/chapters/18/2/Making_Decisions.html) for a refresher on how to use Bayes' Rule."
   ]
  },
  {
   "cell_type": "code",
   "execution_count": 20,
   "id": "f7797824",
   "metadata": {
    "execution": {
     "iopub.execute_input": "2022-07-06T18:03:26.944223Z",
     "iopub.status.busy": "2022-07-06T18:03:26.943896Z",
     "iopub.status.idle": "2022-07-06T18:03:26.955327Z",
     "shell.execute_reply": "2022-07-06T18:03:26.954831Z"
    }
   },
   "outputs": [],
   "source": [
    "# Just run this cell.  The next cell is where you should write your answer.\n",
    "display_grouped_icon_array(marbles.group([\"surface\", \"size\"]), \"marble(s)\")"
   ]
  },
  {
   "cell_type": "markdown",
   "id": "b5b32e57",
   "metadata": {
    "deletable": false,
    "editable": false
   },
   "source": [
    "If you can, how? If not, why not? Check with your lab peers or a staff member to see if you are on the right track. \n",
    "\n",
    "<!--\n",
    "BEGIN QUESTION\n",
    "name: q2_1_3\n",
    "-->"
   ]
  },
  {
   "cell_type": "markdown",
   "id": "cb95ed5d",
   "metadata": {},
   "source": [
    "_Type your answer here, replacing this text._"
   ]
  },
  {
   "cell_type": "markdown",
   "id": "b5949136",
   "metadata": {},
   "source": [
    "# 3. Cancer screening\n",
    "Hopefully the icon arrays from the previous portion helped you build intuition for why conditional probabilities can be helpful. Now, let\u2019s look at a real life application.\n",
    "\n",
    "### Background\n",
    "Medical testing is very important, especially for cancer. A basic cancer screening involves looking for cancer before a person has any symptoms. \n",
    "\n",
    "Cancer screening is not 100% reliable, and it can have errors. There are cases in which someone without cancer or with a benign tumor sees a positive test result. There are also cases where someone with cancer can receive a negative result. (\u201cPositive\u201d implies an indication of cancer in this context.) The first case, called a false positive, could cause anxiety for a patient and lead to further testing that may be risky and involve unnecessary radiation. In the second case, called a false negative, a person would not receive the necessary information and possible treatment for their condition.\n",
    "\n",
    "Conditional probability can provide insight into the accuracy of initial cancer tests. For example, you can compute the chance that a person has cancer given the results of a diagnostic test by combining information from different probability distributions. You\u2019ll see that the chance Person X does have cancer even if they receive a positive result is not necessarily 100%.\n",
    "\n",
    "It is important to note that conditional probabilities offer just one line of insight to understanding a test result and that this statistical approach does not take into account important factors like heredity or environment that come to affect a person\u2019s health and diagnoses. The [Centers for Disease Control and Prevention](https://www.cdc.gov/cancer/dcpc/prevention/screening.htm) (CDC) recommends getting preventative cancer screenings, and one should always consult a doctor if they are concerned about their health. "
   ]
  },
  {
   "cell_type": "markdown",
   "id": "e500eff1",
   "metadata": {},
   "source": [
    "## 3.1. Basic cancer statistics\n",
    "\n",
    "Note: All of the following statistics are made up and don\u2019t necessarily reflect the actual state of the world.\n",
    "\n",
    "\n",
    "Suppose that in a representative group of 10,000 people who are tested for cancer (\"representative\" meaning that the frequencies of different events are the same as the frequencies in the whole population):\n",
    "1. 100 people have cancer.\n",
    "2. Among the 100 people that have cancer, 90 have positive results on a cancer test and 10 have negative results.  (So 10 people receive false negative results.)\n",
    "3. The other 9,900 people don't have cancer.\n",
    "4. Among these 9,900 people, 198 have positive results on a cancer test and the other 9,702 have negative results.  (So 198 see \"false positive\" results.)\n",
    "\n",
    "Below we've generated a table with data from these 10,000 hypothetical people.\n",
    "\n",
    "*Note: These statistics are made up and don\u2019t necessarily reflect the actual state of the world.*"
   ]
  },
  {
   "cell_type": "code",
   "execution_count": 21,
   "id": "4660d427",
   "metadata": {
    "execution": {
     "iopub.execute_input": "2022-07-06T18:03:26.958827Z",
     "iopub.status.busy": "2022-07-06T18:03:26.958587Z",
     "iopub.status.idle": "2022-07-06T18:03:26.963306Z",
     "shell.execute_reply": "2022-07-06T18:03:26.962846Z"
    }
   },
   "outputs": [],
   "source": [
    "people = Table().with_columns(\n",
    "    \"status\", [\"cancer\", \"cancer\", \"no cancer\", \"no cancer\"],\n",
    "    \"test status\", [\"positive\", \"negative\", \"positive\", \"negative\"],\n",
    "    \"count\", [90, 10, 198, 9702])\n",
    "people"
   ]
  },
  {
   "cell_type": "markdown",
   "id": "c6743bfd",
   "metadata": {
    "deletable": false,
    "editable": false
   },
   "source": [
    "One way to visualize this dataset is with a contingency table, which you've seen before.\n",
    "\n",
    "**Question 3.1.1.** Using the `people` table defined above, create a contingency table that looks like this:\n",
    "\n",
    "|status|negative|positive|\n",
    "|-|-|-|\n",
    "|cancer|||\n",
    "|no cancer||||\n",
    "\n",
    "...with the **count** of each group filled in, according to what we've told you above.  The counts in the 4 boxes should sum to 10,000.\n",
    "\n",
    "<!--\n",
    "BEGIN QUESTION\n",
    "name: q3_1_1\n",
    "-->"
   ]
  },
  {
   "cell_type": "code",
   "execution_count": 22,
   "id": "1709989a",
   "metadata": {
    "deletable": false,
    "execution": {
     "iopub.execute_input": "2022-07-06T18:03:26.966437Z",
     "iopub.status.busy": "2022-07-06T18:03:26.966126Z",
     "iopub.status.idle": "2022-07-06T18:03:26.970964Z",
     "shell.execute_reply": "2022-07-06T18:03:26.970483Z"
    },
    "scrolled": true
   },
   "outputs": [],
   "source": [
    "cancer = ...\n",
    "cancer"
   ]
  },
  {
   "cell_type": "code",
   "execution_count": null,
   "id": "b2af0efe",
   "metadata": {
    "deletable": false,
    "editable": false
   },
   "outputs": [],
   "source": [
    "grader.check(\"q3_1_1\")"
   ]
  },
  {
   "cell_type": "markdown",
   "id": "2d2fd593",
   "metadata": {},
   "source": [
    "Here is the `people` data in an icon array."
   ]
  },
  {
   "cell_type": "code",
   "execution_count": 26,
   "id": "917d1de7",
   "metadata": {
    "execution": {
     "iopub.execute_input": "2022-07-06T18:03:26.992627Z",
     "iopub.status.busy": "2022-07-06T18:03:26.992383Z",
     "iopub.status.idle": "2022-07-06T18:03:27.010039Z",
     "shell.execute_reply": "2022-07-06T18:03:27.009541Z"
    }
   },
   "outputs": [],
   "source": [
    "display_grouped_icon_array(people, \"people who've taken a cancer test\")"
   ]
  },
  {
   "cell_type": "markdown",
   "id": "bd6e0fda",
   "metadata": {},
   "source": [
    "Now let's think about how you can use this kind of information when Person X is tested for cancer.\n",
    "\n",
    "Before you know any information about Person X, you could imagine Person X as a **uniform random sample** of one of the 10,000 people in this imaginary population of people who have been tested.\n",
    "\n",
    "What's the chance that Person X has cancer, knowing nothing else about them?  It's $\\frac{100}{10000}$, or 1%.  We can see that more directly with this icon array:"
   ]
  },
  {
   "cell_type": "code",
   "execution_count": 27,
   "id": "ef2373e8",
   "metadata": {
    "execution": {
     "iopub.execute_input": "2022-07-06T18:03:27.013238Z",
     "iopub.status.busy": "2022-07-06T18:03:27.012990Z",
     "iopub.status.idle": "2022-07-06T18:03:27.031110Z",
     "shell.execute_reply": "2022-07-06T18:03:27.030574Z"
    }
   },
   "outputs": [],
   "source": [
    "by_health = people.select(0, 2).group(0, sum).relabeled(1, 'count')\n",
    "display_grouped_icon_array(by_health, \"people who've taken a cancer test\")"
   ]
  },
  {
   "cell_type": "markdown",
   "id": "87d41a36",
   "metadata": {
    "deletable": false,
    "editable": false
   },
   "source": [
    "**Question 3.1.2.** What's the chance that Person X has a positive test result, knowing nothing else about them?\n",
    "Run the next code cell to display an icon array, then assign `probability_positive_test` to this value.\n",
    "<!--\n",
    "BEGIN QUESTION\n",
    "name: q3_1_2\n",
    "-->"
   ]
  },
  {
   "cell_type": "code",
   "execution_count": 28,
   "id": "40efb7dd",
   "metadata": {
    "deletable": false,
    "execution": {
     "iopub.execute_input": "2022-07-06T18:03:27.034528Z",
     "iopub.status.busy": "2022-07-06T18:03:27.034253Z",
     "iopub.status.idle": "2022-07-06T18:03:27.051631Z",
     "shell.execute_reply": "2022-07-06T18:03:27.051070Z"
    }
   },
   "outputs": [],
   "source": [
    "# Run this cell first to display an icon array. Then fill in the probability of a positive test result in the last line.\n",
    "by_test = people.select(1, 2).group(0, sum).relabeled(1, 'count')\n",
    "display_grouped_icon_array(by_test, \"people who've taken a cancer test\")\n",
    "\n",
    "# Now fill in the probability of a positive test result\n",
    "probability_positive_test = ..."
   ]
  },
  {
   "cell_type": "code",
   "execution_count": null,
   "id": "1abb84e9",
   "metadata": {
    "deletable": false,
    "editable": false
   },
   "outputs": [],
   "source": [
    "grader.check(\"q3_1_2\")"
   ]
  },
  {
   "cell_type": "markdown",
   "id": "cff86945",
   "metadata": {},
   "source": [
    "## 3.2. Interpreting test results\n",
    "Suppose Person X has a positive test result.  This means that you can now narrow them down to being part of just one of the two following groups:\n",
    "1. The people with cancer who have a positive test result.\n",
    "2. The people without cancer who have a positive test result.\n",
    "\n",
    "Here's an icon array for those two groups:"
   ]
  },
  {
   "cell_type": "code",
   "execution_count": 30,
   "id": "7a5442ef",
   "metadata": {
    "execution": {
     "iopub.execute_input": "2022-07-06T18:03:27.071732Z",
     "iopub.status.busy": "2022-07-06T18:03:27.071474Z",
     "iopub.status.idle": "2022-07-06T18:03:27.088769Z",
     "shell.execute_reply": "2022-07-06T18:03:27.088134Z"
    }
   },
   "outputs": [],
   "source": [
    "# Just run this cell.\n",
    "display_grouped_icon_array(people.where(\"test status\", are.equal_to(\"positive\")).drop(1), \"people who have a positive test result\")"
   ]
  },
  {
   "cell_type": "markdown",
   "id": "ad7cd2ab",
   "metadata": {
    "deletable": false,
    "editable": false
   },
   "source": [
    "The *conditional probability* that Person X **has cancer given their positive test result** is the chance that they're in the first group (cancer), assuming they have a positive test result.\n",
    "\n",
    "**Question 3.2.1.** Eyeballing the icon array above, is the conditional probability that Person X has cancer **given their positive test result** closest to:\n",
    "\n",
    "1. $\\displaystyle\\frac{9}{10}$\n",
    "\n",
    "2. $\\displaystyle\\frac{2}{3}$\n",
    "\n",
    "3. $\\displaystyle\\frac{1}{2}$\n",
    "\n",
    "4. $\\displaystyle\\frac{1}{3}$\n",
    "\n",
    "5. $\\displaystyle\\frac{1}{100}$\n",
    "\n",
    "\n",
    "Assign `rough_prob_cancer_given_positive` to an integer corresponding to your answer.\n",
    "\n",
    "<!--\n",
    "BEGIN QUESTION\n",
    "name: q3_2_1\n",
    "-->"
   ]
  },
  {
   "cell_type": "code",
   "execution_count": 31,
   "id": "7c6dc743",
   "metadata": {
    "deletable": false,
    "execution": {
     "iopub.execute_input": "2022-07-06T18:03:27.092163Z",
     "iopub.status.busy": "2022-07-06T18:03:27.091839Z",
     "iopub.status.idle": "2022-07-06T18:03:27.094593Z",
     "shell.execute_reply": "2022-07-06T18:03:27.094131Z"
    }
   },
   "outputs": [],
   "source": [
    "# Set this to either 1, 2, 3, 4, or 5 corresponding to the correct probability.\n",
    "rough_prob_cancer_given_positive = ..."
   ]
  },
  {
   "cell_type": "code",
   "execution_count": null,
   "id": "a8e6ad5a",
   "metadata": {
    "deletable": false,
    "editable": false
   },
   "outputs": [],
   "source": [
    "grader.check(\"q3_2_1\")"
   ]
  },
  {
   "cell_type": "markdown",
   "id": "ad943493",
   "metadata": {
    "deletable": false,
    "editable": false
   },
   "source": [
    "**Question 3.2.2.** Now write code to calculate that probability exactly, using the original contingency table you wrote (the `cancer` table).\n",
    "\n",
    "Run the next code cell to see the `cancer` table, then fill in `prob_cancer_given_positive` with your code.\n",
    "\n",
    "<!--\n",
    "BEGIN QUESTION\n",
    "name: q3_2_2\n",
    "-->"
   ]
  },
  {
   "cell_type": "code",
   "execution_count": 33,
   "id": "38ae1f0c",
   "metadata": {
    "deletable": false,
    "execution": {
     "iopub.execute_input": "2022-07-06T18:03:27.104468Z",
     "iopub.status.busy": "2022-07-06T18:03:27.104087Z",
     "iopub.status.idle": "2022-07-06T18:03:27.108914Z",
     "shell.execute_reply": "2022-07-06T18:03:27.108461Z"
    }
   },
   "outputs": [],
   "source": [
    "# Run this cell first to see the cancer table. Then fill in the next line of this cell.\n",
    "cancer.show()\n",
    "\n",
    "prob_cancer_given_positive = ...\n",
    "\n",
    "print('Probability of cancer given positive test result: {}'.format(prob_cancer_given_positive))"
   ]
  },
  {
   "cell_type": "code",
   "execution_count": null,
   "id": "53bded6c",
   "metadata": {
    "deletable": false,
    "editable": false
   },
   "outputs": [],
   "source": [
    "grader.check(\"q3_2_2\")"
   ]
  },
  {
   "cell_type": "markdown",
   "id": "7ce08862",
   "metadata": {
    "deletable": false,
    "editable": false
   },
   "source": [
    "**Question 3.2.3.** Look at the full icon array again.  Using that, how would you compute the conditional probability of cancer given a positive test?\n",
    "\n",
    "Run the next code cell to see the full icon array. \n",
    "\n",
    "<!--\n",
    "BEGIN QUESTION\n",
    "name: q3_2_3\n",
    "-->"
   ]
  },
  {
   "cell_type": "markdown",
   "id": "58285284",
   "metadata": {},
   "source": [
    "_Type your answer here, replacing this text._"
   ]
  },
  {
   "cell_type": "code",
   "execution_count": 35,
   "id": "c397f25b",
   "metadata": {
    "execution": {
     "iopub.execute_input": "2022-07-06T18:03:27.119360Z",
     "iopub.status.busy": "2022-07-06T18:03:27.119149Z",
     "iopub.status.idle": "2022-07-06T18:03:27.133740Z",
     "shell.execute_reply": "2022-07-06T18:03:27.133224Z"
    }
   },
   "outputs": [],
   "source": [
    "# The full icon array is given here for your convenience.\n",
    "# Write your answer in the previous cell.\n",
    "display_grouped_icon_array(people, \"people who've taken a cancer test\")"
   ]
  },
  {
   "cell_type": "markdown",
   "id": "7d04139a",
   "metadata": {
    "deletable": false,
    "editable": false
   },
   "source": [
    "**Question 3.2.4.** Is your answer to question 3.2.2 larger than the overall proportion of people in the population who have cancer (given as 1% in 3.1.1)?  Does that make sense? Check with your peers or a staff member to see if you have the right idea. \n",
    "\n",
    "<!--\n",
    "BEGIN QUESTION\n",
    "name: q3_2_4\n",
    "-->"
   ]
  },
  {
   "cell_type": "markdown",
   "id": "f0f37a1e",
   "metadata": {},
   "source": [
    "_Type your answer here, replacing this text._"
   ]
  },
  {
   "cell_type": "markdown",
   "id": "f0aebc99",
   "metadata": {},
   "source": [
    "# 4. A Subjective Prior\n",
    "\n",
    "Being right isn\u2019t always satisfying. Classifying a Positive patient as not having cancer still seems somehow wrong, for such an accurate test. In this section, we'll take a deeper look at the basis of our probability calculation: the assumption of randomness.\n",
    "\n",
    "Our assumption was that a randomly chosen person was tested from our population of 10,000 individuals. This doesn\u2019t happen in reality. People go in to get tested because they think they might have the disease, or because their doctor thinks they might have the disease. People getting tested are not randomly chosen members of the population.\n",
    "\n",
    "That is why our intuition about people getting tested was not fitting well with the answer that we got. In **Question 3.2.2**, we calculated that the probability of cancer given a positive test result was **0.3125**, or **31.25%**. This seems unusually low, especially given what we know about the efficacy of cancer screenings. We were imagining a realistic situation of a patient going in to get tested because there was some reason for them to do so, whereas the calculation was based on a randomly chosen person being tested.\n",
    "\n",
    "So let\u2019s redo our calculation under the more realistic assumption that the patient is getting tested because the doctor thinks there\u2019s a chance the patient has the disease and compare the two probabilities.\n",
    "\n",
    "**Aside:** For more information about Part 4 of this lab, check out [Section 18.2.2](https://inferentialthinking.com/chapters/18/2/Making_Decisions.html#a-subjective-prior) from the textbook."
   ]
  },
  {
   "cell_type": "markdown",
   "id": "f1b79260",
   "metadata": {},
   "source": [
    "## 4.1. A New Look at the Population\n",
    "Suppose now that our population of 10,000 inviduals takes into account the fact that choosing to take a medical test is not done at random; there must be some motive for an individual to take one. Thus, our modified population has the following properties:\n",
    "1. 1,000 people have cancer.\n",
    "1. Among the 1,000 people that have cancer, 900 have positive results on a cancer test and 100 have negative results. \n",
    "3. The other 9,000 people don't have cancer.\n",
    "4. Among these 9,000 people, 180 have positive results on a cancer test and the other 8,820 have negative results.  (So 180 see \"false positive\" results.)\n",
    "\n",
    "Below we've generated a population table called `people_new` and a contingency table with data from these 10,000 hypothetical people called `cancer_new`."
   ]
  },
  {
   "cell_type": "code",
   "execution_count": 36,
   "id": "0bc9ec63",
   "metadata": {
    "execution": {
     "iopub.execute_input": "2022-07-06T18:03:27.137711Z",
     "iopub.status.busy": "2022-07-06T18:03:27.137464Z",
     "iopub.status.idle": "2022-07-06T18:03:27.142146Z",
     "shell.execute_reply": "2022-07-06T18:03:27.141564Z"
    }
   },
   "outputs": [],
   "source": [
    "# Just run this cell to load the table\n",
    "people_new = Table().with_columns(\n",
    "    \"status\", [\"cancer\", \"cancer\", \"no cancer\", \"no cancer\"],\n",
    "    \"test status\", [\"positive\", \"negative\", \"positive\", \"negative\"],\n",
    "    \"count\", [900, 100, 180, 8820])\n",
    "people_new"
   ]
  },
  {
   "cell_type": "code",
   "execution_count": 37,
   "id": "6faa375b",
   "metadata": {
    "execution": {
     "iopub.execute_input": "2022-07-06T18:03:27.145150Z",
     "iopub.status.busy": "2022-07-06T18:03:27.144885Z",
     "iopub.status.idle": "2022-07-06T18:03:27.149418Z",
     "shell.execute_reply": "2022-07-06T18:03:27.148962Z"
    }
   },
   "outputs": [],
   "source": [
    "# Just run this cell to load the table\n",
    "cancer_new = Table().with_columns(\n",
    "    \"status\", [\"cancer\", \"no cancer\"],\n",
    "    \"negative\", [100, 8820],\n",
    "    \"positive\", [900, 180])\n",
    "cancer_new"
   ]
  },
  {
   "cell_type": "markdown",
   "id": "96a10a35",
   "metadata": {},
   "source": [
    "As before, we can present the data above in an icon array. Here is the `people_new` data in such a format."
   ]
  },
  {
   "cell_type": "code",
   "execution_count": 38,
   "id": "87f23e02",
   "metadata": {
    "execution": {
     "iopub.execute_input": "2022-07-06T18:03:27.152571Z",
     "iopub.status.busy": "2022-07-06T18:03:27.152319Z",
     "iopub.status.idle": "2022-07-06T18:03:27.168693Z",
     "shell.execute_reply": "2022-07-06T18:03:27.168124Z"
    }
   },
   "outputs": [],
   "source": [
    "display_grouped_icon_array(people_new, \"people who've taken a cancer test\")"
   ]
  },
  {
   "cell_type": "markdown",
   "id": "cc4e0926",
   "metadata": {},
   "source": [
    "## 4.2. Interpretation and Comparison\n",
    "As in Part 3, let's suppose Person X has a positive test result.  This means that you can now narrow them down to being part of just one of the two following groups:\n",
    "1. The people with cancer who have a positive test result.\n",
    "2. The people without cancer who have a positive test result.\n",
    "\n",
    "Just as we did in Part 3 of this lab, here's an icon array for those two groups:"
   ]
  },
  {
   "cell_type": "code",
   "execution_count": 39,
   "id": "e68ec5cb",
   "metadata": {
    "execution": {
     "iopub.execute_input": "2022-07-06T18:03:27.171935Z",
     "iopub.status.busy": "2022-07-06T18:03:27.171685Z",
     "iopub.status.idle": "2022-07-06T18:03:27.188716Z",
     "shell.execute_reply": "2022-07-06T18:03:27.188177Z"
    }
   },
   "outputs": [],
   "source": [
    "# Just run this cell.\n",
    "display_grouped_icon_array(people_new.where(\"test status\", are.equal_to(\"positive\")).drop(1), \"people who have a positive test result\")"
   ]
  },
  {
   "cell_type": "markdown",
   "id": "f8d0c55f",
   "metadata": {
    "deletable": false,
    "editable": false
   },
   "source": [
    "**Question 4.2.1.** Using the new contingency table, `cancer_new`, that was provided at the beginning of this section, write code to calculate the exact probability that an individual has cancer given that they've received a positive test result.\n",
    "\n",
    "Run the next code cell to see the `cancer_new` table, then fill in `prob_cancer_given_positive_new` with your code.\n",
    "\n",
    "<!--\n",
    "BEGIN QUESTION\n",
    "name: q4_2_1\n",
    "-->"
   ]
  },
  {
   "cell_type": "code",
   "execution_count": 40,
   "id": "366f8209",
   "metadata": {
    "deletable": false,
    "execution": {
     "iopub.execute_input": "2022-07-06T18:03:27.191790Z",
     "iopub.status.busy": "2022-07-06T18:03:27.191537Z",
     "iopub.status.idle": "2022-07-06T18:03:27.196314Z",
     "shell.execute_reply": "2022-07-06T18:03:27.195785Z"
    }
   },
   "outputs": [],
   "source": [
    "# Run this cell first to see the cancer_new table. Then fill in the next line of this cell.\n",
    "cancer_new.show()\n",
    "\n",
    "prob_cancer_given_positive_new = ...\n",
    "\n",
    "print(f'Probability of cancer given positive test result: {prob_cancer_given_positive_new}')"
   ]
  },
  {
   "cell_type": "code",
   "execution_count": null,
   "id": "c525cec4",
   "metadata": {
    "deletable": false,
    "editable": false
   },
   "outputs": [],
   "source": [
    "grader.check(\"q4_2_1\")"
   ]
  },
  {
   "cell_type": "markdown",
   "id": "ad8a1f71",
   "metadata": {
    "deletable": false,
    "editable": false
   },
   "source": [
    "**Question 4.2.2.** How does your probability in 3.2.2 compare to your answer from 4.2.1? Does that make sense? Check with your peers or a staff member to see if you have the right idea. \n",
    "\n",
    "<!--\n",
    "BEGIN QUESTION\n",
    "name: q3_2_4\n",
    "-->"
   ]
  },
  {
   "cell_type": "markdown",
   "id": "28021bfc",
   "metadata": {},
   "source": [
    "_Type your answer here, replacing this text._"
   ]
  },
  {
   "cell_type": "markdown",
   "id": "31b4df7b",
   "metadata": {},
   "source": [
    "## Done!\n",
    "\n",
    "<img src=\"harley.jpeg\" alt=\"drawing\" width=\"300\"/>\n",
    "\n",
    "Congrats, you're done with the lab!\n",
    "Harley says, \"Woof! Woof!\"\n",
    "\n"
   ]
  },
  {
   "cell_type": "markdown",
   "id": "a738c3a5",
   "metadata": {},
   "source": [
    "---"
   ]
  },
  {
   "cell_type": "markdown",
   "id": "651596ab",
   "metadata": {},
   "source": [
    "## Finishing up\n",
    "\n",
    "**Important submission information:** \n",
    "- Be sure to run the tests and verify that they all pass by running the `grader.check_all()` cell below,\n",
    "- Save your progress by choosing the **Save and Checkpoint** item in the **File** menu, \n",
    "- Submit your work by clicking the **Submit** button in the toolbar at the top of notebook. \n",
    "- Download a zip file of this notebook by running the last cell below. **Note:** Be sure to run all the tests before exporting so that all images/graphs appear in the exported notebook. \n",
    "\n",
    "**Please save before submitting!**"
   ]
  },
  {
   "cell_type": "code",
   "execution_count": 42,
   "id": "9a81c8f1",
   "metadata": {
    "execution": {
     "iopub.execute_input": "2022-07-06T18:03:27.207259Z",
     "iopub.status.busy": "2022-07-06T18:03:27.207005Z",
     "iopub.status.idle": "2022-07-06T18:03:27.218082Z",
     "shell.execute_reply": "2022-07-06T18:03:27.217572Z"
    }
   },
   "outputs": [],
   "source": [
    "# To double-check your work, the cell below will rerun all of the autograder tests.\n",
    "grader.check_all()"
   ]
  },
  {
   "cell_type": "code",
   "execution_count": 43,
   "id": "5b24f776",
   "metadata": {
    "execution": {
     "iopub.execute_input": "2022-07-06T18:03:27.221132Z",
     "iopub.status.busy": "2022-07-06T18:03:27.220831Z",
     "iopub.status.idle": "2022-07-06T18:03:27.232401Z",
     "shell.execute_reply": "2022-07-06T18:03:27.231890Z"
    }
   },
   "outputs": [],
   "source": [
    "# Save your notebook first, then run this cell to export your submission.\n",
    "grader.export(pdf=False)"
   ]
  }
 ],
 "metadata": {
  "kernelspec": {
   "display_name": "Python 3",
   "language": "python",
   "name": "python3"
  },
  "language_info": {
   "codemirror_mode": {
    "name": "ipython",
    "version": 3
   },
   "file_extension": ".py",
   "mimetype": "text/x-python",
   "name": "python",
   "nbconvert_exporter": "python",
   "pygments_lexer": "ipython3",
   "version": "3.9.7"
  },
  "course": "8x",
  "section": "3",
  "lab": "lab02"
 },
 "nbformat": 4,
 "nbformat_minor": 5
}