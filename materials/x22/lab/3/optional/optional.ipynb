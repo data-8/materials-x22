{
 "cells": [
  {
   "cell_type": "code",
   "execution_count": null,
   "id": "af8a0986",
   "metadata": {
    "deletable": false,
    "editable": false
   },
   "outputs": [],
   "source": [
    "# Initialize Otter\n",
    "import otter\n",
    "grader = otter.Notebook(\"optional.ipynb\")"
   ]
  },
  {
   "cell_type": "code",
   "execution_count": 1,
   "id": "761313c8",
   "metadata": {
    "collapsed": true,
    "execution": {
     "iopub.execute_input": "2022-07-08T16:31:26.266162Z",
     "iopub.status.busy": "2022-07-08T16:31:26.265829Z",
     "iopub.status.idle": "2022-07-08T16:31:29.184660Z",
     "shell.execute_reply": "2022-07-08T16:31:29.183356Z"
    }
   },
   "outputs": [],
   "source": [
    "import pandas as pd\n",
    "from datascience import *\n",
    "import numpy as np\n",
    "import matplotlib.pyplot as plt\n",
    "%matplotlib inline  "
   ]
  },
  {
   "cell_type": "markdown",
   "id": "48a5172b",
   "metadata": {},
   "source": [
    "## Conversion Notebook: From Data 8X's `datascience` library to Python's `pandas` library"
   ]
  },
  {
   "cell_type": "markdown",
   "id": "725d1dce",
   "metadata": {},
   "source": [
    "Throughout Data 8X, we have been working a lot with the `datascience` library, a library created by faculty at UC Berkeley, specifically for this course. While this library is not used outside of this course, all of the ideas and concepts behind the library and the different functions are definitely used when dealing with data science problems in the real world. One of the common libraries used in industry is called `pandas`, and is a way to structure and analyze rectangular/tabular data. Using the `datascience` library in Data 8X is a solid stepping stone to understanding `pandas` better. Throughout this notebook, we will be going over certain concepts that we saw in the `datascience` library and showing the equivalent functions that we will use in `pandas`. The syntax and function names may be different but the underlying concepts are still the same! "
   ]
  },
  {
   "cell_type": "markdown",
   "id": "d9126fa6",
   "metadata": {},
   "source": [
    "Above, we `import pandas as pd`, which means that any function associated with pandas should be called using `pd.function_name()`. This tells Python that we want to use the specific `function_name` from the Pandas library. In theory, we could do `import pandas as pandas` or any other name, but it is known and commonly used to import it as `pd`. We will see some examples of this later in this notebook.\n",
    "\n",
    "For reference:\n",
    "\n",
    "Datascience documentation: http://data8.org/datascience/index.html\n",
    "\n",
    "http://data8.org/fa18/python-reference.html\n",
    "\n",
    "Pandas documentation: https://pandas.pydata.org/pandas-docs/stable/dsintro.html"
   ]
  },
  {
   "cell_type": "markdown",
   "id": "2250f517",
   "metadata": {},
   "source": [
    "### Tables and DataFrames"
   ]
  },
  {
   "cell_type": "markdown",
   "id": "67ef5887",
   "metadata": {},
   "source": [
    "In `datascience`, we have something called a Table, which is a way to organize your data in a tabular format, which makes accessing rows and columns of data easier. In `pandas`, this structure is called a DataFrame. A DataFrame is the primary data structure in `pandas`. Similar to a Table, we can access different rows and columns of a DataFrame. Tables are essentially the same as DataFrames: we can do similar actions and functions with both.\n",
    "\n",
    "In the following lines of code, we create a Table and DataFrame of data by importing and reading an external [csv file](https://en.wikipedia.org/wiki/Comma-separated_values). The Table will be called `cones_table` and the DataFrame will be called `cones_df`."
   ]
  },
  {
   "cell_type": "code",
   "execution_count": 2,
   "id": "4c9862e0",
   "metadata": {
    "collapsed": true,
    "execution": {
     "iopub.execute_input": "2022-07-08T16:31:29.190856Z",
     "iopub.status.busy": "2022-07-08T16:31:29.190440Z",
     "iopub.status.idle": "2022-07-08T16:31:30.547780Z",
     "shell.execute_reply": "2022-07-08T16:31:30.547146Z"
    }
   },
   "outputs": [],
   "source": [
    "# datascience\n",
    "cones_table = Table.read_table('cones.csv') # read the cones csv file into the notebook"
   ]
  },
  {
   "cell_type": "code",
   "execution_count": 3,
   "id": "60ad997e",
   "metadata": {
    "collapsed": true,
    "execution": {
     "iopub.execute_input": "2022-07-08T16:31:30.551710Z",
     "iopub.status.busy": "2022-07-08T16:31:30.551343Z",
     "iopub.status.idle": "2022-07-08T16:31:30.612871Z",
     "shell.execute_reply": "2022-07-08T16:31:30.612128Z"
    }
   },
   "outputs": [],
   "source": [
    "# pandas\n",
    "cones_df = pd.read_csv('cones.csv') # read the cones csv file into the notebook"
   ]
  },
  {
   "cell_type": "code",
   "execution_count": 4,
   "id": "12d6b04e",
   "metadata": {
    "execution": {
     "iopub.execute_input": "2022-07-08T16:31:30.616380Z",
     "iopub.status.busy": "2022-07-08T16:31:30.616095Z",
     "iopub.status.idle": "2022-07-08T16:31:30.627609Z",
     "shell.execute_reply": "2022-07-08T16:31:30.627104Z"
    }
   },
   "outputs": [],
   "source": [
    "cones_table"
   ]
  },
  {
   "cell_type": "code",
   "execution_count": 5,
   "id": "257b7728",
   "metadata": {
    "execution": {
     "iopub.execute_input": "2022-07-08T16:31:30.630774Z",
     "iopub.status.busy": "2022-07-08T16:31:30.630451Z",
     "iopub.status.idle": "2022-07-08T16:31:30.640832Z",
     "shell.execute_reply": "2022-07-08T16:31:30.640355Z"
    }
   },
   "outputs": [],
   "source": [
    "cones_df"
   ]
  },
  {
   "cell_type": "markdown",
   "id": "43daf33f",
   "metadata": {},
   "source": [
    "We see here how to import an external csv file into our current notebook using both libraries. With `pandas` `read_csv()` function, we use `pd.read_csv()` to let Python know we want to use this particular `pandas` function.\n",
    "Notice how there is an extra column of numbers in the DataFrame that results. These numbers are called the index of a DataFrame, and will be useful later in order to select different rows that we are interested in. "
   ]
  },
  {
   "cell_type": "markdown",
   "id": "c7048a60",
   "metadata": {},
   "source": [
    "In `pandas`, we have two types of objects: DataFrames and Series. Series are similar to a DataFrame except there is only one column in a Series. You can think of Series as a single column of a DataFrame. Later in this notebook, we will use Series as well as DataFrames. Series come up when we select one column of a DataFrame, apply different functions to a column, etc.\n",
    "\n",
    "You can learn more about DataFrames and Series with this [documentation](https://pandas.pydata.org/pandas-docs/stable/dsintro.html) as well."
   ]
  },
  {
   "cell_type": "markdown",
   "id": "57dea479",
   "metadata": {},
   "source": [
    "### Make a Table/DataFrame\n",
    "If we want to create a new Table or DataFrame from scratch, we can call the respective functions and then specify the columns and the data within each column (where the data is in array/list format). Some examples from both `datascience` and `pandas` are shown below."
   ]
  },
  {
   "cell_type": "code",
   "execution_count": 6,
   "id": "363440f6",
   "metadata": {
    "execution": {
     "iopub.execute_input": "2022-07-08T16:31:30.644196Z",
     "iopub.status.busy": "2022-07-08T16:31:30.643955Z",
     "iopub.status.idle": "2022-07-08T16:31:30.649467Z",
     "shell.execute_reply": "2022-07-08T16:31:30.649016Z"
    }
   },
   "outputs": [],
   "source": [
    "# datascience\n",
    "flowers = Table().with_columns(\n",
    "    'Number of petals', make_array(8, 34, 5),\n",
    "    'Name', make_array('lotus', 'sunflower', 'rose')\n",
    ") # create Table with 2 columns and 3 rows\n",
    "flowers"
   ]
  },
  {
   "cell_type": "code",
   "execution_count": 7,
   "id": "e71af25b",
   "metadata": {
    "execution": {
     "iopub.execute_input": "2022-07-08T16:31:30.652445Z",
     "iopub.status.busy": "2022-07-08T16:31:30.652129Z",
     "iopub.status.idle": "2022-07-08T16:31:30.661166Z",
     "shell.execute_reply": "2022-07-08T16:31:30.660530Z"
    }
   },
   "outputs": [],
   "source": [
    "# pandas\n",
    "flowers1 = pd.DataFrame(data = {'Number of petals': [8, 34, 5], 'Name': ['lotus', 'sunflower', 'rose']})\n",
    "flowers1 # create DataFrame with 2 columns and 3 rows"
   ]
  },
  {
   "cell_type": "markdown",
   "id": "ecf2d657",
   "metadata": {},
   "source": [
    "### Select Columns\n",
    "In both `datascience` and `pandas` we can select a column or multiple columns, based on what information we want from the data. In `datascience` we use the `select()` function, while in `pandas` we use indexing."
   ]
  },
  {
   "cell_type": "code",
   "execution_count": 8,
   "id": "55ddd67e",
   "metadata": {
    "execution": {
     "iopub.execute_input": "2022-07-08T16:31:30.664615Z",
     "iopub.status.busy": "2022-07-08T16:31:30.664284Z",
     "iopub.status.idle": "2022-07-08T16:31:30.675210Z",
     "shell.execute_reply": "2022-07-08T16:31:30.674734Z"
    }
   },
   "outputs": [],
   "source": [
    "# datascience\n",
    "# select one column\n",
    "cones_table.select(\"Color\")"
   ]
  },
  {
   "cell_type": "code",
   "execution_count": 9,
   "id": "c59779e1",
   "metadata": {
    "execution": {
     "iopub.execute_input": "2022-07-08T16:31:30.678050Z",
     "iopub.status.busy": "2022-07-08T16:31:30.677736Z",
     "iopub.status.idle": "2022-07-08T16:31:30.688606Z",
     "shell.execute_reply": "2022-07-08T16:31:30.688175Z"
    }
   },
   "outputs": [],
   "source": [
    "# datascience\n",
    "# select multiple columns\n",
    "cones_table.select(\"Flavor\", \"Color\")"
   ]
  },
  {
   "cell_type": "code",
   "execution_count": 10,
   "id": "ff295f54",
   "metadata": {
    "execution": {
     "iopub.execute_input": "2022-07-08T16:31:30.691572Z",
     "iopub.status.busy": "2022-07-08T16:31:30.691265Z",
     "iopub.status.idle": "2022-07-08T16:31:30.702661Z",
     "shell.execute_reply": "2022-07-08T16:31:30.702098Z"
    }
   },
   "outputs": [],
   "source": [
    "# pandas\n",
    "# select one column - return Series\n",
    "cones_df[\"Color\"]"
   ]
  },
  {
   "cell_type": "code",
   "execution_count": 11,
   "id": "3f63d242",
   "metadata": {
    "execution": {
     "iopub.execute_input": "2022-07-08T16:31:30.705519Z",
     "iopub.status.busy": "2022-07-08T16:31:30.705274Z",
     "iopub.status.idle": "2022-07-08T16:31:30.716162Z",
     "shell.execute_reply": "2022-07-08T16:31:30.715689Z"
    }
   },
   "outputs": [],
   "source": [
    "# pandas\n",
    "# select one column - return DataFrame\n",
    "cones_df[[\"Color\"]]"
   ]
  },
  {
   "cell_type": "code",
   "execution_count": 12,
   "id": "79807e4e",
   "metadata": {
    "execution": {
     "iopub.execute_input": "2022-07-08T16:31:30.721235Z",
     "iopub.status.busy": "2022-07-08T16:31:30.720954Z",
     "iopub.status.idle": "2022-07-08T16:31:30.731813Z",
     "shell.execute_reply": "2022-07-08T16:31:30.731321Z"
    }
   },
   "outputs": [],
   "source": [
    "# pandas\n",
    "# select a specific column\n",
    "cones_df.Color"
   ]
  },
  {
   "cell_type": "code",
   "execution_count": 13,
   "id": "9a861531",
   "metadata": {
    "execution": {
     "iopub.execute_input": "2022-07-08T16:31:30.734682Z",
     "iopub.status.busy": "2022-07-08T16:31:30.734375Z",
     "iopub.status.idle": "2022-07-08T16:31:30.746329Z",
     "shell.execute_reply": "2022-07-08T16:31:30.745725Z"
    }
   },
   "outputs": [],
   "source": [
    "# pandas\n",
    "# select multiple columns\n",
    "cones_df[[\"Flavor\", \"Color\"]]"
   ]
  },
  {
   "cell_type": "markdown",
   "id": "4d1364d3",
   "metadata": {},
   "source": [
    "We can also use `loc` and `iloc` to select specific columns, which we will introduce in the next section."
   ]
  },
  {
   "cell_type": "markdown",
   "id": "aea88ad7",
   "metadata": {},
   "source": [
    "### Select Rows\n",
    "In `datascience`, we use `take` in order to select certain rows, based on what row numbers we want to select (0 indexed). With selecting multiple rows, we use the concept of list slicing in order to select a sequence of rows, or even select multiple rows (if the numbers are in an array). "
   ]
  },
  {
   "cell_type": "code",
   "execution_count": 14,
   "id": "46767f92",
   "metadata": {
    "execution": {
     "iopub.execute_input": "2022-07-08T16:31:30.749553Z",
     "iopub.status.busy": "2022-07-08T16:31:30.749280Z",
     "iopub.status.idle": "2022-07-08T16:31:30.760078Z",
     "shell.execute_reply": "2022-07-08T16:31:30.759583Z"
    }
   },
   "outputs": [],
   "source": [
    "# datascience \n",
    "cones_table.take(2) # select the row with an index of 2"
   ]
  },
  {
   "cell_type": "code",
   "execution_count": 15,
   "id": "7f678d04",
   "metadata": {
    "execution": {
     "iopub.execute_input": "2022-07-08T16:31:30.762832Z",
     "iopub.status.busy": "2022-07-08T16:31:30.762594Z",
     "iopub.status.idle": "2022-07-08T16:31:30.773822Z",
     "shell.execute_reply": "2022-07-08T16:31:30.773333Z"
    }
   },
   "outputs": [],
   "source": [
    "cones_table.take(np.arange(1, 3)) # select the rows with index from 1 to 3 (not 3)"
   ]
  },
  {
   "cell_type": "code",
   "execution_count": 16,
   "id": "47d2a60e",
   "metadata": {
    "execution": {
     "iopub.execute_input": "2022-07-08T16:31:30.776714Z",
     "iopub.status.busy": "2022-07-08T16:31:30.776476Z",
     "iopub.status.idle": "2022-07-08T16:31:30.787343Z",
     "shell.execute_reply": "2022-07-08T16:31:30.786865Z"
    }
   },
   "outputs": [],
   "source": [
    "cones_table.take[0, 3, 4] # select the rows with index 0, 3, 4"
   ]
  },
  {
   "cell_type": "code",
   "execution_count": 17,
   "id": "0cba67eb",
   "metadata": {
    "execution": {
     "iopub.execute_input": "2022-07-08T16:31:30.790242Z",
     "iopub.status.busy": "2022-07-08T16:31:30.789932Z",
     "iopub.status.idle": "2022-07-08T16:31:30.800572Z",
     "shell.execute_reply": "2022-07-08T16:31:30.800129Z"
    }
   },
   "outputs": [],
   "source": [
    "# pandas\n",
    "cones_df[0:3] # select the rows with index from 0 to 3 (not including 3)"
   ]
  },
  {
   "cell_type": "markdown",
   "id": "e198c474",
   "metadata": {},
   "source": [
    "#### loc and iloc"
   ]
  },
  {
   "cell_type": "markdown",
   "id": "bfa4cc9a",
   "metadata": {},
   "source": [
    "With `pandas`, we can use `loc` and `iloc` to select certain rows or columns from a DataFrame - all at once - making it a powerful tool. `loc` gets rows or columns with particular labels from the index. `iloc` gets rows or columns at particular positions in the index (so it only takes integers). With both of these, we index using brackets and specify which rows and columns we want to select based on `[row, column]`. Note: if we have just `:` for either row or column, this means that we select all of it (based on if it is in the row or column section of the brackets). An example is shown below."
   ]
  },
  {
   "cell_type": "code",
   "execution_count": 18,
   "id": "36786e14",
   "metadata": {
    "execution": {
     "iopub.execute_input": "2022-07-08T16:31:30.804060Z",
     "iopub.status.busy": "2022-07-08T16:31:30.803820Z",
     "iopub.status.idle": "2022-07-08T16:31:30.815052Z",
     "shell.execute_reply": "2022-07-08T16:31:30.814553Z"
    }
   },
   "outputs": [],
   "source": [
    "cones_df.loc[:,'Flavor'] # select all rows but only the column Flavor"
   ]
  },
  {
   "cell_type": "code",
   "execution_count": 19,
   "id": "d1caff64",
   "metadata": {
    "execution": {
     "iopub.execute_input": "2022-07-08T16:31:30.817931Z",
     "iopub.status.busy": "2022-07-08T16:31:30.817480Z",
     "iopub.status.idle": "2022-07-08T16:31:30.828789Z",
     "shell.execute_reply": "2022-07-08T16:31:30.828296Z"
    }
   },
   "outputs": [],
   "source": [
    "cones_df.loc[:,['Flavor', 'Color']] # select all rows but only the Flavor and Color columns"
   ]
  },
  {
   "cell_type": "code",
   "execution_count": 20,
   "id": "0c936570",
   "metadata": {
    "execution": {
     "iopub.execute_input": "2022-07-08T16:31:30.831792Z",
     "iopub.status.busy": "2022-07-08T16:31:30.831528Z",
     "iopub.status.idle": "2022-07-08T16:31:30.843379Z",
     "shell.execute_reply": "2022-07-08T16:31:30.842906Z"
    }
   },
   "outputs": [],
   "source": [
    "cones_df.iloc[1:3,0:3] # select the rows with index from 1 to 3 (not including 3) and columns in the positions of 0 to 3 (not including 3) "
   ]
  },
  {
   "cell_type": "markdown",
   "id": "a7d157b3",
   "metadata": {},
   "source": [
    "### Rename Columns"
   ]
  },
  {
   "cell_type": "markdown",
   "id": "dd03ad5a",
   "metadata": {},
   "source": [
    "In the `datascience` package, we can rename a column or multiple columns. We may want to do this when we update a column to make the title more specific. We also need to make sure that the new column name is not the same as any other existing columns (so we do not have two columns with the same name as this will error). We do this with the `relabeled()` function. "
   ]
  },
  {
   "cell_type": "code",
   "execution_count": 21,
   "id": "4980f5c9",
   "metadata": {
    "execution": {
     "iopub.execute_input": "2022-07-08T16:31:30.847009Z",
     "iopub.status.busy": "2022-07-08T16:31:30.846766Z",
     "iopub.status.idle": "2022-07-08T16:31:30.857690Z",
     "shell.execute_reply": "2022-07-08T16:31:30.857246Z"
    }
   },
   "outputs": [],
   "source": [
    "cones_table.relabeled('Price', 'New Price') # rename the Price columns as New Price"
   ]
  },
  {
   "cell_type": "code",
   "execution_count": 22,
   "id": "84531ab2",
   "metadata": {
    "execution": {
     "iopub.execute_input": "2022-07-08T16:31:30.860690Z",
     "iopub.status.busy": "2022-07-08T16:31:30.860448Z",
     "iopub.status.idle": "2022-07-08T16:31:30.871609Z",
     "shell.execute_reply": "2022-07-08T16:31:30.871143Z"
    }
   },
   "outputs": [],
   "source": [
    "cones_table.relabeled(['Color', 'Price'], ['Ice Cream Color', 'New Price']) # rename two columns: Color as Ice Cream Color and Price as New Price"
   ]
  },
  {
   "cell_type": "markdown",
   "id": "41b8d9e0",
   "metadata": {},
   "source": [
    "In `pandas` we can use a similar function called `rename()`."
   ]
  },
  {
   "cell_type": "code",
   "execution_count": 23,
   "id": "b6773154",
   "metadata": {
    "execution": {
     "iopub.execute_input": "2022-07-08T16:31:30.874956Z",
     "iopub.status.busy": "2022-07-08T16:31:30.874706Z",
     "iopub.status.idle": "2022-07-08T16:31:30.885988Z",
     "shell.execute_reply": "2022-07-08T16:31:30.885459Z"
    }
   },
   "outputs": [],
   "source": [
    "cones_df.rename(columns={'Flavor': 'New Flavor'}) # rename the Flavor column as New Flavor"
   ]
  },
  {
   "cell_type": "code",
   "execution_count": 24,
   "id": "d4d57bd4",
   "metadata": {
    "execution": {
     "iopub.execute_input": "2022-07-08T16:31:30.889025Z",
     "iopub.status.busy": "2022-07-08T16:31:30.888791Z",
     "iopub.status.idle": "2022-07-08T16:31:30.900123Z",
     "shell.execute_reply": "2022-07-08T16:31:30.899666Z"
    }
   },
   "outputs": [],
   "source": [
    "cones_df.rename(columns={'Flavor': 'New Flavor', 'Color': 'New Color'}) # rename Flavor as New Flavor and Color as New Color"
   ]
  },
  {
   "cell_type": "markdown",
   "id": "ddaf2b91",
   "metadata": {},
   "source": [
    "### Where/Filtering"
   ]
  },
  {
   "cell_type": "markdown",
   "id": "89187103",
   "metadata": {},
   "source": [
    "In `datascience` there is a function called `where` which creates a copy of a table with only the rows that match some condition. To filter out a DataFrame by its contents in `pandas`, we need to use boolean (`True` or `False`) expressions in order to select the rows we want to keep."
   ]
  },
  {
   "cell_type": "code",
   "execution_count": 25,
   "id": "03f60ea3",
   "metadata": {
    "execution": {
     "iopub.execute_input": "2022-07-08T16:31:30.903340Z",
     "iopub.status.busy": "2022-07-08T16:31:30.903021Z",
     "iopub.status.idle": "2022-07-08T16:31:30.914110Z",
     "shell.execute_reply": "2022-07-08T16:31:30.913634Z"
    }
   },
   "outputs": [],
   "source": [
    "# datascience\n",
    "cones_table.where(\"Price\", are.above(4)) # select/filter rows so the Price is above 4"
   ]
  },
  {
   "cell_type": "markdown",
   "id": "70b544ef",
   "metadata": {},
   "source": [
    "We want to keep the rows that have a price that is greater than 4. We can first create a boolean array, which will assign a `True` or `False` value to each row based on if it satisfies the condition we give it. We can then index this array into our original array and only the values that are `True` will be returned in a DataFrame.\n"
   ]
  },
  {
   "cell_type": "code",
   "execution_count": 26,
   "id": "1911bda9",
   "metadata": {
    "execution": {
     "iopub.execute_input": "2022-07-08T16:31:30.917386Z",
     "iopub.status.busy": "2022-07-08T16:31:30.917133Z",
     "iopub.status.idle": "2022-07-08T16:31:30.927983Z",
     "shell.execute_reply": "2022-07-08T16:31:30.927487Z"
    }
   },
   "outputs": [],
   "source": [
    "# pandas\n",
    "boolean_array = cones_df[\"Price\"] > 4 # create a boolean array saying if the Price is greater than 4\n",
    "boolean_array"
   ]
  },
  {
   "cell_type": "code",
   "execution_count": 27,
   "id": "565e99fe",
   "metadata": {
    "execution": {
     "iopub.execute_input": "2022-07-08T16:31:30.930896Z",
     "iopub.status.busy": "2022-07-08T16:31:30.930675Z",
     "iopub.status.idle": "2022-07-08T16:31:30.941149Z",
     "shell.execute_reply": "2022-07-08T16:31:30.940689Z"
    }
   },
   "outputs": [],
   "source": [
    "cones_df[boolean_array] # apply boolean array to DataFrame and filter the rows"
   ]
  },
  {
   "cell_type": "markdown",
   "id": "43041c4c",
   "metadata": {},
   "source": [
    "We can also do this all in one step as shown below."
   ]
  },
  {
   "cell_type": "code",
   "execution_count": 28,
   "id": "09116034",
   "metadata": {
    "execution": {
     "iopub.execute_input": "2022-07-08T16:31:30.944546Z",
     "iopub.status.busy": "2022-07-08T16:31:30.944290Z",
     "iopub.status.idle": "2022-07-08T16:31:30.956502Z",
     "shell.execute_reply": "2022-07-08T16:31:30.955971Z"
    }
   },
   "outputs": [],
   "source": [
    "cones_df[cones_df[\"Price\"] > 4] # filter the DataFrame based on Price greater than 4"
   ]
  },
  {
   "cell_type": "markdown",
   "id": "10bcc205",
   "metadata": {},
   "source": [
    "Sometimes we want to filter by multiple different conditions. In `pandas` we can do this using parentheses and a symbol indicating if we want both conditions to be satisfied (and) or at least one to be satisfied (or). The format is: \n",
    "\n",
    "`df[(condition1) & (condition2)]`\n",
    "\n",
    "or \n",
    "\n",
    "`df[(condition1) | (condition2)]`\n",
    "\n",
    "Note: `&` is different from `and` \n",
    "also `|` is different from `or`."
   ]
  },
  {
   "cell_type": "code",
   "execution_count": 29,
   "id": "cd2e4d36",
   "metadata": {
    "execution": {
     "iopub.execute_input": "2022-07-08T16:31:30.959690Z",
     "iopub.status.busy": "2022-07-08T16:31:30.959452Z",
     "iopub.status.idle": "2022-07-08T16:31:30.970901Z",
     "shell.execute_reply": "2022-07-08T16:31:30.970396Z"
    }
   },
   "outputs": [],
   "source": [
    "cones_df[(cones_df[\"Price\"] > 4) & (cones_df[\"Price\"] < 5)] # filter the DataFrame based on Price greater than 4 and less than 5"
   ]
  },
  {
   "cell_type": "markdown",
   "id": "f2f9eaf7",
   "metadata": {},
   "source": [
    "### Sort, Group, Pivot\n",
    "#### Sort\n",
    "We can sort values similarly in Tables and DataFrames - using a function and what column we want to sort by."
   ]
  },
  {
   "cell_type": "code",
   "execution_count": 30,
   "id": "97d7e83a",
   "metadata": {
    "execution": {
     "iopub.execute_input": "2022-07-08T16:31:30.974187Z",
     "iopub.status.busy": "2022-07-08T16:31:30.973932Z",
     "iopub.status.idle": "2022-07-08T16:31:30.984498Z",
     "shell.execute_reply": "2022-07-08T16:31:30.984060Z"
    }
   },
   "outputs": [],
   "source": [
    "# datascience\n",
    "cones_table.sort('Price') # sort the table by Price column"
   ]
  },
  {
   "cell_type": "code",
   "execution_count": 31,
   "id": "e5afe378",
   "metadata": {
    "execution": {
     "iopub.execute_input": "2022-07-08T16:31:30.987441Z",
     "iopub.status.busy": "2022-07-08T16:31:30.987114Z",
     "iopub.status.idle": "2022-07-08T16:31:30.998070Z",
     "shell.execute_reply": "2022-07-08T16:31:30.997566Z"
    }
   },
   "outputs": [],
   "source": [
    "# pandas\n",
    "cones_df.sort_values('Price') # sort DataFrame by Price column"
   ]
  },
  {
   "cell_type": "markdown",
   "id": "ae06ea90",
   "metadata": {},
   "source": [
    "If we want to specify whether we sort in ascending order or descending order. In `datascience` we can do this with the `descending` parameter, and sending it equal to `True` or `False`. In `pandas` we can use the `ascending` parameter and set this equal to `True` or `False`. By default, the column sorts in ascending order.\n",
    "\n",
    "#### Group \n",
    "In both `datascience` and `pandas` we can use group functions that allow us to group records of our data into buckets. You can think of group by as splitting the dataset data into buckets. Then you can call \"aggregate\" functions (`mean`, `sum`, `max`, `min`, etc) on these buckets to find these values per bucket (which can lead to interesting analysis)!\n",
    "\n",
    "Let's say that we want to group by flavor of ice cream and see what the total sum is."
   ]
  },
  {
   "cell_type": "code",
   "execution_count": 32,
   "id": "ee0693ac",
   "metadata": {
    "execution": {
     "iopub.execute_input": "2022-07-08T16:31:31.001394Z",
     "iopub.status.busy": "2022-07-08T16:31:31.001114Z",
     "iopub.status.idle": "2022-07-08T16:31:31.012837Z",
     "shell.execute_reply": "2022-07-08T16:31:31.012313Z"
    }
   },
   "outputs": [],
   "source": [
    "# datascience\n",
    "cones_table.select(['Flavor', 'Price']).group('Flavor', collect=sum) # select the Flavor and Price columns and then group by Flavor and find the sum price per flavor"
   ]
  },
  {
   "cell_type": "code",
   "execution_count": 33,
   "id": "c200431b",
   "metadata": {
    "execution": {
     "iopub.execute_input": "2022-07-08T16:31:31.016192Z",
     "iopub.status.busy": "2022-07-08T16:31:31.015924Z",
     "iopub.status.idle": "2022-07-08T16:31:31.027521Z",
     "shell.execute_reply": "2022-07-08T16:31:31.026922Z"
    }
   },
   "outputs": [],
   "source": [
    "# pandas\n",
    "cones_df[['Flavor', 'Price']].groupby('Flavor').sum() # select the Flavor and Price columns and then group by Flavor and find the sum price per flavor"
   ]
  },
  {
   "cell_type": "markdown",
   "id": "9ab7b4e2",
   "metadata": {},
   "source": [
    "#### Pivot\n",
    "We can create pivot tables in both `datascience` and `pandas` using different functions and specifying columns, index, values, and the collect/aggregate function acting on the values. "
   ]
  },
  {
   "cell_type": "code",
   "execution_count": 34,
   "id": "c8d5f911",
   "metadata": {
    "execution": {
     "iopub.execute_input": "2022-07-08T16:31:31.030789Z",
     "iopub.status.busy": "2022-07-08T16:31:31.030512Z",
     "iopub.status.idle": "2022-07-08T16:31:31.042117Z",
     "shell.execute_reply": "2022-07-08T16:31:31.041622Z"
    }
   },
   "outputs": [],
   "source": [
    "# datascience\n",
    "cones_table.pivot(columns = 'Flavor', rows = 'Color', values = 'Price', collect=sum) # create a pivot table with Flavors and Color and sum prices for corresponding entries"
   ]
  },
  {
   "cell_type": "code",
   "execution_count": 35,
   "id": "5e052025",
   "metadata": {
    "execution": {
     "iopub.execute_input": "2022-07-08T16:31:31.047923Z",
     "iopub.status.busy": "2022-07-08T16:31:31.047666Z",
     "iopub.status.idle": "2022-07-08T16:31:31.059744Z",
     "shell.execute_reply": "2022-07-08T16:31:31.058908Z"
    }
   },
   "outputs": [],
   "source": [
    "# pandas\n",
    "cones_df.pivot_table(values='Price', index=['Color'], columns=['Flavor'], aggfunc=sum) # create a pivot table with Flavors and Color and sum prices for corresponding entries"
   ]
  },
  {
   "cell_type": "markdown",
   "id": "28b7432e",
   "metadata": {},
   "source": [
    "Note: We have `NaN` as values in our above table because `pandas` cannot find appropriate values for those specific combinations of rows and columns. If we want to replace these values with 0, we can use `fillna(0)` on the resulting pivot table. \n",
    "\n",
    "Don't be alarmed by these `NaN` values! This is something to note about real data, often times the data is not cleaned already and null values are very common. They may even be important in your exploration of the data, the number of null values you have and where they occur could be important!"
   ]
  },
  {
   "cell_type": "markdown",
   "id": "b229d390",
   "metadata": {},
   "source": [
    "### Visualizing Data\n",
    "For the purpose of representing and showing how to plot different visualizations, we will now create another Table/DataFrame."
   ]
  },
  {
   "cell_type": "code",
   "execution_count": 36,
   "id": "974ea1fb",
   "metadata": {
    "execution": {
     "iopub.execute_input": "2022-07-08T16:31:31.063381Z",
     "iopub.status.busy": "2022-07-08T16:31:31.063126Z",
     "iopub.status.idle": "2022-07-08T16:31:31.068101Z",
     "shell.execute_reply": "2022-07-08T16:31:31.067628Z"
    }
   },
   "outputs": [],
   "source": [
    "normal_data_table = Table().with_columns(['data1', np.random.normal(loc = 1, scale = 2, size = 100), 'data2', np.random.normal(loc = 4, scale = 3, size = 100)])\n",
    "normal_data_table"
   ]
  },
  {
   "cell_type": "code",
   "execution_count": 37,
   "id": "887fd231",
   "metadata": {
    "execution": {
     "iopub.execute_input": "2022-07-08T16:31:31.071146Z",
     "iopub.status.busy": "2022-07-08T16:31:31.070824Z",
     "iopub.status.idle": "2022-07-08T16:31:31.077918Z",
     "shell.execute_reply": "2022-07-08T16:31:31.077462Z"
    }
   },
   "outputs": [],
   "source": [
    "normal_data_df = pd.DataFrame(data = {'data1': np.random.normal(loc = 1, scale = 2, size = 100), 'data2': np.random.normal(loc = 4, scale = 3, size = 100)})\n",
    "normal_data_df.head(10)"
   ]
  },
  {
   "cell_type": "markdown",
   "id": "194a11cc",
   "metadata": {},
   "source": [
    "#### Histograms\n",
    "`datascience` histograms: http://data8.org/datascience/_autosummary/datascience.tables.Table.hist.html\n",
    "\n",
    "`pandas` histograms: https://pandas.pydata.org/pandas-docs/version/0.23/generated/pandas.DataFrame.hist.html"
   ]
  },
  {
   "cell_type": "code",
   "execution_count": 38,
   "id": "70b9e8e5",
   "metadata": {
    "execution": {
     "iopub.execute_input": "2022-07-08T16:31:31.081164Z",
     "iopub.status.busy": "2022-07-08T16:31:31.080910Z",
     "iopub.status.idle": "2022-07-08T16:31:31.181548Z",
     "shell.execute_reply": "2022-07-08T16:31:31.180922Z"
    }
   },
   "outputs": [],
   "source": [
    "# datascience\n",
    "new = normal_data_table.select('data1') # create histogram of data1\n",
    "new.hist()"
   ]
  },
  {
   "cell_type": "code",
   "execution_count": 39,
   "id": "ed528066",
   "metadata": {
    "execution": {
     "iopub.execute_input": "2022-07-08T16:31:31.184563Z",
     "iopub.status.busy": "2022-07-08T16:31:31.184313Z",
     "iopub.status.idle": "2022-07-08T16:31:31.277710Z",
     "shell.execute_reply": "2022-07-08T16:31:31.277098Z"
    }
   },
   "outputs": [],
   "source": [
    "# pandas\n",
    "new = normal_data_df[[\"data1\"]] # create histogram of data1\n",
    "new.hist();"
   ]
  },
  {
   "cell_type": "markdown",
   "id": "a022e3da",
   "metadata": {},
   "source": [
    "#### Scatterplots\n",
    "`datascience` scatterplots: http://data8.org/datascience/_autosummary/datascience.tables.Table.scatter.html\n",
    "\n",
    "`pandas` scatterplots: https://pandas.pydata.org/pandas-docs/stable/generated/pandas.DataFrame.plot.scatter.html"
   ]
  },
  {
   "cell_type": "code",
   "execution_count": 40,
   "id": "d724e8c9",
   "metadata": {
    "execution": {
     "iopub.execute_input": "2022-07-08T16:31:31.280779Z",
     "iopub.status.busy": "2022-07-08T16:31:31.280554Z",
     "iopub.status.idle": "2022-07-08T16:31:31.363384Z",
     "shell.execute_reply": "2022-07-08T16:31:31.362728Z"
    }
   },
   "outputs": [],
   "source": [
    "# datascience\n",
    "normal_data_table.scatter('data1') # create scatterplot of data1 vs data2"
   ]
  },
  {
   "cell_type": "code",
   "execution_count": 41,
   "id": "fecbcdc4",
   "metadata": {
    "execution": {
     "iopub.execute_input": "2022-07-08T16:31:31.366269Z",
     "iopub.status.busy": "2022-07-08T16:31:31.366040Z",
     "iopub.status.idle": "2022-07-08T16:31:31.443382Z",
     "shell.execute_reply": "2022-07-08T16:31:31.442751Z"
    }
   },
   "outputs": [],
   "source": [
    "# pandas\n",
    "normal_data_df.plot.scatter(x = 'data1', y = 'data2'); # create scatterplot of data1 vs data2"
   ]
  },
  {
   "cell_type": "markdown",
   "id": "3af63480",
   "metadata": {},
   "source": [
    "#### Barplots\n",
    "`datascience` barplots: http://data8.org/datascience/_autosummary/datascience.tables.Table.barh.html\n",
    "\n",
    "`pandas` barplots: https://pandas.pydata.org/pandas-docs/version/0.23/generated/pandas.DataFrame.plot.bar.html"
   ]
  },
  {
   "cell_type": "code",
   "execution_count": 42,
   "id": "791f6765",
   "metadata": {
    "execution": {
     "iopub.execute_input": "2022-07-08T16:31:31.446451Z",
     "iopub.status.busy": "2022-07-08T16:31:31.446217Z",
     "iopub.status.idle": "2022-07-08T16:31:31.525660Z",
     "shell.execute_reply": "2022-07-08T16:31:31.524960Z"
    }
   },
   "outputs": [],
   "source": [
    "# datascience\n",
    "t = Table().with_columns('Furniture', make_array('chairs', 'tables', 'desks'), 'Count', make_array(6, 1, 2), 'Price', make_array(10, 20, 30)) # barplot of count and price of different furnitures\n",
    "t.barh('Furniture')"
   ]
  },
  {
   "cell_type": "code",
   "execution_count": 43,
   "id": "8cb86c76",
   "metadata": {
    "execution": {
     "iopub.execute_input": "2022-07-08T16:31:31.528650Z",
     "iopub.status.busy": "2022-07-08T16:31:31.528423Z",
     "iopub.status.idle": "2022-07-08T16:31:31.609631Z",
     "shell.execute_reply": "2022-07-08T16:31:31.608920Z"
    }
   },
   "outputs": [],
   "source": [
    "# pandas\n",
    "df = pd.DataFrame(data = {'Furniture': ['chairs', 'tables', 'desks'], 'Count': [6, 1, 2], 'Price': [10, 20, 30]})\n",
    "df.plot.barh('Furniture'); # barplot of count and price of different furnitures"
   ]
  },
  {
   "cell_type": "markdown",
   "id": "831cbc05",
   "metadata": {},
   "source": [
    "For all of the plots above, there are many different parameters you can play around with (color, size, orientation, figure size, axis labels, title, etc). Above are the basic implementations of these graphs but we recommend looking through the documentation and seeing how you can change different aspects of it. Try using the DataFrame given and plotting a different graph!"
   ]
  },
  {
   "cell_type": "markdown",
   "id": "f41e80b4",
   "metadata": {},
   "source": [
    "### Export to CSV"
   ]
  },
  {
   "cell_type": "markdown",
   "id": "e1790e65",
   "metadata": {},
   "source": [
    "When we want to convert a Table to a csv file, we first need to convert it to a DataFrame and then to a csv file. In `pandas`, we can get rid of this intermediate step because we already have a DataFrame!"
   ]
  },
  {
   "cell_type": "code",
   "execution_count": 44,
   "id": "477a43ac",
   "metadata": {
    "collapsed": true,
    "execution": {
     "iopub.execute_input": "2022-07-08T16:31:31.613103Z",
     "iopub.status.busy": "2022-07-08T16:31:31.612866Z",
     "iopub.status.idle": "2022-07-08T16:31:31.624356Z",
     "shell.execute_reply": "2022-07-08T16:31:31.623815Z"
    }
   },
   "outputs": [],
   "source": [
    "cones_table.to_df().to_csv('cones_datascience.csv', index = False)"
   ]
  },
  {
   "cell_type": "code",
   "execution_count": 45,
   "id": "8a1c45a7",
   "metadata": {
    "collapsed": true,
    "execution": {
     "iopub.execute_input": "2022-07-08T16:31:31.627071Z",
     "iopub.status.busy": "2022-07-08T16:31:31.626854Z",
     "iopub.status.idle": "2022-07-08T16:31:31.638180Z",
     "shell.execute_reply": "2022-07-08T16:31:31.637504Z"
    }
   },
   "outputs": [],
   "source": [
    "cones_df.to_csv('cones_dataframe.csv', index = False)"
   ]
  },
  {
   "cell_type": "markdown",
   "id": "1315c4d0",
   "metadata": {},
   "source": [
    "### Calculate the number of columns\n",
    "In `datascience`, calculating the number of columns (or rows) requires a simple call using our Table, either `num_columns` or `num_rows`. With `pandas`, there are two ways to get the number of columns and rows. The `len` function can be used on a part of the DataFrame, or the `shape` function can be used. The `shape` function returns both the number of rows and the number of columns so based on what we want, we will have to select it using indexing. "
   ]
  },
  {
   "cell_type": "code",
   "execution_count": 46,
   "id": "f9302110",
   "metadata": {
    "execution": {
     "iopub.execute_input": "2022-07-08T16:31:31.641140Z",
     "iopub.status.busy": "2022-07-08T16:31:31.640917Z",
     "iopub.status.idle": "2022-07-08T16:31:31.651845Z",
     "shell.execute_reply": "2022-07-08T16:31:31.651231Z"
    }
   },
   "outputs": [],
   "source": [
    "# datascience\n",
    "cones_table.num_columns"
   ]
  },
  {
   "cell_type": "code",
   "execution_count": 47,
   "id": "85735eaa",
   "metadata": {
    "execution": {
     "iopub.execute_input": "2022-07-08T16:31:31.654590Z",
     "iopub.status.busy": "2022-07-08T16:31:31.654373Z",
     "iopub.status.idle": "2022-07-08T16:31:31.665374Z",
     "shell.execute_reply": "2022-07-08T16:31:31.664892Z"
    }
   },
   "outputs": [],
   "source": [
    "# pandas\n",
    "len(cones_df.columns) # find the length of the list of column names\n",
    "# or\n",
    "cones_df.shape[1] # select the column part of shape"
   ]
  },
  {
   "cell_type": "markdown",
   "id": "1186e42b",
   "metadata": {},
   "source": [
    "### Calculate the number of rows"
   ]
  },
  {
   "cell_type": "code",
   "execution_count": 48,
   "id": "4a124cd2",
   "metadata": {
    "execution": {
     "iopub.execute_input": "2022-07-08T16:31:31.668691Z",
     "iopub.status.busy": "2022-07-08T16:31:31.668449Z",
     "iopub.status.idle": "2022-07-08T16:31:31.678957Z",
     "shell.execute_reply": "2022-07-08T16:31:31.678498Z"
    }
   },
   "outputs": [],
   "source": [
    "# datascience\n",
    "cones_table.num_rows"
   ]
  },
  {
   "cell_type": "code",
   "execution_count": 49,
   "id": "efb5124d",
   "metadata": {
    "execution": {
     "iopub.execute_input": "2022-07-08T16:31:31.681837Z",
     "iopub.status.busy": "2022-07-08T16:31:31.681593Z",
     "iopub.status.idle": "2022-07-08T16:31:31.692453Z",
     "shell.execute_reply": "2022-07-08T16:31:31.691988Z"
    }
   },
   "outputs": [],
   "source": [
    "# pandas\n",
    "len(cones_df) # number of rows in the DataFrame\n",
    "# or\n",
    "cones_df.shape[0] # select the row part of shape"
   ]
  },
  {
   "cell_type": "markdown",
   "id": "638e6a84",
   "metadata": {},
   "source": [
    "### Apply\n",
    "In both libraries, we have a function called `apply`, which we use to apply a function on a certain column and all its elements. Note: in `pandas`, apply works on a Series (since this is essentially a single column of a DataFrame)."
   ]
  },
  {
   "cell_type": "code",
   "execution_count": 50,
   "id": "d85cb69c",
   "metadata": {
    "execution": {
     "iopub.execute_input": "2022-07-08T16:31:31.695639Z",
     "iopub.status.busy": "2022-07-08T16:31:31.695396Z",
     "iopub.status.idle": "2022-07-08T16:31:31.706101Z",
     "shell.execute_reply": "2022-07-08T16:31:31.705627Z"
    }
   },
   "outputs": [],
   "source": [
    "# datascience\n",
    "cones_table.apply(round, \"Price\") # apply the round function to the column Price"
   ]
  },
  {
   "cell_type": "code",
   "execution_count": 51,
   "id": "7a62b0f4",
   "metadata": {
    "execution": {
     "iopub.execute_input": "2022-07-08T16:31:31.709003Z",
     "iopub.status.busy": "2022-07-08T16:31:31.708782Z",
     "iopub.status.idle": "2022-07-08T16:31:31.720603Z",
     "shell.execute_reply": "2022-07-08T16:31:31.720109Z"
    }
   },
   "outputs": [],
   "source": [
    "# pandas\n",
    "cones_df[\"Price\"].apply(round, \"Price\") # apply the round function to the column Price"
   ]
  },
  {
   "cell_type": "markdown",
   "id": "8e9eb7ef",
   "metadata": {},
   "source": [
    "Above we see that we get the rounded up prices returned to us. If we wanted to change the column in the original Table/DataFrame, we would set the expression above equal to the column/series so that the change is made and saved in the original.\n",
    "\n",
    "For example:\n",
    "\n",
    "`\n",
    "cones_table = cones_table.apply(round, \"Price\")\n",
    "`\n",
    "\n",
    "or\n",
    "\n",
    "`\n",
    "cones_df[\"Price\"] = cones_df[\"Price\"].apply(round, \"Price\")\n",
    "`"
   ]
  },
  {
   "cell_type": "markdown",
   "id": "c9e87dde",
   "metadata": {},
   "source": [
    "### Joining\n",
    "Joins are useful when we want to combine two or more tables together, so we can do analysis on all of the tables. In `datascience`, we can use `join` and in `pandas` we can use `merge`. With both we need the information of the two tables and how we are joining on them (the appropriate columns). "
   ]
  },
  {
   "cell_type": "code",
   "execution_count": 52,
   "id": "93c2cfbb",
   "metadata": {
    "execution": {
     "iopub.execute_input": "2022-07-08T16:31:31.724236Z",
     "iopub.status.busy": "2022-07-08T16:31:31.723916Z",
     "iopub.status.idle": "2022-07-08T16:31:31.730963Z",
     "shell.execute_reply": "2022-07-08T16:31:31.730510Z"
    }
   },
   "outputs": [],
   "source": [
    "# datascience\n",
    "table = Table().with_columns('first', make_array('i', 'c', 'c', 'a'), 'second', make_array('a', 'b', 'b', 'j'), 'third', make_array('c', 'd', 'e', 'f'))\n",
    "table2 = Table().with_columns( 'another', make_array('i', 'a', 'a', 'a'), 'fourth', make_array('a', 'b', 'b', 'j'), 'fifth', make_array('c', 'd', 'e', 'f'))\n",
    "print(table)\n",
    "print()\n",
    "print(table2)\n",
    "table.join('first', table2, 'fourth') # join table and table 2 together so columns first and fourth match values"
   ]
  },
  {
   "cell_type": "markdown",
   "id": "06cc27f9",
   "metadata": {},
   "source": [
    "In the above code block, we create two different tables. When we call the `join()` function on these two tables, we take the cross product of the rows of both tables (every combination of rows that could happen between both tables) and then filter this out based on the columns we specify that need to be the same. In this case we have row `first` from the first table and row `fourth` from the second table, therefore we can only keep rows that have a value in `first` from the first table and `fourth` from the second table that are the same. In our example, the similar value is `first` and `fourth` is the value `a` (we see it in the last row of the `first` column and the first row of the `fourth` column). We then look at the values in these two rows and create a table with the values. Similarly, we can replicate this in `pandas`:"
   ]
  },
  {
   "cell_type": "code",
   "execution_count": 53,
   "id": "7a6dfeac",
   "metadata": {
    "execution": {
     "iopub.execute_input": "2022-07-08T16:31:31.734537Z",
     "iopub.status.busy": "2022-07-08T16:31:31.734297Z",
     "iopub.status.idle": "2022-07-08T16:31:31.746013Z",
     "shell.execute_reply": "2022-07-08T16:31:31.745434Z"
    }
   },
   "outputs": [],
   "source": [
    "df = pd.DataFrame(data = {'first': ['i', 'c', 'c', 'a'], 'second': ['a', 'b', 'b', 'j'], 'third': ['c', 'd', 'e', 'f']})\n",
    "df2 = pd.DataFrame(data = {'another': ['i', 'a', 'a', 'a'], 'fourth': ['a', 'b', 'b', 'j'], 'fifth': ['c', 'd', 'e', 'f']})\n",
    "print(df)\n",
    "print()\n",
    "print(df2)\n",
    "df.merge(df2, left_on = 'first', right_on = 'fourth', how = \"inner\") # merge df and df2 using an inner join using columns first and fourth"
   ]
  },
  {
   "cell_type": "markdown",
   "id": "b24ea2cc",
   "metadata": {},
   "source": [
    "In the `pandas` code above, we have an extra argument that we need to specify: how. There are many types of joins that we can do with data. In `datascience`, the only option we can do is an inner join, but in `pandas`, we have the option to do inner, left, right, outer joins. For more information about these types of joins, check out this page: http://pandas.pydata.org/pandas-docs/version/0.19.1/generated/pandas.DataFrame.merge.html"
   ]
  },
  {
   "cell_type": "markdown",
   "id": "7746c581",
   "metadata": {},
   "source": [
    "### Reading `pandas` Documentation\n",
    "There are many more functions and methods you can call with `pandas` to do more cool things with Series and DataFrames. One way to learn more about this is by looking through the `pandas` documentation. The documentation has all the different functions associated with `pandas`, and descriptions about what they do, how you use them, and some examples. \n",
    "\n",
    "Some tips for reading through the documentation:\n",
    "* For various functions there are LOTS of different parameters that you can call, usually there are only a few that are important (usually related to the data you are working with and specifying how to run the functions). There are some parameters that are optional and you do not have to specify (automatically Pandas will use default settings for these functions). For example, for joins, an inner join is the default setting but if needed, you can say you want to do an outer join etc.\n",
    "* Another useful parameter is the `inplace` parameter. When set to true, the data is renamed/the function is run in place (a copy of the new data with the function applied is NOT created)\n",
    "* For quick lookup for a specific function: in Jupyter you can put your cursor on a Pandas function and press Shift + Tab in order to see part of the documentation. Based on how many times you press the Tab, it will show you the header of the function (how you would call it and parameters) and a description of the function overall and a description of the parameters."
   ]
  },
  {
   "cell_type": "markdown",
   "id": "5c42cdec",
   "metadata": {},
   "source": [
    "---"
   ]
  },
  {
   "cell_type": "markdown",
   "id": "715f3819",
   "metadata": {},
   "source": [
    "## Finishing up\n",
    "\n",
    "**Important submission information:** \n",
    "- Be sure to run the tests and verify that they all pass by running the `grader.check_all()` cell below,\n",
    "- Save your progress by choosing the **Save and Checkpoint** item in the **File** menu, \n",
    "- Submit your work by clicking the **Submit** button in the toolbar at the top of notebook. \n",
    "- Download a zip file of this notebook by running the last cell below. **Note:** Be sure to run all the tests before exporting so that all images/graphs appear in the exported notebook. \n",
    "\n",
    "**Please save before submitting!**"
   ]
  },
  {
   "cell_type": "code",
   "execution_count": 54,
   "id": "a441726c",
   "metadata": {
    "execution": {
     "iopub.execute_input": "2022-07-08T16:31:31.750229Z",
     "iopub.status.busy": "2022-07-08T16:31:31.749957Z",
     "iopub.status.idle": "2022-07-08T16:31:31.761084Z",
     "shell.execute_reply": "2022-07-08T16:31:31.760636Z"
    }
   },
   "outputs": [],
   "source": [
    "# To double-check your work, the cell below will rerun all of the autograder tests.\n",
    "grader.check_all()"
   ]
  },
  {
   "cell_type": "code",
   "execution_count": 55,
   "id": "dabaa8e6",
   "metadata": {
    "execution": {
     "iopub.execute_input": "2022-07-08T16:31:31.763816Z",
     "iopub.status.busy": "2022-07-08T16:31:31.763587Z",
     "iopub.status.idle": "2022-07-08T16:31:31.775019Z",
     "shell.execute_reply": "2022-07-08T16:31:31.774505Z"
    }
   },
   "outputs": [],
   "source": [
    "# Save your notebook first, then run this cell to export your submission.\n",
    "grader.export(pdf=False)"
   ]
  }
 ],
 "metadata": {
  "kernelspec": {
   "display_name": "Python 3",
   "language": "python",
   "name": "python3"
  },
  "language_info": {
   "codemirror_mode": {
    "name": "ipython",
    "version": 3
   },
   "file_extension": ".py",
   "mimetype": "text/x-python",
   "name": "python",
   "nbconvert_exporter": "python",
   "pygments_lexer": "ipython3",
   "version": "3.9.7"
  },
  "course": "8x",
  "section": "3",
  "lab": "optional"
 },
 "nbformat": 4,
 "nbformat_minor": 5
}