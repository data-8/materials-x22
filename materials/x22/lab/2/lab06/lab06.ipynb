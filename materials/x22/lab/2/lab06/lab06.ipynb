{
 "cells": [
  {
   "cell_type": "code",
   "execution_count": null,
   "id": "22cad56c",
   "metadata": {
    "deletable": false,
    "editable": false
   },
   "outputs": [],
   "source": [
    "# Initialize Otter\n",
    "import otter\n",
    "grader = otter.Notebook(\"lab06.ipynb\")"
   ]
  },
  {
   "cell_type": "markdown",
   "id": "55e1aea7",
   "metadata": {},
   "source": [
    "# Lab 6: Climate Change\u2014Temperatures and Precipitation: Part 2: Drought\n",
    "\n",
    "We continue our investigation of climate change in this lab by studying droughts.\n"
   ]
  },
  {
   "cell_type": "code",
   "execution_count": 1,
   "id": "9aab4c91",
   "metadata": {
    "execution": {
     "iopub.execute_input": "2022-07-20T17:14:13.669337Z",
     "iopub.status.busy": "2022-07-20T17:14:13.669064Z",
     "iopub.status.idle": "2022-07-20T17:14:15.618301Z",
     "shell.execute_reply": "2022-07-20T17:14:15.617744Z"
    }
   },
   "outputs": [],
   "source": [
    "# Run this cell to set up the notebook, but please don't change it.\n",
    "from datascience import *\n",
    "import numpy as np\n",
    "\n",
    "%matplotlib inline\n",
    "import matplotlib.pyplot as plt\n",
    "plt.style.use('fivethirtyeight')\n",
    "np.set_printoptions(legacy='1.13')\n",
    "\n",
    "import warnings\n",
    "warnings.simplefilter('ignore')"
   ]
  },
  {
   "cell_type": "markdown",
   "id": "98a3f518",
   "metadata": {
    "tags": []
   },
   "source": [
    "# Part 2: Drought"
   ]
  },
  {
   "cell_type": "markdown",
   "id": "ae977dd5",
   "metadata": {},
   "source": [
    "According to the [United States Environmental Protection Agency](https://www.epa.gov/climate-indicators/southwest), \"Large portions of the Southwest have experienced drought conditions since weekly Drought Monitor records began in 2000. For extended periods from 2002 to 2005 and from 2012 to 2020, nearly the entire region was abnormally dry or even drier.\" \n",
    "\n",
    "Assessing the impact of drought is challenging with just city-level data because so much of the water that people use is transported from elsewhere, but we'll explore the data we have and see what we can learn.\n",
    "\n",
    "Let's first take a look at the precipitation data in the Southwest region. The `southwest.csv` file contains total annual precipitation for 13 cities in the southwestern United States for each year from 1960 to 2021. This dataset is aggregated from the daily data and includes only the Southwest cities from the original dataset that have consistent precipitation records back to 1960."
   ]
  },
  {
   "cell_type": "code",
   "execution_count": 2,
   "id": "c4aad43b",
   "metadata": {
    "execution": {
     "iopub.execute_input": "2022-07-20T17:14:15.621791Z",
     "iopub.status.busy": "2022-07-20T17:14:15.621438Z",
     "iopub.status.idle": "2022-07-20T17:14:15.630999Z",
     "shell.execute_reply": "2022-07-20T17:14:15.630461Z"
    }
   },
   "outputs": [],
   "source": [
    "southwest = Table.read_table('southwest.csv')\n",
    "southwest.show(5)"
   ]
  },
  {
   "cell_type": "markdown",
   "id": "3b918d17",
   "metadata": {
    "deletable": false,
    "editable": false
   },
   "source": [
    "**Question 2.1.** Create a table `totals` that has one row for each year in chronological order. It should contain the following columns:\n",
    "1. `\"Year\"`: The year (a number)\n",
    "2. `\"Precipitation\"`: The total precipitation in all 13 southwestern cities that year\n",
    "\n",
    "<!--\n",
    "BEGIN QUESTION\n",
    "name: q2_1\n",
    "manual: false\n",
    "points:\n",
    " - 0\n",
    " - 1\n",
    " - 1\n",
    " - 2\n",
    "-->"
   ]
  },
  {
   "cell_type": "code",
   "execution_count": 3,
   "id": "2f8a8245",
   "metadata": {
    "execution": {
     "iopub.execute_input": "2022-07-20T17:14:15.634171Z",
     "iopub.status.busy": "2022-07-20T17:14:15.633942Z",
     "iopub.status.idle": "2022-07-20T17:14:15.644591Z",
     "shell.execute_reply": "2022-07-20T17:14:15.644072Z"
    }
   },
   "outputs": [],
   "source": [
    "totals = ...\n",
    "totals"
   ]
  },
  {
   "cell_type": "code",
   "execution_count": null,
   "id": "8645b453",
   "metadata": {
    "deletable": false,
    "editable": false
   },
   "outputs": [],
   "source": [
    "grader.check(\"q2_1\")"
   ]
  },
  {
   "cell_type": "markdown",
   "id": "ad9d7b04",
   "metadata": {},
   "source": [
    "Run the cell below to plot the total precipitation in these cities over time, so that we can try to spot the drought visually. As a reminder, the drought years given by the EPA were  (2002-2005) and (2012-2020)."
   ]
  },
  {
   "cell_type": "code",
   "execution_count": 8,
   "id": "76ac97dc",
   "metadata": {
    "execution": {
     "iopub.execute_input": "2022-07-20T17:14:15.672939Z",
     "iopub.status.busy": "2022-07-20T17:14:15.672725Z",
     "iopub.status.idle": "2022-07-20T17:14:15.781914Z",
     "shell.execute_reply": "2022-07-20T17:14:15.781287Z"
    }
   },
   "outputs": [],
   "source": [
    "# Just run this cell\n",
    "totals.plot(\"Year\", \"Precipitation\")"
   ]
  },
  {
   "cell_type": "markdown",
   "id": "cb6e4d95",
   "metadata": {},
   "source": [
    "This plot isn't very revealing. Each year has a different amount of precipitation, and there is quite a bit of variability across years, as if each year's precipitation is a random draw from a distribution of possible outcomes. \n",
    "\n",
    "Could it be that these so-called \"drought conditions\" from 2002-2005 and 2012-2020 can be explained by chance? In other words, could it be that the annual precipitation amounts in the Southwest for these drought years are like **random draws from the same underlying distribution** as for other years? Perhaps nothing about the Earth's precipitation patterns has really changed, and the Southwest U.S. just happened to experience a few dry years close together. \n",
    "\n",
    "To assess this idea, let's conduct an A/B test in which **each year's total precipitation** is an outcome, and the condition is **whether or not the year is in the EPA's drought period**."
   ]
  },
  {
   "cell_type": "markdown",
   "id": "be52b6ab",
   "metadata": {},
   "source": [
    "This `drought_label` function distinguishes between drought years as described in the U.S. EPA statement above (2002-2005 and 2012-2020) and other years. Note that the label \"other\" is perhaps misleading, since there were other droughts before 2000, such as the massive [1988 drought](https://en.wikipedia.org/wiki/1988%E2%80%9390_North_American_drought) that affected much of the U.S. However, if we're interested in whether these modern drought periods (2002-2005 and 2012-2020) are *normal* or *abnormal*, it makes sense to distinguish the years in this way. "
   ]
  },
  {
   "cell_type": "code",
   "execution_count": 9,
   "id": "f85de36f",
   "metadata": {
    "execution": {
     "iopub.execute_input": "2022-07-20T17:14:15.785334Z",
     "iopub.status.busy": "2022-07-20T17:14:15.785098Z",
     "iopub.status.idle": "2022-07-20T17:14:15.788641Z",
     "shell.execute_reply": "2022-07-20T17:14:15.788060Z"
    }
   },
   "outputs": [],
   "source": [
    "def drought_label(n):\n",
    "    \"\"\"Return the label for an input year n.\"\"\"\n",
    "    if 2002 <= n <= 2005 or 2012 <= n <= 2020:\n",
    "        return 'drought'\n",
    "    else:\n",
    "        return 'other'"
   ]
  },
  {
   "cell_type": "markdown",
   "id": "2421c5de",
   "metadata": {
    "deletable": false,
    "editable": false
   },
   "source": [
    "<!-- BEGIN QUESTION -->\n",
    "\n",
    "**Question 2.2.** Define null and alternative hypotheses for an A/B test that investigates whether drought years are drier (have less precipitation) than other years.\n",
    "\n",
    "*Note:* Please format your answer using the following structure.\n",
    "\n",
    "- *Null hypothesis:* ...\n",
    "- *Alternative hypothesis:* ...\n",
    "\n",
    "<!--\n",
    "BEGIN QUESTION\n",
    "name: q2_2\n",
    "manual: true\n",
    "-->"
   ]
  },
  {
   "cell_type": "markdown",
   "id": "2edb2d62",
   "metadata": {},
   "source": [
    "_Type your answer here, replacing this text._"
   ]
  },
  {
   "cell_type": "markdown",
   "id": "cc2f0927",
   "metadata": {
    "deletable": false,
    "editable": false
   },
   "source": [
    "<!-- END QUESTION -->\n",
    "\n",
    "<!-- BEGIN QUESTION -->\n",
    "\n",
    "**Question 2.3.** First, define the table `drought`. It should contain one row per year and the following two columns:\n",
    "- `\"Label\"`: Denotes if a year is part of a `\"drought\"` year or an `\"other\"` year\n",
    "- `\"Precipitation\"`: The sum of the total precipitation in 13 Southwest cities that year\n",
    "\n",
    "Then, construct an overlaid histogram of two observed distributions: the total precipitation in drought years and the total precipitation in other years. \n",
    "\n",
    "*Note*: Use the provided `bins` when creating your histogram, and do not re-assign the `southwest` table. Feel free to use as many lines as you need!\n",
    "\n",
    "*Hint*: The optional `group` argument in a certain function might be helpful!\n",
    "\n",
    "<!--\n",
    "BEGIN QUESTION\n",
    "name: q2_3\n",
    "manual: true\n",
    "-->"
   ]
  },
  {
   "cell_type": "code",
   "execution_count": 10,
   "id": "8722059c",
   "metadata": {
    "execution": {
     "iopub.execute_input": "2022-07-20T17:14:15.792083Z",
     "iopub.status.busy": "2022-07-20T17:14:15.791851Z",
     "iopub.status.idle": "2022-07-20T17:14:15.936261Z",
     "shell.execute_reply": "2022-07-20T17:14:15.935518Z"
    }
   },
   "outputs": [],
   "source": [
    "bins = np.arange(85, 215+1, 13)\n",
    "drought = ...\n",
    "..."
   ]
  },
  {
   "cell_type": "markdown",
   "id": "9d6c6a56",
   "metadata": {},
   "source": [
    "<!-- END QUESTION -->\n",
    "\n",
    "\n",
    "\n",
    "Before you continue, inspect the histogram you just created and try to guess the conclusion of the A/B test. Building intuition about the result of hypothesis testing from visualizations is quite useful for data science applications. "
   ]
  },
  {
   "cell_type": "markdown",
   "id": "7aaed665",
   "metadata": {
    "deletable": false,
    "editable": false
   },
   "source": [
    "**Question 2.4.** Our next step is to choose a test statistic based on our alternative hypothesis in Question 2.2. Which of the following options are valid choices for the test statistic? Assign `ab_test_stat` to an array of integers corresponding to valid choices. Assume averages and totals are taken over the total precipitation sums for each year.\n",
    "\n",
    "1. The difference between the **total** precipitation in **drought** years and the **total** precipitation in **other** years.\n",
    "2. The difference between the **total** precipitation in **others** years and the **total** precipitation in **drought** years.\n",
    "3. The **absolute** difference between the **total** precipitation in others years and the **total** precipitation in drought years.\n",
    "1. The difference between the **average** precipitation in **drought** years and the **average** precipitation in **other** years.\n",
    "2. The difference between the **average** precipitation in **others** years and the **average** precipitation in **drought** years.\n",
    "3. The **absolute** difference between the **average** precipitation in others years and the **average** precipitation in drought years.\n",
    "\n",
    "<!--\n",
    "BEGIN QUESTION\n",
    "name: q2_4\n",
    "manual: false\n",
    "points:\n",
    " - 0\n",
    " - 0\n",
    " - 2\n",
    " - 2\n",
    "-->"
   ]
  },
  {
   "cell_type": "code",
   "execution_count": 11,
   "id": "478fd003",
   "metadata": {
    "execution": {
     "iopub.execute_input": "2022-07-20T17:14:15.939879Z",
     "iopub.status.busy": "2022-07-20T17:14:15.939641Z",
     "iopub.status.idle": "2022-07-20T17:14:15.942727Z",
     "shell.execute_reply": "2022-07-20T17:14:15.942202Z"
    }
   },
   "outputs": [],
   "source": [
    "ab_test_stat = ..."
   ]
  },
  {
   "cell_type": "code",
   "execution_count": null,
   "id": "0048d106",
   "metadata": {
    "deletable": false,
    "editable": false
   },
   "outputs": [],
   "source": [
    "grader.check(\"q2_4\")"
   ]
  },
  {
   "cell_type": "markdown",
   "id": "16b283ab",
   "metadata": {
    "deletable": false,
    "editable": false
   },
   "source": [
    "<!-- BEGIN QUESTION -->\n",
    "\n",
    "**Question 2.5.** Fellow climate scientists Olivia and Will point out that there are more **other** years than **drought** years, and so measuring the difference between total precipitation will always favor the **other** years. They conclude that all of the options above involving **total** precipitation are invalid test statistic choices. Do you agree with them? Why or why not?\n",
    "\n",
    "<!--\n",
    "BEGIN QUESTION\n",
    "name: q2_5\n",
    "manual: true\n",
    "-->"
   ]
  },
  {
   "cell_type": "markdown",
   "id": "532770e7",
   "metadata": {},
   "source": [
    "_Type your answer here, replacing this text._"
   ]
  },
  {
   "cell_type": "markdown",
   "id": "3173f06f",
   "metadata": {},
   "source": [
    "<!-- END QUESTION -->\n",
    "\n",
    "\n",
    "\n",
    "Before going on, check your `drought` table. It should have two columns `Label` and `Precipitation` with 61 rows, 13 of which are for `\"drought\"` years."
   ]
  },
  {
   "cell_type": "code",
   "execution_count": 16,
   "id": "57bf9e28",
   "metadata": {
    "execution": {
     "iopub.execute_input": "2022-07-20T17:14:15.973267Z",
     "iopub.status.busy": "2022-07-20T17:14:15.973017Z",
     "iopub.status.idle": "2022-07-20T17:14:15.976961Z",
     "shell.execute_reply": "2022-07-20T17:14:15.976494Z"
    }
   },
   "outputs": [],
   "source": [
    "drought.show(3)"
   ]
  },
  {
   "cell_type": "code",
   "execution_count": 17,
   "id": "cca28d05",
   "metadata": {
    "execution": {
     "iopub.execute_input": "2022-07-20T17:14:15.979821Z",
     "iopub.status.busy": "2022-07-20T17:14:15.979593Z",
     "iopub.status.idle": "2022-07-20T17:14:15.983940Z",
     "shell.execute_reply": "2022-07-20T17:14:15.983435Z"
    }
   },
   "outputs": [],
   "source": [
    "drought.group('Label')"
   ]
  },
  {
   "cell_type": "markdown",
   "id": "a8f79960",
   "metadata": {
    "deletable": false,
    "editable": false
   },
   "source": [
    "**Question 2.6.** For our A/B test, we'll use the difference between the average precipitation in drought years and the average precipitation in other years as our test statistic:\n",
    "\n",
    "$$\\text{average precipitation in \"drought\" years} - \\text{average precipitation in \"other\" years}$$\n",
    "\n",
    "First, complete the function `test_statistic`. It should take in a two-column table `t` with one row per year and two columns:\n",
    "- `Label`: the label for that year (either `'drought'` or `'other'`)\n",
    "- `Precipitation`: the total precipitation in the 13 Southwest cities that year. \n",
    "\n",
    "Then, use the function you define to assign `observed_statistic` to the observed test statistic.\n",
    "\n",
    "<!--\n",
    "BEGIN QUESTION\n",
    "name: q2_6\n",
    "manual: false\n",
    "points:\n",
    " - 1\n",
    " - 1\n",
    " - 1\n",
    " - 1\n",
    "-->"
   ]
  },
  {
   "cell_type": "code",
   "execution_count": 18,
   "id": "4fb76b52",
   "metadata": {
    "execution": {
     "iopub.execute_input": "2022-07-20T17:14:15.987017Z",
     "iopub.status.busy": "2022-07-20T17:14:15.986787Z",
     "iopub.status.idle": "2022-07-20T17:14:15.991683Z",
     "shell.execute_reply": "2022-07-20T17:14:15.991188Z"
    }
   },
   "outputs": [],
   "source": [
    "def test_statistic(t):\n",
    "    ...\n",
    "\n",
    "observed_statistic = ...\n",
    "observed_statistic"
   ]
  },
  {
   "cell_type": "code",
   "execution_count": null,
   "id": "b229db44",
   "metadata": {
    "deletable": false,
    "editable": false
   },
   "outputs": [],
   "source": [
    "grader.check(\"q2_6\")"
   ]
  },
  {
   "cell_type": "markdown",
   "id": "bd5bc6f9",
   "metadata": {},
   "source": [
    "Now that we have defined our hypotheses and test statistic, we are ready to conduct our hypothesis test. We\u2019ll start by defining a function to simulate the test statistic under the null hypothesis, and then call that function 5,000 times to construct an empirical distribution under the null hypothesis."
   ]
  },
  {
   "cell_type": "markdown",
   "id": "d9950b88",
   "metadata": {
    "deletable": false,
    "editable": false
   },
   "source": [
    "**Question 2.7.** Write a function to simulate the test statistic under the null hypothesis. The `simulate_precipitation_null` function should simulate the null hypothesis once (not 5,000 times) and return the value of the test statistic for that simulated sample.\n",
    "\n",
    "*Hint*: Using `t.with_column(...)` with a column name that already exists in a table `t` will replace that column with the newly specified values.\n",
    "\n",
    "<!--\n",
    "BEGIN QUESTION\n",
    "name: q2_7\n",
    "manual: false\n",
    "points:\n",
    " - 1\n",
    " - 3\n",
    "-->"
   ]
  },
  {
   "cell_type": "code",
   "execution_count": 23,
   "id": "74a8de53",
   "metadata": {
    "execution": {
     "iopub.execute_input": "2022-07-20T17:14:16.024259Z",
     "iopub.status.busy": "2022-07-20T17:14:16.024037Z",
     "iopub.status.idle": "2022-07-20T17:14:16.029362Z",
     "shell.execute_reply": "2022-07-20T17:14:16.028796Z"
    }
   },
   "outputs": [],
   "source": [
    "def simulate_precipitation_null():\n",
    "    ...\n",
    "\n",
    "# Run your function a couple times to make sure that it works\n",
    "simulate_precipitation_null()"
   ]
  },
  {
   "cell_type": "code",
   "execution_count": null,
   "id": "3c19ee58",
   "metadata": {
    "deletable": false,
    "editable": false
   },
   "outputs": [],
   "source": [
    "grader.check(\"q2_7\")"
   ]
  },
  {
   "cell_type": "markdown",
   "id": "d59766d4",
   "metadata": {
    "deletable": false,
    "editable": false
   },
   "source": [
    "**Question 2.8.** Fill in the blanks below to complete the simulation for the hypothesis test. Your simulation should compute 5,000 values of the test statistic under the null hypothesis and store the result in the array `sampled_stats`.\n",
    "\n",
    "*Hint:* You should use the `simulate_precipitation_null` function you wrote in the previous question!\n",
    "\n",
    "*Note:* Running this cell may take a few seconds. If it takes more than a minute, try to find a faster way to implement your `simulate_precipitation_null` function.\n",
    "\n",
    "<!--\n",
    "BEGIN QUESTION\n",
    "name: q2_8\n",
    "manual: false\n",
    "points:\n",
    " - 0\n",
    " - 0\n",
    " - 2\n",
    " - 2\n",
    "-->"
   ]
  },
  {
   "cell_type": "code",
   "execution_count": 26,
   "id": "d1649bb3",
   "metadata": {
    "execution": {
     "iopub.execute_input": "2022-07-20T17:14:16.767881Z",
     "iopub.status.busy": "2022-07-20T17:14:16.767627Z",
     "iopub.status.idle": "2022-07-20T17:14:20.594208Z",
     "shell.execute_reply": "2022-07-20T17:14:20.593653Z"
    }
   },
   "outputs": [],
   "source": [
    "sampled_stats = ...\n",
    "\n",
    "repetitions = ...\n",
    "for i in np.arange(repetitions):\n",
    "    ...\n",
    "\n",
    "# Do not change these lines\n",
    "Table().with_column('Difference Between Means', sampled_stats).hist()\n",
    "plt.scatter(observed_statistic, 0, c=\"r\", s=50);\n",
    "plt.ylim(-0.01);"
   ]
  },
  {
   "cell_type": "code",
   "execution_count": null,
   "id": "911c9d01",
   "metadata": {
    "deletable": false,
    "editable": false
   },
   "outputs": [],
   "source": [
    "grader.check(\"q2_8\")"
   ]
  },
  {
   "cell_type": "markdown",
   "id": "2896cce7",
   "metadata": {
    "deletable": false,
    "editable": false
   },
   "source": [
    "**Question 2.9.** Compute the p-value for this hypothesis test, and assign it to the variable `precipitation_p_val`.\n",
    "\n",
    "<!--\n",
    "BEGIN QUESTION\n",
    "name: q2_9\n",
    "manual: false\n",
    "points:\n",
    " - 0\n",
    " - 1\n",
    " - 3\n",
    "-->"
   ]
  },
  {
   "cell_type": "code",
   "execution_count": 31,
   "id": "835fc755",
   "metadata": {
    "execution": {
     "iopub.execute_input": "2022-07-20T17:14:20.626612Z",
     "iopub.status.busy": "2022-07-20T17:14:20.626385Z",
     "iopub.status.idle": "2022-07-20T17:14:20.630273Z",
     "shell.execute_reply": "2022-07-20T17:14:20.629775Z"
    }
   },
   "outputs": [],
   "source": [
    "precipitation_p_val = ...\n",
    "precipitation_p_val"
   ]
  },
  {
   "cell_type": "code",
   "execution_count": null,
   "id": "f320186d",
   "metadata": {
    "deletable": false,
    "editable": false
   },
   "outputs": [],
   "source": [
    "grader.check(\"q2_9\")"
   ]
  },
  {
   "cell_type": "markdown",
   "id": "c768476c",
   "metadata": {
    "deletable": false,
    "editable": false
   },
   "source": [
    "<!-- BEGIN QUESTION -->\n",
    "\n",
    "**Question 2.10.** State a conclusion from this test using a p-value cutoff of 5%. What have you learned about the EPA's statement on drought?\n",
    "\n",
    "<!--\n",
    "BEGIN QUESTION\n",
    "name: q2_10\n",
    "manual: true\n",
    "-->"
   ]
  },
  {
   "cell_type": "markdown",
   "id": "e360061a",
   "metadata": {},
   "source": [
    "_Type your answer here, replacing this text._"
   ]
  },
  {
   "cell_type": "markdown",
   "id": "a53f72ff",
   "metadata": {
    "deletable": false,
    "editable": false
   },
   "source": [
    "<!-- END QUESTION -->\n",
    "\n",
    "<!-- BEGIN QUESTION -->\n",
    "\n",
    "**Question 2.11.** Does your conclusion from Question 2.10 apply to the entire Southwest region of the U.S.? Why or why not?\n",
    "\n",
    "<!--\n",
    "BEGIN QUESTION\n",
    "name: q2_11\n",
    "manual: true\n",
    "-->"
   ]
  },
  {
   "cell_type": "markdown",
   "id": "bc61802f",
   "metadata": {},
   "source": [
    "_Type your answer here, replacing this text._"
   ]
  },
  {
   "cell_type": "markdown",
   "id": "a23913de",
   "metadata": {},
   "source": [
    "<!-- END QUESTION -->\n",
    "\n",
    "\n",
    "\n",
    "# Conclusion"
   ]
  },
  {
   "cell_type": "markdown",
   "id": "404e078b",
   "metadata": {},
   "source": [
    "Data science plays a central role in climate change research because massive simulations of the Earth's climate are necessary to assess the implications of climate data recorded from weather stations, satellites, and other sensors. [Berkeley Earth](http://berkeleyearth.org/data/) is a common source of data for these kinds of projects.\n",
    "\n",
    "In this project, we found ways to apply our statistical inference technqiues that rely on random sampling even in situations where the data were not generated randomly, but instead by some complicated natural process that appeared random. We made assumptions about randomness and then came to conclusions based on those assumptions. Great care must be taken to choose assumptions that are realistic, so that the resulting conclusions are not misleading. However, making assumptions about data can be productive when doing so allows inference techniques to apply to novel situations."
   ]
  },
  {
   "cell_type": "markdown",
   "id": "d5a525be",
   "metadata": {},
   "source": [
    "**Congratulations -- you are done!**\n"
   ]
  },
  {
   "cell_type": "markdown",
   "id": "f0b95177",
   "metadata": {},
   "source": [
    "---"
   ]
  },
  {
   "cell_type": "markdown",
   "id": "0f043968",
   "metadata": {},
   "source": [
    "## Finishing up\n",
    "\n",
    "**Important submission information:** \n",
    "- Be sure to run the tests and verify that they all pass by running the `grader.check_all()` cell below,\n",
    "- Save your progress by choosing the **Save and Checkpoint** item in the **File** menu, \n",
    "- Submit your work by clicking the **Submit** button in the toolbar at the top of notebook. \n",
    "- Download a zip file of this notebook by running the last cell below. **Note:** Be sure to run all the tests before exporting so that all images/graphs appear in the exported notebook. \n",
    "\n",
    "**Please save before submitting!**"
   ]
  },
  {
   "cell_type": "code",
   "execution_count": 35,
   "id": "78cb3e95",
   "metadata": {
    "execution": {
     "iopub.execute_input": "2022-07-20T17:14:20.653715Z",
     "iopub.status.busy": "2022-07-20T17:14:20.653453Z",
     "iopub.status.idle": "2022-07-20T17:14:21.121286Z",
     "shell.execute_reply": "2022-07-20T17:14:21.120491Z"
    }
   },
   "outputs": [],
   "source": [
    "# To double-check your work, the cell below will rerun all of the autograder tests.\n",
    "grader.check_all()"
   ]
  },
  {
   "cell_type": "code",
   "execution_count": 36,
   "id": "75d296ec",
   "metadata": {
    "execution": {
     "iopub.execute_input": "2022-07-20T17:14:21.125795Z",
     "iopub.status.busy": "2022-07-20T17:14:21.125423Z",
     "iopub.status.idle": "2022-07-20T17:14:21.137776Z",
     "shell.execute_reply": "2022-07-20T17:14:21.137190Z"
    }
   },
   "outputs": [],
   "source": [
    "# Save your notebook first, then run this cell to export your submission.\n",
    "grader.export(pdf=False)"
   ]
  }
 ],
 "metadata": {
  "kernelspec": {
   "display_name": "Python 3",
   "language": "python",
   "name": "python3"
  },
  "language_info": {
   "codemirror_mode": {
    "name": "ipython",
    "version": 3
   },
   "file_extension": ".py",
   "mimetype": "text/x-python",
   "name": "python",
   "nbconvert_exporter": "python",
   "pygments_lexer": "ipython3",
   "version": "3.9.7"
  },
  "course": "8x",
  "section": "2",
  "lab": "lab06"
 },
 "nbformat": 4,
 "nbformat_minor": 5
}