{
 "cells": [
  {
   "cell_type": "code",
   "execution_count": null,
   "id": "29f46940",
   "metadata": {
    "deletable": false,
    "editable": false
   },
   "outputs": [],
   "source": [
    "# Initialize Otter\n",
    "import otter\n",
    "grader = otter.Notebook(\"datascience-to-pandas.ipynb\")"
   ]
  },
  {
   "cell_type": "code",
   "execution_count": 1,
   "id": "da2bf6de",
   "metadata": {
    "collapsed": true,
    "execution": {
     "iopub.execute_input": "2022-07-25T23:46:44.036519Z",
     "iopub.status.busy": "2022-07-25T23:46:44.036037Z",
     "iopub.status.idle": "2022-07-25T23:46:46.365343Z",
     "shell.execute_reply": "2022-07-25T23:46:46.364793Z"
    }
   },
   "outputs": [],
   "source": [
    "import pandas as pd\n",
    "from datascience import *\n",
    "import numpy as np\n",
    "import matplotlib.pyplot as plt\n",
    "%matplotlib inline  "
   ]
  },
  {
   "cell_type": "markdown",
   "id": "7ed17d4c",
   "metadata": {},
   "source": [
    "## Conversion Notebook: From Data 8X's `datascience` library to Python's `pandas` library"
   ]
  },
  {
   "cell_type": "markdown",
   "id": "75265b78",
   "metadata": {},
   "source": [
    "Throughout Data 8X, we have been working a lot with the `datascience` library, a library created by faculty at UC Berkeley, specifically for this course. While this library is not used outside of this course, all of the ideas and concepts behind the library and the different functions are definitely used when dealing with data science problems in the real world. One of the common libraries used in industry is called `pandas`, and is a way to structure and analyze rectangular/tabular data. Using the `datascience` library in Data 8X is a solid stepping stone to understanding `pandas` better. Throughout this notebook, we will be going over certain concepts that we saw in the `datascience` library and showing the equivalent functions that we will use in `pandas`. The syntax and function names may be different but the underlying concepts are still the same! "
   ]
  },
  {
   "cell_type": "markdown",
   "id": "d1a4b16e",
   "metadata": {},
   "source": [
    "Above, we `import pandas as pd`, which means that any function associated with pandas should be called using `pd.function_name()`. This tells Python that we want to use the specific `function_name` from the Pandas library. In theory, we could do `import pandas as pandas` or any other name, but it is known and commonly used to import it as `pd`. We will see some examples of this later in this notebook.\n",
    "\n",
    "For reference:\n",
    "\n",
    "Datascience documentation: http://data8.org/datascience/index.html\n",
    "\n",
    "http://data8.org/fa18/python-reference.html\n",
    "\n",
    "Pandas documentation: https://pandas.pydata.org/pandas-docs/stable/dsintro.html"
   ]
  },
  {
   "cell_type": "markdown",
   "id": "ce47a643",
   "metadata": {},
   "source": [
    "### Tables and DataFrames"
   ]
  },
  {
   "cell_type": "markdown",
   "id": "ce519987",
   "metadata": {},
   "source": [
    "In `datascience`, we have something called a Table, which is a way to organize your data in a tabular format, which makes accessing rows and columns of data easier. In `pandas`, this structure is called a DataFrame. A DataFrame is the primary data structure in `pandas`. Similar to a Table, we can access different rows and columns of a DataFrame. Tables are essentially the same as DataFrames: we can do similar actions and functions with both.\n",
    "\n",
    "In the following lines of code, we create a Table and DataFrame of data by importing and reading an external [csv file](https://en.wikipedia.org/wiki/Comma-separated_values). The Table will be called `cones_table` and the DataFrame will be called `cones_df`."
   ]
  },
  {
   "cell_type": "code",
   "execution_count": 2,
   "id": "56281224",
   "metadata": {
    "collapsed": true,
    "execution": {
     "iopub.execute_input": "2022-07-25T23:46:46.369553Z",
     "iopub.status.busy": "2022-07-25T23:46:46.369206Z",
     "iopub.status.idle": "2022-07-25T23:46:47.842776Z",
     "shell.execute_reply": "2022-07-25T23:46:47.842187Z"
    }
   },
   "outputs": [],
   "source": [
    "# datascience\n",
    "cones_table = Table.read_table('cones.csv') # read the cones csv file into the notebook"
   ]
  },
  {
   "cell_type": "code",
   "execution_count": 3,
   "id": "cc718d2f",
   "metadata": {
    "collapsed": true,
    "execution": {
     "iopub.execute_input": "2022-07-25T23:46:47.848488Z",
     "iopub.status.busy": "2022-07-25T23:46:47.848192Z",
     "iopub.status.idle": "2022-07-25T23:46:47.911451Z",
     "shell.execute_reply": "2022-07-25T23:46:47.910846Z"
    }
   },
   "outputs": [],
   "source": [
    "# pandas\n",
    "cones_df = pd.read_csv('cones.csv') # read the cones csv file into the notebook"
   ]
  },
  {
   "cell_type": "code",
   "execution_count": 4,
   "id": "fb3f0d91",
   "metadata": {
    "execution": {
     "iopub.execute_input": "2022-07-25T23:46:47.914515Z",
     "iopub.status.busy": "2022-07-25T23:46:47.914290Z",
     "iopub.status.idle": "2022-07-25T23:46:47.925585Z",
     "shell.execute_reply": "2022-07-25T23:46:47.925076Z"
    }
   },
   "outputs": [],
   "source": [
    "cones_table"
   ]
  },
  {
   "cell_type": "code",
   "execution_count": 5,
   "id": "8b8e98ee",
   "metadata": {
    "execution": {
     "iopub.execute_input": "2022-07-25T23:46:47.928305Z",
     "iopub.status.busy": "2022-07-25T23:46:47.928055Z",
     "iopub.status.idle": "2022-07-25T23:46:47.938603Z",
     "shell.execute_reply": "2022-07-25T23:46:47.938140Z"
    }
   },
   "outputs": [],
   "source": [
    "cones_df"
   ]
  },
  {
   "cell_type": "markdown",
   "id": "1bf44bae",
   "metadata": {},
   "source": [
    "We see here how to import an external csv file into our current notebook using both libraries. With `pandas` `read_csv()` function, we use `pd.read_csv()` to let Python know we want to use this particular `pandas` function.\n",
    "Notice how there is an extra column of numbers in the DataFrame that results. These numbers are called the index of a DataFrame, and will be useful later in order to select different rows that we are interested in. "
   ]
  },
  {
   "cell_type": "markdown",
   "id": "368a7f69",
   "metadata": {},
   "source": [
    "In `pandas`, we have two types of objects: DataFrames and Series. Series are similar to a DataFrame except there is only one column in a Series. You can think of Series as a single column of a DataFrame. Later in this notebook, we will use Series as well as DataFrames. Series come up when we select one column of a DataFrame, apply different functions to a column, etc.\n",
    "\n",
    "You can learn more about DataFrames and Series with this [documentation](https://pandas.pydata.org/pandas-docs/stable/dsintro.html) as well."
   ]
  },
  {
   "cell_type": "markdown",
   "id": "7308a42a",
   "metadata": {},
   "source": [
    "### Make a Table/DataFrame\n",
    "If we want to create a new Table or DataFrame from scratch, we can call the respective functions and then specify the columns and the data within each column (where the data is in array/list format). Some examples from both `datascience` and `pandas` are shown below."
   ]
  },
  {
   "cell_type": "code",
   "execution_count": 6,
   "id": "1cffcd4b",
   "metadata": {
    "execution": {
     "iopub.execute_input": "2022-07-25T23:46:47.941696Z",
     "iopub.status.busy": "2022-07-25T23:46:47.941421Z",
     "iopub.status.idle": "2022-07-25T23:46:47.947180Z",
     "shell.execute_reply": "2022-07-25T23:46:47.946650Z"
    }
   },
   "outputs": [],
   "source": [
    "# datascience\n",
    "flowers = Table().with_columns(\n",
    "    'Number of petals', make_array(8, 34, 5),\n",
    "    'Name', make_array('lotus', 'sunflower', 'rose')\n",
    ") # create Table with 2 columns and 3 rows\n",
    "flowers"
   ]
  },
  {
   "cell_type": "code",
   "execution_count": 7,
   "id": "78c8636d",
   "metadata": {
    "execution": {
     "iopub.execute_input": "2022-07-25T23:46:47.950005Z",
     "iopub.status.busy": "2022-07-25T23:46:47.949766Z",
     "iopub.status.idle": "2022-07-25T23:46:47.957759Z",
     "shell.execute_reply": "2022-07-25T23:46:47.957257Z"
    }
   },
   "outputs": [],
   "source": [
    "# pandas\n",
    "flowers1 = pd.DataFrame(data = {'Number of petals': [8, 34, 5], 'Name': ['lotus', 'sunflower', 'rose']})\n",
    "flowers1 # create DataFrame with 2 columns and 3 rows"
   ]
  },
  {
   "cell_type": "markdown",
   "id": "24b5d865",
   "metadata": {},
   "source": [
    "### Select Columns\n",
    "In both `datascience` and `pandas` we can select a column or multiple columns, based on what information we want from the data. In `datascience` we use the `select()` function, while in `pandas` we use indexing."
   ]
  },
  {
   "cell_type": "code",
   "execution_count": 8,
   "id": "01fe1f6a",
   "metadata": {
    "execution": {
     "iopub.execute_input": "2022-07-25T23:46:47.960565Z",
     "iopub.status.busy": "2022-07-25T23:46:47.960303Z",
     "iopub.status.idle": "2022-07-25T23:46:47.971315Z",
     "shell.execute_reply": "2022-07-25T23:46:47.970812Z"
    }
   },
   "outputs": [],
   "source": [
    "# datascience\n",
    "# select one column\n",
    "cones_table.select(\"Color\")"
   ]
  },
  {
   "cell_type": "code",
   "execution_count": 9,
   "id": "37614205",
   "metadata": {
    "execution": {
     "iopub.execute_input": "2022-07-25T23:46:47.974122Z",
     "iopub.status.busy": "2022-07-25T23:46:47.973868Z",
     "iopub.status.idle": "2022-07-25T23:46:47.984889Z",
     "shell.execute_reply": "2022-07-25T23:46:47.984364Z"
    }
   },
   "outputs": [],
   "source": [
    "# datascience\n",
    "# select multiple columns\n",
    "cones_table.select(\"Flavor\", \"Color\")"
   ]
  },
  {
   "cell_type": "code",
   "execution_count": 10,
   "id": "1b056972",
   "metadata": {
    "execution": {
     "iopub.execute_input": "2022-07-25T23:46:47.987507Z",
     "iopub.status.busy": "2022-07-25T23:46:47.987296Z",
     "iopub.status.idle": "2022-07-25T23:46:47.997837Z",
     "shell.execute_reply": "2022-07-25T23:46:47.997356Z"
    }
   },
   "outputs": [],
   "source": [
    "# pandas\n",
    "# select one column - return Series\n",
    "cones_df[\"Color\"]"
   ]
  },
  {
   "cell_type": "code",
   "execution_count": 11,
   "id": "29e0bfe6",
   "metadata": {
    "execution": {
     "iopub.execute_input": "2022-07-25T23:46:48.000664Z",
     "iopub.status.busy": "2022-07-25T23:46:48.000416Z",
     "iopub.status.idle": "2022-07-25T23:46:48.011887Z",
     "shell.execute_reply": "2022-07-25T23:46:48.011388Z"
    }
   },
   "outputs": [],
   "source": [
    "# pandas\n",
    "# select one column - return DataFrame\n",
    "cones_df[[\"Color\"]]"
   ]
  },
  {
   "cell_type": "code",
   "execution_count": 12,
   "id": "5c32ce97",
   "metadata": {
    "execution": {
     "iopub.execute_input": "2022-07-25T23:46:48.014567Z",
     "iopub.status.busy": "2022-07-25T23:46:48.014313Z",
     "iopub.status.idle": "2022-07-25T23:46:48.025630Z",
     "shell.execute_reply": "2022-07-25T23:46:48.024881Z"
    }
   },
   "outputs": [],
   "source": [
    "# pandas\n",
    "# select a specific column\n",
    "cones_df.Color"
   ]
  },
  {
   "cell_type": "code",
   "execution_count": 13,
   "id": "dbb21fca",
   "metadata": {
    "execution": {
     "iopub.execute_input": "2022-07-25T23:46:48.030280Z",
     "iopub.status.busy": "2022-07-25T23:46:48.030044Z",
     "iopub.status.idle": "2022-07-25T23:46:48.042114Z",
     "shell.execute_reply": "2022-07-25T23:46:48.041655Z"
    }
   },
   "outputs": [],
   "source": [
    "# pandas\n",
    "# select multiple columns\n",
    "cones_df[[\"Flavor\", \"Color\"]]"
   ]
  },
  {
   "cell_type": "markdown",
   "id": "e6a918ee",
   "metadata": {},
   "source": [
    "We can also use `loc` and `iloc` to select specific columns, which we will introduce in the next section."
   ]
  },
  {
   "cell_type": "markdown",
   "id": "69d29ed0",
   "metadata": {},
   "source": [
    "### Select Rows\n",
    "In `datascience`, we use `take` in order to select certain rows, based on what row numbers we want to select (0 indexed). With selecting multiple rows, we use the concept of list slicing in order to select a sequence of rows, or even select multiple rows (if the numbers are in an array). "
   ]
  },
  {
   "cell_type": "code",
   "execution_count": 14,
   "id": "807e4ddc",
   "metadata": {
    "execution": {
     "iopub.execute_input": "2022-07-25T23:46:48.045019Z",
     "iopub.status.busy": "2022-07-25T23:46:48.044785Z",
     "iopub.status.idle": "2022-07-25T23:46:48.055620Z",
     "shell.execute_reply": "2022-07-25T23:46:48.055091Z"
    }
   },
   "outputs": [],
   "source": [
    "# datascience \n",
    "cones_table.take(2) # select the row with an index of 2"
   ]
  },
  {
   "cell_type": "code",
   "execution_count": 15,
   "id": "4d0e8cee",
   "metadata": {
    "execution": {
     "iopub.execute_input": "2022-07-25T23:46:48.058320Z",
     "iopub.status.busy": "2022-07-25T23:46:48.058078Z",
     "iopub.status.idle": "2022-07-25T23:46:48.069058Z",
     "shell.execute_reply": "2022-07-25T23:46:48.068604Z"
    }
   },
   "outputs": [],
   "source": [
    "cones_table.take(np.arange(1, 3)) # select the rows with index from 1 to 3 (not 3)"
   ]
  },
  {
   "cell_type": "code",
   "execution_count": 16,
   "id": "0e6bbfd3",
   "metadata": {
    "execution": {
     "iopub.execute_input": "2022-07-25T23:46:48.071878Z",
     "iopub.status.busy": "2022-07-25T23:46:48.071586Z",
     "iopub.status.idle": "2022-07-25T23:46:48.082634Z",
     "shell.execute_reply": "2022-07-25T23:46:48.082131Z"
    }
   },
   "outputs": [],
   "source": [
    "cones_table.take[0, 3, 4] # select the rows with index 0, 3, 4"
   ]
  },
  {
   "cell_type": "code",
   "execution_count": 17,
   "id": "c0e10f3c",
   "metadata": {
    "execution": {
     "iopub.execute_input": "2022-07-25T23:46:48.085635Z",
     "iopub.status.busy": "2022-07-25T23:46:48.085328Z",
     "iopub.status.idle": "2022-07-25T23:46:48.096504Z",
     "shell.execute_reply": "2022-07-25T23:46:48.096022Z"
    }
   },
   "outputs": [],
   "source": [
    "# pandas\n",
    "cones_df[0:3] # select the rows with index from 0 to 3 (not including 3)"
   ]
  },
  {
   "cell_type": "markdown",
   "id": "a6f81435",
   "metadata": {},
   "source": [
    "#### loc and iloc"
   ]
  },
  {
   "cell_type": "markdown",
   "id": "9aa07091",
   "metadata": {},
   "source": [
    "With `pandas`, we can use `loc` and `iloc` to select certain rows or columns from a DataFrame - all at once - making it a powerful tool. `loc` gets rows or columns with particular labels from the index. `iloc` gets rows or columns at particular positions in the index (so it only takes integers). With both of these, we index using brackets and specify which rows and columns we want to select based on `[row, column]`. Note: if we have just `:` for either row or column, this means that we select all of it (based on if it is in the row or column section of the brackets). An example is shown below."
   ]
  },
  {
   "cell_type": "code",
   "execution_count": 18,
   "id": "667c9666",
   "metadata": {
    "execution": {
     "iopub.execute_input": "2022-07-25T23:46:48.099563Z",
     "iopub.status.busy": "2022-07-25T23:46:48.099299Z",
     "iopub.status.idle": "2022-07-25T23:46:48.110568Z",
     "shell.execute_reply": "2022-07-25T23:46:48.109977Z"
    }
   },
   "outputs": [],
   "source": [
    "cones_df.loc[:,'Flavor'] # select all rows but only the column Flavor"
   ]
  },
  {
   "cell_type": "code",
   "execution_count": 19,
   "id": "a56a9945",
   "metadata": {
    "execution": {
     "iopub.execute_input": "2022-07-25T23:46:48.113367Z",
     "iopub.status.busy": "2022-07-25T23:46:48.113112Z",
     "iopub.status.idle": "2022-07-25T23:46:48.124325Z",
     "shell.execute_reply": "2022-07-25T23:46:48.123806Z"
    }
   },
   "outputs": [],
   "source": [
    "cones_df.loc[:,['Flavor', 'Color']] # select all rows but only the Flavor and Color columns"
   ]
  },
  {
   "cell_type": "code",
   "execution_count": 20,
   "id": "9f266429",
   "metadata": {
    "execution": {
     "iopub.execute_input": "2022-07-25T23:46:48.127361Z",
     "iopub.status.busy": "2022-07-25T23:46:48.126946Z",
     "iopub.status.idle": "2022-07-25T23:46:48.138908Z",
     "shell.execute_reply": "2022-07-25T23:46:48.138429Z"
    }
   },
   "outputs": [],
   "source": [
    "cones_df.iloc[1:3,0:3] # select the rows with index from 1 to 3 (not including 3) and columns in the positions of 0 to 3 (not including 3) "
   ]
  },
  {
   "cell_type": "markdown",
   "id": "dafbbb80",
   "metadata": {},
   "source": [
    "### Rename Columns"
   ]
  },
  {
   "cell_type": "markdown",
   "id": "4678f242",
   "metadata": {},
   "source": [
    "In the `datascience` package, we can rename a column or multiple columns. We may want to do this when we update a column to make the title more specific. We also need to make sure that the new column name is not the same as any other existing columns (so we do not have two columns with the same name as this will error). We do this with the `relabeled()` function. "
   ]
  },
  {
   "cell_type": "code",
   "execution_count": 21,
   "id": "e5d329a0",
   "metadata": {
    "execution": {
     "iopub.execute_input": "2022-07-25T23:46:48.141969Z",
     "iopub.status.busy": "2022-07-25T23:46:48.141705Z",
     "iopub.status.idle": "2022-07-25T23:46:48.153132Z",
     "shell.execute_reply": "2022-07-25T23:46:48.152658Z"
    }
   },
   "outputs": [],
   "source": [
    "cones_table.relabeled('Price', 'New Price') # rename the Price columns as New Price"
   ]
  },
  {
   "cell_type": "code",
   "execution_count": 22,
   "id": "54dc9f49",
   "metadata": {
    "execution": {
     "iopub.execute_input": "2022-07-25T23:46:48.155903Z",
     "iopub.status.busy": "2022-07-25T23:46:48.155688Z",
     "iopub.status.idle": "2022-07-25T23:46:48.167015Z",
     "shell.execute_reply": "2022-07-25T23:46:48.166480Z"
    }
   },
   "outputs": [],
   "source": [
    "cones_table.relabeled(['Color', 'Price'], ['Ice Cream Color', 'New Price']) # rename two columns: Color as Ice Cream Color and Price as New Price"
   ]
  },
  {
   "cell_type": "markdown",
   "id": "44f39d78",
   "metadata": {},
   "source": [
    "In `pandas` we can use a similar function called `rename()`."
   ]
  },
  {
   "cell_type": "code",
   "execution_count": 23,
   "id": "66fb264b",
   "metadata": {
    "execution": {
     "iopub.execute_input": "2022-07-25T23:46:48.169849Z",
     "iopub.status.busy": "2022-07-25T23:46:48.169627Z",
     "iopub.status.idle": "2022-07-25T23:46:48.180921Z",
     "shell.execute_reply": "2022-07-25T23:46:48.180420Z"
    }
   },
   "outputs": [],
   "source": [
    "cones_df.rename(columns={'Flavor': 'New Flavor'}) # rename the Flavor column as New Flavor"
   ]
  },
  {
   "cell_type": "code",
   "execution_count": 24,
   "id": "dda0a92e",
   "metadata": {
    "execution": {
     "iopub.execute_input": "2022-07-25T23:46:48.185992Z",
     "iopub.status.busy": "2022-07-25T23:46:48.185750Z",
     "iopub.status.idle": "2022-07-25T23:46:48.197372Z",
     "shell.execute_reply": "2022-07-25T23:46:48.196839Z"
    }
   },
   "outputs": [],
   "source": [
    "cones_df.rename(columns={'Flavor': 'New Flavor', 'Color': 'New Color'}) # rename Flavor as New Flavor and Color as New Color"
   ]
  },
  {
   "cell_type": "markdown",
   "id": "f8389872",
   "metadata": {},
   "source": [
    "### Where/Filtering"
   ]
  },
  {
   "cell_type": "markdown",
   "id": "35afcb16",
   "metadata": {},
   "source": [
    "In `datascience` there is a function called `where` which creates a copy of a table with only the rows that match some condition. To filter out a DataFrame by its contents in `pandas`, we need to use boolean (`True` or `False`) expressions in order to select the rows we want to keep."
   ]
  },
  {
   "cell_type": "code",
   "execution_count": 25,
   "id": "b685c4d2",
   "metadata": {
    "execution": {
     "iopub.execute_input": "2022-07-25T23:46:48.200533Z",
     "iopub.status.busy": "2022-07-25T23:46:48.200309Z",
     "iopub.status.idle": "2022-07-25T23:46:48.211501Z",
     "shell.execute_reply": "2022-07-25T23:46:48.210941Z"
    }
   },
   "outputs": [],
   "source": [
    "# datascience\n",
    "cones_table.where(\"Price\", are.above(4)) # select/filter rows so the Price is above 4"
   ]
  },
  {
   "cell_type": "markdown",
   "id": "12e3d1b0",
   "metadata": {},
   "source": [
    "We want to keep the rows that have a price that is greater than 4. We can first create a boolean array, which will assign a `True` or `False` value to each row based on if it satisfies the condition we give it. We can then index this array into our original array and only the values that are `True` will be returned in a DataFrame.\n"
   ]
  },
  {
   "cell_type": "code",
   "execution_count": 26,
   "id": "0db9d20e",
   "metadata": {
    "execution": {
     "iopub.execute_input": "2022-07-25T23:46:48.214367Z",
     "iopub.status.busy": "2022-07-25T23:46:48.214150Z",
     "iopub.status.idle": "2022-07-25T23:46:48.225277Z",
     "shell.execute_reply": "2022-07-25T23:46:48.224799Z"
    }
   },
   "outputs": [],
   "source": [
    "# pandas\n",
    "boolean_array = cones_df[\"Price\"] > 4 # create a boolean array saying if the Price is greater than 4\n",
    "boolean_array"
   ]
  },
  {
   "cell_type": "code",
   "execution_count": 27,
   "id": "3f3238a4",
   "metadata": {
    "execution": {
     "iopub.execute_input": "2022-07-25T23:46:48.227995Z",
     "iopub.status.busy": "2022-07-25T23:46:48.227785Z",
     "iopub.status.idle": "2022-07-25T23:46:48.238420Z",
     "shell.execute_reply": "2022-07-25T23:46:48.237941Z"
    }
   },
   "outputs": [],
   "source": [
    "cones_df[boolean_array] # apply boolean array to DataFrame and filter the rows"
   ]
  },
  {
   "cell_type": "markdown",
   "id": "8874352b",
   "metadata": {},
   "source": [
    "We can also do this all in one step as shown below."
   ]
  },
  {
   "cell_type": "code",
   "execution_count": 28,
   "id": "981b2d9d",
   "metadata": {
    "execution": {
     "iopub.execute_input": "2022-07-25T23:46:48.241292Z",
     "iopub.status.busy": "2022-07-25T23:46:48.241050Z",
     "iopub.status.idle": "2022-07-25T23:46:48.253364Z",
     "shell.execute_reply": "2022-07-25T23:46:48.252877Z"
    }
   },
   "outputs": [],
   "source": [
    "cones_df[cones_df[\"Price\"] > 4] # filter the DataFrame based on Price greater than 4"
   ]
  },
  {
   "cell_type": "markdown",
   "id": "eac2fc5f",
   "metadata": {},
   "source": [
    "Sometimes we want to filter by multiple different conditions. In `pandas` we can do this using parentheses and a symbol indicating if we want both conditions to be satisfied (and) or at least one to be satisfied (or). The format is: \n",
    "\n",
    "`df[(condition1) & (condition2)]`\n",
    "\n",
    "or \n",
    "\n",
    "`df[(condition1) | (condition2)]`\n",
    "\n",
    "Note: `&` is different from `and` \n",
    "also `|` is different from `or`."
   ]
  },
  {
   "cell_type": "code",
   "execution_count": 29,
   "id": "f12177e4",
   "metadata": {
    "execution": {
     "iopub.execute_input": "2022-07-25T23:46:48.256242Z",
     "iopub.status.busy": "2022-07-25T23:46:48.256006Z",
     "iopub.status.idle": "2022-07-25T23:46:48.267539Z",
     "shell.execute_reply": "2022-07-25T23:46:48.266992Z"
    }
   },
   "outputs": [],
   "source": [
    "cones_df[(cones_df[\"Price\"] > 4) & (cones_df[\"Price\"] < 5)] # filter the DataFrame based on Price greater than 4 and less than 5"
   ]
  },
  {
   "cell_type": "markdown",
   "id": "ae40a0fc",
   "metadata": {},
   "source": [
    "### Sort, Group, Pivot\n",
    "#### Sort\n",
    "We can sort values similarly in Tables and DataFrames - using a function and what column we want to sort by."
   ]
  },
  {
   "cell_type": "code",
   "execution_count": 30,
   "id": "83b92b47",
   "metadata": {
    "execution": {
     "iopub.execute_input": "2022-07-25T23:46:48.270564Z",
     "iopub.status.busy": "2022-07-25T23:46:48.270325Z",
     "iopub.status.idle": "2022-07-25T23:46:48.281176Z",
     "shell.execute_reply": "2022-07-25T23:46:48.280675Z"
    }
   },
   "outputs": [],
   "source": [
    "# datascience\n",
    "cones_table.sort('Price') # sort the table by Price column"
   ]
  },
  {
   "cell_type": "code",
   "execution_count": 31,
   "id": "dfe0d54e",
   "metadata": {
    "execution": {
     "iopub.execute_input": "2022-07-25T23:46:48.283754Z",
     "iopub.status.busy": "2022-07-25T23:46:48.283543Z",
     "iopub.status.idle": "2022-07-25T23:46:48.294233Z",
     "shell.execute_reply": "2022-07-25T23:46:48.293722Z"
    }
   },
   "outputs": [],
   "source": [
    "# pandas\n",
    "cones_df.sort_values('Price') # sort DataFrame by Price column"
   ]
  },
  {
   "cell_type": "markdown",
   "id": "bb931cfe",
   "metadata": {},
   "source": [
    "If we want to specify whether we sort in ascending order or descending order. In `datascience` we can do this with the `descending` parameter, and sending it equal to `True` or `False`. In `pandas` we can use the `ascending` parameter and set this equal to `True` or `False`. By default, the column sorts in ascending order.\n",
    "\n",
    "#### Group \n",
    "In both `datascience` and `pandas` we can use group functions that allow us to group records of our data into buckets. You can think of group by as splitting the dataset data into buckets. Then you can call \"aggregate\" functions (`mean`, `sum`, `max`, `min`, etc) on these buckets to find these values per bucket (which can lead to interesting analysis)!\n",
    "\n",
    "Let's say that we want to group by flavor of ice cream and see what the total sum is."
   ]
  },
  {
   "cell_type": "code",
   "execution_count": 32,
   "id": "83c1e6d1",
   "metadata": {
    "execution": {
     "iopub.execute_input": "2022-07-25T23:46:48.297235Z",
     "iopub.status.busy": "2022-07-25T23:46:48.296982Z",
     "iopub.status.idle": "2022-07-25T23:46:48.308546Z",
     "shell.execute_reply": "2022-07-25T23:46:48.308065Z"
    }
   },
   "outputs": [],
   "source": [
    "# datascience\n",
    "cones_table.select(['Flavor', 'Price']).group('Flavor', collect=sum) # select the Flavor and Price columns and then group by Flavor and find the sum price per flavor"
   ]
  },
  {
   "cell_type": "code",
   "execution_count": 33,
   "id": "6b0017b9",
   "metadata": {
    "execution": {
     "iopub.execute_input": "2022-07-25T23:46:48.311259Z",
     "iopub.status.busy": "2022-07-25T23:46:48.311046Z",
     "iopub.status.idle": "2022-07-25T23:46:48.322358Z",
     "shell.execute_reply": "2022-07-25T23:46:48.321844Z"
    }
   },
   "outputs": [],
   "source": [
    "# pandas\n",
    "cones_df[['Flavor', 'Price']].groupby('Flavor').sum() # select the Flavor and Price columns and then group by Flavor and find the sum price per flavor"
   ]
  },
  {
   "cell_type": "markdown",
   "id": "cc4eae99",
   "metadata": {},
   "source": [
    "#### Pivot\n",
    "We can create pivot tables in both `datascience` and `pandas` using different functions and specifying columns, index, values, and the collect/aggregate function acting on the values. "
   ]
  },
  {
   "cell_type": "code",
   "execution_count": 34,
   "id": "aece47f0",
   "metadata": {
    "execution": {
     "iopub.execute_input": "2022-07-25T23:46:48.325195Z",
     "iopub.status.busy": "2022-07-25T23:46:48.324970Z",
     "iopub.status.idle": "2022-07-25T23:46:48.336475Z",
     "shell.execute_reply": "2022-07-25T23:46:48.335954Z"
    }
   },
   "outputs": [],
   "source": [
    "# datascience\n",
    "cones_table.pivot(columns = 'Flavor', rows = 'Color', values = 'Price', collect=sum) # create a pivot table with Flavors and Color and sum prices for corresponding entries"
   ]
  },
  {
   "cell_type": "code",
   "execution_count": 35,
   "id": "87e3452a",
   "metadata": {
    "execution": {
     "iopub.execute_input": "2022-07-25T23:46:48.341696Z",
     "iopub.status.busy": "2022-07-25T23:46:48.341432Z",
     "iopub.status.idle": "2022-07-25T23:46:48.353436Z",
     "shell.execute_reply": "2022-07-25T23:46:48.352796Z"
    }
   },
   "outputs": [],
   "source": [
    "# pandas\n",
    "cones_df.pivot_table(values='Price', index=['Color'], columns=['Flavor'], aggfunc=sum) # create a pivot table with Flavors and Color and sum prices for corresponding entries"
   ]
  },
  {
   "cell_type": "markdown",
   "id": "cbe4f732",
   "metadata": {},
   "source": [
    "Note: We have `NaN` as values in our above table because `pandas` cannot find appropriate values for those specific combinations of rows and columns. If we want to replace these values with 0, we can use `fillna(0)` on the resulting pivot table. \n",
    "\n",
    "Don't be alarmed by these `NaN` values! This is something to note about real data, often times the data is not cleaned already and null values are very common. They may even be important in your exploration of the data, the number of null values you have and where they occur could be important!"
   ]
  },
  {
   "cell_type": "markdown",
   "id": "d7d7466c",
   "metadata": {},
   "source": [
    "### Visualizing Data\n",
    "For the purpose of representing and showing how to plot different visualizations, we will now create another Table/DataFrame."
   ]
  },
  {
   "cell_type": "code",
   "execution_count": 36,
   "id": "d54e6da0",
   "metadata": {
    "execution": {
     "iopub.execute_input": "2022-07-25T23:46:48.357517Z",
     "iopub.status.busy": "2022-07-25T23:46:48.357229Z",
     "iopub.status.idle": "2022-07-25T23:46:48.362221Z",
     "shell.execute_reply": "2022-07-25T23:46:48.361731Z"
    }
   },
   "outputs": [],
   "source": [
    "normal_data_table = Table().with_columns(['data1', np.random.normal(loc = 1, scale = 2, size = 100), 'data2', np.random.normal(loc = 4, scale = 3, size = 100)])\n",
    "normal_data_table"
   ]
  },
  {
   "cell_type": "code",
   "execution_count": 37,
   "id": "a9af76e7",
   "metadata": {
    "execution": {
     "iopub.execute_input": "2022-07-25T23:46:48.364923Z",
     "iopub.status.busy": "2022-07-25T23:46:48.364695Z",
     "iopub.status.idle": "2022-07-25T23:46:48.371934Z",
     "shell.execute_reply": "2022-07-25T23:46:48.371427Z"
    }
   },
   "outputs": [],
   "source": [
    "normal_data_df = pd.DataFrame(data = {'data1': np.random.normal(loc = 1, scale = 2, size = 100), 'data2': np.random.normal(loc = 4, scale = 3, size = 100)})\n",
    "normal_data_df.head(10)"
   ]
  },
  {
   "cell_type": "markdown",
   "id": "18592589",
   "metadata": {},
   "source": [
    "#### Histograms\n",
    "`datascience` histograms: http://data8.org/datascience/_autosummary/datascience.tables.Table.hist.html\n",
    "\n",
    "`pandas` histograms: https://pandas.pydata.org/pandas-docs/version/0.23/generated/pandas.DataFrame.hist.html"
   ]
  },
  {
   "cell_type": "code",
   "execution_count": 38,
   "id": "2e054d5f",
   "metadata": {
    "execution": {
     "iopub.execute_input": "2022-07-25T23:46:48.374936Z",
     "iopub.status.busy": "2022-07-25T23:46:48.374589Z",
     "iopub.status.idle": "2022-07-25T23:46:48.469291Z",
     "shell.execute_reply": "2022-07-25T23:46:48.468686Z"
    }
   },
   "outputs": [],
   "source": [
    "# datascience\n",
    "new = normal_data_table.select('data1') # create histogram of data1\n",
    "new.hist()"
   ]
  },
  {
   "cell_type": "code",
   "execution_count": 39,
   "id": "9e10b42f",
   "metadata": {
    "execution": {
     "iopub.execute_input": "2022-07-25T23:46:48.472234Z",
     "iopub.status.busy": "2022-07-25T23:46:48.471982Z",
     "iopub.status.idle": "2022-07-25T23:46:48.564313Z",
     "shell.execute_reply": "2022-07-25T23:46:48.563615Z"
    }
   },
   "outputs": [],
   "source": [
    "# pandas\n",
    "new = normal_data_df[[\"data1\"]] # create histogram of data1\n",
    "new.hist();"
   ]
  },
  {
   "cell_type": "markdown",
   "id": "d8e74ef4",
   "metadata": {},
   "source": [
    "#### Scatterplots\n",
    "`datascience` scatterplots: http://data8.org/datascience/_autosummary/datascience.tables.Table.scatter.html\n",
    "\n",
    "`pandas` scatterplots: https://pandas.pydata.org/pandas-docs/stable/generated/pandas.DataFrame.plot.scatter.html"
   ]
  },
  {
   "cell_type": "code",
   "execution_count": 40,
   "id": "4528bb9e",
   "metadata": {
    "execution": {
     "iopub.execute_input": "2022-07-25T23:46:48.567808Z",
     "iopub.status.busy": "2022-07-25T23:46:48.567543Z",
     "iopub.status.idle": "2022-07-25T23:46:48.655955Z",
     "shell.execute_reply": "2022-07-25T23:46:48.655187Z"
    }
   },
   "outputs": [],
   "source": [
    "# datascience\n",
    "normal_data_table.scatter('data1') # create scatterplot of data1 vs data2"
   ]
  },
  {
   "cell_type": "code",
   "execution_count": 41,
   "id": "8f0cc561",
   "metadata": {
    "execution": {
     "iopub.execute_input": "2022-07-25T23:46:48.658994Z",
     "iopub.status.busy": "2022-07-25T23:46:48.658766Z",
     "iopub.status.idle": "2022-07-25T23:46:48.741748Z",
     "shell.execute_reply": "2022-07-25T23:46:48.741046Z"
    }
   },
   "outputs": [],
   "source": [
    "# pandas\n",
    "normal_data_df.plot.scatter(x = 'data1', y = 'data2'); # create scatterplot of data1 vs data2"
   ]
  },
  {
   "cell_type": "markdown",
   "id": "31b2ab50",
   "metadata": {},
   "source": [
    "#### Barplots\n",
    "`datascience` barplots: http://data8.org/datascience/_autosummary/datascience.tables.Table.barh.html\n",
    "\n",
    "`pandas` barplots: https://pandas.pydata.org/pandas-docs/version/0.23/generated/pandas.DataFrame.plot.bar.html"
   ]
  },
  {
   "cell_type": "code",
   "execution_count": 42,
   "id": "3729f0b7",
   "metadata": {
    "execution": {
     "iopub.execute_input": "2022-07-25T23:46:48.745063Z",
     "iopub.status.busy": "2022-07-25T23:46:48.744822Z",
     "iopub.status.idle": "2022-07-25T23:46:48.823797Z",
     "shell.execute_reply": "2022-07-25T23:46:48.823055Z"
    }
   },
   "outputs": [],
   "source": [
    "# datascience\n",
    "t = Table().with_columns('Furniture', make_array('chairs', 'tables', 'desks'), 'Count', make_array(6, 1, 2), 'Price', make_array(10, 20, 30)) # barplot of count and price of different furnitures\n",
    "t.barh('Furniture')"
   ]
  },
  {
   "cell_type": "code",
   "execution_count": 43,
   "id": "8eb5abcf",
   "metadata": {
    "execution": {
     "iopub.execute_input": "2022-07-25T23:46:48.826916Z",
     "iopub.status.busy": "2022-07-25T23:46:48.826685Z",
     "iopub.status.idle": "2022-07-25T23:46:48.909209Z",
     "shell.execute_reply": "2022-07-25T23:46:48.908563Z"
    }
   },
   "outputs": [],
   "source": [
    "# pandas\n",
    "df = pd.DataFrame(data = {'Furniture': ['chairs', 'tables', 'desks'], 'Count': [6, 1, 2], 'Price': [10, 20, 30]})\n",
    "df.plot.barh('Furniture'); # barplot of count and price of different furnitures"
   ]
  },
  {
   "cell_type": "markdown",
   "id": "4d17be25",
   "metadata": {},
   "source": [
    "For all of the plots above, there are many different parameters you can play around with (color, size, orientation, figure size, axis labels, title, etc). Above are the basic implementations of these graphs but we recommend looking through the documentation and seeing how you can change different aspects of it. Try using the DataFrame given and plotting a different graph!"
   ]
  },
  {
   "cell_type": "markdown",
   "id": "895811ac",
   "metadata": {},
   "source": [
    "### Export to CSV"
   ]
  },
  {
   "cell_type": "markdown",
   "id": "f92f1e7c",
   "metadata": {},
   "source": [
    "When we want to convert a Table to a csv file, we first need to convert it to a DataFrame and then to a csv file. In `pandas`, we can get rid of this intermediate step because we already have a DataFrame!"
   ]
  },
  {
   "cell_type": "code",
   "execution_count": 44,
   "id": "c58a88c6",
   "metadata": {
    "collapsed": true,
    "execution": {
     "iopub.execute_input": "2022-07-25T23:46:48.912708Z",
     "iopub.status.busy": "2022-07-25T23:46:48.912471Z",
     "iopub.status.idle": "2022-07-25T23:46:48.925583Z",
     "shell.execute_reply": "2022-07-25T23:46:48.924479Z"
    }
   },
   "outputs": [],
   "source": [
    "cones_table.to_df().to_csv('cones_datascience.csv', index = False)"
   ]
  },
  {
   "cell_type": "code",
   "execution_count": 45,
   "id": "5eb80149",
   "metadata": {
    "collapsed": true,
    "execution": {
     "iopub.execute_input": "2022-07-25T23:46:48.928594Z",
     "iopub.status.busy": "2022-07-25T23:46:48.928355Z",
     "iopub.status.idle": "2022-07-25T23:46:48.939679Z",
     "shell.execute_reply": "2022-07-25T23:46:48.939167Z"
    }
   },
   "outputs": [],
   "source": [
    "cones_df.to_csv('cones_dataframe.csv', index = False)"
   ]
  },
  {
   "cell_type": "markdown",
   "id": "f6f98f28",
   "metadata": {},
   "source": [
    "### Calculate the number of columns\n",
    "In `datascience`, calculating the number of columns (or rows) requires a simple call using our Table, either `num_columns` or `num_rows`. With `pandas`, there are two ways to get the number of columns and rows. The `len` function can be used on a part of the DataFrame, or the `shape` function can be used. The `shape` function returns both the number of rows and the number of columns so based on what we want, we will have to select it using indexing. "
   ]
  },
  {
   "cell_type": "code",
   "execution_count": 46,
   "id": "571c21dc",
   "metadata": {
    "execution": {
     "iopub.execute_input": "2022-07-25T23:46:48.945229Z",
     "iopub.status.busy": "2022-07-25T23:46:48.944992Z",
     "iopub.status.idle": "2022-07-25T23:46:48.956093Z",
     "shell.execute_reply": "2022-07-25T23:46:48.955542Z"
    }
   },
   "outputs": [],
   "source": [
    "# datascience\n",
    "cones_table.num_columns"
   ]
  },
  {
   "cell_type": "code",
   "execution_count": 47,
   "id": "bb18a87f",
   "metadata": {
    "execution": {
     "iopub.execute_input": "2022-07-25T23:46:48.959229Z",
     "iopub.status.busy": "2022-07-25T23:46:48.958993Z",
     "iopub.status.idle": "2022-07-25T23:46:48.970087Z",
     "shell.execute_reply": "2022-07-25T23:46:48.969623Z"
    }
   },
   "outputs": [],
   "source": [
    "# pandas\n",
    "len(cones_df.columns) # find the length of the list of column names\n",
    "# or\n",
    "cones_df.shape[1] # select the column part of shape"
   ]
  },
  {
   "cell_type": "markdown",
   "id": "5034ad7c",
   "metadata": {},
   "source": [
    "### Calculate the number of rows"
   ]
  },
  {
   "cell_type": "code",
   "execution_count": 48,
   "id": "d15691e7",
   "metadata": {
    "execution": {
     "iopub.execute_input": "2022-07-25T23:46:48.973072Z",
     "iopub.status.busy": "2022-07-25T23:46:48.972837Z",
     "iopub.status.idle": "2022-07-25T23:46:48.983168Z",
     "shell.execute_reply": "2022-07-25T23:46:48.982715Z"
    }
   },
   "outputs": [],
   "source": [
    "# datascience\n",
    "cones_table.num_rows"
   ]
  },
  {
   "cell_type": "code",
   "execution_count": 49,
   "id": "f2305a3f",
   "metadata": {
    "execution": {
     "iopub.execute_input": "2022-07-25T23:46:48.985917Z",
     "iopub.status.busy": "2022-07-25T23:46:48.985663Z",
     "iopub.status.idle": "2022-07-25T23:46:48.996939Z",
     "shell.execute_reply": "2022-07-25T23:46:48.996443Z"
    }
   },
   "outputs": [],
   "source": [
    "# pandas\n",
    "len(cones_df) # number of rows in the DataFrame\n",
    "# or\n",
    "cones_df.shape[0] # select the row part of shape"
   ]
  },
  {
   "cell_type": "markdown",
   "id": "722cf753",
   "metadata": {},
   "source": [
    "### Apply\n",
    "In both libraries, we have a function called `apply`, which we use to apply a function on a certain column and all its elements. Note: in `pandas`, apply works on a Series (since this is essentially a single column of a DataFrame)."
   ]
  },
  {
   "cell_type": "code",
   "execution_count": 50,
   "id": "ff0ff7f9",
   "metadata": {
    "execution": {
     "iopub.execute_input": "2022-07-25T23:46:48.999854Z",
     "iopub.status.busy": "2022-07-25T23:46:48.999594Z",
     "iopub.status.idle": "2022-07-25T23:46:49.011189Z",
     "shell.execute_reply": "2022-07-25T23:46:49.010657Z"
    }
   },
   "outputs": [],
   "source": [
    "# datascience\n",
    "cones_table.apply(round, \"Price\") # apply the round function to the column Price"
   ]
  },
  {
   "cell_type": "code",
   "execution_count": 51,
   "id": "45e82808",
   "metadata": {
    "execution": {
     "iopub.execute_input": "2022-07-25T23:46:49.014191Z",
     "iopub.status.busy": "2022-07-25T23:46:49.013818Z",
     "iopub.status.idle": "2022-07-25T23:46:49.026576Z",
     "shell.execute_reply": "2022-07-25T23:46:49.025919Z"
    }
   },
   "outputs": [],
   "source": [
    "# pandas\n",
    "cones_df[\"Price\"].apply(round, \"Price\") # apply the round function to the column Price"
   ]
  },
  {
   "cell_type": "markdown",
   "id": "371a9013",
   "metadata": {},
   "source": [
    "Above we see that we get the rounded up prices returned to us. If we wanted to change the column in the original Table/DataFrame, we would set the expression above equal to the column/series so that the change is made and saved in the original.\n",
    "\n",
    "For example:\n",
    "\n",
    "`\n",
    "cones_table = cones_table.apply(round, \"Price\")\n",
    "`\n",
    "\n",
    "or\n",
    "\n",
    "`\n",
    "cones_df[\"Price\"] = cones_df[\"Price\"].apply(round, \"Price\")\n",
    "`"
   ]
  },
  {
   "cell_type": "markdown",
   "id": "442c8c8c",
   "metadata": {},
   "source": [
    "### Joining\n",
    "Joins are useful when we want to combine two or more tables together, so we can do analysis on all of the tables. In `datascience`, we can use `join` and in `pandas` we can use `merge`. With both we need the information of the two tables and how we are joining on them (the appropriate columns). "
   ]
  },
  {
   "cell_type": "code",
   "execution_count": 52,
   "id": "74d08efa",
   "metadata": {
    "execution": {
     "iopub.execute_input": "2022-07-25T23:46:49.029774Z",
     "iopub.status.busy": "2022-07-25T23:46:49.029505Z",
     "iopub.status.idle": "2022-07-25T23:46:49.036510Z",
     "shell.execute_reply": "2022-07-25T23:46:49.035973Z"
    }
   },
   "outputs": [],
   "source": [
    "# datascience\n",
    "table = Table().with_columns('first', make_array('i', 'c', 'c', 'a'), 'second', make_array('a', 'b', 'b', 'j'), 'third', make_array('c', 'd', 'e', 'f'))\n",
    "table2 = Table().with_columns( 'another', make_array('i', 'a', 'a', 'a'), 'fourth', make_array('a', 'b', 'b', 'j'), 'fifth', make_array('c', 'd', 'e', 'f'))\n",
    "print(table)\n",
    "print()\n",
    "print(table2)\n",
    "table.join('first', table2, 'fourth') # join table and table 2 together so columns first and fourth match values"
   ]
  },
  {
   "cell_type": "markdown",
   "id": "fc98038e",
   "metadata": {},
   "source": [
    "In the above code block, we create two different tables. When we call the `join()` function on these two tables, we take the cross product of the rows of both tables (every combination of rows that could happen between both tables) and then filter this out based on the columns we specify that need to be the same. In this case we have row `first` from the first table and row `fourth` from the second table, therefore we can only keep rows that have a value in `first` from the first table and `fourth` from the second table that are the same. In our example, the similar value is `first` and `fourth` is the value `a` (we see it in the last row of the `first` column and the first row of the `fourth` column). We then look at the values in these two rows and create a table with the values. Similarly, we can replicate this in `pandas`:"
   ]
  },
  {
   "cell_type": "code",
   "execution_count": 53,
   "id": "7ce792cd",
   "metadata": {
    "execution": {
     "iopub.execute_input": "2022-07-25T23:46:49.040241Z",
     "iopub.status.busy": "2022-07-25T23:46:49.039968Z",
     "iopub.status.idle": "2022-07-25T23:46:49.051926Z",
     "shell.execute_reply": "2022-07-25T23:46:49.051382Z"
    }
   },
   "outputs": [],
   "source": [
    "df = pd.DataFrame(data = {'first': ['i', 'c', 'c', 'a'], 'second': ['a', 'b', 'b', 'j'], 'third': ['c', 'd', 'e', 'f']})\n",
    "df2 = pd.DataFrame(data = {'another': ['i', 'a', 'a', 'a'], 'fourth': ['a', 'b', 'b', 'j'], 'fifth': ['c', 'd', 'e', 'f']})\n",
    "print(df)\n",
    "print()\n",
    "print(df2)\n",
    "df.merge(df2, left_on = 'first', right_on = 'fourth', how = \"inner\") # merge df and df2 using an inner join using columns first and fourth"
   ]
  },
  {
   "cell_type": "markdown",
   "id": "b9210c7a",
   "metadata": {},
   "source": [
    "In the `pandas` code above, we have an extra argument that we need to specify: how. There are many types of joins that we can do with data. In `datascience`, the only option we can do is an inner join, but in `pandas`, we have the option to do inner, left, right, outer joins. For more information about these types of joins, check out this page: http://pandas.pydata.org/pandas-docs/version/0.19.1/generated/pandas.DataFrame.merge.html"
   ]
  },
  {
   "cell_type": "markdown",
   "id": "5bdb9edd",
   "metadata": {},
   "source": [
    "### Reading `pandas` Documentation\n",
    "There are many more functions and methods you can call with `pandas` to do more cool things with Series and DataFrames. One way to learn more about this is by looking through the `pandas` documentation. The documentation has all the different functions associated with `pandas`, and descriptions about what they do, how you use them, and some examples. \n",
    "\n",
    "Some tips for reading through the documentation:\n",
    "* For various functions there are LOTS of different parameters that you can call, usually there are only a few that are important (usually related to the data you are working with and specifying how to run the functions). There are some parameters that are optional and you do not have to specify (automatically Pandas will use default settings for these functions). For example, for joins, an inner join is the default setting but if needed, you can say you want to do an outer join etc.\n",
    "* Another useful parameter is the `inplace` parameter. When set to true, the data is renamed/the function is run in place (a copy of the new data with the function applied is NOT created)\n",
    "* For quick lookup for a specific function: in Jupyter you can put your cursor on a Pandas function and press Shift + Tab in order to see part of the documentation. Based on how many times you press the Tab, it will show you the header of the function (how you would call it and parameters) and a description of the function overall and a description of the parameters."
   ]
  },
  {
   "cell_type": "markdown",
   "id": "1cb1a6be",
   "metadata": {},
   "source": [
    "---"
   ]
  },
  {
   "cell_type": "markdown",
   "id": "1d0b530a",
   "metadata": {},
   "source": [
    "## Finishing up\n",
    "\n",
    "**Important submission information:** \n",
    "- Be sure to run the tests and verify that they all pass by running the `grader.check_all()` cell below,\n",
    "- Save your progress by choosing the **Save and Checkpoint** item in the **File** menu, \n",
    "- Submit your work by clicking the **Submit** button in the toolbar at the top of notebook. \n",
    "- Download a zip file of this notebook by running the last cell below. **Note:** Be sure to run all the tests before exporting so that all images/graphs appear in the exported notebook. \n",
    "\n",
    "**Please save before submitting!**"
   ]
  },
  {
   "cell_type": "code",
   "execution_count": 54,
   "id": "ed8e9423",
   "metadata": {
    "execution": {
     "iopub.execute_input": "2022-07-25T23:46:49.055630Z",
     "iopub.status.busy": "2022-07-25T23:46:49.055397Z",
     "iopub.status.idle": "2022-07-25T23:46:49.066696Z",
     "shell.execute_reply": "2022-07-25T23:46:49.066075Z"
    }
   },
   "outputs": [],
   "source": [
    "# To double-check your work, the cell below will rerun all of the autograder tests.\n",
    "grader.check_all()"
   ]
  },
  {
   "cell_type": "code",
   "execution_count": 55,
   "id": "1415cda0",
   "metadata": {
    "execution": {
     "iopub.execute_input": "2022-07-25T23:46:49.069509Z",
     "iopub.status.busy": "2022-07-25T23:46:49.069257Z",
     "iopub.status.idle": "2022-07-25T23:46:49.080024Z",
     "shell.execute_reply": "2022-07-25T23:46:49.079498Z"
    }
   },
   "outputs": [],
   "source": [
    "# Save your notebook first, then run this cell to export your submission.\n",
    "grader.export(pdf=False)"
   ]
  }
 ],
 "metadata": {
  "kernelspec": {
   "display_name": "Python 3",
   "language": "python",
   "name": "python3"
  },
  "language_info": {
   "codemirror_mode": {
    "name": "ipython",
    "version": 3
   },
   "file_extension": ".py",
   "mimetype": "text/x-python",
   "name": "python",
   "nbconvert_exporter": "python",
   "pygments_lexer": "ipython3",
   "version": "3.9.7"
  },
  "course": "8x",
  "section": "reference",
  "lab": "datascience-to-pandas"
 },
 "nbformat": 4,
 "nbformat_minor": 5
}