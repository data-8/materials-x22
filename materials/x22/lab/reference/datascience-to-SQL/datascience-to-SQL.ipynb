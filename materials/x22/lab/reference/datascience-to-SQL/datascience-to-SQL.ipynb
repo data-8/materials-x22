{
 "cells": [
  {
   "cell_type": "code",
   "execution_count": null,
   "metadata": {
    "deletable": false,
    "editable": false
   },
   "outputs": [],
   "source": [
    "# Initialize Otter\n",
    "import otter\n",
    "grader = otter.Notebook(\"datascience-to-SQL.ipynb\")"
   ]
  },
  {
   "cell_type": "markdown",
   "metadata": {},
   "source": [
    "## Conversion Notebook: From Data 8X's `datascience` library to SQL\n",
    "\n",
    "You have now learned how to think computationally, how to express your thoughts in a modern programming language, Python, clearly and succinctly, and how to apply this knowledge to various tasks in Data Science.  In doing so, you have come to understand what it means to *interpret* a program.  The Python interpreter is a piece of software that executes - i.e., interprets - python programs.\n",
    "\n",
    "In this notebook, we are going to build upon the concepts taught in Data 8X and utilize your understanding of `Table`s to have an intro crash course to learn a language called SQL. SQL is a language that relates to databases - most databases use SQL to query.  Formally, it performs operations defined in relational algebra. \n",
    "\n",
    "SQL is one of the most commonly used database languages. Many companies and businesses use SQL as a way to access and manipulate the data that is stored in their databases. \n",
    "\n",
    "SQL is a **declarative** language which means that you say *what* you want, not *how* to get it. We will be writing SQL queries to describe the table we want to output. This is different to Python for example, where we write code that explains how to get something. SQL queries describe the output of what we want. \n",
    "\n",
    "We will use a particular relational database management system, sqlite3, which actually stores the database in a conventional file."
   ]
  },
  {
   "cell_type": "code",
   "execution_count": 1,
   "metadata": {
    "collapsed": true,
    "execution": {
     "iopub.execute_input": "2022-07-26T21:58:07.255545Z",
     "iopub.status.busy": "2022-07-26T21:58:07.254830Z",
     "iopub.status.idle": "2022-07-26T21:58:08.524552Z",
     "shell.execute_reply": "2022-07-26T21:58:08.522789Z"
    }
   },
   "outputs": [],
   "source": [
    "from datascience import *\n",
    "import numpy as np\n",
    "\n",
    "%matplotlib inline\n",
    "import matplotlib.pyplot as plots\n",
    "plots.style.use('fivethirtyeight')"
   ]
  },
  {
   "cell_type": "markdown",
   "metadata": {},
   "source": [
    "## SQL Query Syntax \n",
    "\n",
    "The main syntax of the SQL language consists of one very long statement.\n",
    "\n",
    "```\n",
    "SELECT [DISTINCT] <column expression list>\n",
    "   FROM <table>\n",
    "   [WHERE <predicate>]\n",
    "   [GROUP BY <column list>]\n",
    "   [HAVING <predicate>]\n",
    "   [ORDER BY <column list>]\n",
    "   [LIMIT <integer>];\n",
    "```\n",
    "\n",
    "In SQL, queries and subqueries produce a new table, as do most `Table` methods.\n",
    "\n",
    "Here's a pretty [good reference](https://www.dofactory.com/sql/syntax).  There are lots of them out there. [Here's another](http://www.zentut.com/sql-tutorial/).\n",
    "\n",
    "SQL keywords (SELECT, FROM, WHERE, etc in the query template above) are case insensitive, but convention is to use uppercase for clarity.  Column names and text values are case sensitive.\n",
    "\n",
    "For students who have come through Data8, the datascience package is very similar to SQL in terms of syntax and logic to SQL.\n",
    "\n",
    "Let's start with a `Table` example."
   ]
  },
  {
   "cell_type": "code",
   "execution_count": 2,
   "metadata": {
    "execution": {
     "iopub.execute_input": "2022-07-26T21:58:08.528992Z",
     "iopub.status.busy": "2022-07-26T21:58:08.528630Z",
     "iopub.status.idle": "2022-07-26T21:58:08.535540Z",
     "shell.execute_reply": "2022-07-26T21:58:08.535051Z"
    }
   },
   "outputs": [],
   "source": [
    "# Table constructor method\n",
    "\n",
    "# An example of creating a Table from a list of rows.\n",
    "Table([\"Flavor\",\"Color\",\"Price\"]).with_rows([\n",
    "    ('strawberry','pink', 3.55),\n",
    "    ('chocolate','light brown', 4.75),\n",
    "    ('chocolate','dark brown', 5.25),\n",
    "    ('strawberry','pink',5.25),\n",
    "    ('bubblegum','pink',4.75),\n",
    "    ('chocolate','dark brown', 5.25)\n",
    "])"
   ]
  },
  {
   "cell_type": "markdown",
   "metadata": {},
   "source": [
    "# Select\n",
    "\n",
    "The basic aspect of SQL is the select statement, which returns a table.\n",
    "\n",
    "The following line of code creates a one-row Table\n",
    "```\n",
    "SELECT \"strawberry\" AS Flavor, \"pink\" AS Color, 3.55 AS Price; \n",
    "```\n",
    "\n",
    "Note - column names are always text and have no `\"` around them.\n",
    "\n",
    "To try this out, run `sqlite3` creating a database file, say `testsql`\n",
    "\n",
    "`sqlite3 testsql`\n",
    "\n",
    "This will run interactively, so you can see the results of the queries you perform.\n",
    "\n",
    "```\n",
    "ideas/sql> sqlite3 testsql.db\n",
    "SQLite version 3.13.0 2016-05-18 10:57:30\n",
    "Enter \".help\" for usage hints.\n",
    "sqlite> select \"strawberry\" as Flavor, \"pink\" as Color, 3.55 as Price;\n",
    "strawberry|pink|3.55\n",
    "sqlite>\n",
    "```\n",
    "Don't forget the \";\"\n"
   ]
  },
  {
   "cell_type": "markdown",
   "metadata": {},
   "source": [
    "## Table as Union of tables\n",
    "\n",
    "Creating a multi-row table (object) with a union of `select` statements\n",
    "```\n",
    "select \"strawberry\" as Flavor, \"pink\" as Color, 3.55 as Price union\n",
    "select \"chocolate\",\"light brown\", 4.75 union\n",
    "select \"chocolate\",\"dark brown\", 5.25 union\n",
    "select \"strawberry\",\"pink\",5.25 union\n",
    "select \"bubblegum\",\"pink\",4.75 union\n",
    "select \"strawberry\",\"pink\",5.25 union\n",
    "select \"chocolate\",\"dark brown\", 5.25;\n",
    "```"
   ]
  },
  {
   "cell_type": "markdown",
   "metadata": {},
   "source": [
    "Notice how a SQL table is a relation (meaning that each select statement above is a tuple of information that is stored as a row in the table), it is not a list.  \n",
    "\n",
    "```\n",
    "sqlite> select \"strawberry\" as Flavor, \"pink\" as Color, 3.55 as Price union\n",
    "   ...> select \"chocolate\",\"light brown\", 4.75 union\n",
    "   ...> select \"chocolate\",\"dark brown\", 5.25 union\n",
    "   ...> select \"strawberry\",\"pink\",5.25 union\n",
    "   ...> select \"bubblegum\",\"pink\",4.75 union\n",
    "   ...> select \"strawberry\",\"pink\",5.25 union\n",
    "   ...> select \"chocolate\",\"dark brown\", 5.25;\n",
    "bubblegum|pink|4.75\n",
    "chocolate|dark brown|5.25\n",
    "chocolate|light brown|4.75\n",
    "strawberry|pink|3.55\n",
    "strawberry|pink|5.25\n",
    "```\n",
    "Notice, no duplicates.  "
   ]
  },
  {
   "cell_type": "markdown",
   "metadata": {},
   "source": [
    "# Create table\n",
    "\n",
    "Let's create a version of the table that might occur in a retail setting.  We have added a column for the transaction ID.\n",
    "```\n",
    "create table cones as\n",
    "    select 1 as Id, \"strawberry\" as Flavor, \"pink\" as Color, 3.55 as Price union\n",
    "    select 2, \"chocolate\",\"light brown\", 4.75 union\n",
    "    select 3, \"chocolate\",\"dark brown\", 5.25 union\n",
    "    select 4, \"strawberry\",\"pink\",5.25 union\n",
    "    select 5, \"bubblegum\",\"pink\",4.75 union\n",
    "    select 6, \"chocolate\", \"dark brown\", 5.25;\n",
    "```"
   ]
  },
  {
   "cell_type": "markdown",
   "metadata": {},
   "source": [
    "#### sqlite3\n",
    "\n",
    "Paste that into your `sqlite3` session.  Then you can access the data.\n",
    "\n",
    "```\n",
    "sqlite> .headers on\n",
    "sqlite> select * from cones;\n",
    "ID|Flavor|Color|Price\n",
    "1|strawberry|pink|3.55\n",
    "2|chocolate|light brown|4.75\n",
    "3|chocolate|dark brown|5.25\n",
    "4|strawberry|pink|5.25\n",
    "5|bubblegum|pink|4.75\n",
    "6|chocolate|dark brown|5.25\n",
    "sqlite> \n",
    "```"
   ]
  },
  {
   "cell_type": "code",
   "execution_count": 3,
   "metadata": {
    "execution": {
     "iopub.execute_input": "2022-07-26T21:58:08.540369Z",
     "iopub.status.busy": "2022-07-26T21:58:08.540103Z",
     "iopub.status.idle": "2022-07-26T21:58:08.545742Z",
     "shell.execute_reply": "2022-07-26T21:58:08.545258Z"
    }
   },
   "outputs": [],
   "source": [
    "# Create a Table and assign it to a variable\n",
    "\n",
    "cones = Table([\"Id\", \"Flavor\",\"Color\",\"Price\"]).with_rows([\n",
    "    (1, 'strawberry','pink', 3.55),\n",
    "    (2, 'chocolate','light brown', 4.75),\n",
    "    (3, 'chocolate','dark brown', 5.25),\n",
    "    (4, 'strawberry','pink',5.25),\n",
    "    (5, 'bubblegum','pink',4.75),\n",
    "    (6, 'chocolate','dark brown', 5.25)\n",
    "])\n",
    "cones"
   ]
  },
  {
   "cell_type": "markdown",
   "metadata": {},
   "source": [
    "## Tables in a database\n",
    "\n",
    "The sqlite3 command line provides pseudo-ops (which are special types of commands) to explore the tables in the database. In the following code chunks, we can see what the existing tables are and the schema of our database (schema is the structure of our database and describes how the tables are created and with what columns).\n",
    "\n",
    "```\n",
    "sqlite> .tables\n",
    "cones\n",
    "sqlite> .schema cones\n",
    "CREATE TABLE cones(\n",
    "  Id,\n",
    "  Flavor,\n",
    "  Color,\n",
    "  Price\n",
    ");\n",
    "```\n",
    "SQL also provides table management operations, besides `CREATE`.\n",
    "\n",
    "```\n",
    "sqlite> drop table cones;\n",
    "sqlite> .tables\n",
    "```"
   ]
  },
  {
   "cell_type": "markdown",
   "metadata": {},
   "source": [
    "## Creating a table and its schema\n",
    "\n",
    "While it is possible to create a table and fill it in, as in the example above, in most database settings tables are permanent objects that are created and then repeatedly accessed and modified.\n",
    "\n",
    "To create an empty table and specify its schema:\n",
    "\n",
    "```\n",
    "CREATE TABLE cones (Id INT, Flavor TEXT, Color TEXT, Price REAL);\n",
    "```\n",
    "Then it can be filled in with `INSERT` statements."
   ]
  },
  {
   "cell_type": "markdown",
   "metadata": {},
   "source": [
    "## Insert\n",
    "\n",
    "To insert a row into a table, you need to specify three things:\n",
    "\n",
    "* The table, which you want to insert a new row, in the INSERT INTO clause.\n",
    "* a comma-separated list of columns in the table surrounded by parentheses.\n",
    "* a comma-separated list of values surrounded by parentheses in the VALUES clause.\n",
    "\n",
    "```\n",
    "INSERT INTO table(column1, column2,...)\n",
    "VALUES (value1, value2,...);\n",
    "```\n",
    "For example, to fill out our cones table creation:\n",
    "\n",
    "```\n",
    "INSERT INTO cones VALUES (1, \"strawberry\", \"pink\", 3.55);\n",
    "INSERT INTO cones VALUES (2, \"chocolate\",\"light brown\", 4.75);\n",
    "INSERT INTO cones VALUES (3, \"chocolate\",\"dark brown\", 5.25);\n",
    "INSERT INTO cones VALUES (4, \"strawberry\",\"pink\",5.25);\n",
    "INSERT INTO cones VALUES (5, \"bubblegum\",\"pink\",4.75);\n",
    "INSERT INTO cones VALUES (6, \"chocolate\", \"dark brown\", 5.25);\n",
    "```\n",
    "\n",
    "Individual columns-value relationships can be specified too.\n",
    "\n",
    "```\n",
    "insert into cones(Id, Flavor, Color, Price) values (7, \"Vanila\", \"White\", 3.95);\n",
    "```\n",
    "\n",
    "Columns where data is not inserted are filled with `null`.\n",
    "\n",
    "```\n",
    "sqlite> insert into cones(Flavor, Price) values (\"Vanila\", 2.25);\n",
    "sqlite> select * from cones;\n",
    "Id|Flavor|Color|Price\n",
    "1|strawberry|pink|3.55\n",
    "2|chocolate|light brown|4.75\n",
    "3|chocolate|dark brown|5.25\n",
    "4|strawberry|pink|5.25\n",
    "5|bubblegum|pink|4.75\n",
    "6|chocolate|dark brown|5.25\n",
    "7|Vanila|White|3.95\n",
    "|Vanila||2.25\n",
    "\n",
    "```"
   ]
  },
  {
   "cell_type": "code",
   "execution_count": 4,
   "metadata": {
    "execution": {
     "iopub.execute_input": "2022-07-26T21:58:08.549466Z",
     "iopub.status.busy": "2022-07-26T21:58:08.549131Z",
     "iopub.status.idle": "2022-07-26T21:58:08.553498Z",
     "shell.execute_reply": "2022-07-26T21:58:08.553050Z"
    }
   },
   "outputs": [],
   "source": [
    "cones.append((7, \"Vanila\", \"White\", 3.95))\n",
    "cones"
   ]
  },
  {
   "cell_type": "markdown",
   "metadata": {},
   "source": [
    "## Ordering\n",
    "\n",
    "In addition to the set of records in a table, one often would like to order them in a particular away.  You've seen this with `Table.sort`."
   ]
  },
  {
   "cell_type": "code",
   "execution_count": 5,
   "metadata": {
    "execution": {
     "iopub.execute_input": "2022-07-26T21:58:08.556616Z",
     "iopub.status.busy": "2022-07-26T21:58:08.556374Z",
     "iopub.status.idle": "2022-07-26T21:58:08.560348Z",
     "shell.execute_reply": "2022-07-26T21:58:08.559908Z"
    }
   },
   "outputs": [],
   "source": [
    "# Tables have an explicit order, which can be controlled\n",
    "cones.sort('Price')"
   ]
  },
  {
   "cell_type": "markdown",
   "metadata": {},
   "source": [
    "The `select` statement has an `ORDER BY` clause. We write \"ORDER BY\" and then the column that we would like to sort our table by. Automatically, SQL chooses to sort in ascending order but we can do descending by specifying `DESC` after our column name.\n",
    "\n",
    "```\n",
    "SELECT * FROM cones ORDER BY Price;\n",
    "```\n",
    "<hr>\n",
    "```\n",
    "sqlite> select * from cones order by Price;\n",
    "1|strawberry|pink|3.55\n",
    "2|chocolate|light brown|4.75\n",
    "5|bubblegum|pink|4.75\n",
    "3|chocolate|dark brown|5.25\n",
    "4|strawberry|pink|5.25\n",
    "6|chocolate|dark brown|5.25\n",
    "sqlite> 6|chocolate|dark brown|5.25\n",
    "```"
   ]
  },
  {
   "cell_type": "markdown",
   "metadata": {},
   "source": [
    "# Selecting columns - Projection\n",
    "\n",
    "By default, operations on tables refer to *all* the columns.\n",
    "One can *select* certain columns however, by naming out the specific column in the SELECT statement (instead of using a `*`).\n",
    "\n",
    "```\n",
    "SELECT <columns expr> FROM <table>;\n",
    "```"
   ]
  },
  {
   "cell_type": "code",
   "execution_count": 6,
   "metadata": {
    "execution": {
     "iopub.execute_input": "2022-07-26T21:58:08.563829Z",
     "iopub.status.busy": "2022-07-26T21:58:08.563515Z",
     "iopub.status.idle": "2022-07-26T21:58:08.567637Z",
     "shell.execute_reply": "2022-07-26T21:58:08.567160Z"
    }
   },
   "outputs": [],
   "source": [
    "cones.select(['Flavor', 'Price'])"
   ]
  },
  {
   "cell_type": "markdown",
   "metadata": {},
   "source": [
    "## SELECT from table\n",
    "\n",
    "The `SELECT` statement specifies the table explicitly.  (It's not a method on an object.  The database keeps track of all the tables.)\n",
    "\n",
    "Specify the columns to select\n",
    "\n",
    "```\n",
    "SELECT <column names or expr> FROM <table name>;\n",
    "```\n",
    "<hr>\n",
    "```\n",
    "sqlite> .headers on\n",
    "sqlite> select Flavor, Price from cones;\n",
    "Flavor|Price\n",
    "strawberry|3.55\n",
    "chocolate|4.75\n",
    "chocolate|5.25\n",
    "strawberry|5.25\n",
    "bubblegum|4.75\n",
    "chocolate|5.25\n",
    "\n",
    "```\n",
    "\n",
    "We can also do expression selection, essentially doing math in our SELECT statement. For example, let's say we want the prices to double in our table:\n",
    "\n",
    "```\n",
    "sqlite> .headers on\n",
    "sqlite> select Flavor, 2 * Price from cones;\n",
    "Flavor|Price\n",
    "strawberry|7.10\n",
    "chocolate|9.50\n",
    "chocolate|10.50\n",
    "strawberry|10.50\n",
    "bubblegum|9.50\n",
    "chocolate|10.50\n",
    "\n",
    "```\n"
   ]
  },
  {
   "cell_type": "markdown",
   "metadata": {},
   "source": [
    "## Permanent data\n",
    "\n",
    "Quit sqlite3 with the `.quit` pseudo command. Then start it up again on the same database.  Notice how everything is still there."
   ]
  },
  {
   "cell_type": "markdown",
   "metadata": {},
   "source": [
    "## Filtering rows - where"
   ]
  },
  {
   "cell_type": "code",
   "execution_count": 7,
   "metadata": {
    "execution": {
     "iopub.execute_input": "2022-07-26T21:58:08.571224Z",
     "iopub.status.busy": "2022-07-26T21:58:08.571030Z",
     "iopub.status.idle": "2022-07-26T21:58:08.575041Z",
     "shell.execute_reply": "2022-07-26T21:58:08.574556Z"
    }
   },
   "outputs": [],
   "source": [
    "# Here's the simple equality filter in Tables\n",
    "\n",
    "cones.where('Flavor', 'chocolate')"
   ]
  },
  {
   "cell_type": "markdown",
   "metadata": {},
   "source": [
    "### SQL where clause\n",
    "\n",
    "By default, `SELECT` operations on tables refer to *all* the rows.\n",
    "One can operate on a subset of the rows by specifying a predicate expression in the `WHERE` clause.\n",
    "\n",
    "```\n",
    "SELECT <column names or expr> \n",
    "FROM <table name>\n",
    "WHERE <condition>;\n",
    "```\n",
    "<hr>\n",
    "\n",
    "```\n",
    "sqlite> select * from cones where Flavor = \"chocolate\";\n",
    "ID|Flavor|Color|Price\n",
    "2|chocolate|light brown|4.75\n",
    "3|chocolate|dark brown|5.25\n",
    "6|chocolate|dark brown|5.25\n",
    "```"
   ]
  },
  {
   "cell_type": "code",
   "execution_count": 8,
   "metadata": {
    "collapsed": true,
    "execution": {
     "iopub.execute_input": "2022-07-26T21:58:08.578329Z",
     "iopub.status.busy": "2022-07-26T21:58:08.578009Z",
     "iopub.status.idle": "2022-07-26T21:58:08.582011Z",
     "shell.execute_reply": "2022-07-26T21:58:08.581566Z"
    }
   },
   "outputs": [],
   "source": [
    "# Or an expression that produces a boolean array\n",
    "cones.where(cones[\"Price\"] > 5)"
   ]
  },
  {
   "cell_type": "markdown",
   "metadata": {},
   "source": [
    "### SQL:\n",
    "\n",
    "```\n",
    "sqlite> select * from cones where Price > 5;\n",
    "ID|Flavor|Color|Price\n",
    "3|chocolate|dark brown|5.25\n",
    "4|strawberry|pink|5.25\n",
    "6|chocolate|dark brown|5.25\n",
    "```"
   ]
  },
  {
   "cell_type": "markdown",
   "metadata": {},
   "source": [
    "### Approximate match\n",
    "\n",
    "Regular expression matches are so common that they are built in in SQL.\n",
    "\n",
    "```\n",
    "sqlite> select * from cones where Flavor like \"%berry%\";\n",
    "Flavor|Color|Price\n",
    "strawberry|pink|3.55\n",
    "strawberry|pink|5.25\n",
    "sqlite> \n",
    "```"
   ]
  },
  {
   "cell_type": "markdown",
   "metadata": {},
   "source": [
    "## SQL Boolean operators\n",
    "\n",
    "There are many operators that you can use in SQL.\n",
    "An operator is a word or character that is used in an SQL statement to perform operation(s), like comparisons and arithmetic operations.\n",
    "\n",
    "SQLite understands the following binary operators, in order from highest to lowest precedence:\n",
    "```\n",
    "||\n",
    "*    /    %\n",
    "+    -\n",
    "<<   >>   &    |\n",
    "<    <=   >    >=\n",
    "=    ==   !=   <>   IS   IS NOT   IN   LIKE   GLOB   MATCH   REGEXP\n",
    "AND   \n",
    "OR\n",
    "```\n",
    "Supported unary prefix operators are these:\n",
    "```\n",
    "-    +    ~    NOT\n",
    "```"
   ]
  },
  {
   "cell_type": "markdown",
   "metadata": {},
   "source": [
    "# Grouping and Aggregation\n",
    "\n",
    "The\u00a0\u00a0GROUP BY\u00a0clause is used to group rows of\u00a0SELECT statement\u00a0into a set of summary rows or groups based on values of columns or expressions. \n",
    "\n",
    "Apply an\u00a0aggregate function, such as\u00a0SUM,\u00a0AVG,\u00a0MIN, MAX\u00a0or\u00a0COUNT,\u00a0to each group to output the summary information.\n",
    "\n",
    "```\n",
    "SELECT <expr> \n",
    "FROM <table name> \n",
    "WHERE <cond> \n",
    "GROUP BY <grouping>;\n",
    "```\n",
    "<hr>\n",
    "\n",
    "You have been applying aggregation functions to \"groups\" of rows.  "
   ]
  },
  {
   "cell_type": "code",
   "execution_count": 9,
   "metadata": {
    "execution": {
     "iopub.execute_input": "2022-07-26T21:58:08.585887Z",
     "iopub.status.busy": "2022-07-26T21:58:08.585647Z",
     "iopub.status.idle": "2022-07-26T21:58:08.590934Z",
     "shell.execute_reply": "2022-07-26T21:58:08.589850Z"
    }
   },
   "outputs": [],
   "source": [
    "# By default Tables aggregate with count\n",
    "cones.group('Flavor')"
   ]
  },
  {
   "cell_type": "markdown",
   "metadata": {},
   "source": [
    "The analogous SQL has a `group by` clause in the select statement.  The value expression specifies what aggregation operation to perform on the groups.\n",
    "\n",
    "```\n",
    "sqlite> select count(Price), Flavor from cones group by Flavor;\n",
    "count(Price)|Flavor\n",
    "1|bubblegum\n",
    "2|chocolate\n",
    "2|strawberry\n",
    "```"
   ]
  },
  {
   "cell_type": "code",
   "execution_count": 10,
   "metadata": {
    "execution": {
     "iopub.execute_input": "2022-07-26T21:58:08.599831Z",
     "iopub.status.busy": "2022-07-26T21:58:08.599475Z",
     "iopub.status.idle": "2022-07-26T21:58:08.604327Z",
     "shell.execute_reply": "2022-07-26T21:58:08.603834Z"
    }
   },
   "outputs": [],
   "source": [
    "# You can specify how to aggregate\n",
    "cones.group('Flavor', min)"
   ]
  },
  {
   "cell_type": "code",
   "execution_count": 11,
   "metadata": {
    "execution": {
     "iopub.execute_input": "2022-07-26T21:58:08.607412Z",
     "iopub.status.busy": "2022-07-26T21:58:08.607162Z",
     "iopub.status.idle": "2022-07-26T21:58:08.611573Z",
     "shell.execute_reply": "2022-07-26T21:58:08.611093Z"
    }
   },
   "outputs": [],
   "source": [
    "# And select the meaningful columns\n",
    "cones.select(['Flavor', 'Price']).group('Flavor', np.mean)"
   ]
  },
  {
   "cell_type": "markdown",
   "metadata": {},
   "source": [
    "### SQL GROUP BY built in operators in the column expression\n",
    "\n",
    "```\n",
    "sqlite> select min(Price), Flavor from cones group by Flavor;\n",
    "min(Price)|Flavor\n",
    "4.75|bubblegum\n",
    "4.75|chocolate\n",
    "3.55|strawberry\n",
    "\n",
    "sqlite> select avg(Price), Flavor from cones group by Flavor;\n",
    "avg(Price)|Flavor\n",
    "4.75|bubblegum\n",
    "5.0|chocolate\n",
    "4.4|strawberry\n",
    "sqlite> \n",
    "```"
   ]
  },
  {
   "cell_type": "markdown",
   "metadata": {},
   "source": [
    "### GROUP operators\n",
    "\n",
    "The following are the most commonly used SQL aggregate functions:\n",
    "\n",
    "* AVG \u2013 calculates the average of a set of values.\n",
    "* COUNT \u2013 counts rows in a specified table or view.\n",
    "* MIN \u2013 gets the minimum value in a set of values.\n",
    "* MAX \u2013 gets the maximum value in a set of values.\n",
    "* SUM \u2013 calculates the sum of values.\n",
    "\n",
    "Notice that all aggregate functions above ignore NULL values except for the COUNT function."
   ]
  },
  {
   "cell_type": "markdown",
   "metadata": {},
   "source": [
    "\n",
    "```\n",
    "sqlite> .header on\n",
    "sqlite> select Color, max(Price) - min(Price) from cones group by Color;\n",
    "Color|max(Price) - min(Price)\n",
    "dark brown|0.0\n",
    "light brown|0.0\n",
    "pink|1.7\n",
    "```"
   ]
  },
  {
   "cell_type": "markdown",
   "metadata": {},
   "source": [
    "## Unique values\n",
    "\n",
    "Being able to determine the unique values in a column or collection of columns in common enough working with data that SQL builds it in.  This is a different sort of aggregation that does not involve groups.\n",
    "\n",
    "```\n",
    "select distinct Flavor from cones;\n",
    "select distinct Flavor, Color from cones;\n",
    "```"
   ]
  },
  {
   "cell_type": "code",
   "execution_count": 12,
   "metadata": {
    "collapsed": true,
    "execution": {
     "iopub.execute_input": "2022-07-26T21:58:08.615677Z",
     "iopub.status.busy": "2022-07-26T21:58:08.615427Z",
     "iopub.status.idle": "2022-07-26T21:58:08.619160Z",
     "shell.execute_reply": "2022-07-26T21:58:08.618556Z"
    }
   },
   "outputs": [],
   "source": [
    "np.unique(cones['Flavor'])"
   ]
  },
  {
   "cell_type": "code",
   "execution_count": 13,
   "metadata": {
    "collapsed": true,
    "execution": {
     "iopub.execute_input": "2022-07-26T21:58:08.622148Z",
     "iopub.status.busy": "2022-07-26T21:58:08.621906Z",
     "iopub.status.idle": "2022-07-26T21:58:08.626429Z",
     "shell.execute_reply": "2022-07-26T21:58:08.625977Z"
    }
   },
   "outputs": [],
   "source": [
    "cones.groups(['Flavor', 'Color']).drop('count')"
   ]
  },
  {
   "cell_type": "markdown",
   "metadata": {},
   "source": [
    "## Joining multiple tables\n",
    "\n",
    "Information in different tables can be brought together using *join* operations.  You've had a lot of experience with this already.\n",
    "\n",
    "Let's imagine that there was another table associated with the cashier's transations."
   ]
  },
  {
   "cell_type": "code",
   "execution_count": 14,
   "metadata": {
    "collapsed": true,
    "execution": {
     "iopub.execute_input": "2022-07-26T21:58:08.629531Z",
     "iopub.status.busy": "2022-07-26T21:58:08.629338Z",
     "iopub.status.idle": "2022-07-26T21:58:08.634221Z",
     "shell.execute_reply": "2022-07-26T21:58:08.633736Z"
    }
   },
   "outputs": [],
   "source": [
    "sales = Table(['Cashier', 'Tid']).with_rows([\n",
    "    ('Baskin', 1),\n",
    "    ('Robin', 2),\n",
    "    ('Baskin', 3),\n",
    "    ('Baskin', 4),\n",
    "    ('Robin', 5),\n",
    "    ('Robin', 6)\n",
    "])\n",
    "sales"
   ]
  },
  {
   "cell_type": "markdown",
   "metadata": {},
   "source": [
    "### SQL - create a similar table\n",
    "\n",
    "```\n",
    "create table sales as\n",
    "    select \"Baskin\" as Cashier, 1 as Tid union\n",
    "    select \"Baskin\", 3 union\n",
    "    select \"Baskin\", 4 union\n",
    "    select \"Robin\", 2 union\n",
    "    select \"Robin\", 5 union\n",
    "    select \"Robin\", 6;\n",
    "```\n",
    "Paste this into sqlite3\n",
    "```\n",
    "sqlite> .tables\n",
    "cones  sales\n",
    "sqlite> select * from sales;\n",
    "Cashier|Tid\n",
    "Baskin|1\n",
    "Baskin|3\n",
    "Baskin|4\n",
    "Robin|2\n",
    "Robin|5\n",
    "Robin|6\n",
    "sqlite> \n",
    "```"
   ]
  },
  {
   "cell_type": "code",
   "execution_count": 15,
   "metadata": {
    "collapsed": true,
    "execution": {
     "iopub.execute_input": "2022-07-26T21:58:08.637364Z",
     "iopub.status.busy": "2022-07-26T21:58:08.637121Z",
     "iopub.status.idle": "2022-07-26T21:58:08.641809Z",
     "shell.execute_reply": "2022-07-26T21:58:08.641335Z"
    }
   },
   "outputs": [],
   "source": [
    "# The JOIN of these two tables around their related columns\n",
    "sales.join('Tid', cones, 'Id')"
   ]
  },
  {
   "cell_type": "markdown",
   "metadata": {},
   "source": [
    "## SQL join \n",
    "\n",
    "In SQL the join operation is easily expressed by multiple `FROM` tables, but it is not the same as the \"inner join\" you are familiar with.\n",
    "\n",
    "```\n",
    "SELECT * FROM sales, cones;\n",
    "```\n",
    "produces the cross-product (outer join) of all the rows of `sales` and the rows of `cones`.  We want the ones with matching `Id`'s.  This is expressed through the `WHERE` clause.\n",
    "\n",
    "```\n",
    "SELECT * FROM sales, cones WHERE Tid=Id;\n",
    "```\n",
    "\n",
    "Try it out.\n",
    "\n",
    "```\n",
    "sqlite> .tables\n",
    "cones  sales\n",
    "sqlite> SELECT * FROM sales, cones WHERE Tid=Id;\n",
    "Cashier|Tid|Id|Flavor|Color|Price\n",
    "Baskin|1|1|strawberry|pink|3.55\n",
    "Baskin|3|3|chocolate|dark brown|5.25\n",
    "Baskin|4|4|strawberry|pink|5.25\n",
    "Robin|2|2|chocolate|light brown|4.75\n",
    "Robin|5|5|bubblegum|pink|4.75\n",
    "Robin|6|6|chocolate|dark brown|5.25\n",
    "sqlite> \n",
    "```"
   ]
  },
  {
   "cell_type": "markdown",
   "metadata": {},
   "source": [
    "#### Refining the join description\n",
    "\n",
    "The names of tables can be used to disambiguate, say if the columns have the same names in different tables.\n",
    "\n",
    "```\n",
    "select * from sales, cones where sales.Tid=cones.Id;\n",
    "```\n",
    "\n",
    "And, we can tailor the result with the expression.\n",
    "\n",
    "```\n",
    "select Flavor, Color, Price, Cashier, Id from sales, cones where sales.Tid=cones.Id;\n",
    "```\n",
    "\n",
    "And we could create this as a new, permanent table.\n",
    "\n",
    "```\n",
    "create table full as \n",
    "    select Flavor, Color, Price, Cashier, ID from sales, cones where sales.Tid=cones.Id;\n",
    "```"
   ]
  },
  {
   "cell_type": "markdown",
   "metadata": {},
   "source": [
    "## Creating and dropping tables\n",
    "\n",
    "```\n",
    "DROP TABLE <table name>\n",
    "```\n",
    "For example, create a new table of the join and drop it.\n",
    "\n",
    "```\n",
    "sqlite> create table full as \n",
    "   ...>     select Flavor, Color, Price, Cashier, ID from sales, cones where sales.TID=cones.ID;\n",
    "sqlite> .tables\n",
    "cones  full   sales\n",
    "sqlite> select * from full;\n",
    "Flavor|Color|Price|Cashier|ID\n",
    "strawberry|pink|3.55|Baskin|1\n",
    "chocolate|dark brown|5.25|Baskin|3\n",
    "strawberry|pink|5.25|Baskin|4\n",
    "chocolate|light brown|4.75|Robin|2\n",
    "bubblegum|pink|4.75|Robin|5\n",
    "chocolate|dark brown|5.25|Robin|6\n",
    "```\n",
    "\n",
    "```\n",
    "sqlite> drop table full;\n",
    "sqlite> .tables\n",
    "cones  sales\n",
    "```"
   ]
  },
  {
   "cell_type": "markdown",
   "metadata": {},
   "source": [
    "## Naming result columns\n",
    "\n",
    "```\n",
    "SELECT <expr> as <name> FROM <tables> WHERE <c-expr> GROUP BY <g-expr>\n",
    "\n",
    "```\n",
    "Create a table with a `Taste` column with two values: \"delicious\" and \"other\".\n",
    "\n",
    "```\n",
    "select \"delicious\" as Taste, Flavor, Color from cones where Flavor is \"chocolate\" union\n",
    "select \"other\", Flavor, Color from cones where Flavor is not \"chocolate\";\n",
    "```"
   ]
  },
  {
   "cell_type": "markdown",
   "metadata": {},
   "source": [
    "# Programming language APIs\n",
    "\n",
    "Database tables are seldom accessed from a command line as we've done in our interactive session.  They are used by passing queries to the database interpreter - typically underneath some application.  So, they are accessed from within the programming language via an *Application Programming Interface* or *API*.\n",
    "\n",
    "To learn more about an API and what it is used for, check out [this](https://medium.freecodecamp.org/what-is-an-api-in-english-please-b880a3214a82) link.\n",
    "\n",
    "Here's an example of the python API to sqlite3."
   ]
  },
  {
   "cell_type": "code",
   "execution_count": 16,
   "metadata": {
    "collapsed": true,
    "execution": {
     "iopub.execute_input": "2022-07-26T21:58:08.645235Z",
     "iopub.status.busy": "2022-07-26T21:58:08.644980Z",
     "iopub.status.idle": "2022-07-26T21:58:08.647678Z",
     "shell.execute_reply": "2022-07-26T21:58:08.647219Z"
    }
   },
   "outputs": [],
   "source": [
    "import sqlite3"
   ]
  },
  {
   "cell_type": "code",
   "execution_count": 17,
   "metadata": {
    "collapsed": true,
    "execution": {
     "iopub.execute_input": "2022-07-26T21:58:08.650245Z",
     "iopub.status.busy": "2022-07-26T21:58:08.650009Z",
     "iopub.status.idle": "2022-07-26T21:58:08.652827Z",
     "shell.execute_reply": "2022-07-26T21:58:08.652399Z"
    }
   },
   "outputs": [],
   "source": [
    "icecream = sqlite3.connect('icecream.db')"
   ]
  },
  {
   "cell_type": "code",
   "execution_count": 18,
   "metadata": {
    "execution": {
     "iopub.execute_input": "2022-07-26T21:58:08.655572Z",
     "iopub.status.busy": "2022-07-26T21:58:08.655175Z",
     "iopub.status.idle": "2022-07-26T21:58:09.063641Z",
     "shell.execute_reply": "2022-07-26T21:58:09.063027Z"
    }
   },
   "outputs": [],
   "source": [
    "icecream.execute('SELECT * FROM cones;')"
   ]
  },
  {
   "cell_type": "code",
   "execution_count": 19,
   "metadata": {
    "execution": {
     "iopub.execute_input": "2022-07-26T21:58:09.067455Z",
     "iopub.status.busy": "2022-07-26T21:58:09.067114Z",
     "iopub.status.idle": "2022-07-26T21:58:09.079618Z",
     "shell.execute_reply": "2022-07-26T21:58:09.079106Z"
    }
   },
   "outputs": [],
   "source": [
    "icecream.execute('SELECT DISTINCT Flavor FROM cones;').fetchall()"
   ]
  },
  {
   "cell_type": "code",
   "execution_count": 20,
   "metadata": {
    "execution": {
     "iopub.execute_input": "2022-07-26T21:58:09.082877Z",
     "iopub.status.busy": "2022-07-26T21:58:09.082584Z",
     "iopub.status.idle": "2022-07-26T21:58:09.094632Z",
     "shell.execute_reply": "2022-07-26T21:58:09.094128Z"
    }
   },
   "outputs": [],
   "source": [
    "icecream.execute('SELECT * FROM cones WHERE Flavor is \"chocolate\";').fetchall()"
   ]
  },
  {
   "cell_type": "code",
   "execution_count": 21,
   "metadata": {
    "collapsed": true,
    "execution": {
     "iopub.execute_input": "2022-07-26T21:58:09.097663Z",
     "iopub.status.busy": "2022-07-26T21:58:09.097381Z",
     "iopub.status.idle": "2022-07-26T21:58:09.100546Z",
     "shell.execute_reply": "2022-07-26T21:58:09.099888Z"
    }
   },
   "outputs": [],
   "source": [
    "# Be careful about filling in parameters of the query casually\n",
    "# as it may be open SQL injection attacks\n",
    "\n",
    "col = \"Flavor\""
   ]
  },
  {
   "cell_type": "code",
   "execution_count": 22,
   "metadata": {
    "execution": {
     "iopub.execute_input": "2022-07-26T21:58:09.103793Z",
     "iopub.status.busy": "2022-07-26T21:58:09.103523Z",
     "iopub.status.idle": "2022-07-26T21:58:09.115592Z",
     "shell.execute_reply": "2022-07-26T21:58:09.114987Z"
    }
   },
   "outputs": [],
   "source": [
    "# This looks like it is providing just the list of flavors\n",
    "\n",
    "icecream.execute('SELECT DISTINCT %s FROM cones;' % col).fetchall()"
   ]
  },
  {
   "cell_type": "code",
   "execution_count": 23,
   "metadata": {
    "collapsed": true,
    "execution": {
     "iopub.execute_input": "2022-07-26T21:58:09.119014Z",
     "iopub.status.busy": "2022-07-26T21:58:09.118742Z",
     "iopub.status.idle": "2022-07-26T21:58:09.121331Z",
     "shell.execute_reply": "2022-07-26T21:58:09.120895Z"
    }
   },
   "outputs": [],
   "source": [
    "# What if an attacker managed this?  Go back and evaluate the query above\n",
    "col = \"*\""
   ]
  },
  {
   "cell_type": "code",
   "execution_count": 24,
   "metadata": {
    "execution": {
     "iopub.execute_input": "2022-07-26T21:58:09.124318Z",
     "iopub.status.busy": "2022-07-26T21:58:09.124071Z",
     "iopub.status.idle": "2022-07-26T21:58:09.136389Z",
     "shell.execute_reply": "2022-07-26T21:58:09.135848Z"
    }
   },
   "outputs": [],
   "source": [
    "# Query parameter substitution allows the parameters to be filled in\n",
    "# at the database query processor.\n",
    "\n",
    "icecream.execute('SELECT * FROM cones WHERE Flavor is ?;', (\"chocolate\",)).fetchall()"
   ]
  },
  {
   "cell_type": "code",
   "execution_count": 25,
   "metadata": {
    "collapsed": true,
    "execution": {
     "iopub.execute_input": "2022-07-26T21:58:09.139853Z",
     "iopub.status.busy": "2022-07-26T21:58:09.139555Z",
     "iopub.status.idle": "2022-07-26T21:58:09.142669Z",
     "shell.execute_reply": "2022-07-26T21:58:09.142226Z"
    }
   },
   "outputs": [],
   "source": [
    "# Building abstractions that hide the database\n",
    "def flavor(db, flv):\n",
    "    return db.execute('SELECT * FROM cones WHERE Flavor is ?;', (flv,)).fetchall()"
   ]
  },
  {
   "cell_type": "code",
   "execution_count": 26,
   "metadata": {
    "execution": {
     "iopub.execute_input": "2022-07-26T21:58:09.145753Z",
     "iopub.status.busy": "2022-07-26T21:58:09.145492Z",
     "iopub.status.idle": "2022-07-26T21:58:09.162258Z",
     "shell.execute_reply": "2022-07-26T21:58:09.161696Z"
    }
   },
   "outputs": [],
   "source": [
    "flavor(icecream, \"chocolate\")"
   ]
  },
  {
   "cell_type": "markdown",
   "metadata": {},
   "source": [
    "## SQL Tables - a new class\n",
    "\n",
    "The following section is optional and for Python experts (this goes beyond the scope of Data8X programming). Let's derive a class from Tables that allows Tables to be read or written to a database.\n",
    "\n",
    "This illustrates:\n",
    "* Class inheritance to extend functionality\n",
    "* Use of helper functions to make coding clear and abstract messy details of a particular implementation.\n",
    "* Exception handling to deal with behavior of underlying module\n",
    "* classmethods and instance methods"
   ]
  },
  {
   "cell_type": "code",
   "execution_count": 27,
   "metadata": {
    "collapsed": true,
    "execution": {
     "iopub.execute_input": "2022-07-26T21:58:09.165849Z",
     "iopub.status.busy": "2022-07-26T21:58:09.165562Z",
     "iopub.status.idle": "2022-07-26T21:58:09.171146Z",
     "shell.execute_reply": "2022-07-26T21:58:09.170595Z"
    }
   },
   "outputs": [],
   "source": [
    "# sqlite3 Helper functions for the SQL_Table class\n",
    "\n",
    "import sqlite3\n",
    "def build_list(s):\n",
    "    \"\"\"Return string representing column name tuple.\"\"\"\n",
    "    res = \"(\"\n",
    "    for v in s[:-1]:\n",
    "        res = res + v + \", \"\n",
    "    res = res + s[-1] + \")\"\n",
    "    return res\n",
    "\n",
    "def build_q(n):\n",
    "    \"\"\"Return string representing parameter substitution tuple.\"\"\"\n",
    "    return \"(\" + \"?, \"*(n-1) + \"?)\"\n",
    "\n",
    "def sqltable_exists(dbconn, table):\n",
    "    \"\"\"Return schema as SQL create statement if table exists.\"\"\"\n",
    "    create = dbconn.execute('select sql from sqlite_master where name=?;', \n",
    "                          (table,)).fetchall()\n",
    "    return create[0][0] if create else False\n",
    "\n",
    "def sqlcol_names(dbconn, table):\n",
    "    \"\"\"Return list of column names of a SQL table.\"\"\"\n",
    "    cursor = dbconn.execute('SELECT * FROM %s LIMIT 1;' % table)\n",
    "    col_names = [col[0] for col in cursor.description]\n",
    "    return col_names\n",
    "\n",
    "def sqlexec(dbconn, query, verbose=False):\n",
    "    \"\"\"Wrap verbose processing around SQL query.\"\"\"\n",
    "    if verbose:\n",
    "        print(query)\n",
    "    return dbconn.execute(query)"
   ]
  },
  {
   "cell_type": "markdown",
   "metadata": {},
   "source": [
    "### SQL_Table Class"
   ]
  },
  {
   "cell_type": "code",
   "execution_count": 28,
   "metadata": {
    "collapsed": true,
    "execution": {
     "iopub.execute_input": "2022-07-26T21:58:09.174622Z",
     "iopub.status.busy": "2022-07-26T21:58:09.174351Z",
     "iopub.status.idle": "2022-07-26T21:58:09.180812Z",
     "shell.execute_reply": "2022-07-26T21:58:09.180184Z"
    }
   },
   "outputs": [],
   "source": [
    "class SQL_Table(Table):\n",
    "    \"\"\" Extend Table class with methods to read/write a Table\n",
    "    from/to a table in a SQLite3 database.\n",
    "    \"\"\"\n",
    "    @classmethod\n",
    "    def read(cls, filepath, table, verbose=False):\n",
    "        \"\"\"Create a SQL_Table by reading a table from a SQL database.\"\"\"\n",
    "        \n",
    "        dbconn = sqlite3.connect(filepath, \n",
    "                                 detect_types=sqlite3.PARSE_COLNAMES)\n",
    "        \n",
    "        col_names = sqlcol_names(dbconn, table)\n",
    "        rows = sqlexec(dbconn,'SELECT * from %s;' % table, verbose).fetchall()\n",
    "        dbconn.close()\n",
    "        return cls(col_names).with_rows(rows)\n",
    "    \n",
    "    def write(self, filepath, table, verbose=False, overwrite=True):\n",
    "        \"\"\"Write a Table into a SQL database as a SQL table.\"\"\"\n",
    "        \n",
    "        dbconn = sqlite3.connect(filepath)\n",
    "        # If a table of this name exists, set it aside\n",
    "        old_table = sqltable_exists(dbconn, table)\n",
    "        if overwrite and old_table:\n",
    "            backup = table+\"_bkp\"\n",
    "            if sqltable_exists(dbconn, backup):\n",
    "                sqlexec(dbconn, 'DROP TABLE %s;' % backup, verbose)\n",
    "            sqlexec(dbconn, 'ALTER TABLE %s RENAME TO %s;' % (table, backup), verbose)\n",
    "\n",
    "        # Create table and insert each row\n",
    "        cols = build_list(self.labels)\n",
    "        sqlexec(dbconn, \"CREATE TABLE %s %s;\" % (table, cols), verbose)\n",
    "        for row in self.rows:  \n",
    "            sqlexec(dbconn, 'INSERT INTO %s VALUES %s;' % (table, tuple(row)), verbose)\n",
    "        dbconn.commit()\n",
    "        \n",
    "        # clean up table, if was set aside\n",
    "        if overwrite and old_table:\n",
    "            try:\n",
    "                sqlexec(dbconn, 'DROP TABLE %s;' % backup, verbose)\n",
    "            except:\n",
    "                print('Unable to drop %s', backup)\n",
    "        dbconn.close()\n",
    "        \n",
    "    @classmethod\n",
    "    def cast(cls, table):\n",
    "        \"\"\"Return a SQL_Table version of a Table.\"\"\"\n",
    "        return cls().with_columns(zip(table.labels, table.columns))"
   ]
  },
  {
   "cell_type": "code",
   "execution_count": 29,
   "metadata": {
    "execution": {
     "iopub.execute_input": "2022-07-26T21:58:09.184007Z",
     "iopub.status.busy": "2022-07-26T21:58:09.183744Z",
     "iopub.status.idle": "2022-07-26T21:58:09.217169Z",
     "shell.execute_reply": "2022-07-26T21:58:09.216542Z"
    }
   },
   "outputs": [],
   "source": [
    "mycones = SQL_Table.read(\"icecream.db\", \"cones\", verbose=True)\n",
    "mycones"
   ]
  },
  {
   "cell_type": "code",
   "execution_count": 30,
   "metadata": {
    "execution": {
     "iopub.execute_input": "2022-07-26T21:58:09.220450Z",
     "iopub.status.busy": "2022-07-26T21:58:09.220218Z",
     "iopub.status.idle": "2022-07-26T21:58:09.231826Z",
     "shell.execute_reply": "2022-07-26T21:58:09.231033Z"
    }
   },
   "outputs": [],
   "source": [
    "type(mycones)"
   ]
  },
  {
   "cell_type": "code",
   "execution_count": 31,
   "metadata": {
    "execution": {
     "iopub.execute_input": "2022-07-26T21:58:09.235041Z",
     "iopub.status.busy": "2022-07-26T21:58:09.234754Z",
     "iopub.status.idle": "2022-07-26T21:58:09.247380Z",
     "shell.execute_reply": "2022-07-26T21:58:09.246838Z"
    }
   },
   "outputs": [],
   "source": [
    "db = mycones.write(\"test.db\", \"cones\", verbose=True)"
   ]
  },
  {
   "cell_type": "code",
   "execution_count": 32,
   "metadata": {
    "execution": {
     "iopub.execute_input": "2022-07-26T21:58:09.250085Z",
     "iopub.status.busy": "2022-07-26T21:58:09.249792Z",
     "iopub.status.idle": "2022-07-26T21:58:09.270765Z",
     "shell.execute_reply": "2022-07-26T21:58:09.270194Z"
    }
   },
   "outputs": [],
   "source": [
    "SQL_Table.read(\"test.db\", \"cones\")"
   ]
  },
  {
   "cell_type": "code",
   "execution_count": 33,
   "metadata": {
    "collapsed": true,
    "execution": {
     "iopub.execute_input": "2022-07-26T21:58:09.273887Z",
     "iopub.status.busy": "2022-07-26T21:58:09.273596Z",
     "iopub.status.idle": "2022-07-26T21:58:09.279600Z",
     "shell.execute_reply": "2022-07-26T21:58:09.278928Z"
    }
   },
   "outputs": [],
   "source": [
    "scones = SQL_Table.cast(cones)\n",
    "scones.write(\"cones.db\", \"cones\")"
   ]
  },
  {
   "cell_type": "code",
   "execution_count": 34,
   "metadata": {
    "execution": {
     "iopub.execute_input": "2022-07-26T21:58:09.282854Z",
     "iopub.status.busy": "2022-07-26T21:58:09.282530Z",
     "iopub.status.idle": "2022-07-26T21:58:09.287468Z",
     "shell.execute_reply": "2022-07-26T21:58:09.286881Z"
    }
   },
   "outputs": [],
   "source": [
    "SQL_Table.read(\"cones.db\", \"cones\")"
   ]
  },
  {
   "cell_type": "markdown",
   "metadata": {},
   "source": [
    "## A larger example - NBA Players\n",
    "We are now going to use a different dataset for more examples. This data set is related to NBA Players and their salary and has information such as the player name, the position they play, what team they are on, and their salary. "
   ]
  },
  {
   "cell_type": "code",
   "execution_count": 35,
   "metadata": {
    "execution": {
     "iopub.execute_input": "2022-07-26T21:58:09.290825Z",
     "iopub.status.busy": "2022-07-26T21:58:09.290564Z",
     "iopub.status.idle": "2022-07-26T21:58:10.262206Z",
     "shell.execute_reply": "2022-07-26T21:58:10.261331Z"
    }
   },
   "outputs": [],
   "source": [
    "# Table constructor method\n",
    "\n",
    "# NBA player data from 15-16 season\n",
    "nba = SQL_Table.read_table('nba_salaries.csv')\n",
    "nba"
   ]
  },
  {
   "cell_type": "markdown",
   "metadata": {},
   "source": [
    "SQL equivalent\n",
    "\n",
    "sqlite3 non-standard way to create a table from a csv file\n",
    "\n",
    "```\n",
    ".mode csv\n",
    ".import nba_salaries.csv nba_raw\n",
    "```\n",
    "\n",
    "Now we have a real table to work with\n",
    "```\n",
    "sqlite>.tables\n",
    "nba\n",
    "sqlite> .headers on\n",
    "sqlite> select * from nba_raw limit 10;\n",
    "```\n",
    "\n",
    "Caution: Here we have specified `limit` to reduce the size of the output.  Unlike the `__repr__` of `Table`, this is actually limiting the size of the returned table value. In non-interactive use, you would seldom want to do this."
   ]
  },
  {
   "cell_type": "code",
   "execution_count": 36,
   "metadata": {
    "collapsed": true,
    "execution": {
     "iopub.execute_input": "2022-07-26T21:58:10.266573Z",
     "iopub.status.busy": "2022-07-26T21:58:10.266308Z",
     "iopub.status.idle": "2022-07-26T21:58:10.278536Z",
     "shell.execute_reply": "2022-07-26T21:58:10.278056Z"
    }
   },
   "outputs": [],
   "source": [
    "nba.write(\"nba_salaries.db\", \"nba\")"
   ]
  },
  {
   "cell_type": "code",
   "execution_count": 37,
   "metadata": {
    "collapsed": true,
    "execution": {
     "iopub.execute_input": "2022-07-26T21:58:10.281508Z",
     "iopub.status.busy": "2022-07-26T21:58:10.281254Z",
     "iopub.status.idle": "2022-07-26T21:58:10.284098Z",
     "shell.execute_reply": "2022-07-26T21:58:10.283665Z"
    }
   },
   "outputs": [],
   "source": [
    "nba_db = sqlite3.connect(\"nba_salaries.db\")"
   ]
  },
  {
   "cell_type": "code",
   "execution_count": 38,
   "metadata": {
    "execution": {
     "iopub.execute_input": "2022-07-26T21:58:10.286980Z",
     "iopub.status.busy": "2022-07-26T21:58:10.286753Z",
     "iopub.status.idle": "2022-07-26T21:58:10.299739Z",
     "shell.execute_reply": "2022-07-26T21:58:10.299044Z"
    }
   },
   "outputs": [],
   "source": [
    "nba.select(['PLAYER', 'POSITION', 'TEAM'])"
   ]
  },
  {
   "cell_type": "markdown",
   "metadata": {},
   "source": [
    "SQL equivalent\n",
    "\n",
    "Specify columns by sequence of names separated by \",\", instead of \"*\".\n",
    "\n",
    "```\n",
    "select PLAYER, POSITION, TEAM from nba_raw limit 10;\n",
    "\n",
    "sqlite> select PLAYER, POSITION, TEAM from nba limit 10;\n",
    "PLAYER,POSITION,TEAM\n",
    "\"Paul Millsap\",PF,\"Atlanta Hawks\"\n",
    "\"Al Horford\",C,\"Atlanta Hawks\"\n",
    "\"Tiago Splitter\",C,\"Atlanta Hawks\"\n",
    "\"Jeff Teague\",PG,\"Atlanta Hawks\"\n",
    "\"Kyle Korver\",SG,\"Atlanta Hawks\"\n",
    "\"Thabo Sefolosha\",SF,\"Atlanta Hawks\"\n",
    "\"Mike Scott\",PF,\"Atlanta Hawks\"\n",
    "\"Kent Bazemore\",SF,\"Atlanta Hawks\"\n",
    "\"Dennis Schroder\",PG,\"Atlanta Hawks\"\n",
    "\"Tim Hardaway Jr.\",SG,\"Atlanta Hawks\"\n",
    "sqlite> \n",
    "```"
   ]
  },
  {
   "cell_type": "code",
   "execution_count": 39,
   "metadata": {
    "execution": {
     "iopub.execute_input": "2022-07-26T21:58:10.304017Z",
     "iopub.status.busy": "2022-07-26T21:58:10.303735Z",
     "iopub.status.idle": "2022-07-26T21:58:10.316116Z",
     "shell.execute_reply": "2022-07-26T21:58:10.315644Z"
    }
   },
   "outputs": [],
   "source": [
    "nba_db.execute(\"select PLAYER, POSITION, TEAM from nba;\").fetchall()"
   ]
  },
  {
   "cell_type": "code",
   "execution_count": 40,
   "metadata": {
    "execution": {
     "iopub.execute_input": "2022-07-26T21:58:10.319264Z",
     "iopub.status.busy": "2022-07-26T21:58:10.318945Z",
     "iopub.status.idle": "2022-07-26T21:58:10.329923Z",
     "shell.execute_reply": "2022-07-26T21:58:10.329429Z"
    }
   },
   "outputs": [],
   "source": [
    "nba.where('TEAM', 'Atlanta Hawks')"
   ]
  },
  {
   "cell_type": "markdown",
   "metadata": {},
   "source": [
    "SQL equivalent\n",
    "\n",
    "```\n",
    "select * from nba_raw where TEAM = \"Atlanta Hawks\";\n",
    "```\n"
   ]
  },
  {
   "cell_type": "code",
   "execution_count": 41,
   "metadata": {
    "execution": {
     "iopub.execute_input": "2022-07-26T21:58:10.333244Z",
     "iopub.status.busy": "2022-07-26T21:58:10.333001Z",
     "iopub.status.idle": "2022-07-26T21:58:10.344498Z",
     "shell.execute_reply": "2022-07-26T21:58:10.343953Z"
    }
   },
   "outputs": [],
   "source": [
    "nba_db.execute('select * from nba where TEAM = \"Atlanta Hawks\";').fetchall()"
   ]
  },
  {
   "cell_type": "code",
   "execution_count": 42,
   "metadata": {
    "execution": {
     "iopub.execute_input": "2022-07-26T21:58:10.347756Z",
     "iopub.status.busy": "2022-07-26T21:58:10.347487Z",
     "iopub.status.idle": "2022-07-26T21:58:10.359342Z",
     "shell.execute_reply": "2022-07-26T21:58:10.358735Z"
    },
    "scrolled": true
   },
   "outputs": [],
   "source": [
    "nba.where(nba['SALARY'] > 15)"
   ]
  },
  {
   "cell_type": "code",
   "execution_count": 43,
   "metadata": {
    "execution": {
     "iopub.execute_input": "2022-07-26T21:58:10.362835Z",
     "iopub.status.busy": "2022-07-26T21:58:10.362573Z",
     "iopub.status.idle": "2022-07-26T21:58:10.374011Z",
     "shell.execute_reply": "2022-07-26T21:58:10.373522Z"
    }
   },
   "outputs": [],
   "source": [
    "nba_db.execute('select PLAYER, SALARY from nba where SALARY > 15').fetchall()"
   ]
  },
  {
   "cell_type": "markdown",
   "metadata": {},
   "source": [
    "## Exploring this in the sqlite3 session\n",
    "\n",
    "Try this using the nba_raw table in the nba_salaries database imported as above.  You will see some of the common subtleties of data types.\n",
    "\n",
    "```\n",
    "select PLAYER, SALARY from nba_raw where SALARY > 10 limit 10;\n",
    "\n",
    "select PLAYER, SALARY from nba_raw where cast(SALARY as int) > 10 limit 10;\n",
    "```\n",
    "Why isn't this working?\n",
    "\n",
    "At the command line we could do\n",
    "```\n",
    ".schema raw_nba\n",
    "```\n",
    "But within SQL itself we can get to this information because sqlite3\n",
    "holds its own information in (hidden) tables.\n",
    "\n",
    "```\n",
    "select * from sqlite_master;\n",
    "select sql from sqlite_master where name=\"nba_raw\";\n",
    "```\n",
    "We can create a new table from an existing one and get the type specified in the process.\n",
    "\n",
    "```\n",
    "create table nba as\n",
    "    select PLAYER, POSITION, TEAM, cast(SALARY as REAL) as SALARY from nba_raw;\n",
    "    \n",
    "select * from nba where SALARY > 15 order by SALARY;\n",
    "```"
   ]
  },
  {
   "cell_type": "markdown",
   "metadata": {},
   "source": [
    "### LIKE operator\n",
    "\n",
    "```\n",
    "select * from nba where TEAM like \"Atlanta%\";\n",
    "```\n",
    "Try this out\n",
    "```\n",
    "sqlite> select * from nba where TEAM like \"Atlanta%\";\n",
    "PLAYER,POSITION,TEAM,SALARY\n",
    "\"Paul Millsap\",PF,\"Atlanta Hawks\",18.671659\n",
    "\"Al Horford\",C,\"Atlanta Hawks\",12.0\n",
    "\"Tiago Splitter\",C,\"Atlanta Hawks\",9.75625\n",
    "\"Jeff Teague\",PG,\"Atlanta Hawks\",8.0\n",
    "\"Kyle Korver\",SG,\"Atlanta Hawks\",5.746479\n",
    "\"Thabo Sefolosha\",SF,\"Atlanta Hawks\",4.0\n",
    "\"Mike Scott\",PF,\"Atlanta Hawks\",3.333333\n",
    "\"Kent Bazemore\",SF,\"Atlanta Hawks\",2.0\n",
    "\"Dennis Schroder\",PG,\"Atlanta Hawks\",1.7634\n",
    "\"Tim Hardaway Jr.\",SG,\"Atlanta Hawks\",1.3045200000000001\n",
    "\"Walter Tavares\",C,\"Atlanta Hawks\",1.0\n",
    "\"Jason Richardson\",SG,\"Atlanta Hawks\",0.947276\n",
    "\"Lamar Patterson\",SG,\"Atlanta Hawks\",0.525093\n",
    "\"Terran Petteway\",SG,\"Atlanta Hawks\",0.525093\n",
    "sqlite> \n",
    "```"
   ]
  },
  {
   "cell_type": "code",
   "execution_count": 44,
   "metadata": {
    "collapsed": true,
    "execution": {
     "iopub.execute_input": "2022-07-26T21:58:10.377508Z",
     "iopub.status.busy": "2022-07-26T21:58:10.377278Z",
     "iopub.status.idle": "2022-07-26T21:58:10.388388Z",
     "shell.execute_reply": "2022-07-26T21:58:10.387887Z"
    }
   },
   "outputs": [],
   "source": [
    "nba_db.execute('select * from nba where TEAM like \"Atlanta%\";').fetchall()"
   ]
  },
  {
   "cell_type": "markdown",
   "metadata": {},
   "source": [
    "### Further Reading\n",
    "To learn more about SQL and get some more practice with it, feel free to check out the following links as resources:\n",
    "* [SQL Zoo](https://sqlzoo.net/)\n",
    "* [Mode Analytics](https://mode.com/)\n",
    "* [W3Schools](https://www.w3resource.com/sql/tutorials.php)\n",
    "\n",
    "Stack Overflow and Google are also great ways to learn more from people who are also working with and learning about SQL as well, definitely use them in your path to learning more about data science and SQL!"
   ]
  },
  {
   "cell_type": "code",
   "execution_count": null,
   "metadata": {
    "collapsed": true
   },
   "outputs": [],
   "source": []
  },
  {
   "cell_type": "markdown",
   "metadata": {},
   "source": [
    "---"
   ]
  },
  {
   "cell_type": "markdown",
   "metadata": {},
   "source": [
    "## Finishing up\n",
    "\n",
    "**Important submission information:** \n",
    "- Be sure to run the tests and verify that they all pass by running the `grader.check_all()` cell below,\n",
    "- Save your progress by choosing the **Save and Checkpoint** item in the **File** menu, \n",
    "- Submit your work by clicking the **Submit** button in the toolbar at the top of notebook. \n",
    "- Download a zip file of this notebook by running the last cell below. **Note:** Be sure to run all the tests before exporting so that all images/graphs appear in the exported notebook. \n",
    "\n",
    "**Please save before submitting!**"
   ]
  },
  {
   "cell_type": "code",
   "execution_count": 45,
   "metadata": {
    "execution": {
     "iopub.execute_input": "2022-07-26T21:58:10.394737Z",
     "iopub.status.busy": "2022-07-26T21:58:10.394475Z",
     "iopub.status.idle": "2022-07-26T21:58:10.405837Z",
     "shell.execute_reply": "2022-07-26T21:58:10.405388Z"
    }
   },
   "outputs": [],
   "source": [
    "# To double-check your work, the cell below will rerun all of the autograder tests.\n",
    "grader.check_all()"
   ]
  },
  {
   "cell_type": "code",
   "execution_count": 46,
   "metadata": {
    "execution": {
     "iopub.execute_input": "2022-07-26T21:58:10.408737Z",
     "iopub.status.busy": "2022-07-26T21:58:10.408425Z",
     "iopub.status.idle": "2022-07-26T21:58:10.419787Z",
     "shell.execute_reply": "2022-07-26T21:58:10.419296Z"
    }
   },
   "outputs": [],
   "source": [
    "# Save your notebook first, then run this cell to export your submission.\n",
    "grader.export(pdf=False)"
   ]
  }
 ],
 "metadata": {
  "kernelspec": {
   "display_name": "Python 3",
   "language": "python",
   "name": "python3"
  },
  "language_info": {
   "codemirror_mode": {
    "name": "ipython",
    "version": 3
   },
   "file_extension": ".py",
   "mimetype": "text/x-python",
   "name": "python",
   "nbconvert_exporter": "python",
   "pygments_lexer": "ipython3",
   "version": "3.9.7"
  },
  "course": "8x",
  "section": "reference",
  "lab": "datascience-to-SQL"
 },
 "nbformat": 4,
 "nbformat_minor": 5
}