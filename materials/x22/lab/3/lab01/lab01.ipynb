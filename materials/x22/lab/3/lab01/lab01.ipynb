{
 "cells": [
  {
   "cell_type": "code",
   "execution_count": null,
   "id": "4d09162f",
   "metadata": {
    "deletable": false,
    "editable": false
   },
   "outputs": [],
   "source": [
    "# Initialize Otter\n",
    "import otter\n",
    "grader = otter.Notebook(\"lab01.ipynb\")"
   ]
  },
  {
   "cell_type": "markdown",
   "id": "70fabe88",
   "metadata": {},
   "source": [
    "# Lab 1: Normal Distribution and Variability of Sample Means\n",
    "\n",
    "Welcome to Lab 1!\n",
    "\n",
    "In this lab, we will learn about [the variability of sample means](https://inferentialthinking.com/chapters/14/5/Variability_of_the_Sample_Mean.html) as well as [the normal distribution](https://www.inferentialthinking.com/chapters/14/3/SD_and_the_Normal_Curve.html).\n"
   ]
  },
  {
   "cell_type": "code",
   "execution_count": 1,
   "id": "ba8a563f",
   "metadata": {
    "execution": {
     "iopub.execute_input": "2022-06-30T17:16:36.798151Z",
     "iopub.status.busy": "2022-06-30T17:16:36.797454Z",
     "iopub.status.idle": "2022-06-30T17:16:39.393972Z",
     "shell.execute_reply": "2022-06-30T17:16:39.393469Z"
    }
   },
   "outputs": [],
   "source": [
    "# Run this cell, but please don't change it.\n",
    "\n",
    "# These lines import the Numpy and Datascience modules.\n",
    "import numpy as np\n",
    "from datascience import *\n",
    "\n",
    "# These lines do some fancy plotting magic.\n",
    "import matplotlib\n",
    "%matplotlib inline\n",
    "import matplotlib.pyplot as plots\n",
    "plots.style.use('fivethirtyeight')\n",
    "import warnings\n",
    "warnings.simplefilter('ignore')\n",
    "\n",
    "import d8error"
   ]
  },
  {
   "cell_type": "markdown",
   "id": "54f66394",
   "metadata": {},
   "source": [
    "# 1. Normal Distributions\n",
    "\n",
    "When we visualize the distribution of a sample, we are often interested in the mean and the standard deviation of the sample (for the rest of this lab, we will abbreviate \u201cstandard deviation\u201d as \u201cSD\u201d). These two sample statistics can give us a bird\u2019s eye view of the distribution -- by letting us know where the distribution sits on the number line and how spread out it is, respectively. "
   ]
  },
  {
   "cell_type": "markdown",
   "id": "ec4a63e6",
   "metadata": {},
   "source": [
    "We want to check if the data is linearly related, so we should look at the data."
   ]
  },
  {
   "cell_type": "markdown",
   "id": "bb59470e",
   "metadata": {
    "deletable": false,
    "editable": false
   },
   "source": [
    "**Question 1.1.** The next cell loads the table `births` from lecture, which is a large random sample of US births and includes information about mother-child pairs. \n",
    "\n",
    "Plot the distribution of mother\u2019s ages from the table. Don\u2019t change the last line, which will plot the mean of the sample on the distribution itself.\n",
    "\n",
    "<!--\n",
    "BEGIN QUESTION\n",
    "name: q1_1\n",
    "-->"
   ]
  },
  {
   "cell_type": "code",
   "execution_count": 2,
   "id": "0f3d1c1a",
   "metadata": {
    "deletable": false,
    "execution": {
     "iopub.execute_input": "2022-06-30T17:16:39.399037Z",
     "iopub.status.busy": "2022-06-30T17:16:39.398676Z",
     "iopub.status.idle": "2022-06-30T17:16:40.389673Z",
     "shell.execute_reply": "2022-06-30T17:16:40.388931Z"
    }
   },
   "outputs": [],
   "source": [
    "births = Table.read_table('baby.csv')\n",
    "...\n",
    "\n",
    "# Do not change anything below this line\n",
    "plots.scatter(np.mean(births.column(\"Maternal Age\")), 0, color='red', zorder=2, s=50);\n",
    "plots.ylim(-0.005, 0.07);"
   ]
  },
  {
   "cell_type": "markdown",
   "id": "c9a3d017",
   "metadata": {},
   "source": [
    "From the plot above, we can see that the mean is the center of gravity or balance point of the distribution. If you cut the distribution out of cardboard, and then placed your finger at the mean, the distribution would perfectly balance on your finger. Since the distribution above is right skewed (which means it has a long right tail), we know that the mean of the distribution is larger than the median, which is the \u201chalfway\u201d point of the data. Conversely, if the distribution had been left skewed, we know the mean would be smaller than the median."
   ]
  },
  {
   "cell_type": "markdown",
   "id": "8ad7fe88",
   "metadata": {
    "deletable": false,
    "editable": false
   },
   "source": [
    "**Question 1.2.** Run the following cell to compare the mean (red) and median (blue) of the distribution of mothers ages.\n",
    "\n",
    "<!--\n",
    "BEGIN QUESTION\n",
    "name: q1_2\n",
    "-->"
   ]
  },
  {
   "cell_type": "code",
   "execution_count": 3,
   "id": "1cc47a85",
   "metadata": {
    "execution": {
     "iopub.execute_input": "2022-06-30T17:16:40.393615Z",
     "iopub.status.busy": "2022-06-30T17:16:40.393306Z",
     "iopub.status.idle": "2022-06-30T17:16:40.409075Z",
     "shell.execute_reply": "2022-06-30T17:16:40.408439Z"
    }
   },
   "outputs": [],
   "source": [
    "births.hist(\"Maternal Age\")\n",
    "plots.scatter(np.mean(births.column(\"Maternal Age\")), 0, color='red', zorder=2, s=50, label=\"Mean\")\n",
    "plots.scatter(np.median(births.column(\"Maternal Age\")), 0, color='blue', zorder=2, s=50, label=\"Median\")\n",
    "plots.legend()\n",
    "plots.ylim(-0.005, 0.07);"
   ]
  },
  {
   "cell_type": "markdown",
   "id": "78c1c3b1",
   "metadata": {},
   "source": [
    "We are also interested in the standard deviation of mother\u2019s ages. The SD gives us a sense of how variable mothers' ages are around the average mothers' age. If the SD is large, then the mothers' ages should spread over a large range from the mean. If the SD is small, then the mothers' ages should be tightly clustered around the average mother age. \n",
    "\n",
    "**The SD of an array is defined as the root mean square of the deviations where the deviations are the difference between the original elements and their average.**\n",
    "\n",
    "You can read more about Variability and SD in [Chapter 14.2](https://inferentialthinking.com/chapters/14/2/Variability.html). Fun fact! $\\sigma$ (Greek letter sigma) is used to represent the SD and $\\mu$ (Greek letter mu) is used for the mean. "
   ]
  },
  {
   "cell_type": "markdown",
   "id": "a15857eb",
   "metadata": {
    "deletable": false,
    "editable": false
   },
   "source": [
    "**Question 1.3.** Assign `age_mean` to the mean of the maternal ages and `age_sd` to the SD of the maternal ages. Then run the cell below to see the width of one SD (blue) from the sample mean (red) plotted on the histogram of maternal ages.\n",
    "\n",
    "<!--\n",
    "BEGIN QUESTION\n",
    "name: q1_3\n",
    "-->"
   ]
  },
  {
   "cell_type": "code",
   "execution_count": 4,
   "id": "04026142",
   "metadata": {
    "execution": {
     "iopub.execute_input": "2022-06-30T17:16:40.413199Z",
     "iopub.status.busy": "2022-06-30T17:16:40.412913Z",
     "iopub.status.idle": "2022-06-30T17:16:40.430007Z",
     "shell.execute_reply": "2022-06-30T17:16:40.429405Z"
    },
    "for_assignment_type": "solution",
    "scrolled": true
   },
   "outputs": [],
   "source": [
    "age_mean = ...\n",
    "age_sd = ...\n",
    "births.hist(\"Maternal Age\")\n",
    "\n",
    "plots.scatter(age_mean, 0, color='red', zorder=2, s=50);\n",
    "plots.scatter(age_mean+age_sd, 0, marker='^', color='blue', zorder=2, s=50);\n",
    "plots.scatter(age_mean-age_sd, 0, marker='^', color='blue', zorder=2, s=50);\n",
    "plots.ylim(-0.005, 0.07);"
   ]
  },
  {
   "cell_type": "code",
   "execution_count": null,
   "id": "63f3c81e",
   "metadata": {
    "deletable": false,
    "editable": false
   },
   "outputs": [],
   "source": [
    "grader.check(\"q1_3\")"
   ]
  },
  {
   "cell_type": "markdown",
   "id": "efdde178",
   "metadata": {},
   "source": [
    "In this histogram, the standard deviation is not easy to identify just by looking at the graph.\n",
    "\n",
    "However, the distributions of some variables allow us to easily spot the standard deviation on the plot. For example, if a sample follows a *normal distribution*, the standard deviation is easily spotted at the point of inflection (the point where the curve begins to change the direction of its curvature) of the distribution. "
   ]
  },
  {
   "cell_type": "markdown",
   "id": "0d7372b6",
   "metadata": {
    "deletable": false,
    "editable": false
   },
   "source": [
    "**Question 1.4.** Fill in the following code to examine the distribution of maternal heights, which is roughly normally distributed. We\u2019ll plot the standard deviation on the histogram, as before - notice where one standard deviation (blue) away from the mean (red) falls on the plot.\n",
    "\n",
    "<!--\n",
    "BEGIN QUESTION\n",
    "name: q1_4\n",
    "-->"
   ]
  },
  {
   "cell_type": "code",
   "execution_count": 7,
   "id": "ae20df2a",
   "metadata": {
    "execution": {
     "iopub.execute_input": "2022-06-30T17:16:40.464700Z",
     "iopub.status.busy": "2022-06-30T17:16:40.464151Z",
     "iopub.status.idle": "2022-06-30T17:16:40.482286Z",
     "shell.execute_reply": "2022-06-30T17:16:40.481428Z"
    },
    "scrolled": true
   },
   "outputs": [],
   "source": [
    "height_mean = ...\n",
    "height_sd = ...\n",
    "births.hist(\"Maternal Height\", bins=np.arange(55,75,1))\n",
    "\n",
    "plots.scatter((height_mean), 0, color='red', zorder=2, s=50);\n",
    "plots.scatter(height_mean+height_sd, 0, marker='^', color='blue', zorder=2, s=50);\n",
    "plots.scatter(height_mean-height_sd, 0, marker='^', color='blue', zorder=2, s=50);\n",
    "plots.ylim(-0.01, 0.16);"
   ]
  },
  {
   "cell_type": "code",
   "execution_count": null,
   "id": "ccd20c0a",
   "metadata": {
    "deletable": false,
    "editable": false
   },
   "outputs": [],
   "source": [
    "grader.check(\"q1_4\")"
   ]
  },
  {
   "cell_type": "markdown",
   "id": "8c9d3d51",
   "metadata": {},
   "source": [
    "We don\u2019t always know how a variable will be distributed, and making assumptions about whether or not a variable will follow a normal distribution is dangerous. However, the **Central Limit Theorem** defines one distribution that always follows a normal distribution. **The distribution of the *sums* and *means* of all large random samples drawn with replacement from a single distribution (regardless of the distribution\u2019s original shape) will be normally distributed.** Remember that the Central Limit Theorem refers to the distribution of a *statistic* calculated from a distribution, not the distribution of the original sample or population. If this is confusing, ask a staff member!\n",
    "\n",
    "The next section will explore distributions of sample means, and you will see how the standard deviation of these distributions depends on sample sizes."
   ]
  },
  {
   "cell_type": "markdown",
   "id": "cb7421b3",
   "metadata": {},
   "source": [
    "## Lab Attendance Checkoff\n",
    "\n",
    "When you are ready for check-in please call you GSI or AI over and answer: What changes about sample averages when you quadruple the sample size of a bunch of large random samples from some population?\n"
   ]
  },
  {
   "cell_type": "markdown",
   "id": "3ce96029",
   "metadata": {},
   "source": [
    "# 2. Variability of the Sample Mean\n",
    "\n",
    "By the [Central Limit Theorem](https://www.inferentialthinking.com/chapters/14/4/Central_Limit_Theorem.html), the probability distribution of the mean or sum of a large random sample is roughly normal. The bell curve is centered at the population mean. Some of the sample means are higher and some are lower, but the deviations from the population mean are roughly symmetric on either side, as we have seen repeatedly. \n",
    "\n",
    "In our simulations, we also noticed that the means of larger samples tend to be more tightly clustered around the population mean than means of smaller samples. In this section, we will quantify the [variability of the sample mean](https://www.inferentialthinking.com/chapters/14/5/Variability_of_the_Sample_Mean.html) and develop a relation between the variability and the sample size.\n",
    "\n",
    "Let's take a look at the salaries of employees of the City of San Francisco in 2014. The mean salary reported by the city government was about $75,463.92.\n",
    "\n",
    "*Note: If you get stuck on any part of this lab, please refer to [Chapter 14 of the textbook](https://www.inferentialthinking.com/chapters/14/Why_the_Mean_Matters.html).*"
   ]
  },
  {
   "cell_type": "code",
   "execution_count": 10,
   "id": "d9d7c6f8",
   "metadata": {
    "execution": {
     "iopub.execute_input": "2022-06-30T17:16:40.518660Z",
     "iopub.status.busy": "2022-06-30T17:16:40.518388Z",
     "iopub.status.idle": "2022-06-30T17:16:40.590855Z",
     "shell.execute_reply": "2022-06-30T17:16:40.590032Z"
    }
   },
   "outputs": [],
   "source": [
    "salaries = Table.read_table('sf_salaries_2014.csv').select(\"salary\")\n",
    "salaries.show(5)"
   ]
  },
  {
   "cell_type": "code",
   "execution_count": 11,
   "id": "c20a71e1",
   "metadata": {
    "execution": {
     "iopub.execute_input": "2022-06-30T17:16:40.595229Z",
     "iopub.status.busy": "2022-06-30T17:16:40.594953Z",
     "iopub.status.idle": "2022-06-30T17:16:40.607667Z",
     "shell.execute_reply": "2022-06-30T17:16:40.606958Z"
    }
   },
   "outputs": [],
   "source": [
    "salary_mean = np.mean(salaries.column('salary'))\n",
    "print('Mean salary of San Francisco city employees in 2014: ', salary_mean.round(2))"
   ]
  },
  {
   "cell_type": "code",
   "execution_count": 12,
   "id": "72df5c14",
   "metadata": {
    "execution": {
     "iopub.execute_input": "2022-06-30T17:16:40.611751Z",
     "iopub.status.busy": "2022-06-30T17:16:40.611465Z",
     "iopub.status.idle": "2022-06-30T17:16:40.625616Z",
     "shell.execute_reply": "2022-06-30T17:16:40.625156Z"
    }
   },
   "outputs": [],
   "source": [
    "salaries.hist('salary', bins=np.arange(0, 250000+10000*2, 10000))\n",
    "plots.scatter(salary_mean, 0, color='red', zorder=2, s=50)\n",
    "plots.title('2014 salaries of city of SF employees')\n",
    "plots.ylim(-0.0000005, 0.000014);"
   ]
  },
  {
   "cell_type": "markdown",
   "id": "bf1154ba",
   "metadata": {},
   "source": [
    "Clearly, the population *does not* follow a normal distribution. Keep that in mind as we progress through these exercises.\n",
    "\n",
    "Let's take random samples **with replacement** and look at the probability distribution of the sample mean. As usual, we will use simulation to get an empirical approximation to this distribution."
   ]
  },
  {
   "cell_type": "markdown",
   "id": "2582e674",
   "metadata": {
    "deletable": false,
    "editable": false
   },
   "source": [
    "**Question 2.1.** Define a function `one_sample_mean`. Its arguments should be `table` (the name of a table), `label` (the label of the column containing the variable), and `sample_size`(the number of employees in the sample). It should sample with replacement from the table and\n",
    "return the mean of the `label` column of the sample.\n",
    "\n",
    "<!--\n",
    "BEGIN QUESTION\n",
    "name: q2_1\n",
    "-->"
   ]
  },
  {
   "cell_type": "code",
   "execution_count": 13,
   "id": "cedcdc76",
   "metadata": {
    "execution": {
     "iopub.execute_input": "2022-06-30T17:16:40.629205Z",
     "iopub.status.busy": "2022-06-30T17:16:40.628953Z",
     "iopub.status.idle": "2022-06-30T17:16:40.632211Z",
     "shell.execute_reply": "2022-06-30T17:16:40.631756Z"
    }
   },
   "outputs": [],
   "source": [
    "def one_sample_mean(table, label, sample_size):\n",
    "    new_sample = ...\n",
    "    new_sample_mean = ...\n",
    "    ..."
   ]
  },
  {
   "cell_type": "code",
   "execution_count": null,
   "id": "7d5f8f50",
   "metadata": {
    "deletable": false,
    "editable": false
   },
   "outputs": [],
   "source": [
    "grader.check(\"q2_1\")"
   ]
  },
  {
   "cell_type": "markdown",
   "id": "29e73b2c",
   "metadata": {
    "deletable": false,
    "editable": false
   },
   "source": [
    "**Question 2.2.** Use `one_sample_mean` to define a function `simulate_sample_mean`. The arguments are the name of the `table`, the `label` of the column containing the variable, the `sample_size`, and the number of simulations (`repetitions`).\n",
    "\n",
    "The function should sample with replacement from the table and calculate the mean of each sample. It should save the sample means in an array called `means`. The remaining code in the function displays an empirical histogram of the sample means.\n",
    "\n",
    "*Note: We round all values to 2 decimal places because we are working with salaries.*\n",
    "\n",
    "<!--\n",
    "BEGIN QUESTION\n",
    "name: q2_2\n",
    "-->"
   ]
  },
  {
   "cell_type": "code",
   "execution_count": 15,
   "id": "0ef31275",
   "metadata": {
    "deletable": false,
    "execution": {
     "iopub.execute_input": "2022-06-30T17:16:40.651227Z",
     "iopub.status.busy": "2022-06-30T17:16:40.650889Z",
     "iopub.status.idle": "2022-06-30T17:16:40.655952Z",
     "shell.execute_reply": "2022-06-30T17:16:40.655462Z"
    }
   },
   "outputs": [],
   "source": [
    "\"\"\"Empirical distribution of random sample means\"\"\"\n",
    "\n",
    "def simulate_sample_mean(table, label, sample_size, repetitions):\n",
    "    \n",
    "    means = make_array()\n",
    "\n",
    "    for i in np.arange(repetitions):\n",
    "        new_sample_mean = ...\n",
    "        means = ...\n",
    "\n",
    "    sample_means = Table().with_column('Sample Means', means)\n",
    "    \n",
    "    # Display empirical histogram and print all relevant quantities \u2013 don't change this!\n",
    "    sample_means.hist(bins=20)\n",
    "    plots.xlabel('Sample Means')\n",
    "    plots.title('Sample Size {sample_size}; {repetitions} Resamples'.format(sample_size=sample_size, repetitions=repetitions))\n",
    "    print(\"Sample size: \", sample_size)\n",
    "    print(\"Population mean:\", np.mean(table.column(label)).round(2))\n",
    "    print(\"Average of sample means: \", np.mean(means).round(2))\n",
    "    print(\"Population SD:\", np.std(table.column(label)).round(2))\n",
    "    print(\"SD of sample means:\", np.std(means).round(2))\n",
    "    return np.std(means)"
   ]
  },
  {
   "cell_type": "markdown",
   "id": "6dfa8fb8",
   "metadata": {},
   "source": [
    "Verify with a peer or TA that you've implemented the function above correctly. If you haven't implemented it correctly, the rest of the lab won't work properly, so this step is crucial."
   ]
  },
  {
   "cell_type": "markdown",
   "id": "60450f90",
   "metadata": {},
   "source": [
    " In the following cell, we will create a sample of size 100 from `salaries` and graph it using our new `simulate_sample_mean` function.\n",
    " \n",
    " *Hint: You should see a distribution similar to something we've been talking about. If not, check your function.*"
   ]
  },
  {
   "cell_type": "code",
   "execution_count": 16,
   "id": "bcd33413",
   "metadata": {
    "execution": {
     "iopub.execute_input": "2022-06-30T17:16:40.659492Z",
     "iopub.status.busy": "2022-06-30T17:16:40.659243Z",
     "iopub.status.idle": "2022-06-30T17:16:40.670840Z",
     "shell.execute_reply": "2022-06-30T17:16:40.670366Z"
    }
   },
   "outputs": [],
   "source": [
    "simulate_sample_mean(salaries, 'salary', 100, 10000) \n",
    "plots.xlim(50000, 100000);"
   ]
  },
  {
   "cell_type": "markdown",
   "id": "d715054f",
   "metadata": {},
   "source": [
    "Notice that our distribution of *sample means* looks approximately normal! Did it matter if our original distribution was normally distributed?"
   ]
  },
  {
   "cell_type": "markdown",
   "id": "188e50b9",
   "metadata": {
    "deletable": false,
    "editable": false
   },
   "source": [
    "**Question 2.3.** Simulate two sample means, one for a sample of 400 salaries and one for a sample of 625 salaries. In each case, perform 10,000 repetitions. Don't worry about the `plots.xlim` or `plots.ylim` lines \u2013 they just make sure that all of the plots have the same x-axis and y-axis, respectively. \n",
    "\n",
    "<!--\n",
    "BEGIN QUESTION\n",
    "name: q2_3\n",
    "-->"
   ]
  },
  {
   "cell_type": "code",
   "execution_count": 17,
   "id": "8728b00c",
   "metadata": {
    "execution": {
     "iopub.execute_input": "2022-06-30T17:16:40.674836Z",
     "iopub.status.busy": "2022-06-30T17:16:40.674463Z",
     "iopub.status.idle": "2022-06-30T17:16:40.690013Z",
     "shell.execute_reply": "2022-06-30T17:16:40.689439Z"
    },
    "for_assignment_type": "solution"
   },
   "outputs": [],
   "source": [
    "simulate_sample_mean(..., ..., ..., ...)\n",
    "plots.xlim(50000, 100000)\n",
    "plots.ylim(0, 0.0002)\n",
    "plots.show();\n",
    "print('\\n')\n",
    "simulate_sample_mean(..., ..., ..., ...)\n",
    "plots.xlim(50000, 100000)\n",
    "plots.ylim(0, 0.0002)\n",
    "plots.show();"
   ]
  },
  {
   "cell_type": "markdown",
   "id": "918df290",
   "metadata": {
    "deletable": false,
    "editable": false
   },
   "source": [
    "**Question 2.4.** Assign `q2_4` to an array of numbers corresponding to true statement(s) about the plots from 2.3. \n",
    "\n",
    "*Hint*: If a distribution is bell-shaped, what type of curve does it follow? \n",
    "\n",
    "1. We see the Central Limit Theorem (CLT) in action because the distributions of the sample means are bell-shaped.\n",
    "2. We see the Law of Averages in action because the distributions of the sample means look like the distribution of the population.\n",
    "3. One of the conditions for CLT is that we have to draw a small random sample with replacement from the population.\n",
    "4. One of the conditions for CLT is that we have to draw a large random sample with replacement from the population.\n",
    "5. One of the conditions for CLT is that the population must be normally distributed.\n",
    "\n",
    "<!--\n",
    "BEGIN QUESTION\n",
    "name: q2_4\n",
    "-->"
   ]
  },
  {
   "cell_type": "code",
   "execution_count": 18,
   "id": "6038d80e",
   "metadata": {
    "execution": {
     "iopub.execute_input": "2022-06-30T17:16:40.693457Z",
     "iopub.status.busy": "2022-06-30T17:16:40.693113Z",
     "iopub.status.idle": "2022-06-30T17:16:40.697295Z",
     "shell.execute_reply": "2022-06-30T17:16:40.696748Z"
    },
    "for_assignment_type": "solution"
   },
   "outputs": [],
   "source": [
    "q2_4 = ..."
   ]
  },
  {
   "cell_type": "code",
   "execution_count": null,
   "id": "e09d17e6",
   "metadata": {
    "deletable": false,
    "editable": false
   },
   "outputs": [],
   "source": [
    "grader.check(\"q2_4\")"
   ]
  },
  {
   "cell_type": "markdown",
   "id": "2c210836",
   "metadata": {
    "deletable": false,
    "editable": false
   },
   "source": [
    "**Question 2.5.** Assign `q2_5` to an array of numbers corresponding to true statement(s) about the plots from 2.3.\n",
    "\n",
    "1. Both plots in 2.3 are roughly centered around the population mean.\n",
    "2. Both plots in 2.3 are roughly centered around the mean of a particular sample.\n",
    "3. The distribution of sample means for sample size 625 has less variability than the distribution of sample means for sample size 400.\n",
    "4. The distribution of sample means for sample size 625 has more variability than the distribution of sample means for sample size 400.\n",
    "\n",
    "<!--\n",
    "BEGIN QUESTION\n",
    "name: q2_5\n",
    "-->"
   ]
  },
  {
   "cell_type": "code",
   "execution_count": 20,
   "id": "ef69bc3e",
   "metadata": {
    "execution": {
     "iopub.execute_input": "2022-06-30T17:16:40.709444Z",
     "iopub.status.busy": "2022-06-30T17:16:40.709125Z",
     "iopub.status.idle": "2022-06-30T17:16:40.712714Z",
     "shell.execute_reply": "2022-06-30T17:16:40.712063Z"
    }
   },
   "outputs": [],
   "source": [
    "q2_5 = ..."
   ]
  },
  {
   "cell_type": "code",
   "execution_count": null,
   "id": "5e7706b2",
   "metadata": {
    "deletable": false,
    "editable": false
   },
   "outputs": [],
   "source": [
    "grader.check(\"q2_5\")"
   ]
  },
  {
   "cell_type": "markdown",
   "id": "c3af2fee",
   "metadata": {},
   "source": [
    "Below, we'll look at what happens when we take an **increasing number of resamples of a fixed sample size.** Notice what number in the code changes, and what stays the same. How does the distribution of the resampled means change?"
   ]
  },
  {
   "cell_type": "code",
   "execution_count": 22,
   "id": "212381db",
   "metadata": {
    "execution": {
     "iopub.execute_input": "2022-06-30T17:16:40.723444Z",
     "iopub.status.busy": "2022-06-30T17:16:40.723194Z",
     "iopub.status.idle": "2022-06-30T17:16:40.737267Z",
     "shell.execute_reply": "2022-06-30T17:16:40.736582Z"
    }
   },
   "outputs": [],
   "source": [
    "simulate_sample_mean(salaries, 'salary', 100, 500)\n",
    "plots.xlim(50000, 100000)\n",
    "plots.ylim(0, 0.00009);"
   ]
  },
  {
   "cell_type": "code",
   "execution_count": 23,
   "id": "2592da8a",
   "metadata": {
    "execution": {
     "iopub.execute_input": "2022-06-30T17:16:40.740453Z",
     "iopub.status.busy": "2022-06-30T17:16:40.740209Z",
     "iopub.status.idle": "2022-06-30T17:16:40.752937Z",
     "shell.execute_reply": "2022-06-30T17:16:40.752364Z"
    }
   },
   "outputs": [],
   "source": [
    "simulate_sample_mean(salaries, 'salary', 100, 1000)\n",
    "plots.xlim(50000, 100000);\n",
    "plots.ylim(0, 0.00009);"
   ]
  },
  {
   "cell_type": "code",
   "execution_count": 24,
   "id": "9400bfe6",
   "metadata": {
    "execution": {
     "iopub.execute_input": "2022-06-30T17:16:40.755846Z",
     "iopub.status.busy": "2022-06-30T17:16:40.755632Z",
     "iopub.status.idle": "2022-06-30T17:16:40.768830Z",
     "shell.execute_reply": "2022-06-30T17:16:40.768207Z"
    }
   },
   "outputs": [],
   "source": [
    "simulate_sample_mean(salaries, 'salary', 100, 5000)\n",
    "plots.xlim(50000, 100000);\n",
    "plots.ylim(0, 0.00009);"
   ]
  },
  {
   "cell_type": "code",
   "execution_count": 25,
   "id": "2be87a52",
   "metadata": {
    "execution": {
     "iopub.execute_input": "2022-06-30T17:16:40.772263Z",
     "iopub.status.busy": "2022-06-30T17:16:40.771881Z",
     "iopub.status.idle": "2022-06-30T17:16:40.784022Z",
     "shell.execute_reply": "2022-06-30T17:16:40.783429Z"
    }
   },
   "outputs": [],
   "source": [
    "simulate_sample_mean(salaries, 'salary', 100, 10000)\n",
    "plots.xlim(50000, 100000);\n",
    "plots.ylim(0, 0.00009);"
   ]
  },
  {
   "cell_type": "markdown",
   "id": "d68e0725",
   "metadata": {},
   "source": [
    "What did you notice about the distributions of sample means in the four histograms above? Discuss with your peers or ask a staff member."
   ]
  },
  {
   "cell_type": "markdown",
   "id": "3811f3c4",
   "metadata": {
    "deletable": false,
    "editable": false
   },
   "source": [
    "**Question 2.6.** Assign the variable `SD_of_sample_means` to the integer corresponding to your answer to the following question:\n",
    "\n",
    "When I increase the number of *resamples* that I take, for a *fixed* sample size, the SD of my sample means will...\n",
    "\n",
    "1. Increase\n",
    "2. Decrease\n",
    "3. Stay about the same\n",
    "4. Vary widely\n",
    "\n",
    "<!--\n",
    "BEGIN QUESTION\n",
    "name: q2_6\n",
    "-->"
   ]
  },
  {
   "cell_type": "code",
   "execution_count": 26,
   "id": "af90bf8c",
   "metadata": {
    "deletable": false,
    "execution": {
     "iopub.execute_input": "2022-06-30T17:16:40.787807Z",
     "iopub.status.busy": "2022-06-30T17:16:40.787580Z",
     "iopub.status.idle": "2022-06-30T17:16:40.790500Z",
     "shell.execute_reply": "2022-06-30T17:16:40.789777Z"
    }
   },
   "outputs": [],
   "source": [
    "SD_of_sample_means = ..."
   ]
  },
  {
   "cell_type": "code",
   "execution_count": null,
   "id": "e830b40f",
   "metadata": {
    "deletable": false,
    "editable": false
   },
   "outputs": [],
   "source": [
    "grader.check(\"q2_6\")"
   ]
  },
  {
   "cell_type": "markdown",
   "id": "23635c22",
   "metadata": {
    "deletable": false,
    "editable": false
   },
   "source": [
    "**Question 2.7.** Let's think about how the relationships between population SD, sample SD, and SD of sample means change with varying sample size. Which of the following is true? Assign the variable `pop_vs_sample` to an array of integer(s) that correspond to true statement(s).\n",
    "\n",
    "*Hint 1:* The sample SD is different from the SD of sample means. \n",
    "\n",
    "1. Sample SD gets smaller with increasing sample size.\n",
    "2. Sample SD gets larger with increasing sample size.\n",
    "3. Sample SD becomes more consistent with population SD with increasing sample size.\n",
    "4. SD of sample means gets smaller with increasing sample size.\n",
    "5. SD of sample means gets larger with increasing sample size.\n",
    "6. SD of sample means stays the same with increasing sample size.\n",
    "\n",
    "<!--\n",
    "BEGIN QUESTION\n",
    "name: q2_7\n",
    "-->"
   ]
  },
  {
   "cell_type": "code",
   "execution_count": 28,
   "id": "96ec637d",
   "metadata": {
    "deletable": false,
    "execution": {
     "iopub.execute_input": "2022-06-30T17:16:40.802648Z",
     "iopub.status.busy": "2022-06-30T17:16:40.802368Z",
     "iopub.status.idle": "2022-06-30T17:16:40.805259Z",
     "shell.execute_reply": "2022-06-30T17:16:40.804788Z"
    }
   },
   "outputs": [],
   "source": [
    "pop_vs_sample = ..."
   ]
  },
  {
   "cell_type": "code",
   "execution_count": null,
   "id": "37ee9c5d",
   "metadata": {
    "deletable": false,
    "editable": false
   },
   "outputs": [],
   "source": [
    "grader.check(\"q2_7\")"
   ]
  },
  {
   "cell_type": "markdown",
   "id": "5f7be72e",
   "metadata": {
    "deletable": false,
    "editable": false
   },
   "source": [
    "**Question 2.8.** Is there a relationship between the sample size and the standard deviation of the sample means? Assign `q2_8` to the number corresponding to the statement that answers this question.\n",
    "\n",
    "*Hint:* [Chapter 14.5](https://inferentialthinking.com/chapters/14/5/Variability_of_the_Sample_Mean.html) of the textbook may be helpful.\n",
    "\n",
    "1. The SD of the sample means is inversely proportional to the square root of sample size.\n",
    "2. The SD of the sample means is directly proportional to the square root of sample size.\n",
    "\n",
    "<!--\n",
    "BEGIN QUESTION\n",
    "name: q2_8\n",
    "-->"
   ]
  },
  {
   "cell_type": "code",
   "execution_count": 30,
   "id": "b0a9a494",
   "metadata": {
    "execution": {
     "iopub.execute_input": "2022-06-30T17:16:40.816221Z",
     "iopub.status.busy": "2022-06-30T17:16:40.815963Z",
     "iopub.status.idle": "2022-06-30T17:16:40.818837Z",
     "shell.execute_reply": "2022-06-30T17:16:40.818361Z"
    }
   },
   "outputs": [],
   "source": [
    "q2_8 = ..."
   ]
  },
  {
   "cell_type": "code",
   "execution_count": null,
   "id": "fd88315b",
   "metadata": {
    "deletable": false,
    "editable": false
   },
   "outputs": [],
   "source": [
    "grader.check(\"q2_8\")"
   ]
  },
  {
   "cell_type": "markdown",
   "id": "a1f9f12c",
   "metadata": {},
   "source": [
    "Throughout this lab, we have been taking many random samples from a population. However, all of these principles hold for bootstrapped resamples from a single sample. If your original sample is relatively large, all of your re-samples will also be relatively large, and so the SD of resampled means will be relatively small. \n",
    "\n",
    "In order to change the variability of your sample mean, you\u2019d have to change the size of the original sample from which you are taking bootstrapped resamples."
   ]
  },
  {
   "cell_type": "markdown",
   "id": "2a028a2c",
   "metadata": {},
   "source": [
    "----- \n",
    "## Done!\n",
    "\n",
    "<img src=\"jim.jpg\" alt=\"drawing\" width=\"300\"/>\n",
    "\n",
    "Jim really wanted to congratulate you on completing the lab!"
   ]
  },
  {
   "cell_type": "markdown",
   "id": "254e0be6",
   "metadata": {},
   "source": [
    "---"
   ]
  },
  {
   "cell_type": "markdown",
   "id": "fe90fe87",
   "metadata": {},
   "source": [
    "## Finishing up\n",
    "\n",
    "**Important submission information:** \n",
    "- Be sure to run the tests and verify that they all pass by running the `grader.check_all()` cell below,\n",
    "- Save your progress by choosing the **Save and Checkpoint** item in the **File** menu, \n",
    "- Submit your work by clicking the **Submit** button in the toolbar at the top of notebook. \n",
    "- Download a zip file of this notebook by running the last cell below. **Note:** Be sure to run all the tests before exporting so that all images/graphs appear in the exported notebook. \n",
    "\n",
    "**Please save before submitting!**"
   ]
  },
  {
   "cell_type": "code",
   "execution_count": 32,
   "id": "b2f20413",
   "metadata": {
    "execution": {
     "iopub.execute_input": "2022-06-30T17:16:40.830570Z",
     "iopub.status.busy": "2022-06-30T17:16:40.830300Z",
     "iopub.status.idle": "2022-06-30T17:16:40.841628Z",
     "shell.execute_reply": "2022-06-30T17:16:40.840974Z"
    }
   },
   "outputs": [],
   "source": [
    "# To double-check your work, the cell below will rerun all of the autograder tests.\n",
    "grader.check_all()"
   ]
  },
  {
   "cell_type": "code",
   "execution_count": 33,
   "id": "4ea45a81",
   "metadata": {
    "execution": {
     "iopub.execute_input": "2022-06-30T17:16:40.845024Z",
     "iopub.status.busy": "2022-06-30T17:16:40.844770Z",
     "iopub.status.idle": "2022-06-30T17:16:40.856204Z",
     "shell.execute_reply": "2022-06-30T17:16:40.855737Z"
    }
   },
   "outputs": [],
   "source": [
    "# Save your notebook first, then run this cell to export your submission.\n",
    "grader.export(pdf=False)"
   ]
  }
 ],
 "metadata": {
  "kernelspec": {
   "display_name": "Python 3",
   "language": "python",
   "name": "python3"
  },
  "language_info": {
   "codemirror_mode": {
    "name": "ipython",
    "version": 3
   },
   "file_extension": ".py",
   "mimetype": "text/x-python",
   "name": "python",
   "nbconvert_exporter": "python",
   "pygments_lexer": "ipython3",
   "version": "3.9.7"
  },
  "course": "8x",
  "section": "3",
  "lab": "lab01"
 },
 "nbformat": 4,
 "nbformat_minor": 5
}