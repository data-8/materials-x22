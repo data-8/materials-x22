{
 "cells": [
  {
   "cell_type": "code",
   "execution_count": null,
   "id": "c9868824",
   "metadata": {
    "deletable": false,
    "editable": false
   },
   "outputs": [],
   "source": [
    "# Initialize Otter\n",
    "import otter\n",
    "grader = otter.Notebook(\"datascience-to-R.ipynb\")"
   ]
  },
  {
   "cell_type": "markdown",
   "id": "3a711d2a",
   "metadata": {},
   "source": [
    "## Conversion Notebook: Mapping from From Data 8X's `datascience` to R"
   ]
  },
  {
   "cell_type": "markdown",
   "id": "1349bf57",
   "metadata": {},
   "source": [
    "Throughout Data 8X, we have been working a lot with the datascience library, a library created by faculty at UC Berkeley, specifically for this course. While this library is not used outside of this course, all of the ideas and concepts behind the library and the different functions are definitely used when dealing with data science problems in the real world. This notebook serves as an introduction to basic R terminology, data structures and commands. The functions introduced will be analogous to those in Berkeley's `datascience` module, with examples provided for each.\n",
    "\n",
    "We will cover the following topics in this notebook:\n",
    "1. Basics of R\n",
    "    - Importing and Loading Packages\n",
    "    - Arithmetic and Logical Operators\n",
    "    - Assigning Variables\n",
    "2. Dataframes: Storing Tabular Data\n",
    "    - Creating a Dataframe\n",
    "    - Accessing Values in Dataframe\n",
    "    - Manipulating Data\n",
    "3. Visualizing Data\n",
    "    - Histograms\n",
    "    - Line and Scatter Plots\n",
    "    - Bar Charts\n",
    "    \n",
    "For reference:\n",
    "\n",
    "Datascience documentation: http://data8.org/datascience/index.html\n",
    "\n",
    "http://data8.org/fa18/python-reference.html\n",
    "\n",
    "R documentation: https://www.rdocumentation.org/"
   ]
  },
  {
   "cell_type": "markdown",
   "id": "6f815e2f",
   "metadata": {},
   "source": [
    "## 1. Basics of R"
   ]
  },
  {
   "cell_type": "markdown",
   "id": "4bcd5cb6",
   "metadata": {},
   "source": [
    "R is a command line driven program. This means that the user can enter expressions, create variables and define functions and run them in the R console. In the Jupyter notebook interface, code chunks can be run as individual cells either by clicking on 'Run' in the toolbar above or using the shortcut keys `shift + enter`\n",
    "<br>"
   ]
  },
  {
   "cell_type": "markdown",
   "id": "5757a121",
   "metadata": {},
   "source": [
    "### 1.1 Importing and Loading Packages"
   ]
  },
  {
   "cell_type": "markdown",
   "id": "4f9aa730",
   "metadata": {},
   "source": [
    "In Python, we use the following syntax to install packages:\n",
    "```python\n",
    "!pip install datascience\n",
    "```\n",
    "And we load them using:\n",
    "```python\n",
    "import numpy as np\n",
    "from datascience import Table\n",
    "```\n",
    "\n",
    "In R, we use `install.packages('package_name')` to install new packages from the CRAN repository. For a full list of available packages, refer to https://cran.r-project.org/web/packages/available_packages_by_name.html\n",
    "\n",
    "It is not necessary to reinstall packages everytime we quit or reload an R session. Once we have a package installed, we can load it using `library('package_name')`."
   ]
  },
  {
   "cell_type": "code",
   "execution_count": 1,
   "id": "12f9d708",
   "metadata": {
    "execution": {
     "iopub.execute_input": "2022-07-25T23:47:17.046876Z",
     "iopub.status.busy": "2022-07-25T23:47:17.046304Z",
     "iopub.status.idle": "2022-07-25T23:47:17.426790Z",
     "shell.execute_reply": "2022-07-25T23:47:17.426254Z"
    }
   },
   "outputs": [],
   "source": [
    "# example: install a package\n",
    "install.packages('ggplot2')"
   ]
  },
  {
   "cell_type": "code",
   "execution_count": 2,
   "id": "4abe53e7",
   "metadata": {
    "collapsed": true,
    "execution": {
     "iopub.execute_input": "2022-07-25T23:47:17.430118Z",
     "iopub.status.busy": "2022-07-25T23:47:17.429883Z",
     "iopub.status.idle": "2022-07-25T23:47:17.441074Z",
     "shell.execute_reply": "2022-07-25T23:47:17.440592Z"
    }
   },
   "outputs": [],
   "source": [
    "# example: loading a package\n",
    "library('ggplot2')"
   ]
  },
  {
   "cell_type": "markdown",
   "id": "5e2bdaa0",
   "metadata": {},
   "source": [
    "### 1.2 Arithmetic and Logical Operators"
   ]
  },
  {
   "cell_type": "markdown",
   "id": "39b3457e",
   "metadata": {},
   "source": [
    "#### Arithmetic Operators\n",
    "\n",
    "Here are the basic arithmetic operations in Python:\n",
    "<br>\n",
    "```python\n",
    "import math\n",
    "import numpy as np\n",
    "\n",
    "print(2 + 3) # add numbers\n",
    "print(3**4) # powers\n",
    "print(pow(3, 4)) # powers\n",
    "print(math.sqrt(4**4)) # functions\n",
    "print(21 % 5) # 21 mod 5\n",
    "print(math.log(10)) # take log\n",
    "print(math.exp(2)) # exponential\n",
    "print(np.abs(-2)) # absolute value\n",
    "print(2*math.pi) # mathematical constant\n",
    "\n",
    "# scientific notation\n",
    "print(5000000000 * 1000)\n",
    "print(5e9 * 1e3)\n",
    "```\n",
    "In Python, we need to import `numpy` and `math` for certain mathematical operations. In R, however, these capabilities are built-in so no imports are required.\n",
    "<br>\n",
    "<br>\n",
    "Running the following cells will demostrate some basic operations performed in R."
   ]
  },
  {
   "cell_type": "code",
   "execution_count": 3,
   "id": "9788d759",
   "metadata": {
    "execution": {
     "iopub.execute_input": "2022-07-25T23:47:17.444080Z",
     "iopub.status.busy": "2022-07-25T23:47:17.443832Z",
     "iopub.status.idle": "2022-07-25T23:47:17.450465Z",
     "shell.execute_reply": "2022-07-25T23:47:17.450014Z"
    }
   },
   "outputs": [],
   "source": [
    "# adding two numbers\n",
    "2 + 3"
   ]
  },
  {
   "cell_type": "code",
   "execution_count": 4,
   "id": "ce66c6a9",
   "metadata": {
    "execution": {
     "iopub.execute_input": "2022-07-25T23:47:17.453411Z",
     "iopub.status.busy": "2022-07-25T23:47:17.453182Z",
     "iopub.status.idle": "2022-07-25T23:47:17.456416Z",
     "shell.execute_reply": "2022-07-25T23:47:17.455966Z"
    }
   },
   "outputs": [],
   "source": [
    "# raising to a power\n",
    "3 ^ 4"
   ]
  },
  {
   "cell_type": "code",
   "execution_count": 5,
   "id": "40afc0d1",
   "metadata": {
    "execution": {
     "iopub.execute_input": "2022-07-25T23:47:17.459171Z",
     "iopub.status.busy": "2022-07-25T23:47:17.458942Z",
     "iopub.status.idle": "2022-07-25T23:47:17.469665Z",
     "shell.execute_reply": "2022-07-25T23:47:17.469183Z"
    }
   },
   "outputs": [],
   "source": [
    "# square roots\n",
    "sqrt(4 ^ 4)"
   ]
  },
  {
   "cell_type": "code",
   "execution_count": 6,
   "id": "06d76e47",
   "metadata": {
    "execution": {
     "iopub.execute_input": "2022-07-25T23:47:17.472834Z",
     "iopub.status.busy": "2022-07-25T23:47:17.472515Z",
     "iopub.status.idle": "2022-07-25T23:47:17.475752Z",
     "shell.execute_reply": "2022-07-25T23:47:17.475296Z"
    }
   },
   "outputs": [],
   "source": [
    "# 21 mod 5\n",
    "21 %% 5 "
   ]
  },
  {
   "cell_type": "code",
   "execution_count": 7,
   "id": "596df8b2",
   "metadata": {
    "execution": {
     "iopub.execute_input": "2022-07-25T23:47:17.478705Z",
     "iopub.status.busy": "2022-07-25T23:47:17.478379Z",
     "iopub.status.idle": "2022-07-25T23:47:17.488930Z",
     "shell.execute_reply": "2022-07-25T23:47:17.488485Z"
    }
   },
   "outputs": [],
   "source": [
    "# taking the log\n",
    "log(10)"
   ]
  },
  {
   "cell_type": "code",
   "execution_count": 8,
   "id": "b5ea0334",
   "metadata": {
    "execution": {
     "iopub.execute_input": "2022-07-25T23:47:17.491835Z",
     "iopub.status.busy": "2022-07-25T23:47:17.491590Z",
     "iopub.status.idle": "2022-07-25T23:47:17.502109Z",
     "shell.execute_reply": "2022-07-25T23:47:17.501595Z"
    }
   },
   "outputs": [],
   "source": [
    "# exponential\n",
    "exp(2) "
   ]
  },
  {
   "cell_type": "code",
   "execution_count": 9,
   "id": "0a93aeb1",
   "metadata": {
    "execution": {
     "iopub.execute_input": "2022-07-25T23:47:17.504967Z",
     "iopub.status.busy": "2022-07-25T23:47:17.504619Z",
     "iopub.status.idle": "2022-07-25T23:47:17.514980Z",
     "shell.execute_reply": "2022-07-25T23:47:17.514509Z"
    }
   },
   "outputs": [],
   "source": [
    "# using mathematical constants\n",
    "2 * pi "
   ]
  },
  {
   "cell_type": "code",
   "execution_count": 10,
   "id": "3ef4c216",
   "metadata": {
    "execution": {
     "iopub.execute_input": "2022-07-25T23:47:17.517767Z",
     "iopub.status.busy": "2022-07-25T23:47:17.517537Z",
     "iopub.status.idle": "2022-07-25T23:47:17.520886Z",
     "shell.execute_reply": "2022-07-25T23:47:17.520440Z"
    }
   },
   "outputs": [],
   "source": [
    "# absolute value\n",
    "abs(-2)"
   ]
  },
  {
   "cell_type": "code",
   "execution_count": 11,
   "id": "90280fc3",
   "metadata": {
    "execution": {
     "iopub.execute_input": "2022-07-25T23:47:17.523912Z",
     "iopub.status.busy": "2022-07-25T23:47:17.523451Z",
     "iopub.status.idle": "2022-07-25T23:47:17.526880Z",
     "shell.execute_reply": "2022-07-25T23:47:17.526433Z"
    }
   },
   "outputs": [],
   "source": [
    "# scientific notation\n",
    "5e9 * 1e3"
   ]
  },
  {
   "cell_type": "markdown",
   "id": "ef5d9344",
   "metadata": {},
   "source": [
    "#### Logical Operators\n",
    "\n",
    "Now, recall the logical operations in Python:\n",
    "```python\n",
    "print((1 > 0) and (3 <= 5))\n",
    "print((1 < 0) or (3 > 5))\n",
    "print((3 == 9/3) or (2 < 1) )\n",
    "print(not(2 != 4/3))\n",
    "```\n",
    "<br>\n",
    "In R, the logical operators are <, <=, >, >=, == for exact equality and != for inequality. \n",
    "\n",
    "`and`, `or`, `not` is replaced by `&`, `|`, `!`. \n",
    "\n",
    "The boolean values True/False in Python correspond to TRUE/FALSE in R (Notice the case difference). \n",
    "<br><br>\n",
    "Run the cells below to see how logical operators work in R."
   ]
  },
  {
   "cell_type": "code",
   "execution_count": 12,
   "id": "e4b23709",
   "metadata": {
    "execution": {
     "iopub.execute_input": "2022-07-25T23:47:17.530063Z",
     "iopub.status.busy": "2022-07-25T23:47:17.529833Z",
     "iopub.status.idle": "2022-07-25T23:47:17.533295Z",
     "shell.execute_reply": "2022-07-25T23:47:17.532828Z"
    }
   },
   "outputs": [],
   "source": [
    "(1 > 0) & (3 <= 5)"
   ]
  },
  {
   "cell_type": "code",
   "execution_count": 13,
   "id": "385020fc",
   "metadata": {
    "execution": {
     "iopub.execute_input": "2022-07-25T23:47:17.536261Z",
     "iopub.status.busy": "2022-07-25T23:47:17.535952Z",
     "iopub.status.idle": "2022-07-25T23:47:17.540189Z",
     "shell.execute_reply": "2022-07-25T23:47:17.539448Z"
    }
   },
   "outputs": [],
   "source": [
    "(1 < 0) | (3 > 5)"
   ]
  },
  {
   "cell_type": "code",
   "execution_count": 14,
   "id": "63ae38ae",
   "metadata": {
    "execution": {
     "iopub.execute_input": "2022-07-25T23:47:17.545667Z",
     "iopub.status.busy": "2022-07-25T23:47:17.545398Z",
     "iopub.status.idle": "2022-07-25T23:47:17.548973Z",
     "shell.execute_reply": "2022-07-25T23:47:17.548491Z"
    }
   },
   "outputs": [],
   "source": [
    "(3 == 9/3) | (2 < 1)"
   ]
  },
  {
   "cell_type": "code",
   "execution_count": 15,
   "id": "142e08d8",
   "metadata": {
    "execution": {
     "iopub.execute_input": "2022-07-25T23:47:17.551708Z",
     "iopub.status.busy": "2022-07-25T23:47:17.551487Z",
     "iopub.status.idle": "2022-07-25T23:47:17.700447Z",
     "shell.execute_reply": "2022-07-25T23:47:17.697511Z"
    }
   },
   "outputs": [],
   "source": [
    "!(2 != 4/3)"
   ]
  },
  {
   "cell_type": "markdown",
   "id": "e8910be8",
   "metadata": {},
   "source": [
    "### 1.3 Assigning Variables"
   ]
  },
  {
   "cell_type": "markdown",
   "id": "b412028a",
   "metadata": {},
   "source": [
    "**Assignment**\n",
    "\n",
    "In R, the assignment operator is `<-`. This represents an arrow, since we are assigning a value on the right side of the operator to the variable on the left side. In most (not all) contexts, the `=` operator can be used as an alternative. It is recommended to use `<-` as standard usage to avoid mistakes.\n",
    "\n",
    "Note: Variables names in R are case sensitive, which means `A` and `a` are different symbols and would refer to different variables."
   ]
  },
  {
   "cell_type": "code",
   "execution_count": 16,
   "id": "803714bf",
   "metadata": {
    "execution": {
     "iopub.execute_input": "2022-07-25T23:47:17.710108Z",
     "iopub.status.busy": "2022-07-25T23:47:17.709565Z",
     "iopub.status.idle": "2022-07-25T23:47:17.733247Z",
     "shell.execute_reply": "2022-07-25T23:47:17.732543Z"
    }
   },
   "outputs": [],
   "source": [
    "# run this cell\n",
    "val <- 3\n",
    "print(val) # same usage of print function as in Python 3\n",
    "\n",
    "Val <- 7 # case-sensitive!\n",
    "print(Val)"
   ]
  },
  {
   "cell_type": "markdown",
   "id": "a148306b",
   "metadata": {},
   "source": [
    "**Vectors**\n",
    "\n",
    "Vectors are the main basic data structure in R and are analogous to lists in Python. The syntax for vectors is of the form `c(a, b, c)`. This will create a vector with the variables `a`, `b`, and `c`. The `c()` function is the combine function and lets us combine the elements within the function into a vector. When we use this function, we are declaring a vector datatype.\n",
    "<br>\n",
    "```python\n",
    "# A comparison: create a list of numbers in python\n",
    "a = [0.125, 4.75, -1.3]\n",
    "a1 = np.array([0.125, 4.75, -1.3])\n",
    "```"
   ]
  },
  {
   "cell_type": "code",
   "execution_count": 17,
   "id": "4000f2fc",
   "metadata": {
    "execution": {
     "iopub.execute_input": "2022-07-25T23:47:17.737742Z",
     "iopub.status.busy": "2022-07-25T23:47:17.737432Z",
     "iopub.status.idle": "2022-07-25T23:47:17.751811Z",
     "shell.execute_reply": "2022-07-25T23:47:17.751226Z"
    }
   },
   "outputs": [],
   "source": [
    "# run this cell\n",
    "a <- c(1, 2, 3)\n",
    "a\n",
    "b <- c(4, 5, 6)\n",
    "b"
   ]
  },
  {
   "cell_type": "code",
   "execution_count": 18,
   "id": "3cb7ad6b",
   "metadata": {
    "execution": {
     "iopub.execute_input": "2022-07-25T23:47:17.754650Z",
     "iopub.status.busy": "2022-07-25T23:47:17.754425Z",
     "iopub.status.idle": "2022-07-25T23:47:17.765120Z",
     "shell.execute_reply": "2022-07-25T23:47:17.764655Z"
    }
   },
   "outputs": [],
   "source": [
    "# combine two vectors\n",
    "ab <- c(a, b)\n",
    "ab"
   ]
  },
  {
   "cell_type": "markdown",
   "id": "30b50527",
   "metadata": {},
   "source": [
    "**Creating Sequences**\n",
    "\n",
    "In Python, we used `np.arange` to create a numpy array with a start, end and a step value as follows:\n",
    "```python\n",
    "a = np.arange(4, 9, 1) # creates [4 5 6 7 8]\n",
    "```\n",
    "<br>\n",
    "In R, we can use the `seq` function to do the same. The end element is inclusive in `seq`, unlike `np.arange`. We need to specify the from, to, and by parameters in order to use the seq function properly. "
   ]
  },
  {
   "cell_type": "code",
   "execution_count": 19,
   "id": "8697a366",
   "metadata": {
    "execution": {
     "iopub.execute_input": "2022-07-25T23:47:17.768325Z",
     "iopub.status.busy": "2022-07-25T23:47:17.767988Z",
     "iopub.status.idle": "2022-07-25T23:47:17.771402Z",
     "shell.execute_reply": "2022-07-25T23:47:17.770945Z"
    }
   },
   "outputs": [],
   "source": [
    "# run this cell\n",
    "seq1 <- seq(from=4, to=9, by=1)\n",
    "seq1 # Notice the output difference with np.arange"
   ]
  },
  {
   "cell_type": "markdown",
   "id": "b34c3850",
   "metadata": {},
   "source": [
    "There are more parameters available for the `seq` function. To pull up more information about an R function, we can use either `?seq` or `help(seq)` "
   ]
  },
  {
   "cell_type": "markdown",
   "id": "8e1f4414",
   "metadata": {},
   "source": [
    "Another important difference is that in R, indexing starts at 1, unlike 0 in Python."
   ]
  },
  {
   "cell_type": "code",
   "execution_count": 20,
   "id": "fc7a4c8d",
   "metadata": {
    "execution": {
     "iopub.execute_input": "2022-07-25T23:47:17.775024Z",
     "iopub.status.busy": "2022-07-25T23:47:17.774799Z",
     "iopub.status.idle": "2022-07-25T23:47:17.785390Z",
     "shell.execute_reply": "2022-07-25T23:47:17.784936Z"
    }
   },
   "outputs": [],
   "source": [
    "seq1[1] # extracting element at first index of vector"
   ]
  },
  {
   "cell_type": "markdown",
   "id": "327c4133",
   "metadata": {},
   "source": [
    "## 2. Dataframes: Storing Tabular Data"
   ]
  },
  {
   "cell_type": "markdown",
   "id": "5568ff71",
   "metadata": {},
   "source": [
    "In Python's `datascience` module, we used `Table` to build our dataframes and used commands such as `select()`, `where()`, `group()`, `column()` etc. In this section, we will go over some basic commands to work with tabular data in R using Dataframes."
   ]
  },
  {
   "cell_type": "markdown",
   "id": "8e9d7dcb",
   "metadata": {},
   "source": [
    "### 2.1 Creating a Dataframe"
   ]
  },
  {
   "cell_type": "markdown",
   "id": "9e8b6e4f",
   "metadata": {},
   "source": [
    "In Python's `datascience` module that is used in Data 8, this is how we created tables from scratch by extending an empty table:\n",
    "```python\n",
    "t = Table().with_columns([\n",
    "     'letter', ['a', 'b', 'c', 'z'],\n",
    "     'count',  [  9,   3,   3,   1],\n",
    "     'points', [  1,   2,   2,  10],\n",
    " ])\n",
    "```\n",
    "<br> \n",
    "In R, we can initialize a dataframe using `data.frame()`. For a full list of parameters and options, refer to [this guide](https://www.rdocumentation.org/packages/base/versions/3.5.0/topics/data.frame)\n",
    "\n",
    "When not specified, the function `data.frame` will coerce all character variables to factors. If you want to keep the strings as character variables, you need to specify `stringsAsFactors = FALSE`."
   ]
  },
  {
   "cell_type": "code",
   "execution_count": 21,
   "id": "1208046e",
   "metadata": {
    "execution": {
     "iopub.execute_input": "2022-07-25T23:47:17.789499Z",
     "iopub.status.busy": "2022-07-25T23:47:17.789177Z",
     "iopub.status.idle": "2022-07-25T23:47:17.802805Z",
     "shell.execute_reply": "2022-07-25T23:47:17.802288Z"
    }
   },
   "outputs": [],
   "source": [
    "# example: creating a dataframe in R\n",
    "t <- data.frame(letter = c('a', 'b', 'c', 'z'),\n",
    "                count = c(9, 3, 3, 1),\n",
    "                points = c(1, 2, 2, 10),\n",
    "                stringsAsFactors = FALSE\n",
    "               )\n",
    "t"
   ]
  },
  {
   "cell_type": "markdown",
   "id": "e906b6de",
   "metadata": {},
   "source": [
    "More often, we will need to create a dataframe by importing data from a .csv file. In `datascience`, this is how we read data from a csv:\n",
    "```python\n",
    "Table.read_table('sample.csv')\n",
    "```\n",
    "\n",
    "In R, we can use `read.csv()` to read data from a csv file. There are a lot of different parameters that we can specify based on the data that we are importing into our environment (related to the header, column names, etc). For a full list of parameters, refer to [this guide](https://www.rdocumentation.org/packages/utils/versions/3.5.0/topics/read.table)"
   ]
  },
  {
   "cell_type": "code",
   "execution_count": 22,
   "id": "6d3023bd",
   "metadata": {
    "execution": {
     "iopub.execute_input": "2022-07-25T23:47:17.806106Z",
     "iopub.status.busy": "2022-07-25T23:47:17.805872Z",
     "iopub.status.idle": "2022-07-25T23:47:17.817102Z",
     "shell.execute_reply": "2022-07-25T23:47:17.816509Z"
    },
    "scrolled": true
   },
   "outputs": [],
   "source": [
    "# example: reading baby.csv (Located in current working directory)\n",
    "baby <- read.csv('baby.csv')\n",
    "head(baby) # display first few rows of dataframe"
   ]
  },
  {
   "cell_type": "markdown",
   "id": "7a720757",
   "metadata": {},
   "source": [
    "To see a quick summary of the data, we can call `summary()` on our data frame in order to get some summary statistics, like the min, 1st quartile, median, mean, 3rd quartile, and the max. There are many other functions that we can run on dataframes in order to learn more about the data and do some initial exploring. We can look at the first few rows of the data (using the head function), the dimensions, the number of rows, and the column names, as some examples."
   ]
  },
  {
   "cell_type": "code",
   "execution_count": 23,
   "id": "3f46aee0",
   "metadata": {
    "execution": {
     "iopub.execute_input": "2022-07-25T23:47:17.820544Z",
     "iopub.status.busy": "2022-07-25T23:47:17.820294Z",
     "iopub.status.idle": "2022-07-25T23:47:17.830845Z",
     "shell.execute_reply": "2022-07-25T23:47:17.830353Z"
    }
   },
   "outputs": [],
   "source": [
    "# view data summary\n",
    "summary(baby)"
   ]
  },
  {
   "cell_type": "code",
   "execution_count": 24,
   "id": "3336f29b",
   "metadata": {
    "execution": {
     "iopub.execute_input": "2022-07-25T23:47:17.833908Z",
     "iopub.status.busy": "2022-07-25T23:47:17.833593Z",
     "iopub.status.idle": "2022-07-25T23:47:17.846066Z",
     "shell.execute_reply": "2022-07-25T23:47:17.845490Z"
    }
   },
   "outputs": [],
   "source": [
    "# view information about dataframe\n",
    "summary(baby) # view data summary\n",
    "nrow(sat) # display no. of rows\n",
    "dim(sat) # view dimensions (rows, cols)\n",
    "colnames(sat) # view column names"
   ]
  },
  {
   "cell_type": "markdown",
   "id": "c9a4105e",
   "metadata": {},
   "source": [
    "### 2.2 Accessing Values in Dataframe"
   ]
  },
  {
   "cell_type": "markdown",
   "id": "11294d2e",
   "metadata": {},
   "source": [
    "In `datascience`, we can use `column()` to access all the values in a particular column as follows:\n",
    "```python\n",
    "In [10]: t.column('letter')\n",
    "Out[10]: \n",
    "array(['a', 'b', 'c', 'z'], \n",
    "      dtype='<U1')\n",
    "```\n",
    "\n",
    "   In R, to access values in a particular column, we can use the `$` sign or use the following syntax: `df[, colname]`. In order to use `$`, we must specify the dataframe name as well as the column name. If we have a dataframe called `df`, we would run `df$column_name`."
   ]
  },
  {
   "cell_type": "code",
   "execution_count": 25,
   "id": "38418d1d",
   "metadata": {
    "execution": {
     "iopub.execute_input": "2022-07-25T23:47:17.849691Z",
     "iopub.status.busy": "2022-07-25T23:47:17.849448Z",
     "iopub.status.idle": "2022-07-25T23:47:17.852525Z",
     "shell.execute_reply": "2022-07-25T23:47:17.852056Z"
    }
   },
   "outputs": [],
   "source": [
    "# accessing column values\n",
    "t$letter\n",
    "t[, 'letter'] # Can also use t[, 1] to access column at first index"
   ]
  },
  {
   "cell_type": "markdown",
   "id": "e00f67c4",
   "metadata": {},
   "source": [
    "In Python, we can use `take()` to access a row:\n",
    "```python\n",
    "In [34]: t.take[0:2] # the first and second rows\n",
    "Out[34]: \n",
    "points | letter | count\n",
    "1      | a      | 9\n",
    "2      | b      | 3\n",
    "```\n",
    "\n",
    "In R, we can use the following syntax to access row data: `df[rowname, ]` (similar to how we accessed columns above). Note: we CANNOT use the `$` notation here, that will only work for columns. We must use the bracket notation."
   ]
  },
  {
   "cell_type": "code",
   "execution_count": 26,
   "id": "fdda659f",
   "metadata": {
    "execution": {
     "iopub.execute_input": "2022-07-25T23:47:17.855408Z",
     "iopub.status.busy": "2022-07-25T23:47:17.855169Z",
     "iopub.status.idle": "2022-07-25T23:47:17.865772Z",
     "shell.execute_reply": "2022-07-25T23:47:17.865306Z"
    }
   },
   "outputs": [],
   "source": [
    "# example: Access first row of dataframe\n",
    "t[1:2, ]"
   ]
  },
  {
   "cell_type": "markdown",
   "id": "e2ea2a0d",
   "metadata": {},
   "source": [
    "We can also access a specific value in the dataframe by specifiying the row and column as follows. Remember that we specify the row first and then the column: `df[row, column]`."
   ]
  },
  {
   "cell_type": "code",
   "execution_count": 27,
   "id": "727854bb",
   "metadata": {
    "execution": {
     "iopub.execute_input": "2022-07-25T23:47:17.869083Z",
     "iopub.status.busy": "2022-07-25T23:47:17.868858Z",
     "iopub.status.idle": "2022-07-25T23:47:17.880174Z",
     "shell.execute_reply": "2022-07-25T23:47:17.879577Z"
    }
   },
   "outputs": [],
   "source": [
    "# extracting one value\n",
    "t[1, 'letter']\n",
    "# slicing the dataframe\n",
    "t[1:3, 'count']"
   ]
  },
  {
   "cell_type": "markdown",
   "id": "8a673830",
   "metadata": {},
   "source": [
    "### 2.3 Manipulating Data"
   ]
  },
  {
   "cell_type": "markdown",
   "id": "433b6804",
   "metadata": {},
   "source": [
    "**Adding Columns**\n",
    "\n",
    "Adding a new column in `datascience` is done by the `with_columns()` function as follows:\n",
    "```python\n",
    "In [23]: t.with_column('vowel', ['yes', 'no', 'no', 'no'])\n",
    "Out[23]: \n",
    "points | letter | count | vowel\n",
    "1      | a      | 9     | yes\n",
    "2      | b      | 3     | no\n",
    "2      | c      | 3     | no\n",
    "10     | z      | 1     | no\n",
    "```\n",
    "In R, we can use `data$newcolumn <- datavector` to add a new column to an existing dataframe. On the right side of the arrow, we have the data vector we want to add to the dataframe and we can add this data by accessing/creating a new column the `$` notation."
   ]
  },
  {
   "cell_type": "code",
   "execution_count": 28,
   "id": "a334c9e8",
   "metadata": {
    "execution": {
     "iopub.execute_input": "2022-07-25T23:47:17.883859Z",
     "iopub.status.busy": "2022-07-25T23:47:17.883541Z",
     "iopub.status.idle": "2022-07-25T23:47:17.886829Z",
     "shell.execute_reply": "2022-07-25T23:47:17.886369Z"
    }
   },
   "outputs": [],
   "source": [
    "# example: Adding a new column\n",
    "t$vowel <- c('yes', 'no', 'no', 'no')\n",
    "t"
   ]
  },
  {
   "cell_type": "markdown",
   "id": "098bbab9",
   "metadata": {},
   "source": [
    "We can also add an existing column to the dataframe, which might be manipulated and added as a new column. This will manipulate the column within the existing dataframe that we have."
   ]
  },
  {
   "cell_type": "code",
   "execution_count": 29,
   "id": "dc111340",
   "metadata": {
    "execution": {
     "iopub.execute_input": "2022-07-25T23:47:17.890380Z",
     "iopub.status.busy": "2022-07-25T23:47:17.889918Z",
     "iopub.status.idle": "2022-07-25T23:47:17.893197Z",
     "shell.execute_reply": "2022-07-25T23:47:17.892721Z"
    },
    "scrolled": true
   },
   "outputs": [],
   "source": [
    "# Example: Adding twice the count to the dataframe\n",
    "t$double <- t$count * 2\n",
    "t"
   ]
  },
  {
   "cell_type": "markdown",
   "id": "d9026312",
   "metadata": {},
   "source": [
    "**Selecting Columns**\n",
    "\n",
    "In `datascience`, we used `select()` to subset the dataframe by selecting columns:\n",
    "```python\n",
    "In [27]: t.select(['letter', 'points'])\n",
    "Out[27]: \n",
    "letter | points\n",
    "a      | 1\n",
    "b      | 2\n",
    "c      | 2\n",
    "z      | 10\n",
    "```\n",
    "\n",
    "In R, we can subset the dataframe by columns using the `df[, colnames(s)]` notation. We can pass in the column names as a vector or specify the indexes of the columns we want to use."
   ]
  },
  {
   "cell_type": "code",
   "execution_count": 30,
   "id": "242a8981",
   "metadata": {
    "execution": {
     "iopub.execute_input": "2022-07-25T23:47:17.896538Z",
     "iopub.status.busy": "2022-07-25T23:47:17.896080Z",
     "iopub.status.idle": "2022-07-25T23:47:17.899248Z",
     "shell.execute_reply": "2022-07-25T23:47:17.898791Z"
    }
   },
   "outputs": [],
   "source": [
    "# selecting columns 1 through 3\n",
    "t[, 1:3]"
   ]
  },
  {
   "cell_type": "code",
   "execution_count": 31,
   "id": "33aaff38",
   "metadata": {
    "execution": {
     "iopub.execute_input": "2022-07-25T23:47:17.901863Z",
     "iopub.status.busy": "2022-07-25T23:47:17.901642Z",
     "iopub.status.idle": "2022-07-25T23:47:17.905010Z",
     "shell.execute_reply": "2022-07-25T23:47:17.904483Z"
    }
   },
   "outputs": [],
   "source": [
    "# selecting columns by name\n",
    "colstoselect <- c('letter', 'points')\n",
    "t[, colstoselect]"
   ]
  },
  {
   "cell_type": "markdown",
   "id": "ff81deeb",
   "metadata": {},
   "source": [
    "**Filtering Rows Conditionally**\n",
    "\n",
    "In `datascience`, we used `where()` to select rows according to a given condition:\n",
    "```python\n",
    "In [35]: t.where('points', 2) # rows where points == 2\n",
    "Out[35]: \n",
    "points | letter | count\n",
    "2      | b      | 3\n",
    "2      | c      | 3\n",
    "\n",
    "In [36]: t.where(t['count'] < 8) # rows where count < 8\n",
    "Out[36]: \n",
    "points | letter | count\n",
    "2      | b      | 3\n",
    "2      | c      | 3\n",
    "10     | z      | 1\n",
    "```\n",
    "\n",
    "In R, we use the following syntax to subset rows: `df[df$colname <logical operator> value, ]` (Note the comma at the end!). The following examples will provide different ways of filtering the dataframe."
   ]
  },
  {
   "cell_type": "code",
   "execution_count": 32,
   "id": "34484037",
   "metadata": {
    "execution": {
     "iopub.execute_input": "2022-07-25T23:47:17.908069Z",
     "iopub.status.busy": "2022-07-25T23:47:17.907838Z",
     "iopub.status.idle": "2022-07-25T23:47:17.910840Z",
     "shell.execute_reply": "2022-07-25T23:47:17.910420Z"
    }
   },
   "outputs": [],
   "source": [
    "# rows where points = 2\n",
    "t[t$points == 2, ]"
   ]
  },
  {
   "cell_type": "code",
   "execution_count": 33,
   "id": "5d36f657",
   "metadata": {
    "execution": {
     "iopub.execute_input": "2022-07-25T23:47:17.913803Z",
     "iopub.status.busy": "2022-07-25T23:47:17.913514Z",
     "iopub.status.idle": "2022-07-25T23:47:17.924618Z",
     "shell.execute_reply": "2022-07-25T23:47:17.924120Z"
    }
   },
   "outputs": [],
   "source": [
    "# rows where count < 8\n",
    "t[t['count'] <= 8, ] # we can also use df['colname'] instead of df$colname"
   ]
  },
  {
   "cell_type": "code",
   "execution_count": 34,
   "id": "961e0a21",
   "metadata": {
    "execution": {
     "iopub.execute_input": "2022-07-25T23:47:17.927499Z",
     "iopub.status.busy": "2022-07-25T23:47:17.927249Z",
     "iopub.status.idle": "2022-07-25T23:47:17.930692Z",
     "shell.execute_reply": "2022-07-25T23:47:17.930222Z"
    }
   },
   "outputs": [],
   "source": [
    "# multiple conditions: points < 2 and vowel = 'yes'\n",
    "t[t$points < 2 & t['vowel'] == 'yes', ]"
   ]
  },
  {
   "cell_type": "markdown",
   "id": "59913020",
   "metadata": {},
   "source": [
    "**Renaming Columns**\n",
    "\n",
    "In `datascience`, we used `relabeled()` to rename columns:\n",
    "```python\n",
    "In [29]: t.relabeled('points', 'other name')\n",
    "Out[29]: \n",
    "other name | letter | count\n",
    "1          | a      | 9\n",
    "2          | b      | 3\n",
    "2          | c      | 3\n",
    "10         | z      | 1\n",
    "```\n",
    "\n",
    "In R, we can use the following to rename columns: `colnames(df)[colnames(df) == oldcolname] <- newcolname`. This selects the required column by filtering from `colnames(df)` and then assigns the new name to that column. Note that the Python `relabeled()` function creates a new Table, while the R method to rename mutates the current table."
   ]
  },
  {
   "cell_type": "code",
   "execution_count": 35,
   "id": "c3a02df4",
   "metadata": {
    "execution": {
     "iopub.execute_input": "2022-07-25T23:47:17.934639Z",
     "iopub.status.busy": "2022-07-25T23:47:17.934419Z",
     "iopub.status.idle": "2022-07-25T23:47:17.945754Z",
     "shell.execute_reply": "2022-07-25T23:47:17.945295Z"
    }
   },
   "outputs": [],
   "source": [
    "# example: renaming double to twice\n",
    "colnames(t)[colnames(t) == 'double'] <- 'twice'\n",
    "t"
   ]
  },
  {
   "cell_type": "markdown",
   "id": "251d48c4",
   "metadata": {},
   "source": [
    "**Sorting Dataframe by Column**\n",
    "\n",
    "In `datascience` we used `sort()` to sort a Table according to the values in a column:\n",
    "```python\n",
    "In [40]: t.sort('count')\n",
    "Out[40]: \n",
    "points | letter | count\n",
    "10     | z      | 1\n",
    "2      | b      | 3\n",
    "2      | c      | 3\n",
    "1      | a      | 9\n",
    "```\n",
    "\n",
    "In R, we can use `order()` in the subset notation: `df[order(df$colname), ]`."
   ]
  },
  {
   "cell_type": "code",
   "execution_count": 36,
   "id": "30b26fc2",
   "metadata": {
    "execution": {
     "iopub.execute_input": "2022-07-25T23:47:17.949106Z",
     "iopub.status.busy": "2022-07-25T23:47:17.948885Z",
     "iopub.status.idle": "2022-07-25T23:47:17.952477Z",
     "shell.execute_reply": "2022-07-25T23:47:17.952012Z"
    },
    "scrolled": true
   },
   "outputs": [],
   "source": [
    "# sort by count\n",
    "t[order(t$count), ]"
   ]
  },
  {
   "cell_type": "code",
   "execution_count": 37,
   "id": "786c62d5",
   "metadata": {
    "execution": {
     "iopub.execute_input": "2022-07-25T23:47:17.955771Z",
     "iopub.status.busy": "2022-07-25T23:47:17.955531Z",
     "iopub.status.idle": "2022-07-25T23:47:17.958826Z",
     "shell.execute_reply": "2022-07-25T23:47:17.958349Z"
    }
   },
   "outputs": [],
   "source": [
    "# sort by descending order of count\n",
    "t[order(-t$count), ]"
   ]
  },
  {
   "cell_type": "markdown",
   "id": "f44fa01b",
   "metadata": {},
   "source": [
    "**Grouping and Aggregating**\n",
    "\n",
    "In `datascience`, we used `group()` and the `collect` argument to group a Table by a column and aggregrate values in another column:\n",
    "```python\n",
    "In [42]: t.select(['count', 'points']).group('count', collect=sum)\n",
    "Out[42]: \n",
    "count | points sum\n",
    "1     | 10\n",
    "3     | 4\n",
    "9     | 1\n",
    "```\n",
    "\n",
    "In R, we can use `aggregate()` to group and aggregate values in our dataframe"
   ]
  },
  {
   "cell_type": "code",
   "execution_count": 38,
   "id": "3771d735",
   "metadata": {
    "execution": {
     "iopub.execute_input": "2022-07-25T23:47:17.961987Z",
     "iopub.status.busy": "2022-07-25T23:47:17.961758Z",
     "iopub.status.idle": "2022-07-25T23:47:17.964900Z",
     "shell.execute_reply": "2022-07-25T23:47:17.964445Z"
    }
   },
   "outputs": [],
   "source": [
    "# grouping by count and summing points\n",
    "aggregate(points ~ count, t, sum)"
   ]
  },
  {
   "cell_type": "markdown",
   "id": "0f774817",
   "metadata": {},
   "source": [
    "**Pivot Tables**\n",
    "\n",
    "In `datascience`, we used the `pivot()` function to build contingency tables:\n",
    "```python\n",
    "In [44]: other_table\n",
    "Out[44]: \n",
    "mar_status | empl_status     | count\n",
    "married    | Working as paid | 1\n",
    "married    | Working as paid | 1\n",
    "partner    | Not working     | 1\n",
    "partner    | Not working     | 1\n",
    "married    | Not working     | 1\n",
    "\n",
    "In [45]: other_table.pivot('mar_status', 'empl_status', 'count', collect=sum)\n",
    "Out[45]: \n",
    "empl_status     | married | partner\n",
    "Not working     | 1       | 2\n",
    "Working as paid | 2       | 0\n",
    "```\n",
    "\n",
    "In R, one simple way of building a pivot table is to use the `table()` function"
   ]
  },
  {
   "cell_type": "code",
   "execution_count": 39,
   "id": "0359ec59",
   "metadata": {
    "execution": {
     "iopub.execute_input": "2022-07-25T23:47:17.967948Z",
     "iopub.status.busy": "2022-07-25T23:47:17.967716Z",
     "iopub.status.idle": "2022-07-25T23:47:17.979011Z",
     "shell.execute_reply": "2022-07-25T23:47:17.978542Z"
    },
    "scrolled": true
   },
   "outputs": [],
   "source": [
    "# read in couples.csv\n",
    "couples <- read.csv('couples.csv', header = TRUE)\n",
    "head(couples)"
   ]
  },
  {
   "cell_type": "markdown",
   "id": "31dd9464",
   "metadata": {},
   "source": [
    "`table` is a function to create tabular results for categorical variables. We could use it to summarize a vector of categorical variables. For example, to count the number of females and males:"
   ]
  },
  {
   "cell_type": "code",
   "execution_count": 40,
   "id": "b2361210",
   "metadata": {
    "execution": {
     "iopub.execute_input": "2022-07-25T23:47:17.982332Z",
     "iopub.status.busy": "2022-07-25T23:47:17.982099Z",
     "iopub.status.idle": "2022-07-25T23:47:17.985244Z",
     "shell.execute_reply": "2022-07-25T23:47:17.984810Z"
    }
   },
   "outputs": [],
   "source": [
    "# count no. of females and males\n",
    "table(couples$Gender)"
   ]
  },
  {
   "cell_type": "markdown",
   "id": "5e61c3f3",
   "metadata": {},
   "source": [
    "When `table` takes two vectors as input and among them at least one can be interpreted as a factor (categorical variable), we get the contingency table"
   ]
  },
  {
   "cell_type": "code",
   "execution_count": 41,
   "id": "6e36fb56",
   "metadata": {
    "execution": {
     "iopub.execute_input": "2022-07-25T23:47:17.988399Z",
     "iopub.status.busy": "2022-07-25T23:47:17.988177Z",
     "iopub.status.idle": "2022-07-25T23:47:17.991386Z",
     "shell.execute_reply": "2022-07-25T23:47:17.990946Z"
    }
   },
   "outputs": [],
   "source": [
    "# creating a pivot table\n",
    "ratings_by_gender <- table(couples$Gender, couples$Relationship.Rating)\n",
    "ratings_by_gender"
   ]
  },
  {
   "cell_type": "markdown",
   "id": "1fed8b3f",
   "metadata": {},
   "source": [
    "## 3. Visualizing Data"
   ]
  },
  {
   "cell_type": "markdown",
   "id": "605d604e",
   "metadata": {},
   "source": [
    "In Python, we learned to plot data using histograms, line plots, scatter plots and histograms. In `datascience`, the corresponding functions were `hist()`, `plot()`, `scatter()`, and `barh()`.\n",
    "\n",
    "In this section we will go through some examples of plots in R."
   ]
  },
  {
   "cell_type": "markdown",
   "id": "2f696170",
   "metadata": {},
   "source": [
    "### 3.1 Histograms\n",
    "\n",
    "In R, we can simple use the `hist()` function to create a histogram. In this example, we will be using data from `baby.csv`. Recall that the baby data set contains data on a random sample of 1,174 mothers and their newborn babies. The column `birthwt` contains the birth weight of the baby, in ounces; `gest_days` is the number of gestational days, that is, the number of days the baby was in the womb. There is also data on maternal age, maternal height, maternal pregnancy weight, and whether or not the mother was a smoker."
   ]
  },
  {
   "cell_type": "code",
   "execution_count": 42,
   "id": "b40429db",
   "metadata": {
    "execution": {
     "iopub.execute_input": "2022-07-25T23:47:17.994964Z",
     "iopub.status.busy": "2022-07-25T23:47:17.994740Z",
     "iopub.status.idle": "2022-07-25T23:47:18.005903Z",
     "shell.execute_reply": "2022-07-25T23:47:18.005380Z"
    }
   },
   "outputs": [],
   "source": [
    "head(baby)"
   ]
  },
  {
   "cell_type": "code",
   "execution_count": 43,
   "id": "57042dc3",
   "metadata": {
    "execution": {
     "iopub.execute_input": "2022-07-25T23:47:18.009004Z",
     "iopub.status.busy": "2022-07-25T23:47:18.008700Z",
     "iopub.status.idle": "2022-07-25T23:47:18.012349Z",
     "shell.execute_reply": "2022-07-25T23:47:18.011898Z"
    }
   },
   "outputs": [],
   "source": [
    "# plotting a histogram of birth weights\n",
    "hist(baby$Birth.Weight, \n",
    "     col=c(\"darkblue\"), # histogram color\n",
    "     main = \"Birth weights of babies\",# plot titile\n",
    "     xlab = \"Birth weights (in ounces)\", # x axis lable\n",
    "     xlim = c(40, 180)) # x axis range"
   ]
  },
  {
   "cell_type": "markdown",
   "id": "9950b960",
   "metadata": {},
   "source": [
    "### 3.2 Line and Scatter Plots\n",
    "\n",
    "We can use the `plot()` function in R to plot two vectors X and Y. The first argument is the X values and the second argument is the Y values. We can specify the `type` parameter and set it to `'l'` for line plots, `'p'` for scatter plots and `'b'` for both. For a full list of parameters, refer to [this guide](https://www.rdocumentation.org/packages/graphics/versions/3.5.0/topics/plot)"
   ]
  },
  {
   "cell_type": "code",
   "execution_count": 44,
   "id": "60f5be2a",
   "metadata": {
    "execution": {
     "iopub.execute_input": "2022-07-25T23:47:18.015595Z",
     "iopub.status.busy": "2022-07-25T23:47:18.015341Z",
     "iopub.status.idle": "2022-07-25T23:47:18.028594Z",
     "shell.execute_reply": "2022-07-25T23:47:18.028090Z"
    }
   },
   "outputs": [],
   "source": [
    "# line plot\n",
    "plot(c(1, 2, 3, 4), c(10, 12, 23, 30), type='l', col=c(\"darkblue\"))"
   ]
  },
  {
   "cell_type": "code",
   "execution_count": 45,
   "id": "9523a5d1",
   "metadata": {
    "execution": {
     "iopub.execute_input": "2022-07-25T23:47:18.033896Z",
     "iopub.status.busy": "2022-07-25T23:47:18.033654Z",
     "iopub.status.idle": "2022-07-25T23:47:18.045943Z",
     "shell.execute_reply": "2022-07-25T23:47:18.045494Z"
    },
    "scrolled": false
   },
   "outputs": [],
   "source": [
    "# scatter plot\n",
    "plot(c(1, 2, 3, 4), c(10, 12, 23, 30), type='p', col=c(\"darkblue\"))"
   ]
  },
  {
   "cell_type": "markdown",
   "id": "10328191",
   "metadata": {},
   "source": [
    "### 3.3 Bar Charts\n",
    "\n",
    "We can plot categorical variables using a bar chart using the `barplot()` function in R. \n",
    "\n",
    "Recall the contingency table `ratings_by_gender`"
   ]
  },
  {
   "cell_type": "code",
   "execution_count": 46,
   "id": "275b2078",
   "metadata": {
    "execution": {
     "iopub.execute_input": "2022-07-25T23:47:18.049273Z",
     "iopub.status.busy": "2022-07-25T23:47:18.049038Z",
     "iopub.status.idle": "2022-07-25T23:47:18.059503Z",
     "shell.execute_reply": "2022-07-25T23:47:18.059041Z"
    }
   },
   "outputs": [],
   "source": [
    "ratings_by_gender"
   ]
  },
  {
   "cell_type": "markdown",
   "id": "fe9d3b2e",
   "metadata": {},
   "source": [
    "We will now create a bar chart using `barplot()`. For a full list of parameters, refer to [this guide](https://www.rdocumentation.org/packages/graphics/versions/3.5.0/topics/barplot)"
   ]
  },
  {
   "cell_type": "code",
   "execution_count": 47,
   "id": "c179de5e",
   "metadata": {
    "execution": {
     "iopub.execute_input": "2022-07-25T23:47:18.062775Z",
     "iopub.status.busy": "2022-07-25T23:47:18.062539Z",
     "iopub.status.idle": "2022-07-25T23:47:18.075014Z",
     "shell.execute_reply": "2022-07-25T23:47:18.074532Z"
    }
   },
   "outputs": [],
   "source": [
    "# creating a bar chart\n",
    "barplot(ratings_by_gender, \n",
    "        main=\"Rating by Gender\", # Title of the plot\n",
    "        xlab=\"Rating\", # x axis label\n",
    "        col=c(\"darkblue\",\"yellow\"), # specify color\n",
    "        legend = rownames(ratings_by_gender), # legend\n",
    "        beside=TRUE # plot bars for male and female side by side\n",
    "       )"
   ]
  },
  {
   "cell_type": "markdown",
   "id": "29f00cb7",
   "metadata": {},
   "source": [
    "### Reading `R` Documentation\n",
    "There are many more functions and methods you can call with `R` to do more cool things and expanding on what we went through in this notebook. One way to learn more about this is by looking through the `R` documentation. The documentation has all the different functions associated with `R`, and descriptions about what they do, how you use them, and some examples. \n",
    "\n",
    "Some tips for reading through the documentation:\n",
    "* For various functions there are LOTS of different parameters that you can call, usually there are only a few that are important (usually related to the data you are working with and specifying how to run the functions). There are some parameters that are optional and you do not have to specify (automatically R will use default settings for these functions). \n",
    "\n",
    "### Further Reading\n",
    "Here is a list of useful resources for R:\n",
    "* [R Documentation](https://www.rdocumentation.org/)\n",
    "* [R for Data Science Online Textbook](http://r4ds.had.co.nz/)\n",
    "* [Quick-R (Short R Tutorials)](https://www.statmethods.net/)\n",
    "* [Professor Gaston Sanchez's Tutorials](http://www.gastonsanchez.com/)"
   ]
  },
  {
   "cell_type": "code",
   "execution_count": null,
   "id": "6b9c06e1",
   "metadata": {
    "collapsed": true
   },
   "outputs": [],
   "source": []
  },
  {
   "cell_type": "markdown",
   "id": "9dd922b2",
   "metadata": {},
   "source": [
    "---"
   ]
  },
  {
   "cell_type": "markdown",
   "id": "a135389e",
   "metadata": {},
   "source": [
    "## Finishing up\n",
    "\n",
    "**Important submission information:** \n",
    "- Be sure to run the tests and verify that they all pass by running the `grader.check_all()` cell below,\n",
    "- Save your progress by choosing the **Save and Checkpoint** item in the **File** menu, \n",
    "- Submit your work by clicking the **Submit** button in the toolbar at the top of notebook. \n",
    "- Download a zip file of this notebook by running the last cell below. **Note:** Be sure to run all the tests before exporting so that all images/graphs appear in the exported notebook. \n",
    "\n",
    "**Please save before submitting!**"
   ]
  },
  {
   "cell_type": "code",
   "execution_count": 48,
   "id": "c3b55055",
   "metadata": {
    "execution": {
     "iopub.execute_input": "2022-07-25T23:47:18.078902Z",
     "iopub.status.busy": "2022-07-25T23:47:18.078660Z",
     "iopub.status.idle": "2022-07-25T23:47:18.089639Z",
     "shell.execute_reply": "2022-07-25T23:47:18.089146Z"
    }
   },
   "outputs": [],
   "source": [
    "# To double-check your work, the cell below will rerun all of the autograder tests.\n",
    "grader.check_all()"
   ]
  },
  {
   "cell_type": "code",
   "execution_count": 49,
   "id": "1ba1b4f6",
   "metadata": {
    "execution": {
     "iopub.execute_input": "2022-07-25T23:47:18.092545Z",
     "iopub.status.busy": "2022-07-25T23:47:18.092308Z",
     "iopub.status.idle": "2022-07-25T23:47:18.103269Z",
     "shell.execute_reply": "2022-07-25T23:47:18.102754Z"
    }
   },
   "outputs": [],
   "source": [
    "# Save your notebook first, then run this cell to export your submission.\n",
    "grader.export(pdf=False)"
   ]
  }
 ],
 "metadata": {
  "kernelspec": {
   "display_name": "Python 3",
   "language": "python",
   "name": "python3"
  },
  "language_info": {
   "codemirror_mode": {
    "name": "ipython",
    "version": 3
   },
   "file_extension": ".py",
   "mimetype": "text/x-python",
   "name": "python",
   "nbconvert_exporter": "python",
   "pygments_lexer": "ipython3",
   "version": "3.9.7"
  },
  "course": "8x",
  "section": "reference",
  "lab": "datascience-to-R"
 },
 "nbformat": 4,
 "nbformat_minor": 5
}