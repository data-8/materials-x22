{
 "cells": [
  {
   "cell_type": "markdown",
   "metadata": {},
   "source": [
    "## Conversion Notebook: Mapping from From Data 8X's `datascience` to R"
   ]
  },
  {
   "cell_type": "markdown",
   "metadata": {},
   "source": [
    "Throughout Data 8X, we have been working a lot with the datascience library, a library created by faculty at UC Berkeley, specifically for this course. While this library is not used outside of this course, all of the ideas and concepts behind the library and the different functions are definitely used when dealing with data science problems in the real world. This notebook serves as an introduction to basic R terminology, data structures and commands. The functions introduced will be analogous to those in Berkeley's `datascience` module, with examples provided for each.\n",
    "\n",
    "We will cover the following topics in this notebook:\n",
    "1. Basics of R\n",
    "    - Importing and Loading Packages\n",
    "    - Arithmetic and Logical Operators\n",
    "    - Assigning Variables\n",
    "2. Dataframes: Storing Tabular Data\n",
    "    - Creating a Dataframe\n",
    "    - Accessing Values in Dataframe\n",
    "    - Manipulating Data\n",
    "3. Visualizing Data\n",
    "    - Histograms\n",
    "    - Line and Scatter Plots\n",
    "    - Bar Charts\n",
    "    \n",
    "For reference:\n",
    "\n",
    "Datascience documentation: http://data8.org/datascience/index.html\n",
    "\n",
    "Python Reference: http://data8.org/python-reference/python-reference.html\n",
    "\n",
    "R documentation: https://www.rdocumentation.org/"
   ]
  },
  {
   "cell_type": "markdown",
   "metadata": {},
   "source": [
    "## 1. Basics of R"
   ]
  },
  {
   "cell_type": "markdown",
   "metadata": {},
   "source": [
    "R is a command line driven program. This means that the user can enter expressions, create variables and define functions and run them in the R console. In the Jupyter notebook interface, code chunks can be run as individual cells either by clicking on 'Run' in the toolbar above or using the shortcut keys `shift + enter`\n",
    "<br>"
   ]
  },
  {
   "cell_type": "markdown",
   "metadata": {},
   "source": [
    "### 1.1 Importing and Loading Packages"
   ]
  },
  {
   "cell_type": "markdown",
   "metadata": {},
   "source": [
    "In Python, we use the following syntax to install packages:\n",
    "```python\n",
    "!pip install datascience\n",
    "```\n",
    "And we load them using:\n",
    "```python\n",
    "import numpy as np\n",
    "from datascience import Table\n",
    "```\n",
    "\n",
    "In R, we use `install.packages('package_name')` to install new packages from the CRAN repository. For a full list of available packages, refer to https://cran.r-project.org/web/packages/available_packages_by_name.html\n",
    "\n",
    "It is not necessary to reinstall packages everytime we quit or reload an R session. Once we have a package installed, we can load it using `library('package_name')`."
   ]
  },
  {
   "cell_type": "code",
   "execution_count": null,
   "metadata": {},
   "outputs": [],
   "source": [
    "# example: install a package\n",
    "install.packages('ggplot2')"
   ]
  },
  {
   "cell_type": "code",
   "execution_count": null,
   "metadata": {
    "collapsed": true
   },
   "outputs": [],
   "source": [
    "# example: loading a package\n",
    "library('ggplot2')"
   ]
  },
  {
   "cell_type": "markdown",
   "metadata": {},
   "source": [
    "### 1.2 Arithmetic and Logical Operators"
   ]
  },
  {
   "cell_type": "markdown",
   "metadata": {},
   "source": [
    "#### Arithmetic Operators\n",
    "\n",
    "Here are the basic arithmetic operations in Python:\n",
    "<br>\n",
    "```python\n",
    "import math\n",
    "import numpy as np\n",
    "\n",
    "print(2 + 3) # add numbers\n",
    "print(3**4) # powers\n",
    "print(pow(3, 4)) # powers\n",
    "print(math.sqrt(4**4)) # functions\n",
    "print(21 % 5) # 21 mod 5\n",
    "print(math.log(10)) # take log\n",
    "print(math.exp(2)) # exponential\n",
    "print(np.abs(-2)) # absolute value\n",
    "print(2*math.pi) # mathematical constant\n",
    "\n",
    "# scientific notation\n",
    "print(5000000000 * 1000)\n",
    "print(5e9 * 1e3)\n",
    "```\n",
    "In Python, we need to import `numpy` and `math` for certain mathematical operations. In R, however, these capabilities are built-in so no imports are required.\n",
    "<br>\n",
    "<br>\n",
    "Running the following cells will demostrate some basic operations performed in R."
   ]
  },
  {
   "cell_type": "code",
   "execution_count": null,
   "metadata": {},
   "outputs": [],
   "source": [
    "# adding two numbers\n",
    "2 + 3"
   ]
  },
  {
   "cell_type": "code",
   "execution_count": null,
   "metadata": {},
   "outputs": [],
   "source": [
    "# raising to a power\n",
    "3 ^ 4"
   ]
  },
  {
   "cell_type": "code",
   "execution_count": null,
   "metadata": {},
   "outputs": [],
   "source": [
    "# square roots\n",
    "sqrt(4 ^ 4)"
   ]
  },
  {
   "cell_type": "code",
   "execution_count": null,
   "metadata": {},
   "outputs": [],
   "source": [
    "# 21 mod 5\n",
    "21 %% 5 "
   ]
  },
  {
   "cell_type": "code",
   "execution_count": null,
   "metadata": {},
   "outputs": [],
   "source": [
    "# taking the log\n",
    "log(10)"
   ]
  },
  {
   "cell_type": "code",
   "execution_count": null,
   "metadata": {},
   "outputs": [],
   "source": [
    "# exponential\n",
    "exp(2) "
   ]
  },
  {
   "cell_type": "code",
   "execution_count": null,
   "metadata": {},
   "outputs": [],
   "source": [
    "# using mathematical constants\n",
    "2 * pi "
   ]
  },
  {
   "cell_type": "code",
   "execution_count": null,
   "metadata": {},
   "outputs": [],
   "source": [
    "# absolute value\n",
    "abs(-2)"
   ]
  },
  {
   "cell_type": "code",
   "execution_count": null,
   "metadata": {},
   "outputs": [],
   "source": [
    "# scientific notation\n",
    "5e9 * 1e3"
   ]
  },
  {
   "cell_type": "markdown",
   "metadata": {},
   "source": [
    "#### Logical Operators\n",
    "\n",
    "Now, recall the logical operations in Python:\n",
    "```python\n",
    "print((1 > 0) and (3 <= 5))\n",
    "print((1 < 0) or (3 > 5))\n",
    "print((3 == 9/3) or (2 < 1) )\n",
    "print(not(2 != 4/3))\n",
    "```\n",
    "<br>\n",
    "In R, the logical operators are <, <=, >, >=, == for exact equality and != for inequality. \n",
    "\n",
    "`and`, `or`, `not` is replaced by `&`, `|`, `!`. \n",
    "\n",
    "The boolean values True/False in Python correspond to TRUE/FALSE in R (Notice the case difference). \n",
    "<br><br>\n",
    "Run the cells below to see how logical operators work in R."
   ]
  },
  {
   "cell_type": "code",
   "execution_count": null,
   "metadata": {},
   "outputs": [],
   "source": [
    "(1 > 0) & (3 <= 5)"
   ]
  },
  {
   "cell_type": "code",
   "execution_count": null,
   "metadata": {},
   "outputs": [],
   "source": [
    "(1 < 0) | (3 > 5)"
   ]
  },
  {
   "cell_type": "code",
   "execution_count": null,
   "metadata": {},
   "outputs": [],
   "source": [
    "(3 == 9/3) | (2 < 1)"
   ]
  },
  {
   "cell_type": "code",
   "execution_count": null,
   "metadata": {},
   "outputs": [],
   "source": [
    "!(2 != 4/3)"
   ]
  },
  {
   "cell_type": "markdown",
   "metadata": {},
   "source": [
    "### 1.3 Assigning Variables"
   ]
  },
  {
   "cell_type": "markdown",
   "metadata": {},
   "source": [
    "**Assignment**\n",
    "\n",
    "In R, the assignment operator is `<-`. This represents an arrow, since we are assigning a value on the right side of the operator to the variable on the left side. In most (not all) contexts, the `=` operator can be used as an alternative. It is recommended to use `<-` as standard usage to avoid mistakes.\n",
    "\n",
    "Note: Variables names in R are case sensitive, which means `A` and `a` are different symbols and would refer to different variables."
   ]
  },
  {
   "cell_type": "code",
   "execution_count": null,
   "metadata": {},
   "outputs": [],
   "source": [
    "# run this cell\n",
    "val <- 3\n",
    "print(val) # same usage of print function as in Python 3\n",
    "\n",
    "Val <- 7 # case-sensitive!\n",
    "print(Val)"
   ]
  },
  {
   "cell_type": "markdown",
   "metadata": {},
   "source": [
    "**Vectors**\n",
    "\n",
    "Vectors are the main basic data structure in R and are analogous to lists in Python. The syntax for vectors is of the form `c(a, b, c)`. This will create a vector with the variables `a`, `b`, and `c`. The `c()` function is the combine function and lets us combine the elements within the function into a vector. When we use this function, we are declaring a vector datatype.\n",
    "<br>\n",
    "```python\n",
    "# A comparison: create a list of numbers in python\n",
    "a = [0.125, 4.75, -1.3]\n",
    "a1 = np.array([0.125, 4.75, -1.3])\n",
    "```"
   ]
  },
  {
   "cell_type": "code",
   "execution_count": null,
   "metadata": {},
   "outputs": [],
   "source": [
    "# run this cell\n",
    "a <- c(1, 2, 3)\n",
    "a\n",
    "b <- c(4, 5, 6)\n",
    "b"
   ]
  },
  {
   "cell_type": "code",
   "execution_count": null,
   "metadata": {},
   "outputs": [],
   "source": [
    "# combine two vectors\n",
    "ab <- c(a, b)\n",
    "ab"
   ]
  },
  {
   "cell_type": "markdown",
   "metadata": {},
   "source": [
    "**Creating Sequences**\n",
    "\n",
    "In Python, we used `np.arange` to create a numpy array with a start, end and a step value as follows:\n",
    "```python\n",
    "a = np.arange(4, 9, 1) # creates [4 5 6 7 8]\n",
    "```\n",
    "<br>\n",
    "In R, we can use the `seq` function to do the same. The end element is inclusive in `seq`, unlike `np.arange`. We need to specify the from, to, and by parameters in order to use the seq function properly. "
   ]
  },
  {
   "cell_type": "code",
   "execution_count": null,
   "metadata": {},
   "outputs": [],
   "source": [
    "# run this cell\n",
    "seq1 <- seq(from=4, to=9, by=1)\n",
    "seq1 # Notice the output difference with np.arange"
   ]
  },
  {
   "cell_type": "markdown",
   "metadata": {},
   "source": [
    "There are more parameters available for the `seq` function. To pull up more information about an R function, we can use either `?seq` or `help(seq)` "
   ]
  },
  {
   "cell_type": "markdown",
   "metadata": {},
   "source": [
    "Another important difference is that in R, indexing starts at 1, unlike 0 in Python."
   ]
  },
  {
   "cell_type": "code",
   "execution_count": null,
   "metadata": {},
   "outputs": [],
   "source": [
    "seq1[1] # extracting element at first index of vector"
   ]
  },
  {
   "cell_type": "markdown",
   "metadata": {},
   "source": [
    "## 2. Dataframes: Storing Tabular Data"
   ]
  },
  {
   "cell_type": "markdown",
   "metadata": {},
   "source": [
    "In Python's `datascience` module, we used `Table` to build our dataframes and used commands such as `select()`, `where()`, `group()`, `column()` etc. In this section, we will go over some basic commands to work with tabular data in R using Dataframes."
   ]
  },
  {
   "cell_type": "markdown",
   "metadata": {},
   "source": [
    "### 2.1 Creating a Dataframe"
   ]
  },
  {
   "cell_type": "markdown",
   "metadata": {},
   "source": [
    "In Python's `datascience` module that is used in Data 8, this is how we created tables from scratch by extending an empty table:\n",
    "```python\n",
    "t = Table().with_columns([\n",
    "     'letter', ['a', 'b', 'c', 'z'],\n",
    "     'count',  [  9,   3,   3,   1],\n",
    "     'points', [  1,   2,   2,  10],\n",
    " ])\n",
    "```\n",
    "<br> \n",
    "In R, we can initialize a dataframe using `data.frame()`. For a full list of parameters and options, refer to [this guide](https://www.rdocumentation.org/packages/base/versions/3.5.0/topics/data.frame)\n",
    "\n",
    "When not specified, the function `data.frame` will coerce all character variables to factors. If you want to keep the strings as character variables, you need to specify `stringsAsFactors = FALSE`."
   ]
  },
  {
   "cell_type": "code",
   "execution_count": null,
   "metadata": {},
   "outputs": [],
   "source": [
    "# example: creating a dataframe in R\n",
    "t <- data.frame(letter = c('a', 'b', 'c', 'z'),\n",
    "                count = c(9, 3, 3, 1),\n",
    "                points = c(1, 2, 2, 10),\n",
    "                stringsAsFactors = FALSE\n",
    "               )\n",
    "t"
   ]
  },
  {
   "cell_type": "markdown",
   "metadata": {},
   "source": [
    "More often, we will need to create a dataframe by importing data from a .csv file. In `datascience`, this is how we read data from a csv:\n",
    "```python\n",
    "Table.read_table('sample.csv')\n",
    "```\n",
    "\n",
    "In R, we can use `read.csv()` to read data from a csv file. There are a lot of different parameters that we can specify based on the data that we are importing into our environment (related to the header, column names, etc). For a full list of parameters, refer to [this guide](https://www.rdocumentation.org/packages/utils/versions/3.5.0/topics/read.table)"
   ]
  },
  {
   "cell_type": "code",
   "execution_count": null,
   "metadata": {
    "scrolled": true
   },
   "outputs": [],
   "source": [
    "# example: reading baby.csv (Located in current working directory)\n",
    "baby <- read.csv('baby.csv')\n",
    "head(baby) # display first few rows of dataframe"
   ]
  },
  {
   "cell_type": "markdown",
   "metadata": {},
   "source": [
    "To see a quick summary of the data, we can call `summary()` on our data frame in order to get some summary statistics, like the min, 1st quartile, median, mean, 3rd quartile, and the max. There are many other functions that we can run on dataframes in order to learn more about the data and do some initial exploring. We can look at the first few rows of the data (using the head function), the dimensions, the number of rows, and the column names, as some examples."
   ]
  },
  {
   "cell_type": "code",
   "execution_count": null,
   "metadata": {},
   "outputs": [],
   "source": [
    "# view data summary\n",
    "summary(baby)"
   ]
  },
  {
   "cell_type": "code",
   "execution_count": null,
   "metadata": {},
   "outputs": [],
   "source": [
    "# view information about dataframe\n",
    "summary(baby) # view data summary\n",
    "nrow(sat) # display no. of rows\n",
    "dim(sat) # view dimensions (rows, cols)\n",
    "colnames(sat) # view column names"
   ]
  },
  {
   "cell_type": "markdown",
   "metadata": {},
   "source": [
    "### 2.2 Accessing Values in Dataframe"
   ]
  },
  {
   "cell_type": "markdown",
   "metadata": {},
   "source": [
    "In `datascience`, we can use `column()` to access all the values in a particular column as follows:\n",
    "```python\n",
    "In [10]: t.column('letter')\n",
    "Out[10]: \n",
    "array(['a', 'b', 'c', 'z'], \n",
    "      dtype='<U1')\n",
    "```\n",
    "\n",
    "   In R, to access values in a particular column, we can use the `$` sign or use the following syntax: `df[, colname]`. In order to use `$`, we must specify the dataframe name as well as the column name. If we have a dataframe called `df`, we would run `df$column_name`."
   ]
  },
  {
   "cell_type": "code",
   "execution_count": null,
   "metadata": {},
   "outputs": [],
   "source": [
    "# accessing column values\n",
    "t$letter\n",
    "t[, 'letter'] # Can also use t[, 1] to access column at first index"
   ]
  },
  {
   "cell_type": "markdown",
   "metadata": {},
   "source": [
    "In Python, we can use `take()` to access a row:\n",
    "```python\n",
    "In [34]: t.take[0:2] # the first and second rows\n",
    "Out[34]: \n",
    "points | letter | count\n",
    "1      | a      | 9\n",
    "2      | b      | 3\n",
    "```\n",
    "\n",
    "In R, we can use the following syntax to access row data: `df[rowname, ]` (similar to how we accessed columns above). Note: we CANNOT use the `$` notation here, that will only work for columns. We must use the bracket notation."
   ]
  },
  {
   "cell_type": "code",
   "execution_count": null,
   "metadata": {},
   "outputs": [],
   "source": [
    "# example: Access first row of dataframe\n",
    "t[1:2, ]"
   ]
  },
  {
   "cell_type": "markdown",
   "metadata": {},
   "source": [
    "We can also access a specific value in the dataframe by specifiying the row and column as follows. Remember that we specify the row first and then the column: `df[row, column]`."
   ]
  },
  {
   "cell_type": "code",
   "execution_count": null,
   "metadata": {},
   "outputs": [],
   "source": [
    "# extracting one value\n",
    "t[1, 'letter']\n",
    "# slicing the dataframe\n",
    "t[1:3, 'count']"
   ]
  },
  {
   "cell_type": "markdown",
   "metadata": {},
   "source": [
    "### 2.3 Manipulating Data"
   ]
  },
  {
   "cell_type": "markdown",
   "metadata": {},
   "source": [
    "**Adding Columns**\n",
    "\n",
    "Adding a new column in `datascience` is done by the `with_columns()` function as follows:\n",
    "```python\n",
    "In [23]: t.with_column('vowel', ['yes', 'no', 'no', 'no'])\n",
    "Out[23]: \n",
    "points | letter | count | vowel\n",
    "1      | a      | 9     | yes\n",
    "2      | b      | 3     | no\n",
    "2      | c      | 3     | no\n",
    "10     | z      | 1     | no\n",
    "```\n",
    "In R, we can use `data$newcolumn <- datavector` to add a new column to an existing dataframe. On the right side of the arrow, we have the data vector we want to add to the dataframe and we can add this data by accessing/creating a new column the `$` notation."
   ]
  },
  {
   "cell_type": "code",
   "execution_count": null,
   "metadata": {},
   "outputs": [],
   "source": [
    "# example: Adding a new column\n",
    "t$vowel <- c('yes', 'no', 'no', 'no')\n",
    "t"
   ]
  },
  {
   "cell_type": "markdown",
   "metadata": {},
   "source": [
    "We can also add an existing column to the dataframe, which might be manipulated and added as a new column. This will manipulate the column within the existing dataframe that we have."
   ]
  },
  {
   "cell_type": "code",
   "execution_count": null,
   "metadata": {
    "scrolled": true
   },
   "outputs": [],
   "source": [
    "# Example: Adding twice the count to the dataframe\n",
    "t$double <- t$count * 2\n",
    "t"
   ]
  },
  {
   "cell_type": "markdown",
   "metadata": {},
   "source": [
    "**Selecting Columns**\n",
    "\n",
    "In `datascience`, we used `select()` to subset the dataframe by selecting columns:\n",
    "```python\n",
    "In [27]: t.select(['letter', 'points'])\n",
    "Out[27]: \n",
    "letter | points\n",
    "a      | 1\n",
    "b      | 2\n",
    "c      | 2\n",
    "z      | 10\n",
    "```\n",
    "\n",
    "In R, we can subset the dataframe by columns using the `df[, colnames(s)]` notation. We can pass in the column names as a vector or specify the indexes of the columns we want to use."
   ]
  },
  {
   "cell_type": "code",
   "execution_count": null,
   "metadata": {},
   "outputs": [],
   "source": [
    "# selecting columns 1 through 3\n",
    "t[, 1:3]"
   ]
  },
  {
   "cell_type": "code",
   "execution_count": null,
   "metadata": {},
   "outputs": [],
   "source": [
    "# selecting columns by name\n",
    "colstoselect <- c('letter', 'points')\n",
    "t[, colstoselect]"
   ]
  },
  {
   "cell_type": "markdown",
   "metadata": {},
   "source": [
    "**Filtering Rows Conditionally**\n",
    "\n",
    "In `datascience`, we used `where()` to select rows according to a given condition:\n",
    "```python\n",
    "In [35]: t.where('points', 2) # rows where points == 2\n",
    "Out[35]: \n",
    "points | letter | count\n",
    "2      | b      | 3\n",
    "2      | c      | 3\n",
    "\n",
    "In [36]: t.where(t['count'] < 8) # rows where count < 8\n",
    "Out[36]: \n",
    "points | letter | count\n",
    "2      | b      | 3\n",
    "2      | c      | 3\n",
    "10     | z      | 1\n",
    "```\n",
    "\n",
    "In R, we use the following syntax to subset rows: `df[df$colname <logical operator> value, ]` (Note the comma at the end!). The following examples will provide different ways of filtering the dataframe."
   ]
  },
  {
   "cell_type": "code",
   "execution_count": null,
   "metadata": {},
   "outputs": [],
   "source": [
    "# rows where points = 2\n",
    "t[t$points == 2, ]"
   ]
  },
  {
   "cell_type": "code",
   "execution_count": null,
   "metadata": {},
   "outputs": [],
   "source": [
    "# rows where count < 8\n",
    "t[t['count'] <= 8, ] # we can also use df['colname'] instead of df$colname"
   ]
  },
  {
   "cell_type": "code",
   "execution_count": null,
   "metadata": {},
   "outputs": [],
   "source": [
    "# multiple conditions: points < 2 and vowel = 'yes'\n",
    "t[t$points < 2 & t['vowel'] == 'yes', ]"
   ]
  },
  {
   "cell_type": "markdown",
   "metadata": {},
   "source": [
    "**Renaming Columns**\n",
    "\n",
    "In `datascience`, we used `relabeled()` to rename columns:\n",
    "```python\n",
    "In [29]: t.relabeled('points', 'other name')\n",
    "Out[29]: \n",
    "other name | letter | count\n",
    "1          | a      | 9\n",
    "2          | b      | 3\n",
    "2          | c      | 3\n",
    "10         | z      | 1\n",
    "```\n",
    "\n",
    "In R, we can use the following to rename columns: `colnames(df)[colnames(df) == oldcolname] <- newcolname`. This selects the required column by filtering from `colnames(df)` and then assigns the new name to that column. Note that the Python `relabeled()` function creates a new Table, while the R method to rename mutates the current table."
   ]
  },
  {
   "cell_type": "code",
   "execution_count": null,
   "metadata": {},
   "outputs": [],
   "source": [
    "# example: renaming double to twice\n",
    "colnames(t)[colnames(t) == 'double'] <- 'twice'\n",
    "t"
   ]
  },
  {
   "cell_type": "markdown",
   "metadata": {},
   "source": [
    "**Sorting Dataframe by Column**\n",
    "\n",
    "In `datascience` we used `sort()` to sort a Table according to the values in a column:\n",
    "```python\n",
    "In [40]: t.sort('count')\n",
    "Out[40]: \n",
    "points | letter | count\n",
    "10     | z      | 1\n",
    "2      | b      | 3\n",
    "2      | c      | 3\n",
    "1      | a      | 9\n",
    "```\n",
    "\n",
    "In R, we can use `order()` in the subset notation: `df[order(df$colname), ]`."
   ]
  },
  {
   "cell_type": "code",
   "execution_count": null,
   "metadata": {
    "scrolled": true
   },
   "outputs": [],
   "source": [
    "# sort by count\n",
    "t[order(t$count), ]"
   ]
  },
  {
   "cell_type": "code",
   "execution_count": null,
   "metadata": {},
   "outputs": [],
   "source": [
    "# sort by descending order of count\n",
    "t[order(-t$count), ]"
   ]
  },
  {
   "cell_type": "markdown",
   "metadata": {},
   "source": [
    "**Grouping and Aggregating**\n",
    "\n",
    "In `datascience`, we used `group()` and the `collect` argument to group a Table by a column and aggregrate values in another column:\n",
    "```python\n",
    "In [42]: t.select(['count', 'points']).group('count', collect=sum)\n",
    "Out[42]: \n",
    "count | points sum\n",
    "1     | 10\n",
    "3     | 4\n",
    "9     | 1\n",
    "```\n",
    "\n",
    "In R, we can use `aggregate()` to group and aggregate values in our dataframe"
   ]
  },
  {
   "cell_type": "code",
   "execution_count": null,
   "metadata": {},
   "outputs": [],
   "source": [
    "# grouping by count and summing points\n",
    "aggregate(points ~ count, t, sum)"
   ]
  },
  {
   "cell_type": "markdown",
   "metadata": {},
   "source": [
    "**Pivot Tables**\n",
    "\n",
    "In `datascience`, we used the `pivot()` function to build contingency tables:\n",
    "```python\n",
    "In [44]: other_table\n",
    "Out[44]: \n",
    "mar_status | empl_status     | count\n",
    "married    | Working as paid | 1\n",
    "married    | Working as paid | 1\n",
    "partner    | Not working     | 1\n",
    "partner    | Not working     | 1\n",
    "married    | Not working     | 1\n",
    "\n",
    "In [45]: other_table.pivot('mar_status', 'empl_status', 'count', collect=sum)\n",
    "Out[45]: \n",
    "empl_status     | married | partner\n",
    "Not working     | 1       | 2\n",
    "Working as paid | 2       | 0\n",
    "```\n",
    "\n",
    "In R, one simple way of building a pivot table is to use the `table()` function"
   ]
  },
  {
   "cell_type": "code",
   "execution_count": null,
   "metadata": {
    "scrolled": true
   },
   "outputs": [],
   "source": [
    "# read in couples.csv\n",
    "couples <- read.csv('couples.csv', header = TRUE)\n",
    "head(couples)"
   ]
  },
  {
   "cell_type": "markdown",
   "metadata": {},
   "source": [
    "`table` is a function to create tabular results for categorical variables. We could use it to summarize a vector of categorical variables. For example, to count the number of females and males:"
   ]
  },
  {
   "cell_type": "code",
   "execution_count": null,
   "metadata": {},
   "outputs": [],
   "source": [
    "# count no. of females and males\n",
    "table(couples$Gender)"
   ]
  },
  {
   "cell_type": "markdown",
   "metadata": {},
   "source": [
    "When `table` takes two vectors as input and among them at least one can be interpreted as a factor (categorical variable), we get the contingency table"
   ]
  },
  {
   "cell_type": "code",
   "execution_count": null,
   "metadata": {},
   "outputs": [],
   "source": [
    "# creating a pivot table\n",
    "ratings_by_gender <- table(couples$Gender, couples$Relationship.Rating)\n",
    "ratings_by_gender"
   ]
  },
  {
   "cell_type": "markdown",
   "metadata": {},
   "source": [
    "## 3. Visualizing Data"
   ]
  },
  {
   "cell_type": "markdown",
   "metadata": {},
   "source": [
    "In Python, we learned to plot data using histograms, line plots, scatter plots and histograms. In `datascience`, the corresponding functions were `hist()`, `plot()`, `scatter()`, and `barh()`.\n",
    "\n",
    "In this section we will go through some examples of plots in R."
   ]
  },
  {
   "cell_type": "markdown",
   "metadata": {},
   "source": [
    "### 3.1 Histograms\n",
    "\n",
    "In R, we can simple use the `hist()` function to create a histogram. In this example, we will be using data from `baby.csv`. Recall that the baby data set contains data on a random sample of 1,174 mothers and their newborn babies. The column `birthwt` contains the birth weight of the baby, in ounces; `gest_days` is the number of gestational days, that is, the number of days the baby was in the womb. There is also data on maternal age, maternal height, maternal pregnancy weight, and whether or not the mother was a smoker."
   ]
  },
  {
   "cell_type": "code",
   "execution_count": null,
   "metadata": {},
   "outputs": [],
   "source": [
    "head(baby)"
   ]
  },
  {
   "cell_type": "code",
   "execution_count": null,
   "metadata": {},
   "outputs": [],
   "source": [
    "# plotting a histogram of birth weights\n",
    "hist(baby$Birth.Weight, \n",
    "     col=c(\"darkblue\"), # histogram color\n",
    "     main = \"Birth weights of babies\",# plot titile\n",
    "     xlab = \"Birth weights (in ounces)\", # x axis lable\n",
    "     xlim = c(40, 180)) # x axis range"
   ]
  },
  {
   "cell_type": "markdown",
   "metadata": {},
   "source": [
    "### 3.2 Line and Scatter Plots\n",
    "\n",
    "We can use the `plot()` function in R to plot two vectors X and Y. The first argument is the X values and the second argument is the Y values. We can specify the `type` parameter and set it to `'l'` for line plots, `'p'` for scatter plots and `'b'` for both. For a full list of parameters, refer to [this guide](https://www.rdocumentation.org/packages/graphics/versions/3.5.0/topics/plot)"
   ]
  },
  {
   "cell_type": "code",
   "execution_count": null,
   "metadata": {},
   "outputs": [],
   "source": [
    "# line plot\n",
    "plot(c(1, 2, 3, 4), c(10, 12, 23, 30), type='l', col=c(\"darkblue\"))"
   ]
  },
  {
   "cell_type": "code",
   "execution_count": null,
   "metadata": {
    "scrolled": false
   },
   "outputs": [],
   "source": [
    "# scatter plot\n",
    "plot(c(1, 2, 3, 4), c(10, 12, 23, 30), type='p', col=c(\"darkblue\"))"
   ]
  },
  {
   "cell_type": "markdown",
   "metadata": {},
   "source": [
    "### 3.3 Bar Charts\n",
    "\n",
    "We can plot categorical variables using a bar chart using the `barplot()` function in R. \n",
    "\n",
    "Recall the contingency table `ratings_by_gender`"
   ]
  },
  {
   "cell_type": "code",
   "execution_count": null,
   "metadata": {},
   "outputs": [],
   "source": [
    "ratings_by_gender"
   ]
  },
  {
   "cell_type": "markdown",
   "metadata": {},
   "source": [
    "We will now create a bar chart using `barplot()`. For a full list of parameters, refer to [this guide](https://www.rdocumentation.org/packages/graphics/versions/3.5.0/topics/barplot)"
   ]
  },
  {
   "cell_type": "code",
   "execution_count": null,
   "metadata": {},
   "outputs": [],
   "source": [
    "# creating a bar chart\n",
    "barplot(ratings_by_gender, \n",
    "        main=\"Rating by Gender\", # Title of the plot\n",
    "        xlab=\"Rating\", # x axis label\n",
    "        col=c(\"darkblue\",\"yellow\"), # specify color\n",
    "        legend = rownames(ratings_by_gender), # legend\n",
    "        beside=TRUE # plot bars for male and female side by side\n",
    "       )"
   ]
  },
  {
   "cell_type": "markdown",
   "metadata": {},
   "source": [
    "### Reading `R` Documentation\n",
    "There are many more functions and methods you can call with `R` to do more cool things and expanding on what we went through in this notebook. One way to learn more about this is by looking through the `R` documentation. The documentation has all the different functions associated with `R`, and descriptions about what they do, how you use them, and some examples. \n",
    "\n",
    "Some tips for reading through the documentation:\n",
    "* For various functions there are LOTS of different parameters that you can call, usually there are only a few that are important (usually related to the data you are working with and specifying how to run the functions). There are some parameters that are optional and you do not have to specify (automatically R will use default settings for these functions). \n",
    "\n",
    "### Further Reading\n",
    "Here is a list of useful resources for R:\n",
    "* [R Documentation](https://www.rdocumentation.org/)\n",
    "* [R for Data Science Online Textbook](http://r4ds.had.co.nz/)\n",
    "* [Quick-R (Short R Tutorials)](https://www.statmethods.net/)\n",
    "* [Professor Gaston Sanchez's Tutorials](http://www.gastonsanchez.com/)"
   ]
  },
  {
   "cell_type": "code",
   "execution_count": null,
   "metadata": {
    "collapsed": true
   },
   "outputs": [],
   "source": []
  }
 ],
 "metadata": {
  "kernelspec": {
   "display_name": "Python 3",
   "language": "python",
   "name": "python3"
  },
  "language_info": {
   "codemirror_mode": {
    "name": "ipython",
    "version": 3
   },
   "file_extension": ".py",
   "mimetype": "text/x-python",
   "name": "python",
   "nbconvert_exporter": "python",
   "pygments_lexer": "ipython3",
   "version": "3.9.15"
  },
  "otter": {
   "OK_FORMAT": true,
   "tests": {}
  },
  "course": "8x",
  "section": "reference",
  "lab": "datascience-to-R"
 },
 "nbformat": 4,
 "nbformat_minor": 5
}