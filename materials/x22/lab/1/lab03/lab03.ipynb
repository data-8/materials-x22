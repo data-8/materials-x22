{
 "cells": [
  {
   "cell_type": "code",
   "execution_count": null,
   "id": "0ceda831",
   "metadata": {
    "deletable": false,
    "editable": false
   },
   "outputs": [],
   "source": [
    "# Initialize Otter\n",
    "import otter\n",
    "grader = otter.Notebook(\"lab03.ipynb\")"
   ]
  },
  {
   "cell_type": "markdown",
   "id": "6c264861",
   "metadata": {},
   "source": [
    "# Lab 3: Data Types and Arrays\n",
    "Welcome to Lab 3!\n",
    "\n",
    "So far, we've used Python to manipulate numbers and work with tables. But we need to discuss data types to deepen our understanding of how to work with data in Python.\n",
    "\n",
    "In this lab, you'll first see how to represent and manipulate another fundamental type of data: text.  A piece of text is called a *string* in Python. You'll also see how to work with *arrays* of data. An array could contain all the numbers between 0 and 100 or all the words in the chapter of a book. Lastly, you'll create tables and practice analyzing them with your knowledge of table operations. The [Python Reference](http://data8.org/python-reference/python-reference.html) has information that will be useful for this lab.\n"
   ]
  },
  {
   "cell_type": "code",
   "execution_count": 1,
   "id": "8fc74523",
   "metadata": {
    "deletable": false,
    "execution": {
     "iopub.execute_input": "2022-06-22T00:26:42.592318Z",
     "iopub.status.busy": "2022-06-22T00:26:42.591946Z",
     "iopub.status.idle": "2022-06-22T00:26:44.148381Z",
     "shell.execute_reply": "2022-06-22T00:26:44.147598Z"
    }
   },
   "outputs": [],
   "source": [
    "# Just run this cell\n",
    "import numpy as np\n",
    "import math\n",
    "from datascience import *\n",
    "import d8error"
   ]
  },
  {
   "cell_type": "markdown",
   "id": "b0b30339",
   "metadata": {},
   "source": [
    "# 1. Text\n",
    "Programming doesn't just concern numbers. Text is one of the most common data types used in programs. \n",
    "\n",
    "Text is represented by a **string value** in Python. The word \"string\" is a programming term for a sequence of characters. A string might contain a single character, a word, a sentence, or a whole book.\n",
    "\n",
    "To distinguish text data from actual code, we demarcate strings by putting quotation marks around them. Single quotes (`'`) and double quotes (`\"`) are both valid, but the types of opening and closing quotation marks must match. The contents can be any sequence of characters, including numbers and symbols. \n",
    "\n",
    "We've seen strings before in `print` statements.  Below, two different strings are passed as arguments to the `print` function."
   ]
  },
  {
   "cell_type": "code",
   "execution_count": 2,
   "id": "3b0325d0",
   "metadata": {
    "execution": {
     "iopub.execute_input": "2022-06-22T00:26:44.152401Z",
     "iopub.status.busy": "2022-06-22T00:26:44.152111Z",
     "iopub.status.idle": "2022-06-22T00:26:44.155647Z",
     "shell.execute_reply": "2022-06-22T00:26:44.155227Z"
    }
   },
   "outputs": [],
   "source": [
    "print(\"I <3\", 'Data Science')"
   ]
  },
  {
   "cell_type": "markdown",
   "id": "373d50e4",
   "metadata": {},
   "source": [
    "Just as names can be given to numbers, names can be given to string values.  The names and strings aren't required to be similar in any way. Any name can be assigned to any string."
   ]
  },
  {
   "cell_type": "code",
   "execution_count": 3,
   "id": "283cef68",
   "metadata": {
    "execution": {
     "iopub.execute_input": "2022-06-22T00:26:44.160111Z",
     "iopub.status.busy": "2022-06-22T00:26:44.159864Z",
     "iopub.status.idle": "2022-06-22T00:26:44.162837Z",
     "shell.execute_reply": "2022-06-22T00:26:44.162416Z"
    }
   },
   "outputs": [],
   "source": [
    "one = 'two'\n",
    "plus = '*'\n",
    "print(one, plus, one)"
   ]
  },
  {
   "cell_type": "markdown",
   "id": "1a410bcb",
   "metadata": {
    "deletable": false,
    "editable": false
   },
   "source": [
    "**Question 1.1.** Yuri Gagarin was the first person to travel through outer space.  When he emerged from his capsule upon landing on Earth, he [reportedly](https://en.wikiquote.org/wiki/Yuri_Gagarin) had the following conversation with a woman and girl who saw the landing:\n",
    "\n",
    "    The woman asked: \"Can it be that you have come from outer space?\"\n",
    "    Gagarin replied: \"As a matter of fact, I have!\"\n",
    "\n",
    "The cell below contains unfinished code.  Fill in the `...`s so that it prints out this conversation *exactly* as it appears above.\n",
    "\n",
    "<!--\n",
    "BEGIN QUESTION\n",
    "name: q11\n",
    "-->"
   ]
  },
  {
   "cell_type": "code",
   "execution_count": 4,
   "id": "90107a02",
   "metadata": {
    "deletable": false,
    "execution": {
     "iopub.execute_input": "2022-06-22T00:26:44.165927Z",
     "iopub.status.busy": "2022-06-22T00:26:44.165676Z",
     "iopub.status.idle": "2022-06-22T00:26:44.169150Z",
     "shell.execute_reply": "2022-06-22T00:26:44.168492Z"
    }
   },
   "outputs": [],
   "source": [
    "woman_asking = ...\n",
    "woman_quote = '\"Can it be that you have come from outer space?\"'\n",
    "gagarin_reply = 'Gagarin replied:'\n",
    "gagarin_quote = ...\n",
    "\n",
    "print(woman_asking, woman_quote)\n",
    "print(gagarin_reply, gagarin_quote)"
   ]
  },
  {
   "cell_type": "code",
   "execution_count": null,
   "id": "4c07e470",
   "metadata": {
    "deletable": false,
    "editable": false
   },
   "outputs": [],
   "source": [
    "grader.check(\"q11\")"
   ]
  },
  {
   "cell_type": "markdown",
   "id": "a2b544b2",
   "metadata": {},
   "source": [
    "## 1.1. String Methods"
   ]
  },
  {
   "cell_type": "markdown",
   "id": "0fe47ef3",
   "metadata": {},
   "source": [
    "Strings can be transformed using **methods**. Recall that methods and functions are not the same thing. Here is the textbook section on string methods: [4.2.1 String Methods](https://inferentialthinking.com/chapters/04/2/1/String_Methods.html?highlight=methods). \n",
    "\n",
    "Here's a sketch of how to call methods on a string:\n",
    "\n",
    "    <expression that evaluates to a string>.<method name>(<argument>, <argument>, ...)\n",
    "    \n",
    "One example of a string method is `replace`, which replaces all instances of some part of the original string (or a *substring*) with a new string. \n",
    "\n",
    "    <original string>.replace(<old substring>, <new substring>)\n",
    "    \n",
    "`replace` returns (evaluates to) a new string, leaving the original string unchanged.\n",
    "    \n",
    "Try to predict the output of this example, then run the cell!"
   ]
  },
  {
   "cell_type": "code",
   "execution_count": 7,
   "id": "43c2cec0",
   "metadata": {
    "execution": {
     "iopub.execute_input": "2022-06-22T00:26:44.187658Z",
     "iopub.status.busy": "2022-06-22T00:26:44.187414Z",
     "iopub.status.idle": "2022-06-22T00:26:44.190313Z",
     "shell.execute_reply": "2022-06-22T00:26:44.189891Z"
    }
   },
   "outputs": [],
   "source": [
    "# Replace one letter\n",
    "bag = 'bag'\n",
    "print(bag.replace('g', 't'), bag)"
   ]
  },
  {
   "cell_type": "markdown",
   "id": "490bc217",
   "metadata": {},
   "source": [
    "You can call functions on the results of other functions.  For example, `max(abs(-5), abs(3))` evaluates to 5.  Similarly, you can call methods on the results of other method or function calls.\n",
    "\n",
    "You may have already noticed one difference between functions and methods - a function like `max` does not require a `.` before it's called, but a string method like `replace` does. Here's a handy [Python reference](http://data8.org/fa21/python-reference.html) on the Data 8 website. It's a good idea to refer to this whenever you're unsure of how to call a function or method."
   ]
  },
  {
   "cell_type": "code",
   "execution_count": 8,
   "id": "8b032f2c",
   "metadata": {
    "execution": {
     "iopub.execute_input": "2022-06-22T00:26:44.193543Z",
     "iopub.status.busy": "2022-06-22T00:26:44.193339Z",
     "iopub.status.idle": "2022-06-22T00:26:44.196763Z",
     "shell.execute_reply": "2022-06-22T00:26:44.196296Z"
    },
    "scrolled": true
   },
   "outputs": [],
   "source": [
    "# Calling replace on the output of another call to replace\n",
    "'train'.replace('t', 'ing').replace('in', 'de')"
   ]
  },
  {
   "cell_type": "markdown",
   "id": "658923ff",
   "metadata": {},
   "source": [
    "Here's a picture of how Python evaluates a \"chained\" method call like that:\n",
    "\n",
    "<img src=\"chaining_method_calls.png\"/>"
   ]
  },
  {
   "cell_type": "markdown",
   "id": "d72c605e",
   "metadata": {
    "deletable": false,
    "editable": false
   },
   "source": [
    "**Question 1.1.1.** Use `replace` to transform the string `'hitchhiker'` into `'matchmaker'`. Assign your result to `new_word`.\n",
    "\n",
    "<!--\n",
    "BEGIN QUESTION\n",
    "name: q111\n",
    "-->"
   ]
  },
  {
   "cell_type": "code",
   "execution_count": 9,
   "id": "391b3554",
   "metadata": {
    "deletable": false,
    "execution": {
     "iopub.execute_input": "2022-06-22T00:26:44.200123Z",
     "iopub.status.busy": "2022-06-22T00:26:44.199877Z",
     "iopub.status.idle": "2022-06-22T00:26:44.203301Z",
     "shell.execute_reply": "2022-06-22T00:26:44.202853Z"
    }
   },
   "outputs": [],
   "source": [
    "new_word = ...\n",
    "new_word"
   ]
  },
  {
   "cell_type": "code",
   "execution_count": null,
   "id": "609ac8c3",
   "metadata": {
    "deletable": false,
    "editable": false
   },
   "outputs": [],
   "source": [
    "grader.check(\"q111\")"
   ]
  },
  {
   "cell_type": "markdown",
   "id": "bfa34346",
   "metadata": {},
   "source": [
    "There are many more string methods in Python, but most programmers don't memorize their names or how to use them.  In the \"real world,\" people usually just search the internet for documentation and examples. A complete [list of string methods](https://docs.python.org/3/library/stdtypes.html#string-methods) appears in the Python language documentation. [Stack Overflow](http://stackoverflow.com) has a huge database of answered questions that often demonstrate how to use these methods to achieve various ends. Material covered in these resources that haven't already been introduced in this class will be out of scope. "
   ]
  },
  {
   "cell_type": "markdown",
   "id": "27979f87",
   "metadata": {},
   "source": [
    "## 1.2. Converting to and from Strings"
   ]
  },
  {
   "cell_type": "markdown",
   "id": "8a501f35",
   "metadata": {},
   "source": [
    "Strings and numbers are different *types* of values, even when a string contains the digits of a number. For example, evaluating the following cell causes an error because an integer cannot be added to a string."
   ]
  },
  {
   "cell_type": "code",
   "execution_count": 11,
   "id": "6e49b2cd",
   "metadata": {
    "execution": {
     "iopub.execute_input": "2022-06-22T00:26:44.215743Z",
     "iopub.status.busy": "2022-06-22T00:26:44.215445Z",
     "iopub.status.idle": "2022-06-22T00:26:44.226449Z",
     "shell.execute_reply": "2022-06-22T00:26:44.225891Z"
    },
    "tags": [
     "raises-exception"
    ]
   },
   "outputs": [],
   "source": [
    "8 + \"8\""
   ]
  },
  {
   "cell_type": "markdown",
   "id": "8ce7c402",
   "metadata": {},
   "source": [
    "However, there are built-in functions to convert numbers to strings and strings to numbers. Some of these built-in functions have restrictions on the type of argument they take:\n",
    "\n",
    "|Function |Description|\n",
    "|-|-|\n",
    "|`int`|Converts a string of digits or a float to an integer (\"int\") value|\n",
    "|`float`|Converts a string of digits (perhaps with a decimal point) or an int to a decimal (\"float\") value|\n",
    "|`str`|Converts any value to a string|"
   ]
  },
  {
   "cell_type": "markdown",
   "id": "2ce9d6de",
   "metadata": {},
   "source": [
    "Try to predict what data type and value `example` evaluates to, then run the cell."
   ]
  },
  {
   "cell_type": "code",
   "execution_count": 12,
   "id": "6e87c15d",
   "metadata": {
    "execution": {
     "iopub.execute_input": "2022-06-22T00:26:44.230280Z",
     "iopub.status.busy": "2022-06-22T00:26:44.230009Z",
     "iopub.status.idle": "2022-06-22T00:26:44.233259Z",
     "shell.execute_reply": "2022-06-22T00:26:44.232828Z"
    }
   },
   "outputs": [],
   "source": [
    "example = 8 + int(\"10\") + float(\"8\")\n",
    "\n",
    "print(example)\n",
    "print(\"This example returned a \" + str(type(example)) + \"!\")"
   ]
  },
  {
   "cell_type": "markdown",
   "id": "a327de7d",
   "metadata": {
    "deletable": false,
    "editable": false
   },
   "source": [
    "Suppose you're writing a program that looks for dates in a text, and you want your program to find the amount of time that elapsed between two years it has identified.  It doesn't make sense to subtract two texts, but you can first convert the text containing the years into numbers.\n",
    "\n",
    "**Question 1.2.1.** Finish the code below to compute the number of years that elapsed between `one_year` and `another_year`.  Don't just write the numbers `1618` and `1648` (or `30`); use a conversion function to turn the given text data into numbers.\n",
    "\n",
    "<!--\n",
    "BEGIN QUESTION\n",
    "name: q121\n",
    "-->"
   ]
  },
  {
   "cell_type": "code",
   "execution_count": 13,
   "id": "a7d7b958",
   "metadata": {
    "deletable": false,
    "execution": {
     "iopub.execute_input": "2022-06-22T00:26:44.236513Z",
     "iopub.status.busy": "2022-06-22T00:26:44.236148Z",
     "iopub.status.idle": "2022-06-22T00:26:44.239947Z",
     "shell.execute_reply": "2022-06-22T00:26:44.239508Z"
    }
   },
   "outputs": [],
   "source": [
    "# Some text data:\n",
    "one_year = \"1618\"\n",
    "another_year = \"1648\"\n",
    "\n",
    "# Complete the next line.  Note that we can't just write:\n",
    "#   another_year - one_year\n",
    "# If you don't see why, try seeing what happens when you\n",
    "# write that here.\n",
    "difference = ...\n",
    "difference"
   ]
  },
  {
   "cell_type": "code",
   "execution_count": null,
   "id": "1310fa4b",
   "metadata": {
    "deletable": false,
    "editable": false
   },
   "outputs": [],
   "source": [
    "grader.check(\"q121\")"
   ]
  },
  {
   "cell_type": "markdown",
   "id": "7f6f647b",
   "metadata": {
    "deletable": false,
    "editable": false
   },
   "source": [
    "## 1.3. Passing strings to functions\n",
    "\n",
    "String values, like numbers, can be arguments to functions and can be returned by functions. \n",
    "\n",
    "The function `len` (derived from the word \"length\") takes a single string as its argument and returns the number of characters (including spaces) in the string.\n",
    "\n",
    "Note that it doesn't count *words*. `len(\"one small step for man\")` evaluates to 22 characters, not 5 words.\n",
    "\n",
    "**Question 1.3.1.**  Use `len` to find the number of characters in the long string in the next cell.  Characters include things like spaces and punctuation. Assign `sentence_length` to that number.\n",
    "\n",
    "(The string is the first sentence of the English translation of the French [Declaration of the Rights of Man](http://avalon.law.yale.edu/18th_century/rightsof.asp).)  \n",
    "\n",
    "<!--\n",
    "BEGIN QUESTION\n",
    "name: q131\n",
    "-->"
   ]
  },
  {
   "cell_type": "code",
   "execution_count": 15,
   "id": "8b4e4ac0",
   "metadata": {
    "deletable": false,
    "execution": {
     "iopub.execute_input": "2022-06-22T00:26:44.249525Z",
     "iopub.status.busy": "2022-06-22T00:26:44.249285Z",
     "iopub.status.idle": "2022-06-22T00:26:44.253078Z",
     "shell.execute_reply": "2022-06-22T00:26:44.252632Z"
    }
   },
   "outputs": [],
   "source": [
    "a_very_long_sentence = \"The representatives of the French people, organized as a National Assembly, believing that the ignorance, neglect, or contempt of the rights of man are the sole cause of public calamities and of the corruption of governments, have determined to set forth in a solemn declaration the natural, unalienable, and sacred rights of man, in order that this declaration, being constantly before all the members of the Social body, shall remind them continually of their rights and duties; in order that the acts of the legislative power, as well as those of the executive power, may be compared at any moment with the objects and purposes of all political institutions and may thus be more respected, and, lastly, in order that the grievances of the citizens, based hereafter upon simple and incontestable principles, shall tend to the maintenance of the constitution and redound to the happiness of all.\"\n",
    "sentence_length = ...\n",
    "sentence_length"
   ]
  },
  {
   "cell_type": "code",
   "execution_count": null,
   "id": "ee745945",
   "metadata": {
    "deletable": false,
    "editable": false
   },
   "outputs": [],
   "source": [
    "grader.check(\"q131\")"
   ]
  },
  {
   "cell_type": "markdown",
   "id": "a9d354a7",
   "metadata": {},
   "source": [
    "# 2. Arrays\n",
    "\n",
    "Computers are most useful when you can use a small amount of code to *do the same action* to *many different things*.\n",
    "\n",
    "For example, in the time it takes you to calculate the 18% tip on a restaurant bill, a laptop can calculate 18% tips for every restaurant bill paid by every human on Earth that day.  (That's if you're pretty fast at doing arithmetic in your head!)\n",
    "\n",
    "**Arrays** are how we put many values in one place so that we can operate on them as a group. For example, if `billions_of_numbers` is an array of numbers, the expression\n",
    "\n",
    "    .18 * billions_of_numbers\n",
    "\n",
    "gives a new array of numbers that contains the result of multiplying **each number** in `billions_of_numbers` by .18.  Arrays are not limited to numbers; we can also put all the words in a book into an array of strings.\n",
    "\n",
    "Concretely, an array is a **collection of values of the same type**. "
   ]
  },
  {
   "cell_type": "markdown",
   "id": "eba539aa",
   "metadata": {},
   "source": [
    "## 2.1. Making arrays\n",
    "\n",
    "First, let's learn how to manually input values into an array. This typically isn't how programs work. Normally, we create arrays by loading them from an external source, like a data file.\n",
    "\n",
    "To create an array by hand, call the function `make_array`.  Each argument you pass to `make_array` will be in the array it returns.  Run this cell to see an example:"
   ]
  },
  {
   "cell_type": "code",
   "execution_count": 17,
   "id": "1f52178c",
   "metadata": {
    "execution": {
     "iopub.execute_input": "2022-06-22T00:26:44.262780Z",
     "iopub.status.busy": "2022-06-22T00:26:44.262550Z",
     "iopub.status.idle": "2022-06-22T00:26:44.266422Z",
     "shell.execute_reply": "2022-06-22T00:26:44.265955Z"
    },
    "scrolled": true
   },
   "outputs": [],
   "source": [
    "make_array(0.125, 4.75, -1.3)"
   ]
  },
  {
   "cell_type": "markdown",
   "id": "b12af41b",
   "metadata": {},
   "source": [
    "Each value in an array (in the above case, the numbers 0.125, 4.75, and -1.3) is called an *element* of that array.\n",
    "\n",
    "Arrays themselves are also values, just like numbers and strings.  That means you can assign them to names or use them as arguments to functions. For example, `len(<some_array>)` returns the number of elements in `some_array`."
   ]
  },
  {
   "cell_type": "markdown",
   "id": "d46cc2c0",
   "metadata": {
    "deletable": false,
    "editable": false
   },
   "source": [
    "**Question 2.1.1.** Make an array containing the numbers 0, 1, -1, and $\\pi$, in that order.  Name it `interesting_numbers`.  \n",
    "\n",
    "*Hint:* How did you get the value $\\pi$ in lab 2?  You can refer to it the same way here. The `math` module has been imported at the top of this notebook.\n",
    "\n",
    "<!--\n",
    "BEGIN QUESTION\n",
    "name: q211\n",
    "-->"
   ]
  },
  {
   "cell_type": "code",
   "execution_count": 18,
   "id": "a6b5d1f6",
   "metadata": {
    "deletable": false,
    "execution": {
     "iopub.execute_input": "2022-06-22T00:26:44.269688Z",
     "iopub.status.busy": "2022-06-22T00:26:44.269443Z",
     "iopub.status.idle": "2022-06-22T00:26:44.273233Z",
     "shell.execute_reply": "2022-06-22T00:26:44.272810Z"
    }
   },
   "outputs": [],
   "source": [
    "interesting_numbers = ...\n",
    "interesting_numbers"
   ]
  },
  {
   "cell_type": "code",
   "execution_count": null,
   "id": "b9529816",
   "metadata": {
    "deletable": false,
    "editable": false
   },
   "outputs": [],
   "source": [
    "grader.check(\"q211\")"
   ]
  },
  {
   "cell_type": "markdown",
   "id": "bee3f258",
   "metadata": {
    "deletable": false,
    "editable": false
   },
   "source": [
    "**Question 2.1.2.** Make an array containing the five strings `\"Hello\"`, `\",\"`, `\" \"`, `\"world\"`, and `\"!\"`.  (The third one is a single space inside quotes.)  Name it `hello_world_components`.\n",
    "\n",
    "*Note:* If you evaluate `hello_world_components`, you'll notice some extra information in addition to its contents: `dtype='<U5'`.  That's just NumPy's extremely cryptic way of saying that the data types in the array are strings.\n",
    "\n",
    "<!--\n",
    "BEGIN QUESTION\n",
    "name: q212\n",
    "-->"
   ]
  },
  {
   "cell_type": "code",
   "execution_count": 22,
   "id": "ff91aed4",
   "metadata": {
    "deletable": false,
    "execution": {
     "iopub.execute_input": "2022-06-22T00:26:44.298216Z",
     "iopub.status.busy": "2022-06-22T00:26:44.297978Z",
     "iopub.status.idle": "2022-06-22T00:26:44.301524Z",
     "shell.execute_reply": "2022-06-22T00:26:44.301091Z"
    }
   },
   "outputs": [],
   "source": [
    "hello_world_components = ...\n",
    "hello_world_components"
   ]
  },
  {
   "cell_type": "code",
   "execution_count": null,
   "id": "5125624a",
   "metadata": {
    "deletable": false,
    "editable": false
   },
   "outputs": [],
   "source": [
    "grader.check(\"q212\")"
   ]
  },
  {
   "cell_type": "markdown",
   "id": "02db001b",
   "metadata": {},
   "source": [
    "###  `np.arange`\n",
    "Arrays are provided by a package called [NumPy](http://www.numpy.org/) (pronounced \"NUM-pie\"). The package is called `numpy`, but it's standard to rename it `np` for brevity.  You can do that with:\n",
    "\n",
    "    import numpy as np\n",
    "\n",
    "Very often in data science, we want to work with many numbers that are evenly spaced within some range.  NumPy provides a special function for this called `arange`.  The line of code `np.arange(start, stop, step)` evaluates to an array with all the numbers starting at `start` and counting up by `step`, stopping **before** `stop` is reached.\n",
    "\n",
    "Run the following cells to see some examples!"
   ]
  },
  {
   "cell_type": "code",
   "execution_count": 26,
   "id": "6f66f4d5",
   "metadata": {
    "execution": {
     "iopub.execute_input": "2022-06-22T00:26:44.324188Z",
     "iopub.status.busy": "2022-06-22T00:26:44.323937Z",
     "iopub.status.idle": "2022-06-22T00:26:44.327900Z",
     "shell.execute_reply": "2022-06-22T00:26:44.327129Z"
    }
   },
   "outputs": [],
   "source": [
    "# This array starts at 1 and counts up by 2\n",
    "# and then stops before 6\n",
    "np.arange(1, 6, 2)"
   ]
  },
  {
   "cell_type": "code",
   "execution_count": 27,
   "id": "dadbe5a5",
   "metadata": {
    "execution": {
     "iopub.execute_input": "2022-06-22T00:26:44.331089Z",
     "iopub.status.busy": "2022-06-22T00:26:44.330830Z",
     "iopub.status.idle": "2022-06-22T00:26:44.334660Z",
     "shell.execute_reply": "2022-06-22T00:26:44.334180Z"
    }
   },
   "outputs": [],
   "source": [
    "# This array doesn't contain 9\n",
    "# because np.arange stops *before* the stop value is reached\n",
    "np.arange(4, 9, 1)"
   ]
  },
  {
   "cell_type": "markdown",
   "id": "679f3699",
   "metadata": {
    "deletable": false,
    "editable": false
   },
   "source": [
    "**Question 2.1.3.** Import `numpy` as `np` and then use `np.arange` to create an array with the multiples of 99 from 0 up to (**and including**) 9999.  (So its elements are 0, 99, 198, 297, etc.)\n",
    "\n",
    "<!--\n",
    "BEGIN QUESTION\n",
    "name: q213\n",
    "-->"
   ]
  },
  {
   "cell_type": "code",
   "execution_count": 28,
   "id": "978243d7",
   "metadata": {
    "deletable": false,
    "execution": {
     "iopub.execute_input": "2022-06-22T00:26:44.337808Z",
     "iopub.status.busy": "2022-06-22T00:26:44.337549Z",
     "iopub.status.idle": "2022-06-22T00:26:44.341716Z",
     "shell.execute_reply": "2022-06-22T00:26:44.341222Z"
    }
   },
   "outputs": [],
   "source": [
    "...\n",
    "multiples_of_99 = ...\n",
    "multiples_of_99"
   ]
  },
  {
   "cell_type": "code",
   "execution_count": null,
   "id": "59fe9b59",
   "metadata": {
    "deletable": false,
    "editable": false
   },
   "outputs": [],
   "source": [
    "grader.check(\"q213\")"
   ]
  },
  {
   "cell_type": "markdown",
   "id": "b3447af2",
   "metadata": {
    "deletable": false
   },
   "source": [
    "## 2.2. Working with single elements of arrays (\"indexing\")\n",
    "Let's work with a more interesting dataset.  The next cell creates an array called `population_amounts` that includes estimated world populations of every year from **1950** to roughly the present.  (The estimates come from the US Census Bureau website.)\n",
    "\n",
    "Rather than type in the data manually, we've loaded them from a file on your computer called `world_population.csv`.  You'll learn how to do that later in this lab!"
   ]
  },
  {
   "cell_type": "code",
   "execution_count": 32,
   "id": "479289c6",
   "metadata": {
    "deletable": false,
    "execution": {
     "iopub.execute_input": "2022-06-22T00:26:44.365730Z",
     "iopub.status.busy": "2022-06-22T00:26:44.365508Z",
     "iopub.status.idle": "2022-06-22T00:26:45.333265Z",
     "shell.execute_reply": "2022-06-22T00:26:45.332515Z"
    }
   },
   "outputs": [],
   "source": [
    "population_amounts = Table.read_table(\"world_population.csv\").column(\"Population\")\n",
    "population_amounts"
   ]
  },
  {
   "cell_type": "markdown",
   "id": "165fdd3a",
   "metadata": {},
   "source": [
    "Here's how we get the first element of `population_amounts`, which is the world population in the first year in the dataset, 1950."
   ]
  },
  {
   "cell_type": "code",
   "execution_count": 33,
   "id": "5988dd39",
   "metadata": {
    "execution": {
     "iopub.execute_input": "2022-06-22T00:26:45.337020Z",
     "iopub.status.busy": "2022-06-22T00:26:45.336745Z",
     "iopub.status.idle": "2022-06-22T00:26:45.349443Z",
     "shell.execute_reply": "2022-06-22T00:26:45.348862Z"
    }
   },
   "outputs": [],
   "source": [
    "population_amounts.item(0)"
   ]
  },
  {
   "cell_type": "markdown",
   "id": "23d8a268",
   "metadata": {},
   "source": [
    "The value of that expression is the number 2,557,628,654 (around 2.5 billion), because that's the first thing in the array `population_amounts`.\n",
    "\n",
    "Notice that we wrote `.item(0)`, not `.item(1)`, to get the first element.  This is a weird convention in computer science.  **0 is called the *index* of the first item.**  It's the number of elements that appear *before* that item.  So 3 is the index of the 4th item.\n",
    "\n",
    "Here are some more examples.  In the examples, we've given names to the things we get out of `population_amounts`.  Read and run each cell."
   ]
  },
  {
   "cell_type": "code",
   "execution_count": 34,
   "id": "54037e13",
   "metadata": {
    "execution": {
     "iopub.execute_input": "2022-06-22T00:26:45.352898Z",
     "iopub.status.busy": "2022-06-22T00:26:45.352639Z",
     "iopub.status.idle": "2022-06-22T00:26:45.363891Z",
     "shell.execute_reply": "2022-06-22T00:26:45.363425Z"
    }
   },
   "outputs": [],
   "source": [
    "# The 13th element in the array is the population\n",
    "# in 1962 (which is 1950 + 12).\n",
    "population_1962 = population_amounts.item(12)\n",
    "population_1962"
   ]
  },
  {
   "cell_type": "code",
   "execution_count": 35,
   "id": "d8c157a2",
   "metadata": {
    "execution": {
     "iopub.execute_input": "2022-06-22T00:26:45.366866Z",
     "iopub.status.busy": "2022-06-22T00:26:45.366472Z",
     "iopub.status.idle": "2022-06-22T00:26:45.377438Z",
     "shell.execute_reply": "2022-06-22T00:26:45.376962Z"
    }
   },
   "outputs": [],
   "source": [
    "# The 66th element is the population in 2015.\n",
    "population_2015 = population_amounts.item(65)\n",
    "population_2015"
   ]
  },
  {
   "cell_type": "code",
   "execution_count": 36,
   "id": "f655fccb",
   "metadata": {
    "execution": {
     "iopub.execute_input": "2022-06-22T00:26:45.380461Z",
     "iopub.status.busy": "2022-06-22T00:26:45.380197Z",
     "iopub.status.idle": "2022-06-22T00:26:45.391242Z",
     "shell.execute_reply": "2022-06-22T00:26:45.390767Z"
    },
    "tags": [
     "raises-exception"
    ]
   },
   "outputs": [],
   "source": [
    "# The array has only 66 elements, so this doesn't work.\n",
    "# (There's no element with 66 other elements before it.)\n",
    "population_2016 = population_amounts.item(66)\n",
    "population_2016"
   ]
  },
  {
   "cell_type": "markdown",
   "id": "0432679a",
   "metadata": {},
   "source": [
    "Since `make_array` returns an array, we can call `.item(3)` on its output to get its 4th element, just like we \"chained\" together calls to the method `replace` earlier."
   ]
  },
  {
   "cell_type": "code",
   "execution_count": 37,
   "id": "57ce8e10",
   "metadata": {
    "execution": {
     "iopub.execute_input": "2022-06-22T00:26:45.394414Z",
     "iopub.status.busy": "2022-06-22T00:26:45.394022Z",
     "iopub.status.idle": "2022-06-22T00:26:45.397799Z",
     "shell.execute_reply": "2022-06-22T00:26:45.397355Z"
    }
   },
   "outputs": [],
   "source": [
    "make_array(-1, -3, 4, -2).item(3)"
   ]
  },
  {
   "cell_type": "markdown",
   "id": "495a60b8",
   "metadata": {
    "deletable": false,
    "editable": false
   },
   "source": [
    "**Question 2.2.1.** Set `population_1973` to the world population in 1973, by getting the appropriate element from `population_amounts` using `item`.\n",
    "\n",
    "<!--\n",
    "BEGIN QUESTION\n",
    "name: q221\n",
    "-->"
   ]
  },
  {
   "cell_type": "code",
   "execution_count": 38,
   "id": "108197c7",
   "metadata": {
    "deletable": false,
    "execution": {
     "iopub.execute_input": "2022-06-22T00:26:45.400967Z",
     "iopub.status.busy": "2022-06-22T00:26:45.400722Z",
     "iopub.status.idle": "2022-06-22T00:26:45.412212Z",
     "shell.execute_reply": "2022-06-22T00:26:45.411733Z"
    }
   },
   "outputs": [],
   "source": [
    "population_1973 = ...\n",
    "population_1973"
   ]
  },
  {
   "cell_type": "code",
   "execution_count": null,
   "id": "69cb69b9",
   "metadata": {
    "deletable": false,
    "editable": false
   },
   "outputs": [],
   "source": [
    "grader.check(\"q221\")"
   ]
  },
  {
   "cell_type": "markdown",
   "id": "abbe4300",
   "metadata": {},
   "source": [
    "## 2.3. Doing something to every element of an array\n",
    "Arrays are primarily useful for doing the same operation many times, so we don't often have to use `.item` and work with single elements.\n",
    "\n",
    "##### Rounding\n",
    "Here is one simple question we might ask about world population:\n",
    "\n",
    "> How big was the population in each year, rounded to the nearest million?\n",
    "\n",
    "Rounding is often used with large numbers when we don't need as much precision in our numbers. One example of this is when we present data in tables and visualizations. \n",
    "\n",
    "We could try to answer our question using the `round` function that is built into Python and the `item` method you just saw. \n",
    "\n",
    "**Note:** the `round` function takes in two arguments: the number to be rounded, and the number of decimal places to round to. The second argument can be thought of as how many steps right or left you move from the decimal point. Negative numbers tell us to move left, and positive numbers tell us to move right. So, if we have `round(1234.5, -2)`, it means that we should move two places left, and then make all numbers to the right of this place zeroes. This would output the number 1200.0. On the other hand, if we have `round(6.789, 1)`, we should move one place right, and then make all numbers to the right of this place zeroes. This would output the number 6.8."
   ]
  },
  {
   "cell_type": "code",
   "execution_count": 40,
   "id": "455ab1ba",
   "metadata": {
    "execution": {
     "iopub.execute_input": "2022-06-22T00:26:45.428868Z",
     "iopub.status.busy": "2022-06-22T00:26:45.428640Z",
     "iopub.status.idle": "2022-06-22T00:26:45.441596Z",
     "shell.execute_reply": "2022-06-22T00:26:45.441112Z"
    },
    "scrolled": true
   },
   "outputs": [],
   "source": [
    "population_1950_magnitude = round(population_amounts.item(0), -6)\n",
    "population_1951_magnitude = round(population_amounts.item(1), -6)\n",
    "population_1952_magnitude = round(population_amounts.item(2), -6)\n",
    "population_1953_magnitude = round(population_amounts.item(3), -6)"
   ]
  },
  {
   "cell_type": "markdown",
   "id": "80faff74",
   "metadata": {
    "deletable": false,
    "editable": false
   },
   "source": [
    "But this is tedious and doesn't really take advantage of the fact that we are using a computer.\n",
    "\n",
    "Instead, NumPy provides its own version of `round` that rounds each element of an array.  It takes in two arguments: a single array of numbers, and the number of decimal places to round to.  It returns an array of the same length, where the first element of the result is the first element of the argument rounded, and so on.\n",
    "\n",
    "**Question 2.3.1.** Use `np.round` to compute the world population in every year, rounded to the nearest million (6 zeroes).  Give the result (an array of 66 numbers) the name `population_rounded`.  Your code should be very short.\n",
    "\n",
    "<!--\n",
    "BEGIN QUESTION\n",
    "name: q231\n",
    "-->"
   ]
  },
  {
   "cell_type": "code",
   "execution_count": 41,
   "id": "1ce74495",
   "metadata": {
    "deletable": false,
    "execution": {
     "iopub.execute_input": "2022-06-22T00:26:45.445072Z",
     "iopub.status.busy": "2022-06-22T00:26:45.444799Z",
     "iopub.status.idle": "2022-06-22T00:26:45.456016Z",
     "shell.execute_reply": "2022-06-22T00:26:45.455523Z"
    }
   },
   "outputs": [],
   "source": [
    "population_rounded = ...\n",
    "population_rounded"
   ]
  },
  {
   "cell_type": "code",
   "execution_count": null,
   "id": "832242b8",
   "metadata": {
    "deletable": false,
    "editable": false
   },
   "outputs": [],
   "source": [
    "grader.check(\"q231\")"
   ]
  },
  {
   "cell_type": "markdown",
   "id": "b0a5fab7",
   "metadata": {},
   "source": [
    "What you just did is called **elementwise** application of `np.round`, since `np.round` operates separately on each element of the array that it's called on. Here's a picture of what's going on:"
   ]
  },
  {
   "cell_type": "markdown",
   "id": "0ab5523b",
   "metadata": {},
   "source": [
    "<img src=\"array_round.jpg\">\n",
    "\n",
    "The textbook's [section](https://www.inferentialthinking.com/chapters/05/1/Arrays)  on arrays has a useful list of NumPy functions that are designed to work elementwise, like `np.round`."
   ]
  },
  {
   "cell_type": "markdown",
   "id": "84f58cfa",
   "metadata": {},
   "source": [
    "##### Arithmetic\n",
    "Arithmetic also works elementwise on arrays, meaning that if you perform an arithmetic operation (like subtraction, division, etc) on an array, Python will do the operation to every element of the array individually and return an array of all of the results. For example, you can divide all the population numbers by 1 billion to get numbers in billions:"
   ]
  },
  {
   "cell_type": "code",
   "execution_count": 44,
   "id": "dc314ee3",
   "metadata": {
    "execution": {
     "iopub.execute_input": "2022-06-22T00:26:45.488468Z",
     "iopub.status.busy": "2022-06-22T00:26:45.488235Z",
     "iopub.status.idle": "2022-06-22T00:26:45.498833Z",
     "shell.execute_reply": "2022-06-22T00:26:45.498346Z"
    }
   },
   "outputs": [],
   "source": [
    "population_in_billions = population_amounts / 1000000000\n",
    "population_in_billions"
   ]
  },
  {
   "cell_type": "markdown",
   "id": "d9be4fd7",
   "metadata": {},
   "source": [
    "You can do the same with addition, subtraction, multiplication, and exponentiation (`**`).\n",
    "\n"
   ]
  },
  {
   "cell_type": "markdown",
   "id": "11f50216",
   "metadata": {
    "deletable": false
   },
   "source": [
    "## 3. Creating Tables\n",
    "\n",
    "An array is useful for describing a single attribute of each element in a collection. For example, let's say our collection is all US States. Then an array could describe the land area of each state. \n",
    "\n",
    "Tables extend this idea by containing multiple columns stored and represented as arrays, each one describing a different attribute for every element of a collection. In this way, tables allow us to not only store data about many entities but to also contain several kinds of data about each entity. \n",
    "\n",
    "For example, in the cell below we have two arrays. The first one, `population_amounts`, was defined above in section 2.2 and contains the world population in each year (estimated by the US Census Bureau). The second array, `years`, contains the years themselves. These elements are in order, so the year and the world population for that year have the same index in their corresponding arrays."
   ]
  },
  {
   "cell_type": "code",
   "execution_count": 45,
   "id": "e9477072",
   "metadata": {
    "deletable": false,
    "execution": {
     "iopub.execute_input": "2022-06-22T00:26:45.502458Z",
     "iopub.status.busy": "2022-06-22T00:26:45.502209Z",
     "iopub.status.idle": "2022-06-22T00:26:45.515100Z",
     "shell.execute_reply": "2022-06-22T00:26:45.514578Z"
    },
    "scrolled": true
   },
   "outputs": [],
   "source": [
    "# Just run this cell\n",
    "\n",
    "years = np.arange(1950, 2015+1)\n",
    "print(\"Population column:\", population_amounts)\n",
    "print(\"Years column:\", years)"
   ]
  },
  {
   "cell_type": "markdown",
   "id": "830dd778",
   "metadata": {
    "deletable": false
   },
   "source": [
    "Suppose we want to answer this question:\n",
    "\n",
    "> In which year did the world's population cross 6 billion?\n",
    "\n",
    "You could technically answer this question just from staring at the arrays, but it's a bit convoluted, since you would have to count the position where the population first crossed 6 billion, then find the corresponding element in the years array. In cases like these, it might be easier to put the data into a *`Table`*, a 2-dimensional type of dataset. \n",
    "\n",
    "The expression below:\n",
    "\n",
    "- creates an empty table using the expression `Table()`,\n",
    "- adds two columns by calling `with_columns` with four arguments,\n",
    "- assigns the result to the name `population`, and finally\n",
    "- evaluates `population` so that we can see the table.\n",
    "\n",
    "The strings `\"Year\"` and `\"Population\"` are column labels that we have chosen. The names `population_amounts` and `years` were assigned above to two arrays of the **same length**. The function `with_columns` (you can find the documentation [here](http://data8.org/fa21/python-reference.html)) takes in alternating strings (to represent column labels) and arrays (representing the data in those columns). The strings and arrays are separated by commas."
   ]
  },
  {
   "cell_type": "code",
   "execution_count": 46,
   "id": "b043c4de",
   "metadata": {
    "deletable": false,
    "execution": {
     "iopub.execute_input": "2022-06-22T00:26:45.518468Z",
     "iopub.status.busy": "2022-06-22T00:26:45.518125Z",
     "iopub.status.idle": "2022-06-22T00:26:45.529601Z",
     "shell.execute_reply": "2022-06-22T00:26:45.529114Z"
    }
   },
   "outputs": [],
   "source": [
    "population = Table().with_columns(\n",
    "    \"Population\", population_amounts,\n",
    "    \"Year\", years\n",
    ")\n",
    "population"
   ]
  },
  {
   "cell_type": "markdown",
   "id": "59613cb5",
   "metadata": {
    "deletable": false
   },
   "source": [
    "Now the data is combined into a single table! It's much easier to parse this data. If you need to know what the population was in 1959, for example, you can tell from a single glance."
   ]
  },
  {
   "cell_type": "markdown",
   "id": "76bce3fe",
   "metadata": {
    "deletable": false,
    "editable": false
   },
   "source": [
    "**Question 3.1.** In the cell below, we've created 2 arrays. Using the steps above, assign `top_10_movies` to a table that has two columns called \"Name\" and \"Rating\", which hold `top_10_movie_names` and `top_10_movie_ratings` respectively.\n",
    "\n",
    "<!--\n",
    "BEGIN QUESTION\n",
    "name: q31\n",
    "-->"
   ]
  },
  {
   "cell_type": "code",
   "execution_count": 47,
   "id": "cc9f5078",
   "metadata": {
    "deletable": false,
    "execution": {
     "iopub.execute_input": "2022-06-22T00:26:45.533248Z",
     "iopub.status.busy": "2022-06-22T00:26:45.533012Z",
     "iopub.status.idle": "2022-06-22T00:26:45.538283Z",
     "shell.execute_reply": "2022-06-22T00:26:45.537817Z"
    }
   },
   "outputs": [],
   "source": [
    "top_10_movie_names = make_array(\n",
    "        'The Shawshank Redemption (1994)',\n",
    "        'The Godfather (1972)',\n",
    "        'The Godfather: Part II (1974)',\n",
    "        'Pulp Fiction (1994)',\n",
    "        \"Schindler's List (1993)\",\n",
    "        'The Lord of the Rings: The Return of the King (2003)',\n",
    "        '12 Angry Men (1957)',\n",
    "        'The Dark Knight (2008)',\n",
    "        'Il buono, il brutto, il cattivo (1966)',\n",
    "        'The Lord of the Rings: The Fellowship of the Ring (2001)')\n",
    "top_10_movie_ratings = make_array(9.2, 9.2, 9., 8.9, 8.9, 8.9, 8.9, 8.9, 8.9, 8.8)\n",
    "\n",
    "top_10_movies = ...\n",
    "\n",
    "# We've put this next line here \n",
    "# so your table will get printed out \n",
    "# when you run this cell.\n",
    "top_10_movies"
   ]
  },
  {
   "cell_type": "code",
   "execution_count": null,
   "id": "abe5cc07",
   "metadata": {
    "deletable": false,
    "editable": false
   },
   "outputs": [],
   "source": [
    "grader.check(\"q31\")"
   ]
  },
  {
   "cell_type": "markdown",
   "id": "625022e1",
   "metadata": {
    "deletable": false,
    "editable": false
   },
   "source": [
    "#### Loading a table from a file\n",
    "\n",
    "In most cases, we aren't going to go through the trouble of typing in all the data manually. Instead, we load them in from an external source, like a data file. There are many formats for data files, but CSV (\"comma-separated values\") is the most common.\n",
    "\n",
    "`Table.read_table(...)` takes one argument (a path to a data file in **string** format) and returns a table.  \n",
    "\n",
    "**Question 3.2.** `imdb.csv` contains a table of information about the 250 highest-rated movies on IMDb.  Load it as a table called `imdb`.\n",
    "\n",
    "(You may remember working with this table in Lab 2!)\n",
    "\n",
    "<!--\n",
    "BEGIN QUESTION\n",
    "name: q32\n",
    "-->"
   ]
  },
  {
   "cell_type": "code",
   "execution_count": 50,
   "id": "44d74294",
   "metadata": {
    "deletable": false,
    "execution": {
     "iopub.execute_input": "2022-06-22T00:26:45.555613Z",
     "iopub.status.busy": "2022-06-22T00:26:45.555132Z",
     "iopub.status.idle": "2022-06-22T00:26:45.621610Z",
     "shell.execute_reply": "2022-06-22T00:26:45.621032Z"
    }
   },
   "outputs": [],
   "source": [
    "imdb = ...\n",
    "imdb"
   ]
  },
  {
   "cell_type": "code",
   "execution_count": null,
   "id": "5cd50fd8",
   "metadata": {
    "deletable": false,
    "editable": false
   },
   "outputs": [],
   "source": [
    "grader.check(\"q32\")"
   ]
  },
  {
   "cell_type": "markdown",
   "id": "f89195b7",
   "metadata": {},
   "source": [
    "Where did `imdb.csv` come from? Take a look at [this lab's folder](./). You should see a file called `imdb.csv`.\n",
    "\n",
    "Open up the `imdb.csv` file in that folder and look at the format. What do you notice? The `.csv` filename ending says that this file is in the [CSV (comma-separated value) format](http://edoceo.com/utilitas/csv-file-format)."
   ]
  },
  {
   "cell_type": "markdown",
   "id": "c4fd5335",
   "metadata": {},
   "source": [
    "## 4. More Table Operations!\n",
    "\n",
    "Now that you've worked with arrays, let's add a few more methods to the list of table operations that you saw in Lab 2.\n",
    "\n",
    "### `column`\n",
    "\n",
    "`column` takes the column name of a table (in string format) as its argument and returns the values in that column as an **array**. "
   ]
  },
  {
   "cell_type": "code",
   "execution_count": 54,
   "id": "3e16c4f7",
   "metadata": {
    "execution": {
     "iopub.execute_input": "2022-06-22T00:26:45.670291Z",
     "iopub.status.busy": "2022-06-22T00:26:45.670043Z",
     "iopub.status.idle": "2022-06-22T00:26:45.673545Z",
     "shell.execute_reply": "2022-06-22T00:26:45.673079Z"
    },
    "scrolled": true
   },
   "outputs": [],
   "source": [
    "# Returns an array of movie names\n",
    "top_10_movies.column('Name')"
   ]
  },
  {
   "cell_type": "markdown",
   "id": "eca85d39",
   "metadata": {},
   "source": [
    "### `take`\n",
    "The table method `take` takes as its argument an array of numbers.  Each number should be the index of a row in the table.  It returns a **new table** with only those rows. \n",
    "\n",
    "You'll usually want to use `take` in conjunction with `np.arange` to take the first few rows of a table."
   ]
  },
  {
   "cell_type": "code",
   "execution_count": 55,
   "id": "e2e1d5f3",
   "metadata": {
    "execution": {
     "iopub.execute_input": "2022-06-22T00:26:45.676737Z",
     "iopub.status.busy": "2022-06-22T00:26:45.676508Z",
     "iopub.status.idle": "2022-06-22T00:26:45.680653Z",
     "shell.execute_reply": "2022-06-22T00:26:45.680183Z"
    },
    "scrolled": true
   },
   "outputs": [],
   "source": [
    "# Take first 5 movies of top_10_movies\n",
    "top_10_movies.take(np.arange(0, 5, 1))"
   ]
  },
  {
   "cell_type": "markdown",
   "id": "20f84544",
   "metadata": {},
   "source": [
    "The next three questions will give you practice with combining the operations you've learned in this lab and the previous one to answer questions about the `population` and `imdb` tables. First, check out the `population` table from section 2."
   ]
  },
  {
   "cell_type": "code",
   "execution_count": 56,
   "id": "d4a8c4ee",
   "metadata": {
    "execution": {
     "iopub.execute_input": "2022-06-22T00:26:45.684029Z",
     "iopub.status.busy": "2022-06-22T00:26:45.683789Z",
     "iopub.status.idle": "2022-06-22T00:26:45.694187Z",
     "shell.execute_reply": "2022-06-22T00:26:45.693715Z"
    }
   },
   "outputs": [],
   "source": [
    "# Run this cell to display the population table.\n",
    "population"
   ]
  },
  {
   "cell_type": "markdown",
   "id": "9d90aee9",
   "metadata": {
    "deletable": false,
    "editable": false
   },
   "source": [
    "**Question 4.1.** Check out the `population` table from section 2 of this lab.  Compute the year when the world population first went above 6 billion. Assign the year to `year_population_crossed_6_billion`.\n",
    "\n",
    "<!--\n",
    "BEGIN QUESTION\n",
    "name: q41\n",
    "-->"
   ]
  },
  {
   "cell_type": "code",
   "execution_count": 57,
   "id": "cda446d5",
   "metadata": {
    "deletable": false,
    "execution": {
     "iopub.execute_input": "2022-06-22T00:26:45.697504Z",
     "iopub.status.busy": "2022-06-22T00:26:45.697264Z",
     "iopub.status.idle": "2022-06-22T00:26:45.709809Z",
     "shell.execute_reply": "2022-06-22T00:26:45.709335Z"
    }
   },
   "outputs": [],
   "source": [
    "year_population_crossed_6_billion = ...\n",
    "year_population_crossed_6_billion"
   ]
  },
  {
   "cell_type": "code",
   "execution_count": null,
   "id": "a6736def",
   "metadata": {
    "deletable": false,
    "editable": false
   },
   "outputs": [],
   "source": [
    "grader.check(\"q41\")"
   ]
  },
  {
   "cell_type": "markdown",
   "id": "fc712559",
   "metadata": {
    "deletable": false,
    "editable": false
   },
   "source": [
    "**Question 4.2.** Find the average rating for movies released before the year 2000 and the average rating for movies released in the year 2000 or after for the movies in `imdb`.\n",
    "\n",
    "*Hint*: Think of the steps you need to do (take the average, find the ratings, find movies released in 20th/21st centuries), and try to put them in an order that makes sense.\n",
    "\n",
    "<!--\n",
    "BEGIN QUESTION\n",
    "name: q42\n",
    "-->"
   ]
  },
  {
   "cell_type": "code",
   "execution_count": 60,
   "id": "09e2bd39",
   "metadata": {
    "deletable": false,
    "execution": {
     "iopub.execute_input": "2022-06-22T00:26:45.741951Z",
     "iopub.status.busy": "2022-06-22T00:26:45.741704Z",
     "iopub.status.idle": "2022-06-22T00:26:45.755813Z",
     "shell.execute_reply": "2022-06-22T00:26:45.755307Z"
    }
   },
   "outputs": [],
   "source": [
    "before_2000 = ...\n",
    "after_or_in_2000 = ...\n",
    "print(\"Average before 2000 rating:\", before_2000)\n",
    "print(\"Average after or in 2000 rating:\", after_or_in_2000)"
   ]
  },
  {
   "cell_type": "code",
   "execution_count": null,
   "id": "07002a5b",
   "metadata": {
    "deletable": false,
    "editable": false
   },
   "outputs": [],
   "source": [
    "grader.check(\"q42\")"
   ]
  },
  {
   "cell_type": "markdown",
   "id": "b2058e85",
   "metadata": {
    "deletable": false,
    "editable": false
   },
   "source": [
    "**Question 4.3.** Here's a challenge: Find the number of movies that came out in *even* years.\n",
    "\n",
    "*Hint:* The operator `%` computes the remainder when dividing by a number.  So `5 % 2` is 1 and `6 % 2` is 0.  A number is even if the remainder is 0 when you divide by 2.\n",
    "\n",
    "*Hint 2:* `%` can be used on arrays, operating elementwise like `+` or `*`.  So `make_array(5, 6, 7) % 2` is `array([1, 0, 1])`.\n",
    "\n",
    "*Hint 3:* Add a new column called \"Year Remainder\" that's the remainder when each movie's release year is divided by 2. To do this, you can use `tbl.with_column(col_name, col_values)`: a table method that takes in the name of the new column and an array of values and returns a copy of the original `tbl` with the new column.  Then, use `where` to find rows where that new column is equal to 0.  Finally, use `num_rows` to count the number of such rows.\n",
    "\n",
    "*Note:* These steps can be chained in one single statement, or broken up across several lines with intermediate names assigned. You\u2019re always welcome to break down problems however you wish!\n",
    "\n",
    "<!--\n",
    "BEGIN QUESTION\n",
    "name: q43\n",
    "-->"
   ]
  },
  {
   "cell_type": "code",
   "execution_count": 63,
   "id": "d4d61d26",
   "metadata": {
    "deletable": false,
    "execution": {
     "iopub.execute_input": "2022-06-22T00:26:45.790605Z",
     "iopub.status.busy": "2022-06-22T00:26:45.790369Z",
     "iopub.status.idle": "2022-06-22T00:26:45.803404Z",
     "shell.execute_reply": "2022-06-22T00:26:45.802906Z"
    }
   },
   "outputs": [],
   "source": [
    "num_even_year_movies = ...\n",
    "num_even_year_movies"
   ]
  },
  {
   "cell_type": "code",
   "execution_count": null,
   "id": "862bba39",
   "metadata": {
    "deletable": false,
    "editable": false
   },
   "outputs": [],
   "source": [
    "grader.check(\"q43\")"
   ]
  },
  {
   "cell_type": "markdown",
   "id": "21981006",
   "metadata": {},
   "source": [
    "## 5. More Array Practice\n",
    "\n",
    "The following questions will be great practice for learning how to generate arrays in different ways, as well as executing different methods of array arithmetic!"
   ]
  },
  {
   "cell_type": "markdown",
   "id": "950e8be6",
   "metadata": {},
   "source": [
    "###  5.1 `np.arange` (cont.)"
   ]
  },
  {
   "cell_type": "markdown",
   "id": "418c2147",
   "metadata": {
    "deletable": false,
    "editable": false
   },
   "source": [
    "##### Temperature readings\n",
    "NOAA (the US National Oceanic and Atmospheric Administration) operates weather stations that measure surface temperatures at different sites around the United States.  The hourly readings are [publicly available](http://www.ncdc.noaa.gov/qclcd/QCLCD?prior=N).\n",
    "\n",
    "Suppose we download all the hourly data from the Oakland, California site for the month of December 2015.  To analyze the data, we want to know when each reading was taken, but we find that the data don't include the timestamps of the readings (the time at which each one was taken).\n",
    "\n",
    "However, we know the first reading was taken at the first instant of December 2015 (midnight on December 1st) and each subsequent reading was taken exactly 1 hour after the last.\n",
    "\n",
    "**Question 5.1.1.** Create an array of the *time, in seconds, since the start of the month* at which **each hourly reading** was taken.  Name it `collection_times`.\n",
    "\n",
    "*Hint 1:* There were 31 days in December, which is equivalent to ($31 \\times 24$) hours or ($31 \\times 24 \\times 60 \\times 60$) seconds.  So your array should have $31 \\times 24$ elements in it.\n",
    "\n",
    "*Hint 2:* The `len` function works on arrays, too!  If your `collection_times` isn't passing the tests, check its length and make sure it has $31 \\times 24$ elements.\n",
    "\n",
    "<!--\n",
    "BEGIN QUESTION\n",
    "name: q511\n",
    "-->"
   ]
  },
  {
   "cell_type": "code",
   "execution_count": 65,
   "id": "bad2b2b7",
   "metadata": {
    "execution": {
     "iopub.execute_input": "2022-06-22T00:26:45.820665Z",
     "iopub.status.busy": "2022-06-22T00:26:45.820419Z",
     "iopub.status.idle": "2022-06-22T00:26:45.825864Z",
     "shell.execute_reply": "2022-06-22T00:26:45.825438Z"
    }
   },
   "outputs": [],
   "source": [
    "collection_times = ...\n",
    "collection_times"
   ]
  },
  {
   "cell_type": "code",
   "execution_count": null,
   "id": "ba05d001",
   "metadata": {
    "deletable": false,
    "editable": false
   },
   "outputs": [],
   "source": [
    "grader.check(\"q511\")"
   ]
  },
  {
   "cell_type": "markdown",
   "id": "df3f4709",
   "metadata": {},
   "source": [
    "### 5.2 Doing something to every element of an array (cont.)\n",
    "\n",
    "Calculate a tip on several restaurant bills at once (in this case just 3):"
   ]
  },
  {
   "cell_type": "code",
   "execution_count": 70,
   "id": "97549029",
   "metadata": {
    "execution": {
     "iopub.execute_input": "2022-06-22T00:26:45.853533Z",
     "iopub.status.busy": "2022-06-22T00:26:45.853241Z",
     "iopub.status.idle": "2022-06-22T00:26:45.857068Z",
     "shell.execute_reply": "2022-06-22T00:26:45.856571Z"
    }
   },
   "outputs": [],
   "source": [
    "restaurant_bills = make_array(20.12, 39.90, 31.01)\n",
    "print(\"Restaurant bills:\\t\", restaurant_bills)\n",
    "\n",
    "# Array multiplication\n",
    "tips = .2 * restaurant_bills\n",
    "print(\"Tips:\\t\\t\\t\", tips)"
   ]
  },
  {
   "cell_type": "markdown",
   "id": "8a7c7fe3",
   "metadata": {
    "deletable": false,
    "editable": false
   },
   "source": [
    "<img src=\"array_multiplication.jpg\">\n",
    "\n",
    "**Question 5.2.1** Suppose the total charge at a restaurant is the original bill plus the tip. If the tip is 20%, that means we can multiply the original bill by 1.2 to get the total charge.  Compute the total charge for each bill in `restaurant_bills`, and assign the resulting array to `total_charges`.\n",
    "\n",
    "<!--\n",
    "BEGIN QUESTION\n",
    "name: q521\n",
    "-->"
   ]
  },
  {
   "cell_type": "code",
   "execution_count": 71,
   "id": "060d60c0",
   "metadata": {
    "execution": {
     "iopub.execute_input": "2022-06-22T00:26:45.860214Z",
     "iopub.status.busy": "2022-06-22T00:26:45.859957Z",
     "iopub.status.idle": "2022-06-22T00:26:45.863956Z",
     "shell.execute_reply": "2022-06-22T00:26:45.863491Z"
    }
   },
   "outputs": [],
   "source": [
    "total_charges = ...\n",
    "total_charges"
   ]
  },
  {
   "cell_type": "code",
   "execution_count": null,
   "id": "53841c48",
   "metadata": {
    "deletable": false,
    "editable": false
   },
   "outputs": [],
   "source": [
    "grader.check(\"q521\")"
   ]
  },
  {
   "cell_type": "markdown",
   "id": "d076ec7b",
   "metadata": {
    "deletable": false,
    "editable": false
   },
   "source": [
    "**Question 5.2.2.** The array `more_restaurant_bills` contains 100,000 bills!  Compute the total charge for each one in `more_restaurant_bills`.  How is your code different?\n",
    "\n",
    "<!--\n",
    "BEGIN QUESTION\n",
    "name: q522\n",
    "-->"
   ]
  },
  {
   "cell_type": "code",
   "execution_count": 74,
   "id": "6f19abbc",
   "metadata": {
    "execution": {
     "iopub.execute_input": "2022-06-22T00:26:45.882447Z",
     "iopub.status.busy": "2022-06-22T00:26:45.882202Z",
     "iopub.status.idle": "2022-06-22T00:26:45.948197Z",
     "shell.execute_reply": "2022-06-22T00:26:45.947454Z"
    }
   },
   "outputs": [],
   "source": [
    "more_restaurant_bills = Table.read_table(\"more_restaurant_bills.csv\").column(\"Bill\")\n",
    "more_total_charges = ...\n",
    "more_total_charges"
   ]
  },
  {
   "cell_type": "code",
   "execution_count": null,
   "id": "958a01a1",
   "metadata": {
    "deletable": false,
    "editable": false
   },
   "outputs": [],
   "source": [
    "grader.check(\"q522\")"
   ]
  },
  {
   "cell_type": "markdown",
   "id": "818f5021",
   "metadata": {
    "deletable": false,
    "editable": false
   },
   "source": [
    "The function `sum` takes a single array of numbers as its argument.  It returns the sum of all the numbers in that array (so it returns a single number, not an array).\n",
    "\n",
    "**Question 5.2.3.** What was the sum of all the bills in `more_restaurant_bills`, *including tips*?\n",
    "\n",
    "<!--\n",
    "BEGIN QUESTION\n",
    "name: q523\n",
    "-->"
   ]
  },
  {
   "cell_type": "code",
   "execution_count": 77,
   "id": "1e42b50a",
   "metadata": {
    "execution": {
     "iopub.execute_input": "2022-06-22T00:26:45.981286Z",
     "iopub.status.busy": "2022-06-22T00:26:45.981040Z",
     "iopub.status.idle": "2022-06-22T00:26:45.991641Z",
     "shell.execute_reply": "2022-06-22T00:26:45.991164Z"
    }
   },
   "outputs": [],
   "source": [
    "sum_of_bills = ...\n",
    "sum_of_bills"
   ]
  },
  {
   "cell_type": "code",
   "execution_count": null,
   "id": "feb00a18",
   "metadata": {
    "deletable": false,
    "editable": false
   },
   "outputs": [],
   "source": [
    "grader.check(\"q523\")"
   ]
  },
  {
   "cell_type": "markdown",
   "id": "2b8a4559",
   "metadata": {
    "deletable": false,
    "editable": false
   },
   "source": [
    "**Question 5.2.4.** The powers of 2 ($2^0 = 1$, $2^1 = 2$, $2^2 = 4$, etc) arise frequently in computer science.  (For example, you may have noticed that storage on smartphones or USBs come in powers of 2, like 16 GB, 32 GB, or 64 GB.)  Use `np.arange` and the exponentiation operator `**` to compute the first 30 powers of 2, starting from `2^0`.\n",
    "\n",
    "*Hint 1:* `np.arange(1, 2**30, 1)` creates an array with $2^{30}$ elements and **will crash your kernel**.\n",
    "\n",
    "*Hint 2:* Part of your solution will involve `np.arange`, but your array shouldn't have more than 30 elements.\n",
    "\n",
    "<!--\n",
    "BEGIN QUESTION\n",
    "name: q524\n",
    "-->"
   ]
  },
  {
   "cell_type": "code",
   "execution_count": 79,
   "id": "c282dccf",
   "metadata": {
    "execution": {
     "iopub.execute_input": "2022-06-22T00:26:46.009143Z",
     "iopub.status.busy": "2022-06-22T00:26:46.008906Z",
     "iopub.status.idle": "2022-06-22T00:26:46.012946Z",
     "shell.execute_reply": "2022-06-22T00:26:46.012417Z"
    }
   },
   "outputs": [],
   "source": [
    "powers_of_2 = ...\n",
    "powers_of_2"
   ]
  },
  {
   "cell_type": "code",
   "execution_count": null,
   "id": "1b0bfcf3",
   "metadata": {
    "deletable": false,
    "editable": false
   },
   "outputs": [],
   "source": [
    "grader.check(\"q524\")"
   ]
  },
  {
   "cell_type": "markdown",
   "id": "e0286561",
   "metadata": {},
   "source": [
    "---\n",
    "\n",
    "<img src=\"maple_syrup.jpeg\" alt=\"drawing\" width=\"300\"/>\n",
    "\n",
    "Maple Syrup (Professor DeNero's dog) wanted to congratulate you on finishing Lab 3!!\n",
    "\n",
    "To double-check your work, the cell below will rerun all of the autograder tests.\n"
   ]
  },
  {
   "cell_type": "markdown",
   "id": "b488b3b9",
   "metadata": {},
   "source": [
    "---"
   ]
  },
  {
   "cell_type": "markdown",
   "id": "640c0629",
   "metadata": {},
   "source": [
    "## Finishing up\n",
    "\n",
    "**Important submission information:** \n",
    "- Be sure to run the tests and verify that they all pass by running the `grader.check_all()` cell below,\n",
    "- Save your progress by choosing the **Save and Checkpoint** item in the **File** menu, \n",
    "- Submit your work by clicking the **Submit** button in the toolbar at the top of notebook. \n",
    "- Download a zip file of this notebook by running the last cell below. **Note:** Be sure to run all the tests before exporting so that all images/graphs appear in the exported notebook. \n",
    "\n",
    "**Please save before submitting!**"
   ]
  },
  {
   "cell_type": "code",
   "execution_count": 81,
   "id": "824196ba",
   "metadata": {
    "execution": {
     "iopub.execute_input": "2022-06-22T00:26:46.023531Z",
     "iopub.status.busy": "2022-06-22T00:26:46.023284Z",
     "iopub.status.idle": "2022-06-22T00:26:46.034018Z",
     "shell.execute_reply": "2022-06-22T00:26:46.033513Z"
    }
   },
   "outputs": [],
   "source": [
    "# To double-check your work, the cell below will rerun all of the autograder tests.\n",
    "grader.check_all()"
   ]
  },
  {
   "cell_type": "code",
   "execution_count": 82,
   "id": "12326833",
   "metadata": {
    "execution": {
     "iopub.execute_input": "2022-06-22T00:26:46.036993Z",
     "iopub.status.busy": "2022-06-22T00:26:46.036763Z",
     "iopub.status.idle": "2022-06-22T00:26:46.047186Z",
     "shell.execute_reply": "2022-06-22T00:26:46.046728Z"
    }
   },
   "outputs": [],
   "source": [
    "# Save your notebook first, then run this cell to export your submission.\n",
    "grader.export(pdf=False)"
   ]
  }
 ],
 "metadata": {
  "kernelspec": {
   "display_name": "Python 3",
   "language": "python",
   "name": "python3"
  },
  "language_info": {
   "codemirror_mode": {
    "name": "ipython",
    "version": 3
   },
   "file_extension": ".py",
   "mimetype": "text/x-python",
   "name": "python",
   "nbconvert_exporter": "python",
   "pygments_lexer": "ipython3",
   "version": "3.9.7"
  },
  "course": "8x",
  "section": "1",
  "lab": "lab03"
 },
 "nbformat": 4,
 "nbformat_minor": 5
}