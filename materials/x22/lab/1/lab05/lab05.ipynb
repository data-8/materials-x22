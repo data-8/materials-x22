{
 "cells": [
  {
   "cell_type": "code",
   "execution_count": null,
   "metadata": {
    "deletable": false,
    "editable": false
   },
   "outputs": [],
   "source": [
    "# Initialize Otter\n",
    "import otter\n",
    "grader = otter.Notebook(\"lab05.ipynb\")"
   ]
  },
  {
   "cell_type": "markdown",
   "metadata": {},
   "source": [
    "# Lab 5: World Progress"
   ]
  },
  {
   "cell_type": "markdown",
   "metadata": {},
   "source": [
    "In this lab, you'll explore data from [Gapminder.org](http://gapminder.org), a website dedicated to providing a fact-based view of the world and how it has changed. That site includes several data visualizations and presentations, but also publishes the raw data that we will use in this project to recreate and extend some of their most famous visualizations.\n",
    "\n",
    "The Gapminder website collects data from many sources and compiles them into tables that describe many countries around the world. All of the data they aggregate are published in the [Systema Globalis](https://github.com/open-numbers/ddf--gapminder--systema_globalis/blob/master/README.md). Their goal is \"to compile all public statistics; Social, Economic and Environmental; into a comparable total dataset.\" All data sets in this project are copied directly from the Systema Globalis without any changes.\n",
    "\n",
    "This lab is dedicated to [Hans Rosling](https://en.wikipedia.org/wiki/Hans_Rosling) (1948-2017), who championed the use of data to understand and prioritize global development challenges."
   ]
  },
  {
   "cell_type": "code",
   "execution_count": 1,
   "metadata": {
    "deletable": false
   },
   "outputs": [],
   "source": [
    "# Run this cell to set up the notebook, but please don't change it.\n",
    "\n",
    "# These lines import the NumPy and Datascience modules.\n",
    "from datascience import *\n",
    "import numpy as np\n",
    "\n",
    "# These lines do some fancy plotting magic.\n",
    "%matplotlib inline\n",
    "import matplotlib.pyplot as plots\n",
    "plots.style.use('fivethirtyeight')\n",
    "\n",
    "from ipywidgets import interact, interactive, fixed, interact_manual\n",
    "import ipywidgets as widgets\n",
    "\n",
    "import d8error"
   ]
  },
  {
   "cell_type": "markdown",
   "metadata": {
    "deletable": false,
    "editable": false
   },
   "source": [
    "## 1. Global Population Growth"
   ]
  },
  {
   "cell_type": "markdown",
   "metadata": {
    "deletable": false,
    "editable": false
   },
   "source": [
    "The global population of humans reached 1 billion around 1800, 3 billion around 1960, and 7 billion around 2011. The potential impact of exponential population growth has concerned scientists, economists, and politicians alike.\n",
    "\n",
    "The UN Population Division estimates that the world population will likely continue to grow throughout the 21st century, but at a slower rate, perhaps reaching 11 billion by 2100. However, the UN does not rule out scenarios of more extreme growth.\n",
    "\n",
    "<a href=\"http://www.pewresearch.org/fact-tank/2015/06/08/scientists-more-worried-than-public-about-worlds-growing-population/ft_15-06-04_popcount/\"> \n",
    " <img src=\"pew_population_projection.png\"/> \n",
    "</a>\n",
    "\n",
    "In this part of the project, we will examine some of the factors that influence population growth and how they have been changing over the years and around the world. There are two main sub-parts of this analysis.\n",
    "\n",
    "- First, we will examine the data for one country, Bangladesh. We will see how factors such as life expectancy, fertility rate, and child mortality have changed over time in Bangladesh, and how they are related to the rate of population growth.\n",
    "- Next, we will examine whether the changes we have observed for Bangladesh are particular to that country or whether they reflect general patterns observable in other countries too. We will study aspects of world population growth and see how they have been changing.\n",
    "\n",
    "The first table we will consider contains the total population of each country over time. Run the cell below."
   ]
  },
  {
   "cell_type": "code",
   "execution_count": 2,
   "metadata": {
    "deletable": false,
    "scrolled": true
   },
   "outputs": [],
   "source": [
    "population = Table.read_table('population.csv').where(\"time\", are.below(2021))\n",
    "population.show(3)"
   ]
  },
  {
   "cell_type": "markdown",
   "metadata": {},
   "source": [
    "**Note:** The population csv file can also be found [here](https://github.com/open-numbers/ddf--gapminder--systema_globalis/blob/master/countries-etc-datapoints/ddf--datapoints--population_total--by--geo--time.csv). The data for this project was downloaded in February 2017. "
   ]
  },
  {
   "cell_type": "markdown",
   "metadata": {
    "deletable": false
   },
   "source": [
    "### Bangladesh\n",
    "\n",
    "The nation of [Bangladesh](https://en.wikipedia.org/wiki/Bangladesh#People's_Republic_of_Bangladesh) was established as a parliamentary democracy after the Bangladesh Liberation War ended in 1971. The war-ravaged fledgling nation was almost immediately faced with floods and famine. In this section of the project, we will examine aspects of the development of Bangladesh since that time.\n",
    "\n",
    "In the `population` table, the `geo` column contains three-letter codes established by the [International Organization for Standardization](https://en.wikipedia.org/wiki/International_Organization_for_Standardization) (ISO) in the [Alpha-3](https://en.wikipedia.org/wiki/ISO_3166-1_alpha-3#Current_codes) standard. We will begin by taking a close look at Bangladesh. Use the Alpha-3 link to find the 3-letter code for Bangladesh."
   ]
  },
  {
   "cell_type": "markdown",
   "metadata": {
    "deletable": false,
    "editable": false
   },
   "source": [
    "**Question 1.** Create a table called `b_pop` that has two columns labeled `time` and `population_total`. The first column should contain the years from 1970 through 2020 (including both 1970 and 2020) and the second should contain the population of Bangladesh in each of those years.\n",
    "\n",
    "<!--\n",
    "BEGIN QUESTION\n",
    "name: q1_1\n",
    "points:\n",
    "- 0\n",
    "- 0\n",
    "- 0\n",
    "- 4\n",
    "-->"
   ]
  },
  {
   "cell_type": "code",
   "execution_count": 3,
   "metadata": {
    "deletable": false
   },
   "outputs": [],
   "source": [
    "b_pop = ...\n",
    "b_pop"
   ]
  },
  {
   "cell_type": "code",
   "execution_count": null,
   "metadata": {
    "deletable": false,
    "editable": false
   },
   "outputs": [],
   "source": [
    "grader.check(\"q1_1\")"
   ]
  },
  {
   "cell_type": "markdown",
   "metadata": {
    "deletable": false
   },
   "source": [
    "Run the following cell to create a table called `b_five` that has the population of Bangladesh every five years. At a glance, it appears that the population of Bangladesh has been growing quickly indeed!"
   ]
  },
  {
   "cell_type": "code",
   "execution_count": 8,
   "metadata": {
    "deletable": false
   },
   "outputs": [],
   "source": [
    "b_pop.set_format('population_total', NumberFormatter)\n",
    "\n",
    "fives = np.arange(1970, 2021, 5) # 1970, 1975, 1980, ...\n",
    "b_five = b_pop.sort('time').where('time', are.contained_in(fives))\n",
    "b_five.show()"
   ]
  },
  {
   "cell_type": "markdown",
   "metadata": {
    "deletable": false,
    "editable": false
   },
   "source": [
    "**Question 2.** Assign `initial` to an array that contains the population for every five year interval from 1970 to 2015 (inclusive). Then, assign `changed` to an array that contains the population for every five year interval from 1975 to 2020 (inclusive). The first array should include both 1970 and 2015, and the second array should include both 1975 and 2020. You should use the `b_five` table to create both arrays, by first filtering the table to only contain the relevant years.\n",
    "\n",
    "The annual growth rate for a time period is equal to:\n",
    "\n",
    "$$\\left(\\left(\\frac{\\text{Population at end of period}}{\\text{Population at start of period}}\\right)^{\\displaystyle\\frac{1}{\\text{number of years}}}\\right) -1$$\n",
    "\n",
    "We have provided the code below that uses  `initial` and `changed` in order to add a column to `b_five` called `annual_growth`. Don't worry about the calculation of the growth rates; run the test below to test your solution.\n",
    "\n",
    "If you are interested in how we came up with the formula for growth rates, consult the [growth rates](https://inferentialthinking.com/chapters/03/2/1/Growth.html) section of the textbook.\n",
    "\n",
    "<!--\n",
    "BEGIN QUESTION\n",
    "name: q1_2\n",
    "points:\n",
    "- 0\n",
    "- 0\n",
    "- 0\n",
    "- 0\n",
    "- 0\n",
    "- 4\n",
    "-->"
   ]
  },
  {
   "cell_type": "code",
   "execution_count": 9,
   "metadata": {},
   "outputs": [],
   "source": [
    "initial = ...\n",
    "changed = ...\n",
    "\n",
    "b_1970_through_2015 = b_five.where('time', are.below_or_equal_to(2015)) \n",
    "b_five_growth = b_1970_through_2015.with_column('annual_growth', (changed/initial)**0.2-1)\n",
    "b_five_growth.set_format('annual_growth', PercentFormatter)"
   ]
  },
  {
   "cell_type": "code",
   "execution_count": null,
   "metadata": {
    "deletable": false,
    "editable": false
   },
   "outputs": [],
   "source": [
    "grader.check(\"q1_2\")"
   ]
  },
  {
   "cell_type": "markdown",
   "metadata": {
    "deletable": false
   },
   "source": [
    "While the population has grown every five years since 1970, the annual growth rate decreased dramatically from 1985 to 2015. Let's look at some other information in order to develop a possible explanation. Run the next cell to load three additional tables of measurements about countries over time."
   ]
  },
  {
   "cell_type": "code",
   "execution_count": 16,
   "metadata": {
    "deletable": false
   },
   "outputs": [],
   "source": [
    "life_expectancy = Table.read_table('life_expectancy.csv').where('time', are.below(2021))\n",
    "child_mortality = Table.read_table('child_mortality.csv').relabel(2, 'child_mortality_under_5_per_1000_born').where('time', are.below(2021))\n",
    "fertility = Table.read_table('fertility.csv').where('time', are.below(2021))"
   ]
  },
  {
   "cell_type": "markdown",
   "metadata": {
    "deletable": false,
    "editable": false
   },
   "source": [
    "The `life_expectancy` table contains a statistic that is often used to measure how long people live, called *life expectancy at birth*. This number, for a country in a given year, [does not measure how long babies born in that year are expected to live](http://blogs.worldbank.org/opendata/what-does-life-expectancy-birth-really-mean). Instead, it measures how long someone would live, on average, if the *mortality conditions* in that year persisted throughout their lifetime. These \"mortality conditions\" describe what fraction of people at each age survived the year. So, it is a way of measuring the proportion of people that are staying alive, aggregated over different age groups in the population."
   ]
  },
  {
   "cell_type": "markdown",
   "metadata": {},
   "source": [
    "Run the following cells below to see `life_expectancy`, `child_mortality`, and `fertility`. Refer back to these tables as they will be helpful for answering further questions!"
   ]
  },
  {
   "cell_type": "code",
   "execution_count": 17,
   "metadata": {},
   "outputs": [],
   "source": [
    "life_expectancy.show(3)"
   ]
  },
  {
   "cell_type": "code",
   "execution_count": 18,
   "metadata": {},
   "outputs": [],
   "source": [
    "child_mortality.show(3)"
   ]
  },
  {
   "cell_type": "code",
   "execution_count": 19,
   "metadata": {},
   "outputs": [],
   "source": [
    "fertility.show(3)"
   ]
  },
  {
   "cell_type": "markdown",
   "metadata": {
    "deletable": false,
    "editable": false
   },
   "source": [
    "<!-- BEGIN QUESTION -->\n",
    "\n",
    "**Question 3.** Perhaps population is growing more slowly because people aren't living as long. Use the `life_expectancy` table to draw a line graph with the years 1970 and later on the horizontal axis that shows how the *life expectancy at birth* has changed in Bangladesh.\n",
    "\n",
    "<!--\n",
    "BEGIN QUESTION\n",
    "name: q1_3\n",
    "manual: True\n",
    "-->"
   ]
  },
  {
   "cell_type": "code",
   "execution_count": 20,
   "metadata": {
    "deletable": false,
    "manual_grade": true,
    "manual_problem_id": "global_pop_3"
   },
   "outputs": [],
   "source": [
    "#Fill in code here\n",
    "..."
   ]
  },
  {
   "cell_type": "markdown",
   "metadata": {
    "deletable": false,
    "editable": false
   },
   "source": [
    "<!-- END QUESTION -->\n",
    "\n",
    "<!-- BEGIN QUESTION -->\n",
    "\n",
    "**Question 4.** Assuming everything else stays the same, do the trends in life expectancy in the graph above directly explain why the population growth rate decreased from 1985 to 2015 in Bangladesh? Why or why not? \n",
    "\n",
    "Hint: What happened in Bangladesh in 1991, and does that event explain the overall change in population growth rate? This [webpage](https://en.wikipedia.org/wiki/1991_Bangladesh_cyclone) provides relevant context.\n",
    "\n",
    "<!--\n",
    "BEGIN QUESTION\n",
    "name: q1_4\n",
    "manual: True\n",
    "-->"
   ]
  },
  {
   "cell_type": "markdown",
   "metadata": {},
   "source": [
    "_Type your answer here, replacing this text._"
   ]
  },
  {
   "cell_type": "markdown",
   "metadata": {
    "deletable": false,
    "editable": false
   },
   "source": [
    "<!-- END QUESTION -->\n",
    "\n",
    "\n",
    "\n",
    "The `fertility` table contains a statistic that is often used to measure how many babies are being born, the *total fertility rate*. This number describes the [number of children a woman would have in her lifetime](https://www.measureevaluation.org/prh/rh_indicators/specific/fertility/total-fertility-rate), on average, if the current rates of birth by age of the mother persisted throughout her child bearing years, assuming she survived through age 49. "
   ]
  },
  {
   "cell_type": "markdown",
   "metadata": {
    "deletable": false,
    "editable": false
   },
   "source": [
    "**Question 5.** Complete the function `fertility_over_time`. It takes the Alpha-3 code of a country as `country_code` and a `start` year. It returns a two-column table with labels `Year` and `Children per woman` that can be used to generate a line chart of the country's fertility rate each year, starting at the `start` year. The plot should include the `start` year and all later years that appear in the `fertility` table. \n",
    "\n",
    "Then, determine the Alpha-3 code for Bangladesh. The code for Bangladesh and the year 1970 are used in the call to your `fertility_over_time` function in order to plot how Bangladesh's fertility rate has changed since 1970. Note that the function `fertility_over_time` should not return the plot itself. **The expression that draws the line plot is provided for you; please don't change it.**\n",
    "\n",
    "<!--\n",
    "BEGIN QUESTION\n",
    "name: q1_5\n",
    "points:\n",
    "- 0\n",
    "- 0\n",
    "- 0\n",
    "- 0\n",
    "- 0\n",
    "- 4\n",
    "-->"
   ]
  },
  {
   "cell_type": "code",
   "execution_count": 21,
   "metadata": {
    "deletable": false
   },
   "outputs": [],
   "source": [
    "def fertility_over_time(country_code, start):\n",
    "    \"\"\"Create a two-column table that describes a country's total fertility rate each year.\"\"\"\n",
    "    country_fertility = ...\n",
    "    country_fertility_after_start = ...\n",
    "    cleaned_table = ...\n",
    "    ...\n",
    "\n",
    "bangladesh_code = ...\n",
    "fertility_over_time(bangladesh_code, 1970).plot(0, 1) # You should *not* change this line."
   ]
  },
  {
   "cell_type": "code",
   "execution_count": null,
   "metadata": {
    "deletable": false,
    "editable": false
   },
   "outputs": [],
   "source": [
    "grader.check(\"q1_5\")"
   ]
  },
  {
   "cell_type": "markdown",
   "metadata": {
    "deletable": false,
    "editable": false
   },
   "source": [
    "<!-- BEGIN QUESTION -->\n",
    "\n",
    "**Question 6.** Assuming everything else is constant, do the trends in fertility in the graph above help directly explain why the population growth rate decreased from 1980 to 2020 in Bangladesh? Why or why not?\n",
    "\n",
    "<!--\n",
    "BEGIN QUESTION\n",
    "name: q1_6\n",
    "manual: True\n",
    "-->"
   ]
  },
  {
   "cell_type": "markdown",
   "metadata": {},
   "source": [
    "_Type your answer here, replacing this text._"
   ]
  },
  {
   "cell_type": "markdown",
   "metadata": {
    "deletable": false
   },
   "source": [
    "<!-- END QUESTION -->\n",
    "\n",
    "\n",
    "\n",
    "It has been [observed](https://www.ageing.ox.ac.uk/download/143) that lower fertility rates are often associated with lower child mortality rates. The link has been attributed to family planning: if parents can expect that their children will all survive into adulthood, then they will choose to have fewer children. In the reverse direction, having fewer children may allow families to devote more resources to each child, reducing child mortality. We can see if this association is evident in Bangladesh by plotting the relationship between total fertility rate and [child mortality rate per 1000 children](https://en.wikipedia.org/wiki/Child_mortality)."
   ]
  },
  {
   "cell_type": "markdown",
   "metadata": {
    "deletable": false,
    "editable": false
   },
   "source": [
    "**Question 7.** Using both the `fertility` and `child_mortality` tables, draw a scatter diagram that has Bangladesh's total fertility on the horizontal axis and its child mortality on the vertical axis with one point for each year, starting with 1970.\n",
    "\n",
    "**The code that draws the scatter diagram is provided for you; please don't change it.** Instead, create a table called `post_1969_fertility_and_child_mortality` with the appropriate column labels and data in order to generate the chart correctly. Use the label `Children per woman` to describe total fertility and the label `Child deaths per 1000 born` to describe child mortality.\n",
    "\n",
    "*Hint*: Do not drop the `time` column or you will get an error in the scatterplot in the next cell!\n",
    "\n",
    "<!--\n",
    "BEGIN QUESTION\n",
    "name: q1_7\n",
    "manual: false\n",
    "points:\n",
    "- 0\n",
    "- 0\n",
    "- 0\n",
    "- 0\n",
    "- 0\n",
    "- 0\n",
    "- 0\n",
    "- 4\n",
    "-->"
   ]
  },
  {
   "cell_type": "code",
   "execution_count": 28,
   "metadata": {
    "deletable": false
   },
   "outputs": [],
   "source": [
    "bgd_fertility = ...\n",
    "bgd_child_mortality = ...\n",
    "fertility_and_child_mortality = ...\n",
    "post_1969_fertility_and_child_mortality = ...\n",
    "\n",
    "# Don't change anything below this line!\n",
    "x_births = post_1969_fertility_and_child_mortality.column(\"Children per woman\")\n",
    "y_deaths = post_1969_fertility_and_child_mortality.column(\"Child deaths per 1000 born\")\n",
    "time_colors = post_1969_fertility_and_child_mortality.column(\"time\")\n",
    "\n",
    "plots.figure(figsize=(6,6))\n",
    "plots.scatter(x_births, y_deaths, c=time_colors, cmap=\"Blues_r\")\n",
    "plots.colorbar()                  \n",
    "plots.xlabel(\"Children per woman\")\n",
    "plots.ylabel(\"Child deaths per 1000 born\");"
   ]
  },
  {
   "cell_type": "code",
   "execution_count": null,
   "metadata": {
    "deletable": false,
    "editable": false
   },
   "outputs": [],
   "source": [
    "grader.check(\"q1_7\")"
   ]
  },
  {
   "cell_type": "markdown",
   "metadata": {},
   "source": [
    "The plot above uses **color** to encode data about the `time` column from the table `post_1969_fertility_and_child_mortality`. The colors, ranging from dark blue to white, represent the passing of time between the 1970s to the 2020s. For example, a point on the scatter plot representing data from the 1970s would appear as **dark blue** and a point from the 2010s would appear as **light blue**.\n"
   ]
  },
  {
   "cell_type": "markdown",
   "metadata": {
    "deletable": false,
    "editable": false
   },
   "source": [
    "<!-- BEGIN QUESTION -->\n",
    "\n",
    "**Question 8.** In one or two sentences, describe the association (if any) that is illustrated by this scatter diagram. Does the diagram show that reduced child mortality *causes* parents to choose to have fewer children?\n",
    "\n",
    "<!--\n",
    "BEGIN QUESTION\n",
    "name: q1_8\n",
    "manual: True\n",
    "-->"
   ]
  },
  {
   "cell_type": "markdown",
   "metadata": {},
   "source": [
    "_Type your answer here, replacing this text._"
   ]
  },
  {
   "cell_type": "markdown",
   "metadata": {
    "deletable": false
   },
   "source": [
    "<!-- END QUESTION -->\n",
    "\n",
    "\n",
    "\n",
    "### The World\n",
    "\n",
    "The change observed in Bangladesh since 1970 can also be observed in many other developing countries: health services improve, life expectancy increases, and child mortality decreases. At the same time, the fertility rate often plummets, and so the population growth rate decreases despite increasing longevity."
   ]
  },
  {
   "cell_type": "markdown",
   "metadata": {
    "deletable": false
   },
   "source": [
    "Run the cell below to generate two overlaid histograms, one for 1962 and one for 2010, that show the distributions of total fertility rates for these two years among all 201 countries in the `fertility` table."
   ]
  },
  {
   "cell_type": "code",
   "execution_count": 37,
   "metadata": {
    "deletable": false
   },
   "outputs": [],
   "source": [
    "Table().with_columns(\n",
    "    '1962', fertility.where('time', 1962).column(2),\n",
    "    '2010', fertility.where('time', 2010).column(2)\n",
    ").hist(bins=np.arange(0, 10, 0.5), unit='child per woman')\n",
    "_ = plots.xlabel('Children per woman')\n",
    "_ = plots.ylabel('Percent per children per woman')\n",
    "_ = plots.xticks(np.arange(10))"
   ]
  },
  {
   "cell_type": "markdown",
   "metadata": {
    "deletable": false,
    "editable": false
   },
   "source": [
    "**Question 9.** Assign `fertility_statements` to an array of the numbers of each statement below that can be correctly inferred from these histograms.\n",
    "\n",
    "1. About the same number of countries had a fertility rate between 3.5 and 4.5 in both 1962 and 2010.\n",
    "1. In 1962, less than 20% of countries had a fertility rate below 3.\n",
    "1. At least half of countries had a fertility rate between 5 and 8 in 1962.\n",
    "1. In 2010, about 40% of countries had a fertility rate between 1.5 and 2.\n",
    "1. At least half of countries had a fertility rate below 3 in 2010.\n",
    "1. More countries had a fertility rate above 3 in 1962 than in 2010.\n",
    "\n",
    "<!--\n",
    "BEGIN QUESTION\n",
    "name: q1_9\n",
    "points:\n",
    "- 0\n",
    "- 4\n",
    "-->"
   ]
  },
  {
   "cell_type": "code",
   "execution_count": 38,
   "metadata": {
    "deletable": false
   },
   "outputs": [],
   "source": [
    "fertility_statements = ..."
   ]
  },
  {
   "cell_type": "code",
   "execution_count": null,
   "metadata": {
    "deletable": false,
    "editable": false
   },
   "outputs": [],
   "source": [
    "grader.check(\"q1_9\")"
   ]
  },
  {
   "cell_type": "markdown",
   "metadata": {
    "deletable": false,
    "editable": false
   },
   "source": [
    "<!-- BEGIN QUESTION -->\n",
    "\n",
    "**Question 10.** Draw a line plot of the world population from 1800 through 2020 (inclusive of both endpoints). The world population is the sum of all of the countries' populations. You should use the `population` table defined earlier in the project. \n",
    "\n",
    "<!--\n",
    "BEGIN QUESTION\n",
    "name: q1_10\n",
    "manual: True\n",
    "-->"
   ]
  },
  {
   "cell_type": "code",
   "execution_count": 41,
   "metadata": {
    "deletable": false,
    "manual_grade": true,
    "manual_problem_id": "global_pop_10"
   },
   "outputs": [],
   "source": [
    "#Fill in code here\n",
    "..."
   ]
  },
  {
   "cell_type": "markdown",
   "metadata": {
    "deletable": false,
    "editable": false
   },
   "source": [
    "<!-- END QUESTION -->\n",
    "\n",
    "**Question 11.** Create a function `stats_for_year` that takes a `year` and returns a table of statistics. The table it returns should have four columns: `geo`, `population_total`, `children_per_woman_total_fertility`, and `child_mortality_under_5_per_1000_born`. Each row should contain one unique Alpha-3 country code and three statistics: population, fertility rate, and child mortality for that `year` from the `population`, `fertility` and `child_mortality` tables. Only include rows for which all three statistics are available for the country and year.\n",
    "\n",
    "In addition, restrict the result to country codes that appears in `big_50`, an array of the 50 most populous countries in 2020. This restriction will speed up computations later in the project.\n",
    "\n",
    "After you write `stats_for_year`, try calling `stats_for_year` on any year between 1960 and 2020. Try to understand the output of stats_for_year.\n",
    "\n",
    "*Hint*: The tests for this question are quite comprehensive, so if you pass the tests, your function is probably correct. However, without calling your function yourself and looking at the output, it will be very difficult to understand any problems you have, so try your best to write the function correctly and check that it works before you rely on the `grader` tests to confirm your work.\n",
    "\n",
    "*Hint*: What do all three tables have in common (pay attention to column names)?\n",
    "\n",
    "<!--\n",
    "BEGIN QUESTION\n",
    "name: q1_11\n",
    "manual: false\n",
    "points:\n",
    "- 0\n",
    "- 0\n",
    "- 0\n",
    "- 4\n",
    "-->"
   ]
  },
  {
   "cell_type": "code",
   "execution_count": 42,
   "metadata": {
    "deletable": false
   },
   "outputs": [],
   "source": [
    "# We first create a population table that only includes the \n",
    "# 50 countries with the largest 2020 populations. We focus on \n",
    "# these 50 countries only so that plotting later will run faster.\n",
    "big_50 = population.where('time', are.equal_to(2020)).sort(\"population_total\", descending=True).take(np.arange(50)).column('geo')\n",
    "population_of_big_50 = population.where('time', are.above(1959)).where('geo', are.contained_in(big_50))\n",
    "\n",
    "def stats_for_year(year):\n",
    "    \"\"\"Return a table of the stats for each country that year.\"\"\"\n",
    "    p = population_of_big_50.where('time', are.equal_to(year)).drop('time')\n",
    "    f = fertility.where('time', are.equal_to(year)).drop('time')\n",
    "    c = child_mortality.where('time', are.equal_to(year)).drop('time')\n",
    "    ...\n",
    "\n",
    "..."
   ]
  },
  {
   "cell_type": "code",
   "execution_count": null,
   "metadata": {
    "deletable": false,
    "editable": false
   },
   "outputs": [],
   "source": [
    "grader.check(\"q1_11\")"
   ]
  },
  {
   "cell_type": "markdown",
   "metadata": {
    "deletable": false,
    "editable": false
   },
   "source": [
    "**Question 12.** Create a table called `pop_by_decade` with two columns called `decade` and `population`, in this order. It has a row for each year that starts a decade, in increasing order starting with 1960 and ending with 2020. For example, 1960 is the start of the 1960's decade. The `population` column contains the total population of all countries included in the result of `stats_for_year(year)` for the first `year` of the decade. You should see that these countries contain most of the world's population.\n",
    "\n",
    "*Hint:* One approach is to define a function `pop_for_year` that computes this total population, then `apply` it to the `decade` column.  The `stats_for_year` function from the previous question may be useful here.\n",
    "\n",
    "This first test is just a sanity check for your helper function if you choose to use it. You will not lose points for not implementing the function `pop_for_year`.\n",
    "\n",
    "**Note:** The cell where you will generate the `pop_by_decade` table is below the cell where you can choose to define the helper function `pop_for_year`. You should define your `pop_by_decade` table in the cell that starts with the table `decades` being defined. \n",
    "\n",
    "<!--\n",
    "BEGIN QUESTION\n",
    "name: q1_12_0\n",
    "manual: false\n",
    "points: \n",
    "- 0\n",
    "- 0\n",
    "- 0\n",
    "- 0\n",
    "-->"
   ]
  },
  {
   "cell_type": "code",
   "execution_count": 47,
   "metadata": {},
   "outputs": [],
   "source": [
    "def pop_for_year(year):\n",
    "    \"\"\"Return the total population for the specified year.\"\"\"\n",
    "    ..."
   ]
  },
  {
   "cell_type": "code",
   "execution_count": null,
   "metadata": {
    "deletable": false,
    "editable": false
   },
   "outputs": [],
   "source": [
    "grader.check(\"q1_12_0\")"
   ]
  },
  {
   "cell_type": "markdown",
   "metadata": {
    "deletable": false,
    "editable": false
   },
   "source": [
    "Now that you've defined your helper function (if you've chosen to do so), define the `pop_by_decade` table.\n",
    "\n",
    "<!--\n",
    "BEGIN QUESTION\n",
    "name: q1_12\n",
    "manual: false\n",
    "points:\n",
    "- 0\n",
    "- 0\n",
    "- 0\n",
    "- 0\n",
    "- 0\n",
    "- 0\n",
    "- 4\n",
    "-->"
   ]
  },
  {
   "cell_type": "code",
   "execution_count": 52,
   "metadata": {
    "deletable": false
   },
   "outputs": [],
   "source": [
    "decades = Table().with_column('decade', np.arange(1960, 2021, 10))\n",
    "\n",
    "pop_by_decade = ...\n",
    "pop_by_decade.set_format(1, NumberFormatter)"
   ]
  },
  {
   "cell_type": "code",
   "execution_count": null,
   "metadata": {
    "deletable": false,
    "editable": false
   },
   "outputs": [],
   "source": [
    "grader.check(\"q1_12\")"
   ]
  },
  {
   "cell_type": "markdown",
   "metadata": {
    "deletable": false,
    "editable": false
   },
   "source": [
    "The `countries` table describes various characteristics of countries. The `country` column contains the same codes as the `geo` column in each of the other data tables (`population`, `fertility`, and `child_mortality`). The `world_6region` column classifies each country into a region of the world. Run the cell below to inspect the data."
   ]
  },
  {
   "cell_type": "code",
   "execution_count": 60,
   "metadata": {},
   "outputs": [],
   "source": [
    "countries = Table.read_table('countries.csv').where('country', are.contained_in(population.group('geo').column('geo')))\n",
    "countries.select('country', 'name', 'world_6region')"
   ]
  },
  {
   "cell_type": "markdown",
   "metadata": {
    "deletable": false,
    "editable": false
   },
   "source": [
    "**Question 13.** Create a table called `region_counts`. It should contain two columns called `region` and `count`. The `region` column should contain regions of the world, and the `count` column should contain the number of countries in each region that appears in the result of `stats_for_year(2020)`. \n",
    "\n",
    "For example, one row would have `south_asia` as its `region` value and an integer as its `count` value: the number of large South Asian countries for which we have population, fertility, and child mortality numbers from 2020.\n",
    "\n",
    "*Hint*: You may have to relabel a column to name it `region`. \n",
    "\n",
    "<!--\n",
    "BEGIN QUESTION\n",
    "name: q1_13\n",
    "points:\n",
    "- 0\n",
    "- 0\n",
    "- 0\n",
    "- 4\n",
    "-->"
   ]
  },
  {
   "cell_type": "code",
   "execution_count": 61,
   "metadata": {
    "deletable": false
   },
   "outputs": [],
   "source": [
    "stats_for_2020 = ...\n",
    "region_counts = ...\n",
    "region_counts"
   ]
  },
  {
   "cell_type": "code",
   "execution_count": null,
   "metadata": {
    "deletable": false,
    "editable": false
   },
   "outputs": [],
   "source": [
    "grader.check(\"q1_13\")"
   ]
  },
  {
   "cell_type": "markdown",
   "metadata": {
    "deletable": false
   },
   "source": [
    "The following scatter diagram compares total fertility rate and child mortality rate for each country in 1960. The area of each dot represents the population of the country, and the color represents its region of the world. Run the cell. Do you think you can identify any of the dots?"
   ]
  },
  {
   "cell_type": "code",
   "execution_count": 66,
   "metadata": {
    "deletable": false
   },
   "outputs": [],
   "source": [
    "from functools import lru_cache as cache\n",
    "\n",
    "# This cache annotation makes sure that if the same year\n",
    "# is passed as an argument twice, the work of computing\n",
    "# the result is only carried out once.\n",
    "@cache(None)\n",
    "def stats_relabeled(year):\n",
    "    \"\"\"Relabeled and cached version of stats_for_year.\"\"\"\n",
    "    return stats_for_year(year).relabel(2, 'Children per woman').relabel(3, 'Child deaths per 1000 born')\n",
    "\n",
    "def fertility_vs_child_mortality(year):\n",
    "    \"\"\"Draw a color scatter diagram comparing child mortality and fertility.\"\"\"\n",
    "    with_region = stats_relabeled(year).join('geo', countries.select('country', 'world_6region'), 'country')\n",
    "    with_region.scatter(2, 3, sizes=1, group=4, s=500)\n",
    "    plots.xlim(0,10)\n",
    "    plots.ylim(-50, 500)\n",
    "    plots.title(year)\n",
    "    plots.show()\n",
    "\n",
    "fertility_vs_child_mortality(1960)"
   ]
  },
  {
   "cell_type": "markdown",
   "metadata": {
    "deletable": false,
    "editable": false
   },
   "source": [
    "**Question 14.** Assign `scatter_statements` to an array of the numbers of each statement below that can be inferred from this scatter diagram for 1960. \n",
    "1. As a whole, the `europe_central_asia` region had the lowest child mortality rate.\n",
    "1. The lowest child mortality rate of any country was from an `east_asia_pacific` country.\n",
    "1. Most countries had a fertility rate above 5.\n",
    "1. There was an association between child mortality and fertility.\n",
    "1. The two largest countries by population also had the two highest child mortality rates.\n",
    "\n",
    "<!--\n",
    "BEGIN QUESTION\n",
    "name: q1_14\n",
    "points:\n",
    "- 0\n",
    "- 4\n",
    "-->"
   ]
  },
  {
   "cell_type": "code",
   "execution_count": 67,
   "metadata": {
    "deletable": false
   },
   "outputs": [],
   "source": [
    "scatter_statements = ..."
   ]
  },
  {
   "cell_type": "code",
   "execution_count": null,
   "metadata": {
    "deletable": false,
    "editable": false
   },
   "outputs": [],
   "source": [
    "grader.check(\"q1_14\")"
   ]
  },
  {
   "cell_type": "markdown",
   "metadata": {
    "deletable": false
   },
   "source": [
    "The result of the cell below is interactive. Drag the slider to the right to see how countries have changed over time. You'll find that the great divide between so-called \"Western\" and \"developing\" countries that existed in the 1960's has nearly disappeared. This shift in fertility rates is the reason that the global population is expected to grow more slowly in the 21st century than it did in the 19th and 20th centuries.\n",
    "\n",
    "**Note:** Don't worry if a red warning pops up when running the cell below. You'll still be able to run the cell!"
   ]
  },
  {
   "cell_type": "code",
   "execution_count": 70,
   "metadata": {
    "deletable": false,
    "scrolled": true
   },
   "outputs": [],
   "source": [
    "_ = widgets.interact(fertility_vs_child_mortality, \n",
    "                     year=widgets.IntSlider(min=1960, max=2020, value=1960))"
   ]
  },
  {
   "cell_type": "markdown",
   "metadata": {
    "deletable": false,
    "editable": false
   },
   "source": [
    "Now is a great time to take a break and watch the same data presented by [Hans Rosling in a 2010 TEDx talk](https://www.gapminder.org/videos/reducing-child-mortality-a-moral-and-environmental-imperative) with smoother animation and witty commentary."
   ]
  },
  {
   "cell_type": "markdown",
   "metadata": {},
   "source": [
    "---"
   ]
  },
  {
   "cell_type": "markdown",
   "metadata": {},
   "source": [
    "## Finishing up\n",
    "\n",
    "**Important submission information:** \n",
    "- Be sure to run the tests and verify that they all pass by running the `grader.check_all()` cell below,\n",
    "- Save your progress by choosing the **Save and Checkpoint** item in the **File** menu, \n",
    "- Submit your work by clicking the **Submit** button in the toolbar at the top of notebook. \n",
    "- Download a zip file of this notebook by running the last cell below. **Note:** Be sure to run all the tests before exporting so that all images/graphs appear in the exported notebook. \n",
    "\n",
    "**Please save before submitting!**"
   ]
  },
  {
   "cell_type": "code",
   "execution_count": 71,
   "metadata": {},
   "outputs": [],
   "source": [
    "# To double-check your work, the cell below will rerun all of the autograder tests.\n",
    "grader.check_all()"
   ]
  },
  {
   "cell_type": "code",
   "execution_count": 72,
   "metadata": {},
   "outputs": [],
   "source": [
    "# Save your notebook first, then run this cell to export your submission.\n",
    "grader.export(pdf=False)"
   ]
  }
 ],
 "metadata": {
  "kernelspec": {
   "display_name": "Python 3",
   "language": "python",
   "name": "python3"
  },
  "language_info": {
   "codemirror_mode": {
    "name": "ipython",
    "version": 3
   },
   "file_extension": ".py",
   "mimetype": "text/x-python",
   "name": "python",
   "nbconvert_exporter": "python",
   "pygments_lexer": "ipython3",
   "version": "3.9.7"
  },
  "widgets": {
   "application/vnd.jupyter.widget-state+json": {
    "state": {
     "01a9d6e5cc5f48009d2194aa1783365a": {
      "model_module": "@jupyter-widgets/base",
      "model_module_version": "1.2.0",
      "model_name": "LayoutModel",
      "state": {
       "_model_module": "@jupyter-widgets/base",
       "_model_module_version": "1.2.0",
       "_model_name": "LayoutModel",
       "_view_count": null,
       "_view_module": "@jupyter-widgets/base",
       "_view_module_version": "1.2.0",
       "_view_name": "LayoutView",
       "align_content": null,
       "align_items": null,
       "align_self": null,
       "border": null,
       "bottom": null,
       "display": null,
       "flex": null,
       "flex_flow": null,
       "grid_area": null,
       "grid_auto_columns": null,
       "grid_auto_flow": null,
       "grid_auto_rows": null,
       "grid_column": null,
       "grid_gap": null,
       "grid_row": null,
       "grid_template_areas": null,
       "grid_template_columns": null,
       "grid_template_rows": null,
       "height": null,
       "justify_content": null,
       "justify_items": null,
       "left": null,
       "margin": null,
       "max_height": null,
       "max_width": null,
       "min_height": null,
       "min_width": null,
       "object_fit": null,
       "object_position": null,
       "order": null,
       "overflow": null,
       "overflow_x": null,
       "overflow_y": null,
       "padding": null,
       "right": null,
       "top": null,
       "visibility": null,
       "width": null
      }
     },
     "074d9e137cc1411fb1ccab0554241fbd": {
      "model_module": "@jupyter-widgets/controls",
      "model_module_version": "1.5.0",
      "model_name": "HBoxModel",
      "state": {
       "_dom_classes": [],
       "_model_module": "@jupyter-widgets/controls",
       "_model_module_version": "1.5.0",
       "_model_name": "HBoxModel",
       "_view_count": null,
       "_view_module": "@jupyter-widgets/controls",
       "_view_module_version": "1.5.0",
       "_view_name": "HBoxView",
       "box_style": "",
       "children": [
        "IPY_MODEL_3a8d69a978894e60b15fe38183cd4064",
        "IPY_MODEL_a3a4603100b146b6b5e6941e72001863"
       ],
       "layout": "IPY_MODEL_4f6055353e9249bb86e1046c1a98a526"
      }
     },
     "080f0b53a27340f1b88885788ff2a874": {
      "model_module": "@jupyter-widgets/output",
      "model_module_version": "1.0.0",
      "model_name": "OutputModel",
      "state": {
       "_dom_classes": [],
       "_model_module": "@jupyter-widgets/output",
       "_model_module_version": "1.0.0",
       "_model_name": "OutputModel",
       "_view_count": null,
       "_view_module": "@jupyter-widgets/output",
       "_view_module_version": "1.0.0",
       "_view_name": "OutputView",
       "layout": "IPY_MODEL_a1a5ad66fd954f0ba89de7656243dc17",
       "msg_id": "",
       "outputs": [
        {
         "data": {
          "image/png": "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\n",
          "text/plain": "<Figure size 360x360 with 1 Axes>"
         },
         "metadata": {},
         "output_type": "display_data"
        }
       ]
      }
     },
     "0b32f9fd90514cb29f06e7875386c155": {
      "model_module": "@jupyter-widgets/controls",
      "model_module_version": "1.5.0",
      "model_name": "TextModel",
      "state": {
       "_dom_classes": [],
       "_model_module": "@jupyter-widgets/controls",
       "_model_module_version": "1.5.0",
       "_model_name": "TextModel",
       "_view_count": null,
       "_view_module": "@jupyter-widgets/controls",
       "_view_module_version": "1.5.0",
       "_view_name": "TextView",
       "continuous_update": true,
       "description": "",
       "description_tooltip": null,
       "disabled": false,
       "layout": "IPY_MODEL_e7da5b884be942fba923e786309544d3",
       "placeholder": "Press enter to submit.",
       "style": "IPY_MODEL_d03ff3ad3ad742b38b56c23694770dd8",
       "value": ""
      }
     },
     "15f570430a1c49c694d0570ef10eff51": {
      "model_module": "@jupyter-widgets/base",
      "model_module_version": "1.2.0",
      "model_name": "LayoutModel",
      "state": {
       "_model_module": "@jupyter-widgets/base",
       "_model_module_version": "1.2.0",
       "_model_name": "LayoutModel",
       "_view_count": null,
       "_view_module": "@jupyter-widgets/base",
       "_view_module_version": "1.2.0",
       "_view_name": "LayoutView",
       "align_content": null,
       "align_items": null,
       "align_self": null,
       "border": null,
       "bottom": null,
       "display": null,
       "flex": null,
       "flex_flow": null,
       "grid_area": null,
       "grid_auto_columns": null,
       "grid_auto_flow": null,
       "grid_auto_rows": null,
       "grid_column": null,
       "grid_gap": null,
       "grid_row": null,
       "grid_template_areas": null,
       "grid_template_columns": null,
       "grid_template_rows": null,
       "height": null,
       "justify_content": null,
       "justify_items": null,
       "left": null,
       "margin": null,
       "max_height": null,
       "max_width": null,
       "min_height": null,
       "min_width": null,
       "object_fit": null,
       "object_position": null,
       "order": null,
       "overflow": null,
       "overflow_x": null,
       "overflow_y": null,
       "padding": null,
       "right": null,
       "top": null,
       "visibility": null,
       "width": null
      }
     },
     "168f8aa92d5a4381936652959c3cde17": {
      "model_module": "@jupyter-widgets/controls",
      "model_module_version": "1.5.0",
      "model_name": "VBoxModel",
      "state": {
       "_dom_classes": [],
       "_model_module": "@jupyter-widgets/controls",
       "_model_module_version": "1.5.0",
       "_model_name": "VBoxModel",
       "_view_count": null,
       "_view_module": "@jupyter-widgets/controls",
       "_view_module_version": "1.5.0",
       "_view_name": "VBoxView",
       "box_style": "",
       "children": [
        "IPY_MODEL_85d7b843f1154256b80d2aa32cb21b2a",
        "IPY_MODEL_3cca93d18ae44160879be17c6bcc5568"
       ],
       "layout": "IPY_MODEL_21cfa590f79e4ab4b9be9776d535c8eb"
      }
     },
     "2183c37a499843b68937d62e21b35940": {
      "model_module": "@jupyter-widgets/controls",
      "model_module_version": "1.5.0",
      "model_name": "AccordionModel",
      "state": {
       "_dom_classes": [],
       "_model_module": "@jupyter-widgets/controls",
       "_model_module_version": "1.5.0",
       "_model_name": "AccordionModel",
       "_titles": {
        "0": "  Feedback Form"
       },
       "_view_count": null,
       "_view_module": "@jupyter-widgets/controls",
       "_view_module_version": "1.5.0",
       "_view_name": "AccordionView",
       "box_style": "",
       "children": [
        "IPY_MODEL_2bed42f7870c4cbca848a04fce8fb297"
       ],
       "layout": "IPY_MODEL_5b1b21da2b1843ebb06b3420d1d73a75",
       "selected_index": 0
      }
     },
     "21cfa590f79e4ab4b9be9776d535c8eb": {
      "model_module": "@jupyter-widgets/base",
      "model_module_version": "1.2.0",
      "model_name": "LayoutModel",
      "state": {
       "_model_module": "@jupyter-widgets/base",
       "_model_module_version": "1.2.0",
       "_model_name": "LayoutModel",
       "_view_count": null,
       "_view_module": "@jupyter-widgets/base",
       "_view_module_version": "1.2.0",
       "_view_name": "LayoutView",
       "align_content": null,
       "align_items": null,
       "align_self": null,
       "border": null,
       "bottom": null,
       "display": null,
       "flex": null,
       "flex_flow": null,
       "grid_area": null,
       "grid_auto_columns": null,
       "grid_auto_flow": null,
       "grid_auto_rows": null,
       "grid_column": null,
       "grid_gap": null,
       "grid_row": null,
       "grid_template_areas": null,
       "grid_template_columns": null,
       "grid_template_rows": null,
       "height": null,
       "justify_content": null,
       "justify_items": null,
       "left": null,
       "margin": null,
       "max_height": null,
       "max_width": null,
       "min_height": null,
       "min_width": null,
       "object_fit": null,
       "object_position": null,
       "order": null,
       "overflow": null,
       "overflow_x": null,
       "overflow_y": null,
       "padding": null,
       "right": null,
       "top": null,
       "visibility": null,
       "width": null
      }
     },
     "233bea7e364b4c8ea0b8ad74650cfd7d": {
      "model_module": "@jupyter-widgets/base",
      "model_module_version": "1.2.0",
      "model_name": "LayoutModel",
      "state": {
       "_model_module": "@jupyter-widgets/base",
       "_model_module_version": "1.2.0",
       "_model_name": "LayoutModel",
       "_view_count": null,
       "_view_module": "@jupyter-widgets/base",
       "_view_module_version": "1.2.0",
       "_view_name": "LayoutView",
       "align_content": null,
       "align_items": null,
       "align_self": null,
       "border": null,
       "bottom": null,
       "display": null,
       "flex": null,
       "flex_flow": null,
       "grid_area": null,
       "grid_auto_columns": null,
       "grid_auto_flow": null,
       "grid_auto_rows": null,
       "grid_column": null,
       "grid_gap": null,
       "grid_row": null,
       "grid_template_areas": null,
       "grid_template_columns": null,
       "grid_template_rows": null,
       "height": null,
       "justify_content": null,
       "justify_items": null,
       "left": null,
       "margin": null,
       "max_height": null,
       "max_width": null,
       "min_height": null,
       "min_width": null,
       "object_fit": null,
       "object_position": null,
       "order": null,
       "overflow": null,
       "overflow_x": null,
       "overflow_y": null,
       "padding": null,
       "right": null,
       "top": null,
       "visibility": null,
       "width": null
      }
     },
     "29f560eac22441fdba515b19b2ed2d43": {
      "model_module": "@jupyter-widgets/base",
      "model_module_version": "1.2.0",
      "model_name": "LayoutModel",
      "state": {
       "_model_module": "@jupyter-widgets/base",
       "_model_module_version": "1.2.0",
       "_model_name": "LayoutModel",
       "_view_count": null,
       "_view_module": "@jupyter-widgets/base",
       "_view_module_version": "1.2.0",
       "_view_name": "LayoutView",
       "align_content": null,
       "align_items": null,
       "align_self": null,
       "border": null,
       "bottom": null,
       "display": null,
       "flex": null,
       "flex_flow": null,
       "grid_area": null,
       "grid_auto_columns": null,
       "grid_auto_flow": null,
       "grid_auto_rows": null,
       "grid_column": null,
       "grid_gap": null,
       "grid_row": null,
       "grid_template_areas": null,
       "grid_template_columns": null,
       "grid_template_rows": null,
       "height": null,
       "justify_content": null,
       "justify_items": null,
       "left": null,
       "margin": null,
       "max_height": null,
       "max_width": null,
       "min_height": null,
       "min_width": null,
       "object_fit": null,
       "object_position": null,
       "order": null,
       "overflow": null,
       "overflow_x": null,
       "overflow_y": null,
       "padding": null,
       "right": null,
       "top": null,
       "visibility": null,
       "width": null
      }
     },
     "2bed42f7870c4cbca848a04fce8fb297": {
      "model_module": "@jupyter-widgets/controls",
      "model_module_version": "1.5.0",
      "model_name": "VBoxModel",
      "state": {
       "_dom_classes": [],
       "_model_module": "@jupyter-widgets/controls",
       "_model_module_version": "1.5.0",
       "_model_name": "VBoxModel",
       "_view_count": null,
       "_view_module": "@jupyter-widgets/controls",
       "_view_module_version": "1.5.0",
       "_view_name": "VBoxView",
       "box_style": "",
       "children": [
        "IPY_MODEL_168f8aa92d5a4381936652959c3cde17",
        "IPY_MODEL_d6afc5f6bcbf4a1e9eacb659cd7344f6"
       ],
       "layout": "IPY_MODEL_29f560eac22441fdba515b19b2ed2d43"
      }
     },
     "2d62697371194c86bb9b967147cc4c69": {
      "model_module": "@jupyter-widgets/base",
      "model_module_version": "1.2.0",
      "model_name": "LayoutModel",
      "state": {
       "_model_module": "@jupyter-widgets/base",
       "_model_module_version": "1.2.0",
       "_model_name": "LayoutModel",
       "_view_count": null,
       "_view_module": "@jupyter-widgets/base",
       "_view_module_version": "1.2.0",
       "_view_name": "LayoutView",
       "align_content": null,
       "align_items": null,
       "align_self": null,
       "border": null,
       "bottom": null,
       "display": null,
       "flex": null,
       "flex_flow": null,
       "grid_area": null,
       "grid_auto_columns": null,
       "grid_auto_flow": null,
       "grid_auto_rows": null,
       "grid_column": null,
       "grid_gap": null,
       "grid_row": null,
       "grid_template_areas": null,
       "grid_template_columns": null,
       "grid_template_rows": null,
       "height": null,
       "justify_content": null,
       "justify_items": null,
       "left": null,
       "margin": "0px 8px 0px 0px",
       "max_height": null,
       "max_width": null,
       "min_height": null,
       "min_width": null,
       "object_fit": null,
       "object_position": null,
       "order": null,
       "overflow": null,
       "overflow_x": null,
       "overflow_y": null,
       "padding": "0px",
       "right": null,
       "top": null,
       "visibility": null,
       "width": "50%"
      }
     },
     "32ac810a81284115861f42b764b228a2": {
      "model_module": "@jupyter-widgets/controls",
      "model_module_version": "1.5.0",
      "model_name": "LabelModel",
      "state": {
       "_dom_classes": [],
       "_model_module": "@jupyter-widgets/controls",
       "_model_module_version": "1.5.0",
       "_model_name": "LabelModel",
       "_view_count": null,
       "_view_module": "@jupyter-widgets/controls",
       "_view_module_version": "1.5.0",
       "_view_name": "LabelView",
       "description": "",
       "description_tooltip": null,
       "layout": "IPY_MODEL_c421f69e0af647d596aca1930146b19f",
       "placeholder": "\u200b",
       "style": "IPY_MODEL_7ef3f7a2f3c741059b318cc226c52d1e",
       "value": "Was the message you saw useful?"
      }
     },
     "34709dd2c10c47ef9efb82c334c0dbcc": {
      "model_module": "@jupyter-widgets/controls",
      "model_module_version": "1.5.0",
      "model_name": "VBoxModel",
      "state": {
       "_dom_classes": [],
       "_model_module": "@jupyter-widgets/controls",
       "_model_module_version": "1.5.0",
       "_model_name": "VBoxModel",
       "_view_count": null,
       "_view_module": "@jupyter-widgets/controls",
       "_view_module_version": "1.5.0",
       "_view_name": "VBoxView",
       "box_style": "",
       "children": [
        "IPY_MODEL_d16742d005574b6f8d29df95bc7cf46e",
        "IPY_MODEL_074d9e137cc1411fb1ccab0554241fbd"
       ],
       "layout": "IPY_MODEL_01a9d6e5cc5f48009d2194aa1783365a"
      }
     },
     "3a8d69a978894e60b15fe38183cd4064": {
      "model_module": "@jupyter-widgets/controls",
      "model_module_version": "1.5.0",
      "model_name": "TextModel",
      "state": {
       "_dom_classes": [],
       "_model_module": "@jupyter-widgets/controls",
       "_model_module_version": "1.5.0",
       "_model_name": "TextModel",
       "_view_count": null,
       "_view_module": "@jupyter-widgets/controls",
       "_view_module_version": "1.5.0",
       "_view_name": "TextView",
       "continuous_update": true,
       "description": "",
       "description_tooltip": null,
       "disabled": false,
       "layout": "IPY_MODEL_2d62697371194c86bb9b967147cc4c69",
       "placeholder": "Press enter to submit.",
       "style": "IPY_MODEL_5b0f21a3f3f5499183db479bb40650d3",
       "value": ""
      }
     },
     "3cca93d18ae44160879be17c6bcc5568": {
      "model_module": "@jupyter-widgets/controls",
      "model_module_version": "1.5.0",
      "model_name": "DropdownModel",
      "state": {
       "_dom_classes": [],
       "_model_module": "@jupyter-widgets/controls",
       "_model_module_version": "1.5.0",
       "_model_name": "DropdownModel",
       "_options_labels": [
        "",
        "Extremely useful",
        "Very useful",
        "Somewhat useful",
        "Slightly useful",
        "Not at all useful"
       ],
       "_view_count": null,
       "_view_module": "@jupyter-widgets/controls",
       "_view_module_version": "1.5.0",
       "_view_name": "DropdownView",
       "description": "",
       "description_tooltip": null,
       "disabled": false,
       "index": 0,
       "layout": "IPY_MODEL_bd1660b19f644915bb3928212bd8eb97",
       "style": "IPY_MODEL_e06b64bf5afe42d2b051352bd98061ad"
      }
     },
     "3fcb1dde9bca47d3a2fecf0432e63d67": {
      "model_module": "@jupyter-widgets/base",
      "model_module_version": "1.2.0",
      "model_name": "LayoutModel",
      "state": {
       "_model_module": "@jupyter-widgets/base",
       "_model_module_version": "1.2.0",
       "_model_name": "LayoutModel",
       "_view_count": null,
       "_view_module": "@jupyter-widgets/base",
       "_view_module_version": "1.2.0",
       "_view_name": "LayoutView",
       "align_content": null,
       "align_items": null,
       "align_self": null,
       "border": null,
       "bottom": null,
       "display": null,
       "flex": null,
       "flex_flow": null,
       "grid_area": null,
       "grid_auto_columns": null,
       "grid_auto_flow": null,
       "grid_auto_rows": null,
       "grid_column": null,
       "grid_gap": null,
       "grid_row": null,
       "grid_template_areas": null,
       "grid_template_columns": null,
       "grid_template_rows": null,
       "height": null,
       "justify_content": null,
       "justify_items": null,
       "left": null,
       "margin": null,
       "max_height": null,
       "max_width": null,
       "min_height": null,
       "min_width": "80px",
       "object_fit": null,
       "object_position": null,
       "order": null,
       "overflow": null,
       "overflow_x": null,
       "overflow_y": null,
       "padding": null,
       "right": null,
       "top": null,
       "visibility": null,
       "width": "10%"
      }
     },
     "41a58aed3d1347abac3c3d18036b5cc9": {
      "model_module": "@jupyter-widgets/controls",
      "model_module_version": "1.5.0",
      "model_name": "SliderStyleModel",
      "state": {
       "_model_module": "@jupyter-widgets/controls",
       "_model_module_version": "1.5.0",
       "_model_name": "SliderStyleModel",
       "_view_count": null,
       "_view_module": "@jupyter-widgets/base",
       "_view_module_version": "1.2.0",
       "_view_name": "StyleView",
       "description_width": "",
       "handle_color": null
      }
     },
     "4af4ff4aef4d4eaba11bd58fa166852e": {
      "model_module": "@jupyter-widgets/controls",
      "model_module_version": "1.5.0",
      "model_name": "HBoxModel",
      "state": {
       "_dom_classes": [],
       "_model_module": "@jupyter-widgets/controls",
       "_model_module_version": "1.5.0",
       "_model_name": "HBoxModel",
       "_view_count": null,
       "_view_module": "@jupyter-widgets/controls",
       "_view_module_version": "1.5.0",
       "_view_name": "HBoxView",
       "box_style": "",
       "children": [
        "IPY_MODEL_0b32f9fd90514cb29f06e7875386c155",
        "IPY_MODEL_e1b25ddecab34ea88d82b6823ab684ce"
       ],
       "layout": "IPY_MODEL_f4238cf018ea4779a858380f9647926b"
      }
     },
     "4e457c440ff942e6855bbb0f8f1272c9": {
      "model_module": "@jupyter-widgets/controls",
      "model_module_version": "1.5.0",
      "model_name": "IntSliderModel",
      "state": {
       "_dom_classes": [],
       "_model_module": "@jupyter-widgets/controls",
       "_model_module_version": "1.5.0",
       "_model_name": "IntSliderModel",
       "_view_count": null,
       "_view_module": "@jupyter-widgets/controls",
       "_view_module_version": "1.5.0",
       "_view_name": "IntSliderView",
       "continuous_update": true,
       "description": "year",
       "description_tooltip": null,
       "disabled": false,
       "layout": "IPY_MODEL_c3fd86f2bac04d0398999b6da8368be0",
       "max": 2020,
       "min": 1960,
       "orientation": "horizontal",
       "readout": true,
       "readout_format": "d",
       "step": 1,
       "style": "IPY_MODEL_41a58aed3d1347abac3c3d18036b5cc9",
       "value": 1960
      }
     },
     "4f6055353e9249bb86e1046c1a98a526": {
      "model_module": "@jupyter-widgets/base",
      "model_module_version": "1.2.0",
      "model_name": "LayoutModel",
      "state": {
       "_model_module": "@jupyter-widgets/base",
       "_model_module_version": "1.2.0",
       "_model_name": "LayoutModel",
       "_view_count": null,
       "_view_module": "@jupyter-widgets/base",
       "_view_module_version": "1.2.0",
       "_view_name": "LayoutView",
       "align_content": null,
       "align_items": "center",
       "align_self": null,
       "border": null,
       "bottom": null,
       "display": null,
       "flex": null,
       "flex_flow": null,
       "grid_area": null,
       "grid_auto_columns": null,
       "grid_auto_flow": null,
       "grid_auto_rows": null,
       "grid_column": null,
       "grid_gap": null,
       "grid_row": null,
       "grid_template_areas": null,
       "grid_template_columns": null,
       "grid_template_rows": null,
       "height": null,
       "justify_content": null,
       "justify_items": null,
       "left": null,
       "margin": null,
       "max_height": null,
       "max_width": null,
       "min_height": null,
       "min_width": null,
       "object_fit": null,
       "object_position": null,
       "order": null,
       "overflow": null,
       "overflow_x": null,
       "overflow_y": null,
       "padding": null,
       "right": null,
       "top": null,
       "visibility": null,
       "width": null
      }
     },
     "57401671818c42c3a1ad126a897abe1c": {
      "model_module": "@jupyter-widgets/controls",
      "model_module_version": "1.5.0",
      "model_name": "DescriptionStyleModel",
      "state": {
       "_model_module": "@jupyter-widgets/controls",
       "_model_module_version": "1.5.0",
       "_model_name": "DescriptionStyleModel",
       "_view_count": null,
       "_view_module": "@jupyter-widgets/base",
       "_view_module_version": "1.2.0",
       "_view_name": "StyleView",
       "description_width": ""
      }
     },
     "587562b06cdc4d218e465db8d7a661d6": {
      "model_module": "@jupyter-widgets/controls",
      "model_module_version": "1.5.0",
      "model_name": "VBoxModel",
      "state": {
       "_dom_classes": [],
       "_model_module": "@jupyter-widgets/controls",
       "_model_module_version": "1.5.0",
       "_model_name": "VBoxModel",
       "_view_count": null,
       "_view_module": "@jupyter-widgets/controls",
       "_view_module_version": "1.5.0",
       "_view_name": "VBoxView",
       "box_style": "",
       "children": [
        "IPY_MODEL_e87873f98e694f389c588a39785b9c30",
        "IPY_MODEL_34709dd2c10c47ef9efb82c334c0dbcc"
       ],
       "layout": "IPY_MODEL_5b21268216134fdab9757e9bf714dcd1"
      }
     },
     "5b0f21a3f3f5499183db479bb40650d3": {
      "model_module": "@jupyter-widgets/controls",
      "model_module_version": "1.5.0",
      "model_name": "DescriptionStyleModel",
      "state": {
       "_model_module": "@jupyter-widgets/controls",
       "_model_module_version": "1.5.0",
       "_model_name": "DescriptionStyleModel",
       "_view_count": null,
       "_view_module": "@jupyter-widgets/base",
       "_view_module_version": "1.2.0",
       "_view_name": "StyleView",
       "description_width": ""
      }
     },
     "5b1b21da2b1843ebb06b3420d1d73a75": {
      "model_module": "@jupyter-widgets/base",
      "model_module_version": "1.2.0",
      "model_name": "LayoutModel",
      "state": {
       "_model_module": "@jupyter-widgets/base",
       "_model_module_version": "1.2.0",
       "_model_name": "LayoutModel",
       "_view_count": null,
       "_view_module": "@jupyter-widgets/base",
       "_view_module_version": "1.2.0",
       "_view_name": "LayoutView",
       "align_content": null,
       "align_items": null,
       "align_self": null,
       "border": null,
       "bottom": null,
       "display": null,
       "flex": null,
       "flex_flow": null,
       "grid_area": null,
       "grid_auto_columns": null,
       "grid_auto_flow": null,
       "grid_auto_rows": null,
       "grid_column": null,
       "grid_gap": null,
       "grid_row": null,
       "grid_template_areas": null,
       "grid_template_columns": null,
       "grid_template_rows": null,
       "height": null,
       "justify_content": null,
       "justify_items": null,
       "left": null,
       "margin": null,
       "max_height": null,
       "max_width": null,
       "min_height": null,
       "min_width": null,
       "object_fit": null,
       "object_position": null,
       "order": null,
       "overflow": null,
       "overflow_x": null,
       "overflow_y": null,
       "padding": null,
       "right": null,
       "top": null,
       "visibility": null,
       "width": null
      }
     },
     "5b21268216134fdab9757e9bf714dcd1": {
      "model_module": "@jupyter-widgets/base",
      "model_module_version": "1.2.0",
      "model_name": "LayoutModel",
      "state": {
       "_model_module": "@jupyter-widgets/base",
       "_model_module_version": "1.2.0",
       "_model_name": "LayoutModel",
       "_view_count": null,
       "_view_module": "@jupyter-widgets/base",
       "_view_module_version": "1.2.0",
       "_view_name": "LayoutView",
       "align_content": null,
       "align_items": null,
       "align_self": null,
       "border": null,
       "bottom": null,
       "display": null,
       "flex": null,
       "flex_flow": null,
       "grid_area": null,
       "grid_auto_columns": null,
       "grid_auto_flow": null,
       "grid_auto_rows": null,
       "grid_column": null,
       "grid_gap": null,
       "grid_row": null,
       "grid_template_areas": null,
       "grid_template_columns": null,
       "grid_template_rows": null,
       "height": null,
       "justify_content": null,
       "justify_items": null,
       "left": null,
       "margin": null,
       "max_height": null,
       "max_width": null,
       "min_height": null,
       "min_width": null,
       "object_fit": null,
       "object_position": null,
       "order": null,
       "overflow": null,
       "overflow_x": null,
       "overflow_y": null,
       "padding": null,
       "right": null,
       "top": null,
       "visibility": null,
       "width": null
      }
     },
     "6268f2833401437caae3f28d2da3fff7": {
      "model_module": "@jupyter-widgets/controls",
      "model_module_version": "1.5.0",
      "model_name": "ButtonStyleModel",
      "state": {
       "_model_module": "@jupyter-widgets/controls",
       "_model_module_version": "1.5.0",
       "_model_name": "ButtonStyleModel",
       "_view_count": null,
       "_view_module": "@jupyter-widgets/base",
       "_view_module_version": "1.2.0",
       "_view_name": "StyleView",
       "button_color": null,
       "font_weight": ""
      }
     },
     "65066d561c084cf2a5108166c16dc6e0": {
      "model_module": "@jupyter-widgets/base",
      "model_module_version": "1.2.0",
      "model_name": "LayoutModel",
      "state": {
       "_model_module": "@jupyter-widgets/base",
       "_model_module_version": "1.2.0",
       "_model_name": "LayoutModel",
       "_view_count": null,
       "_view_module": "@jupyter-widgets/base",
       "_view_module_version": "1.2.0",
       "_view_name": "LayoutView",
       "align_content": null,
       "align_items": null,
       "align_self": null,
       "border": null,
       "bottom": null,
       "display": null,
       "flex": null,
       "flex_flow": null,
       "grid_area": null,
       "grid_auto_columns": null,
       "grid_auto_flow": null,
       "grid_auto_rows": null,
       "grid_column": null,
       "grid_gap": null,
       "grid_row": null,
       "grid_template_areas": null,
       "grid_template_columns": null,
       "grid_template_rows": null,
       "height": null,
       "justify_content": null,
       "justify_items": null,
       "left": null,
       "margin": null,
       "max_height": null,
       "max_width": null,
       "min_height": null,
       "min_width": null,
       "object_fit": null,
       "object_position": null,
       "order": null,
       "overflow": null,
       "overflow_x": null,
       "overflow_y": null,
       "padding": null,
       "right": null,
       "top": null,
       "visibility": null,
       "width": null
      }
     },
     "677edd480d0e407f80a103c95d691b10": {
      "model_module": "@jupyter-widgets/controls",
      "model_module_version": "1.5.0",
      "model_name": "LabelModel",
      "state": {
       "_dom_classes": [],
       "_model_module": "@jupyter-widgets/controls",
       "_model_module_version": "1.5.0",
       "_model_name": "LabelModel",
       "_view_count": null,
       "_view_module": "@jupyter-widgets/controls",
       "_view_module_version": "1.5.0",
       "_view_name": "LabelView",
       "description": "",
       "description_tooltip": null,
       "layout": "IPY_MODEL_65066d561c084cf2a5108166c16dc6e0",
       "placeholder": "\u200b",
       "style": "IPY_MODEL_57401671818c42c3a1ad126a897abe1c",
       "value": "Any other feedback?"
      }
     },
     "73d48911b1bb4350b3cc751cc01439f3": {
      "model_module": "@jupyter-widgets/base",
      "model_module_version": "1.2.0",
      "model_name": "LayoutModel",
      "state": {
       "_model_module": "@jupyter-widgets/base",
       "_model_module_version": "1.2.0",
       "_model_name": "LayoutModel",
       "_view_count": null,
       "_view_module": "@jupyter-widgets/base",
       "_view_module_version": "1.2.0",
       "_view_name": "LayoutView",
       "align_content": null,
       "align_items": null,
       "align_self": null,
       "border": null,
       "bottom": null,
       "display": null,
       "flex": null,
       "flex_flow": null,
       "grid_area": null,
       "grid_auto_columns": null,
       "grid_auto_flow": null,
       "grid_auto_rows": null,
       "grid_column": null,
       "grid_gap": null,
       "grid_row": null,
       "grid_template_areas": null,
       "grid_template_columns": null,
       "grid_template_rows": null,
       "height": null,
       "justify_content": null,
       "justify_items": null,
       "left": null,
       "margin": null,
       "max_height": null,
       "max_width": null,
       "min_height": null,
       "min_width": "80px",
       "object_fit": null,
       "object_position": null,
       "order": null,
       "overflow": null,
       "overflow_x": null,
       "overflow_y": null,
       "padding": null,
       "right": null,
       "top": null,
       "visibility": null,
       "width": "10%"
      }
     },
     "7ef3f7a2f3c741059b318cc226c52d1e": {
      "model_module": "@jupyter-widgets/controls",
      "model_module_version": "1.5.0",
      "model_name": "DescriptionStyleModel",
      "state": {
       "_model_module": "@jupyter-widgets/controls",
       "_model_module_version": "1.5.0",
       "_model_name": "DescriptionStyleModel",
       "_view_count": null,
       "_view_module": "@jupyter-widgets/base",
       "_view_module_version": "1.2.0",
       "_view_name": "StyleView",
       "description_width": ""
      }
     },
     "804c5e25709349e1b8dc181b5e034c48": {
      "model_module": "@jupyter-widgets/controls",
      "model_module_version": "1.5.0",
      "model_name": "VBoxModel",
      "state": {
       "_dom_classes": [
        "widget-interact"
       ],
       "_model_module": "@jupyter-widgets/controls",
       "_model_module_version": "1.5.0",
       "_model_name": "VBoxModel",
       "_view_count": null,
       "_view_module": "@jupyter-widgets/controls",
       "_view_module_version": "1.5.0",
       "_view_name": "VBoxView",
       "box_style": "",
       "children": [
        "IPY_MODEL_4e457c440ff942e6855bbb0f8f1272c9",
        "IPY_MODEL_080f0b53a27340f1b88885788ff2a874"
       ],
       "layout": "IPY_MODEL_9e4e40c09c044b3192cf5d3f85d0c3a4"
      }
     },
     "819d258466b14ad89e9b45a4f34c40b2": {
      "model_module": "@jupyter-widgets/base",
      "model_module_version": "1.2.0",
      "model_name": "LayoutModel",
      "state": {
       "_model_module": "@jupyter-widgets/base",
       "_model_module_version": "1.2.0",
       "_model_name": "LayoutModel",
       "_view_count": null,
       "_view_module": "@jupyter-widgets/base",
       "_view_module_version": "1.2.0",
       "_view_name": "LayoutView",
       "align_content": null,
       "align_items": null,
       "align_self": null,
       "border": null,
       "bottom": null,
       "display": null,
       "flex": null,
       "flex_flow": null,
       "grid_area": null,
       "grid_auto_columns": null,
       "grid_auto_flow": null,
       "grid_auto_rows": null,
       "grid_column": null,
       "grid_gap": null,
       "grid_row": null,
       "grid_template_areas": null,
       "grid_template_columns": null,
       "grid_template_rows": null,
       "height": null,
       "justify_content": null,
       "justify_items": null,
       "left": null,
       "margin": null,
       "max_height": null,
       "max_width": null,
       "min_height": null,
       "min_width": null,
       "object_fit": null,
       "object_position": null,
       "order": null,
       "overflow": null,
       "overflow_x": null,
       "overflow_y": null,
       "padding": null,
       "right": null,
       "top": null,
       "visibility": null,
       "width": null
      }
     },
     "85d7b843f1154256b80d2aa32cb21b2a": {
      "model_module": "@jupyter-widgets/controls",
      "model_module_version": "1.5.0",
      "model_name": "LabelModel",
      "state": {
       "_dom_classes": [],
       "_model_module": "@jupyter-widgets/controls",
       "_model_module_version": "1.5.0",
       "_model_name": "LabelModel",
       "_view_count": null,
       "_view_module": "@jupyter-widgets/controls",
       "_view_module_version": "1.5.0",
       "_view_name": "LabelView",
       "description": "",
       "description_tooltip": null,
       "layout": "IPY_MODEL_d122bf93894743a78537e6f212df0d51",
       "placeholder": "\u200b",
       "style": "IPY_MODEL_9d19850df892433482ff15dfe42788b5",
       "value": "Was the message you saw useful?"
      }
     },
     "8d4441af413a4acbb253f88b4726fb25": {
      "model_module": "@jupyter-widgets/controls",
      "model_module_version": "1.5.0",
      "model_name": "DropdownModel",
      "state": {
       "_dom_classes": [],
       "_model_module": "@jupyter-widgets/controls",
       "_model_module_version": "1.5.0",
       "_model_name": "DropdownModel",
       "_options_labels": [
        "",
        "Extremely useful",
        "Very useful",
        "Somewhat useful",
        "Slightly useful",
        "Not at all useful"
       ],
       "_view_count": null,
       "_view_module": "@jupyter-widgets/controls",
       "_view_module_version": "1.5.0",
       "_view_name": "DropdownView",
       "description": "",
       "description_tooltip": null,
       "disabled": false,
       "index": 0,
       "layout": "IPY_MODEL_b47979bc09754e27b249b657310a46ce",
       "style": "IPY_MODEL_ac43e09ad0c54b86b439faa0b64f71c9"
      }
     },
     "9d19850df892433482ff15dfe42788b5": {
      "model_module": "@jupyter-widgets/controls",
      "model_module_version": "1.5.0",
      "model_name": "DescriptionStyleModel",
      "state": {
       "_model_module": "@jupyter-widgets/controls",
       "_model_module_version": "1.5.0",
       "_model_name": "DescriptionStyleModel",
       "_view_count": null,
       "_view_module": "@jupyter-widgets/base",
       "_view_module_version": "1.2.0",
       "_view_name": "StyleView",
       "description_width": ""
      }
     },
     "9e4e40c09c044b3192cf5d3f85d0c3a4": {
      "model_module": "@jupyter-widgets/base",
      "model_module_version": "1.2.0",
      "model_name": "LayoutModel",
      "state": {
       "_model_module": "@jupyter-widgets/base",
       "_model_module_version": "1.2.0",
       "_model_name": "LayoutModel",
       "_view_count": null,
       "_view_module": "@jupyter-widgets/base",
       "_view_module_version": "1.2.0",
       "_view_name": "LayoutView",
       "align_content": null,
       "align_items": null,
       "align_self": null,
       "border": null,
       "bottom": null,
       "display": null,
       "flex": null,
       "flex_flow": null,
       "grid_area": null,
       "grid_auto_columns": null,
       "grid_auto_flow": null,
       "grid_auto_rows": null,
       "grid_column": null,
       "grid_gap": null,
       "grid_row": null,
       "grid_template_areas": null,
       "grid_template_columns": null,
       "grid_template_rows": null,
       "height": null,
       "justify_content": null,
       "justify_items": null,
       "left": null,
       "margin": null,
       "max_height": null,
       "max_width": null,
       "min_height": null,
       "min_width": null,
       "object_fit": null,
       "object_position": null,
       "order": null,
       "overflow": null,
       "overflow_x": null,
       "overflow_y": null,
       "padding": null,
       "right": null,
       "top": null,
       "visibility": null,
       "width": null
      }
     },
     "a1a5ad66fd954f0ba89de7656243dc17": {
      "model_module": "@jupyter-widgets/base",
      "model_module_version": "1.2.0",
      "model_name": "LayoutModel",
      "state": {
       "_model_module": "@jupyter-widgets/base",
       "_model_module_version": "1.2.0",
       "_model_name": "LayoutModel",
       "_view_count": null,
       "_view_module": "@jupyter-widgets/base",
       "_view_module_version": "1.2.0",
       "_view_name": "LayoutView",
       "align_content": null,
       "align_items": null,
       "align_self": null,
       "border": null,
       "bottom": null,
       "display": null,
       "flex": null,
       "flex_flow": null,
       "grid_area": null,
       "grid_auto_columns": null,
       "grid_auto_flow": null,
       "grid_auto_rows": null,
       "grid_column": null,
       "grid_gap": null,
       "grid_row": null,
       "grid_template_areas": null,
       "grid_template_columns": null,
       "grid_template_rows": null,
       "height": null,
       "justify_content": null,
       "justify_items": null,
       "left": null,
       "margin": null,
       "max_height": null,
       "max_width": null,
       "min_height": null,
       "min_width": null,
       "object_fit": null,
       "object_position": null,
       "order": null,
       "overflow": null,
       "overflow_x": null,
       "overflow_y": null,
       "padding": null,
       "right": null,
       "top": null,
       "visibility": null,
       "width": null
      }
     },
     "a3a4603100b146b6b5e6941e72001863": {
      "model_module": "@jupyter-widgets/controls",
      "model_module_version": "1.5.0",
      "model_name": "ButtonModel",
      "state": {
       "_dom_classes": [],
       "_model_module": "@jupyter-widgets/controls",
       "_model_module_version": "1.5.0",
       "_model_name": "ButtonModel",
       "_view_count": null,
       "_view_module": "@jupyter-widgets/controls",
       "_view_module_version": "1.5.0",
       "_view_name": "ButtonView",
       "button_style": "",
       "description": "Submit",
       "disabled": false,
       "icon": "",
       "layout": "IPY_MODEL_73d48911b1bb4350b3cc751cc01439f3",
       "style": "IPY_MODEL_ee756c20dd0d49e090193c5351dc906d",
       "tooltip": ""
      }
     },
     "a625968ba3424d0b95ab31c93e5a8a5c": {
      "model_module": "@jupyter-widgets/controls",
      "model_module_version": "1.5.0",
      "model_name": "DescriptionStyleModel",
      "state": {
       "_model_module": "@jupyter-widgets/controls",
       "_model_module_version": "1.5.0",
       "_model_name": "DescriptionStyleModel",
       "_view_count": null,
       "_view_module": "@jupyter-widgets/base",
       "_view_module_version": "1.2.0",
       "_view_name": "StyleView",
       "description_width": ""
      }
     },
     "ac43e09ad0c54b86b439faa0b64f71c9": {
      "model_module": "@jupyter-widgets/controls",
      "model_module_version": "1.5.0",
      "model_name": "DescriptionStyleModel",
      "state": {
       "_model_module": "@jupyter-widgets/controls",
       "_model_module_version": "1.5.0",
       "_model_name": "DescriptionStyleModel",
       "_view_count": null,
       "_view_module": "@jupyter-widgets/base",
       "_view_module_version": "1.2.0",
       "_view_name": "StyleView",
       "description_width": ""
      }
     },
     "b26638aa2fff4a76b42aa405254c870a": {
      "model_module": "@jupyter-widgets/controls",
      "model_module_version": "1.5.0",
      "model_name": "AccordionModel",
      "state": {
       "_dom_classes": [],
       "_model_module": "@jupyter-widgets/controls",
       "_model_module_version": "1.5.0",
       "_model_name": "AccordionModel",
       "_titles": {
        "0": "  Feedback Form"
       },
       "_view_count": null,
       "_view_module": "@jupyter-widgets/controls",
       "_view_module_version": "1.5.0",
       "_view_name": "AccordionView",
       "box_style": "",
       "children": [
        "IPY_MODEL_587562b06cdc4d218e465db8d7a661d6"
       ],
       "layout": "IPY_MODEL_b48922c3ed754a99bbcf7758bd8e9c91",
       "selected_index": 0
      }
     },
     "b47979bc09754e27b249b657310a46ce": {
      "model_module": "@jupyter-widgets/base",
      "model_module_version": "1.2.0",
      "model_name": "LayoutModel",
      "state": {
       "_model_module": "@jupyter-widgets/base",
       "_model_module_version": "1.2.0",
       "_model_name": "LayoutModel",
       "_view_count": null,
       "_view_module": "@jupyter-widgets/base",
       "_view_module_version": "1.2.0",
       "_view_name": "LayoutView",
       "align_content": null,
       "align_items": null,
       "align_self": null,
       "border": null,
       "bottom": null,
       "display": null,
       "flex": null,
       "flex_flow": null,
       "grid_area": null,
       "grid_auto_columns": null,
       "grid_auto_flow": null,
       "grid_auto_rows": null,
       "grid_column": null,
       "grid_gap": null,
       "grid_row": null,
       "grid_template_areas": null,
       "grid_template_columns": null,
       "grid_template_rows": null,
       "height": null,
       "justify_content": null,
       "justify_items": null,
       "left": null,
       "margin": null,
       "max_height": null,
       "max_width": null,
       "min_height": null,
       "min_width": null,
       "object_fit": null,
       "object_position": null,
       "order": null,
       "overflow": null,
       "overflow_x": null,
       "overflow_y": null,
       "padding": null,
       "right": null,
       "top": null,
       "visibility": null,
       "width": null
      }
     },
     "b48922c3ed754a99bbcf7758bd8e9c91": {
      "model_module": "@jupyter-widgets/base",
      "model_module_version": "1.2.0",
      "model_name": "LayoutModel",
      "state": {
       "_model_module": "@jupyter-widgets/base",
       "_model_module_version": "1.2.0",
       "_model_name": "LayoutModel",
       "_view_count": null,
       "_view_module": "@jupyter-widgets/base",
       "_view_module_version": "1.2.0",
       "_view_name": "LayoutView",
       "align_content": null,
       "align_items": null,
       "align_self": null,
       "border": null,
       "bottom": null,
       "display": null,
       "flex": null,
       "flex_flow": null,
       "grid_area": null,
       "grid_auto_columns": null,
       "grid_auto_flow": null,
       "grid_auto_rows": null,
       "grid_column": null,
       "grid_gap": null,
       "grid_row": null,
       "grid_template_areas": null,
       "grid_template_columns": null,
       "grid_template_rows": null,
       "height": null,
       "justify_content": null,
       "justify_items": null,
       "left": null,
       "margin": null,
       "max_height": null,
       "max_width": null,
       "min_height": null,
       "min_width": null,
       "object_fit": null,
       "object_position": null,
       "order": null,
       "overflow": null,
       "overflow_x": null,
       "overflow_y": null,
       "padding": null,
       "right": null,
       "top": null,
       "visibility": null,
       "width": null
      }
     },
     "bd1660b19f644915bb3928212bd8eb97": {
      "model_module": "@jupyter-widgets/base",
      "model_module_version": "1.2.0",
      "model_name": "LayoutModel",
      "state": {
       "_model_module": "@jupyter-widgets/base",
       "_model_module_version": "1.2.0",
       "_model_name": "LayoutModel",
       "_view_count": null,
       "_view_module": "@jupyter-widgets/base",
       "_view_module_version": "1.2.0",
       "_view_name": "LayoutView",
       "align_content": null,
       "align_items": null,
       "align_self": null,
       "border": null,
       "bottom": null,
       "display": null,
       "flex": null,
       "flex_flow": null,
       "grid_area": null,
       "grid_auto_columns": null,
       "grid_auto_flow": null,
       "grid_auto_rows": null,
       "grid_column": null,
       "grid_gap": null,
       "grid_row": null,
       "grid_template_areas": null,
       "grid_template_columns": null,
       "grid_template_rows": null,
       "height": null,
       "justify_content": null,
       "justify_items": null,
       "left": null,
       "margin": null,
       "max_height": null,
       "max_width": null,
       "min_height": null,
       "min_width": null,
       "object_fit": null,
       "object_position": null,
       "order": null,
       "overflow": null,
       "overflow_x": null,
       "overflow_y": null,
       "padding": null,
       "right": null,
       "top": null,
       "visibility": null,
       "width": null
      }
     },
     "c3fd86f2bac04d0398999b6da8368be0": {
      "model_module": "@jupyter-widgets/base",
      "model_module_version": "1.2.0",
      "model_name": "LayoutModel",
      "state": {
       "_model_module": "@jupyter-widgets/base",
       "_model_module_version": "1.2.0",
       "_model_name": "LayoutModel",
       "_view_count": null,
       "_view_module": "@jupyter-widgets/base",
       "_view_module_version": "1.2.0",
       "_view_name": "LayoutView",
       "align_content": null,
       "align_items": null,
       "align_self": null,
       "border": null,
       "bottom": null,
       "display": null,
       "flex": null,
       "flex_flow": null,
       "grid_area": null,
       "grid_auto_columns": null,
       "grid_auto_flow": null,
       "grid_auto_rows": null,
       "grid_column": null,
       "grid_gap": null,
       "grid_row": null,
       "grid_template_areas": null,
       "grid_template_columns": null,
       "grid_template_rows": null,
       "height": null,
       "justify_content": null,
       "justify_items": null,
       "left": null,
       "margin": null,
       "max_height": null,
       "max_width": null,
       "min_height": null,
       "min_width": null,
       "object_fit": null,
       "object_position": null,
       "order": null,
       "overflow": null,
       "overflow_x": null,
       "overflow_y": null,
       "padding": null,
       "right": null,
       "top": null,
       "visibility": null,
       "width": null
      }
     },
     "c421f69e0af647d596aca1930146b19f": {
      "model_module": "@jupyter-widgets/base",
      "model_module_version": "1.2.0",
      "model_name": "LayoutModel",
      "state": {
       "_model_module": "@jupyter-widgets/base",
       "_model_module_version": "1.2.0",
       "_model_name": "LayoutModel",
       "_view_count": null,
       "_view_module": "@jupyter-widgets/base",
       "_view_module_version": "1.2.0",
       "_view_name": "LayoutView",
       "align_content": null,
       "align_items": null,
       "align_self": null,
       "border": null,
       "bottom": null,
       "display": null,
       "flex": null,
       "flex_flow": null,
       "grid_area": null,
       "grid_auto_columns": null,
       "grid_auto_flow": null,
       "grid_auto_rows": null,
       "grid_column": null,
       "grid_gap": null,
       "grid_row": null,
       "grid_template_areas": null,
       "grid_template_columns": null,
       "grid_template_rows": null,
       "height": null,
       "justify_content": null,
       "justify_items": null,
       "left": null,
       "margin": null,
       "max_height": null,
       "max_width": null,
       "min_height": null,
       "min_width": null,
       "object_fit": null,
       "object_position": null,
       "order": null,
       "overflow": null,
       "overflow_x": null,
       "overflow_y": null,
       "padding": null,
       "right": null,
       "top": null,
       "visibility": null,
       "width": null
      }
     },
     "d03ff3ad3ad742b38b56c23694770dd8": {
      "model_module": "@jupyter-widgets/controls",
      "model_module_version": "1.5.0",
      "model_name": "DescriptionStyleModel",
      "state": {
       "_model_module": "@jupyter-widgets/controls",
       "_model_module_version": "1.5.0",
       "_model_name": "DescriptionStyleModel",
       "_view_count": null,
       "_view_module": "@jupyter-widgets/base",
       "_view_module_version": "1.2.0",
       "_view_name": "StyleView",
       "description_width": ""
      }
     },
     "d122bf93894743a78537e6f212df0d51": {
      "model_module": "@jupyter-widgets/base",
      "model_module_version": "1.2.0",
      "model_name": "LayoutModel",
      "state": {
       "_model_module": "@jupyter-widgets/base",
       "_model_module_version": "1.2.0",
       "_model_name": "LayoutModel",
       "_view_count": null,
       "_view_module": "@jupyter-widgets/base",
       "_view_module_version": "1.2.0",
       "_view_name": "LayoutView",
       "align_content": null,
       "align_items": null,
       "align_self": null,
       "border": null,
       "bottom": null,
       "display": null,
       "flex": null,
       "flex_flow": null,
       "grid_area": null,
       "grid_auto_columns": null,
       "grid_auto_flow": null,
       "grid_auto_rows": null,
       "grid_column": null,
       "grid_gap": null,
       "grid_row": null,
       "grid_template_areas": null,
       "grid_template_columns": null,
       "grid_template_rows": null,
       "height": null,
       "justify_content": null,
       "justify_items": null,
       "left": null,
       "margin": null,
       "max_height": null,
       "max_width": null,
       "min_height": null,
       "min_width": null,
       "object_fit": null,
       "object_position": null,
       "order": null,
       "overflow": null,
       "overflow_x": null,
       "overflow_y": null,
       "padding": null,
       "right": null,
       "top": null,
       "visibility": null,
       "width": null
      }
     },
     "d16742d005574b6f8d29df95bc7cf46e": {
      "model_module": "@jupyter-widgets/controls",
      "model_module_version": "1.5.0",
      "model_name": "LabelModel",
      "state": {
       "_dom_classes": [],
       "_model_module": "@jupyter-widgets/controls",
       "_model_module_version": "1.5.0",
       "_model_name": "LabelModel",
       "_view_count": null,
       "_view_module": "@jupyter-widgets/controls",
       "_view_module_version": "1.5.0",
       "_view_name": "LabelView",
       "description": "",
       "description_tooltip": null,
       "layout": "IPY_MODEL_15f570430a1c49c694d0570ef10eff51",
       "placeholder": "\u200b",
       "style": "IPY_MODEL_a625968ba3424d0b95ab31c93e5a8a5c",
       "value": "Any other feedback?"
      }
     },
     "d6afc5f6bcbf4a1e9eacb659cd7344f6": {
      "model_module": "@jupyter-widgets/controls",
      "model_module_version": "1.5.0",
      "model_name": "VBoxModel",
      "state": {
       "_dom_classes": [],
       "_model_module": "@jupyter-widgets/controls",
       "_model_module_version": "1.5.0",
       "_model_name": "VBoxModel",
       "_view_count": null,
       "_view_module": "@jupyter-widgets/controls",
       "_view_module_version": "1.5.0",
       "_view_name": "VBoxView",
       "box_style": "",
       "children": [
        "IPY_MODEL_677edd480d0e407f80a103c95d691b10",
        "IPY_MODEL_4af4ff4aef4d4eaba11bd58fa166852e"
       ],
       "layout": "IPY_MODEL_819d258466b14ad89e9b45a4f34c40b2"
      }
     },
     "e06b64bf5afe42d2b051352bd98061ad": {
      "model_module": "@jupyter-widgets/controls",
      "model_module_version": "1.5.0",
      "model_name": "DescriptionStyleModel",
      "state": {
       "_model_module": "@jupyter-widgets/controls",
       "_model_module_version": "1.5.0",
       "_model_name": "DescriptionStyleModel",
       "_view_count": null,
       "_view_module": "@jupyter-widgets/base",
       "_view_module_version": "1.2.0",
       "_view_name": "StyleView",
       "description_width": ""
      }
     },
     "e1b25ddecab34ea88d82b6823ab684ce": {
      "model_module": "@jupyter-widgets/controls",
      "model_module_version": "1.5.0",
      "model_name": "ButtonModel",
      "state": {
       "_dom_classes": [],
       "_model_module": "@jupyter-widgets/controls",
       "_model_module_version": "1.5.0",
       "_model_name": "ButtonModel",
       "_view_count": null,
       "_view_module": "@jupyter-widgets/controls",
       "_view_module_version": "1.5.0",
       "_view_name": "ButtonView",
       "button_style": "",
       "description": "Submit",
       "disabled": false,
       "icon": "",
       "layout": "IPY_MODEL_3fcb1dde9bca47d3a2fecf0432e63d67",
       "style": "IPY_MODEL_6268f2833401437caae3f28d2da3fff7",
       "tooltip": ""
      }
     },
     "e7da5b884be942fba923e786309544d3": {
      "model_module": "@jupyter-widgets/base",
      "model_module_version": "1.2.0",
      "model_name": "LayoutModel",
      "state": {
       "_model_module": "@jupyter-widgets/base",
       "_model_module_version": "1.2.0",
       "_model_name": "LayoutModel",
       "_view_count": null,
       "_view_module": "@jupyter-widgets/base",
       "_view_module_version": "1.2.0",
       "_view_name": "LayoutView",
       "align_content": null,
       "align_items": null,
       "align_self": null,
       "border": null,
       "bottom": null,
       "display": null,
       "flex": null,
       "flex_flow": null,
       "grid_area": null,
       "grid_auto_columns": null,
       "grid_auto_flow": null,
       "grid_auto_rows": null,
       "grid_column": null,
       "grid_gap": null,
       "grid_row": null,
       "grid_template_areas": null,
       "grid_template_columns": null,
       "grid_template_rows": null,
       "height": null,
       "justify_content": null,
       "justify_items": null,
       "left": null,
       "margin": "0px 8px 0px 0px",
       "max_height": null,
       "max_width": null,
       "min_height": null,
       "min_width": null,
       "object_fit": null,
       "object_position": null,
       "order": null,
       "overflow": null,
       "overflow_x": null,
       "overflow_y": null,
       "padding": "0px",
       "right": null,
       "top": null,
       "visibility": null,
       "width": "50%"
      }
     },
     "e87873f98e694f389c588a39785b9c30": {
      "model_module": "@jupyter-widgets/controls",
      "model_module_version": "1.5.0",
      "model_name": "VBoxModel",
      "state": {
       "_dom_classes": [],
       "_model_module": "@jupyter-widgets/controls",
       "_model_module_version": "1.5.0",
       "_model_name": "VBoxModel",
       "_view_count": null,
       "_view_module": "@jupyter-widgets/controls",
       "_view_module_version": "1.5.0",
       "_view_name": "VBoxView",
       "box_style": "",
       "children": [
        "IPY_MODEL_32ac810a81284115861f42b764b228a2",
        "IPY_MODEL_8d4441af413a4acbb253f88b4726fb25"
       ],
       "layout": "IPY_MODEL_233bea7e364b4c8ea0b8ad74650cfd7d"
      }
     },
     "ee756c20dd0d49e090193c5351dc906d": {
      "model_module": "@jupyter-widgets/controls",
      "model_module_version": "1.5.0",
      "model_name": "ButtonStyleModel",
      "state": {
       "_model_module": "@jupyter-widgets/controls",
       "_model_module_version": "1.5.0",
       "_model_name": "ButtonStyleModel",
       "_view_count": null,
       "_view_module": "@jupyter-widgets/base",
       "_view_module_version": "1.2.0",
       "_view_name": "StyleView",
       "button_color": null,
       "font_weight": ""
      }
     },
     "f4238cf018ea4779a858380f9647926b": {
      "model_module": "@jupyter-widgets/base",
      "model_module_version": "1.2.0",
      "model_name": "LayoutModel",
      "state": {
       "_model_module": "@jupyter-widgets/base",
       "_model_module_version": "1.2.0",
       "_model_name": "LayoutModel",
       "_view_count": null,
       "_view_module": "@jupyter-widgets/base",
       "_view_module_version": "1.2.0",
       "_view_name": "LayoutView",
       "align_content": null,
       "align_items": "center",
       "align_self": null,
       "border": null,
       "bottom": null,
       "display": null,
       "flex": null,
       "flex_flow": null,
       "grid_area": null,
       "grid_auto_columns": null,
       "grid_auto_flow": null,
       "grid_auto_rows": null,
       "grid_column": null,
       "grid_gap": null,
       "grid_row": null,
       "grid_template_areas": null,
       "grid_template_columns": null,
       "grid_template_rows": null,
       "height": null,
       "justify_content": null,
       "justify_items": null,
       "left": null,
       "margin": null,
       "max_height": null,
       "max_width": null,
       "min_height": null,
       "min_width": null,
       "object_fit": null,
       "object_position": null,
       "order": null,
       "overflow": null,
       "overflow_x": null,
       "overflow_y": null,
       "padding": null,
       "right": null,
       "top": null,
       "visibility": null,
       "width": null
      }
     }
    },
    "version_major": 2,
    "version_minor": 0
   }
  },
  "course": "8x",
  "section": "1",
  "lab": "lab05"
 },
 "nbformat": 4,
 "nbformat_minor": 5
}