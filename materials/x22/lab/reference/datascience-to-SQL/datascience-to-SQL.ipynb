{
 "cells": [
  {
   "cell_type": "code",
   "execution_count": null,
   "id": "a9404a03",
   "metadata": {
    "deletable": false,
    "editable": false
   },
   "outputs": [],
   "source": [
    "# Initialize Otter\n",
    "import otter\n",
    "grader = otter.Notebook(\"datascience-to-SQL.ipynb\")"
   ]
  },
  {
   "cell_type": "markdown",
   "id": "bc6f3295",
   "metadata": {},
   "source": [
    "## Conversion Notebook: From Data 8X's `datascience` library to SQL\n",
    "\n",
    "You have now learned how to think computationally, how to express your thoughts in a modern programming language, Python, clearly and succinctly, and how to apply this knowledge to various tasks in Data Science.  In doing so, you have come to understand what it means to *interpret* a program.  The Python interpreter is a piece of software that executes - i.e., interprets - python programs.\n",
    "\n",
    "In this notebook, we are going to build upon the concepts taught in Data 8X and utilize your understanding of `Table`s to have an intro crash course to learn a language called SQL. SQL is a language that relates to databases - most databases use SQL to query.  Formally, it performs operations defined in relational algebra. \n",
    "\n",
    "SQL is one of the most commonly used database languages. Many companies and businesses use SQL as a way to access and manipulate the data that is stored in their databases. \n",
    "\n",
    "SQL is a **declarative** language which means that you say *what* you want, not *how* to get it. We will be writing SQL queries to describe the table we want to output. This is different to Python for example, where we write code that explains how to get something. SQL queries describe the output of what we want. \n",
    "\n",
    "We will use a particular relational database management system, sqlite3, which actually stores the database in a conventional file."
   ]
  },
  {
   "cell_type": "code",
   "execution_count": 1,
   "id": "e18bf75c",
   "metadata": {
    "collapsed": true,
    "execution": {
     "iopub.execute_input": "2022-07-25T23:57:30.181228Z",
     "iopub.status.busy": "2022-07-25T23:57:30.180844Z",
     "iopub.status.idle": "2022-07-25T23:57:32.014836Z",
     "shell.execute_reply": "2022-07-25T23:57:32.014284Z"
    }
   },
   "outputs": [],
   "source": [
    "from datascience import *\n",
    "import numpy as np\n",
    "\n",
    "%matplotlib inline\n",
    "import matplotlib.pyplot as plots\n",
    "plots.style.use('fivethirtyeight')"
   ]
  },
  {
   "cell_type": "markdown",
   "id": "37988231",
   "metadata": {},
   "source": [
    "## SQL Query Syntax \n",
    "\n",
    "The main syntax of the SQL language consists of one very long statement.\n",
    "\n",
    "```\n",
    "SELECT [DISTINCT] <column expression list>\n",
    "   FROM <table>\n",
    "   [WHERE <predicate>]\n",
    "   [GROUP BY <column list>]\n",
    "   [HAVING <predicate>]\n",
    "   [ORDER BY <column list>]\n",
    "   [LIMIT <integer>];\n",
    "```\n",
    "\n",
    "In SQL, queries and subqueries produce a new table, as do most `Table` methods.\n",
    "\n",
    "Here's a pretty [good reference](https://www.dofactory.com/sql/syntax).  There are lots of them out there. [Here's another](http://www.zentut.com/sql-tutorial/).\n",
    "\n",
    "SQL keywords (SELECT, FROM, WHERE, etc in the query template above) are case insensitive, but convention is to use uppercase for clarity.  Column names and text values are case sensitive.\n",
    "\n",
    "For students who have come through Data8, the datascience package is very similar to SQL in terms of syntax and logic to SQL.\n",
    "\n",
    "Let's start with a `Table` example."
   ]
  },
  {
   "cell_type": "code",
   "execution_count": 2,
   "id": "a263a4b3",
   "metadata": {
    "execution": {
     "iopub.execute_input": "2022-07-25T23:57:32.018750Z",
     "iopub.status.busy": "2022-07-25T23:57:32.018216Z",
     "iopub.status.idle": "2022-07-25T23:57:32.025635Z",
     "shell.execute_reply": "2022-07-25T23:57:32.025094Z"
    }
   },
   "outputs": [],
   "source": [
    "# Table constructor method\n",
    "\n",
    "# An example of creating a Table from a list of rows.\n",
    "Table([\"Flavor\",\"Color\",\"Price\"]).with_rows([\n",
    "    ('strawberry','pink', 3.55),\n",
    "    ('chocolate','light brown', 4.75),\n",
    "    ('chocolate','dark brown', 5.25),\n",
    "    ('strawberry','pink',5.25),\n",
    "    ('bubblegum','pink',4.75),\n",
    "    ('chocolate','dark brown', 5.25)\n",
    "])"
   ]
  },
  {
   "cell_type": "markdown",
   "id": "3e54b775",
   "metadata": {},
   "source": [
    "# Select\n",
    "\n",
    "The basic aspect of SQL is the select statement, which returns a table.\n",
    "\n",
    "The following line of code creates a one-row Table\n",
    "```\n",
    "SELECT \"strawberry\" AS Flavor, \"pink\" AS Color, 3.55 AS Price; \n",
    "```\n",
    "\n",
    "Note - column names are always text and have no `\"` around them.\n",
    "\n",
    "To try this out, run `sqlite3` creating a database file, say `testsql`\n",
    "\n",
    "`sqlite3 testsql`\n",
    "\n",
    "This will run interactively, so you can see the results of the queries you perform.\n",
    "\n",
    "```\n",
    "ideas/sql> sqlite3 testsql.db\n",
    "SQLite version 3.13.0 2016-05-18 10:57:30\n",
    "Enter \".help\" for usage hints.\n",
    "sqlite> select \"strawberry\" as Flavor, \"pink\" as Color, 3.55 as Price;\n",
    "strawberry|pink|3.55\n",
    "sqlite>\n",
    "```\n",
    "Don't forget the \";\"\n"
   ]
  },
  {
   "cell_type": "markdown",
   "id": "d1b3ab35",
   "metadata": {},
   "source": [
    "## Table as Union of tables\n",
    "\n",
    "Creating a multi-row table (object) with a union of `select` statements\n",
    "```\n",
    "select \"strawberry\" as Flavor, \"pink\" as Color, 3.55 as Price union\n",
    "select \"chocolate\",\"light brown\", 4.75 union\n",
    "select \"chocolate\",\"dark brown\", 5.25 union\n",
    "select \"strawberry\",\"pink\",5.25 union\n",
    "select \"bubblegum\",\"pink\",4.75 union\n",
    "select \"strawberry\",\"pink\",5.25 union\n",
    "select \"chocolate\",\"dark brown\", 5.25;\n",
    "```"
   ]
  },
  {
   "cell_type": "markdown",
   "id": "81381f7d",
   "metadata": {},
   "source": [
    "Notice how a SQL table is a relation (meaning that each select statement above is a tuple of information that is stored as a row in the table), it is not a list.  \n",
    "\n",
    "```\n",
    "sqlite> select \"strawberry\" as Flavor, \"pink\" as Color, 3.55 as Price union\n",
    "   ...> select \"chocolate\",\"light brown\", 4.75 union\n",
    "   ...> select \"chocolate\",\"dark brown\", 5.25 union\n",
    "   ...> select \"strawberry\",\"pink\",5.25 union\n",
    "   ...> select \"bubblegum\",\"pink\",4.75 union\n",
    "   ...> select \"strawberry\",\"pink\",5.25 union\n",
    "   ...> select \"chocolate\",\"dark brown\", 5.25;\n",
    "bubblegum|pink|4.75\n",
    "chocolate|dark brown|5.25\n",
    "chocolate|light brown|4.75\n",
    "strawberry|pink|3.55\n",
    "strawberry|pink|5.25\n",
    "```\n",
    "Notice, no duplicates.  "
   ]
  },
  {
   "cell_type": "markdown",
   "id": "4c0756e4",
   "metadata": {},
   "source": [
    "# Create table\n",
    "\n",
    "Let's create a version of the table that might occur in a retail setting.  We have added a column for the transaction ID.\n",
    "```\n",
    "create table cones as\n",
    "    select 1 as Id, \"strawberry\" as Flavor, \"pink\" as Color, 3.55 as Price union\n",
    "    select 2, \"chocolate\",\"light brown\", 4.75 union\n",
    "    select 3, \"chocolate\",\"dark brown\", 5.25 union\n",
    "    select 4, \"strawberry\",\"pink\",5.25 union\n",
    "    select 5, \"bubblegum\",\"pink\",4.75 union\n",
    "    select 6, \"chocolate\", \"dark brown\", 5.25;\n",
    "```"
   ]
  },
  {
   "cell_type": "markdown",
   "id": "4a01682d",
   "metadata": {},
   "source": [
    "#### sqlite3\n",
    "\n",
    "Paste that into your `sqlite3` session.  Then you can access the data.\n",
    "\n",
    "```\n",
    "sqlite> .headers on\n",
    "sqlite> select * from cones;\n",
    "ID|Flavor|Color|Price\n",
    "1|strawberry|pink|3.55\n",
    "2|chocolate|light brown|4.75\n",
    "3|chocolate|dark brown|5.25\n",
    "4|strawberry|pink|5.25\n",
    "5|bubblegum|pink|4.75\n",
    "6|chocolate|dark brown|5.25\n",
    "sqlite> \n",
    "```"
   ]
  },
  {
   "cell_type": "code",
   "execution_count": 3,
   "id": "83f836b4",
   "metadata": {
    "execution": {
     "iopub.execute_input": "2022-07-25T23:57:32.029539Z",
     "iopub.status.busy": "2022-07-25T23:57:32.029261Z",
     "iopub.status.idle": "2022-07-25T23:57:32.034640Z",
     "shell.execute_reply": "2022-07-25T23:57:32.034197Z"
    }
   },
   "outputs": [],
   "source": [
    "# Create a Table and assign it to a variable\n",
    "\n",
    "cones = Table([\"Id\", \"Flavor\",\"Color\",\"Price\"]).with_rows([\n",
    "    (1, 'strawberry','pink', 3.55),\n",
    "    (2, 'chocolate','light brown', 4.75),\n",
    "    (3, 'chocolate','dark brown', 5.25),\n",
    "    (4, 'strawberry','pink',5.25),\n",
    "    (5, 'bubblegum','pink',4.75),\n",
    "    (6, 'chocolate','dark brown', 5.25)\n",
    "])\n",
    "cones"
   ]
  },
  {
   "cell_type": "markdown",
   "id": "d051b843",
   "metadata": {},
   "source": [
    "## Tables in a database\n",
    "\n",
    "The sqlite3 command line provides pseudo-ops (which are special types of commands) to explore the tables in the database. In the following code chunks, we can see what the existing tables are and the schema of our database (schema is the structure of our database and describes how the tables are created and with what columns).\n",
    "\n",
    "```\n",
    "sqlite> .tables\n",
    "cones\n",
    "sqlite> .schema cones\n",
    "CREATE TABLE cones(\n",
    "  Id,\n",
    "  Flavor,\n",
    "  Color,\n",
    "  Price\n",
    ");\n",
    "```\n",
    "SQL also provides table management operations, besides `CREATE`.\n",
    "\n",
    "```\n",
    "sqlite> drop table cones;\n",
    "sqlite> .tables\n",
    "```"
   ]
  },
  {
   "cell_type": "markdown",
   "id": "6d7dda25",
   "metadata": {},
   "source": [
    "## Creating a table and its schema\n",
    "\n",
    "While it is possible to create a table and fill it in, as in the example above, in most database settings tables are permanent objects that are created and then repeatedly accessed and modified.\n",
    "\n",
    "To create an empty table and specify its schema:\n",
    "\n",
    "```\n",
    "CREATE TABLE cones (Id INT, Flavor TEXT, Color TEXT, Price REAL);\n",
    "```\n",
    "Then it can be filled in with `INSERT` statements."
   ]
  },
  {
   "cell_type": "markdown",
   "id": "caab1145",
   "metadata": {},
   "source": [
    "## Insert\n",
    "\n",
    "To insert a row into a table, you need to specify three things:\n",
    "\n",
    "* The table, which you want to insert a new row, in the INSERT INTO clause.\n",
    "* a comma-separated list of columns in the table surrounded by parentheses.\n",
    "* a comma-separated list of values surrounded by parentheses in the VALUES clause.\n",
    "\n",
    "```\n",
    "INSERT INTO table(column1, column2,...)\n",
    "VALUES (value1, value2,...);\n",
    "```\n",
    "For example, to fill out our cones table creation:\n",
    "\n",
    "```\n",
    "INSERT INTO cones VALUES (1, \"strawberry\", \"pink\", 3.55);\n",
    "INSERT INTO cones VALUES (2, \"chocolate\",\"light brown\", 4.75);\n",
    "INSERT INTO cones VALUES (3, \"chocolate\",\"dark brown\", 5.25);\n",
    "INSERT INTO cones VALUES (4, \"strawberry\",\"pink\",5.25);\n",
    "INSERT INTO cones VALUES (5, \"bubblegum\",\"pink\",4.75);\n",
    "INSERT INTO cones VALUES (6, \"chocolate\", \"dark brown\", 5.25);\n",
    "```\n",
    "\n",
    "Individual columns-value relationships can be specified too.\n",
    "\n",
    "```\n",
    "insert into cones(Id, Flavor, Color, Price) values (7, \"Vanila\", \"White\", 3.95);\n",
    "```\n",
    "\n",
    "Columns where data is not inserted are filled with `null`.\n",
    "\n",
    "```\n",
    "sqlite> insert into cones(Flavor, Price) values (\"Vanila\", 2.25);\n",
    "sqlite> select * from cones;\n",
    "Id|Flavor|Color|Price\n",
    "1|strawberry|pink|3.55\n",
    "2|chocolate|light brown|4.75\n",
    "3|chocolate|dark brown|5.25\n",
    "4|strawberry|pink|5.25\n",
    "5|bubblegum|pink|4.75\n",
    "6|chocolate|dark brown|5.25\n",
    "7|Vanila|White|3.95\n",
    "|Vanila||2.25\n",
    "\n",
    "```"
   ]
  },
  {
   "cell_type": "code",
   "execution_count": 4,
   "id": "e3f1f163",
   "metadata": {
    "execution": {
     "iopub.execute_input": "2022-07-25T23:57:32.037802Z",
     "iopub.status.busy": "2022-07-25T23:57:32.037538Z",
     "iopub.status.idle": "2022-07-25T23:57:32.041943Z",
     "shell.execute_reply": "2022-07-25T23:57:32.041422Z"
    }
   },
   "outputs": [],
   "source": [
    "cones.append((7, \"Vanila\", \"White\", 3.95))\n",
    "cones"
   ]
  },
  {
   "cell_type": "markdown",
   "id": "11f4b5aa",
   "metadata": {},
   "source": [
    "## Ordering\n",
    "\n",
    "In addition to the set of records in a table, one often would like to order them in a particular away.  You've seen this with `Table.sort`."
   ]
  },
  {
   "cell_type": "code",
   "execution_count": 5,
   "id": "ff8cbd03",
   "metadata": {
    "execution": {
     "iopub.execute_input": "2022-07-25T23:57:32.044890Z",
     "iopub.status.busy": "2022-07-25T23:57:32.044563Z",
     "iopub.status.idle": "2022-07-25T23:57:32.048909Z",
     "shell.execute_reply": "2022-07-25T23:57:32.048341Z"
    }
   },
   "outputs": [],
   "source": [
    "# Tables have an explicit order, which can be controlled\n",
    "cones.sort('Price')"
   ]
  },
  {
   "cell_type": "markdown",
   "id": "6b3d06f1",
   "metadata": {},
   "source": [
    "The `select` statement has an `ORDER BY` clause. We write \"ORDER BY\" and then the column that we would like to sort our table by. Automatically, SQL chooses to sort in ascending order but we can do descending by specifying `DESC` after our column name.\n",
    "\n",
    "```\n",
    "SELECT * FROM cones ORDER BY Price;\n",
    "```\n",
    "<hr>\n",
    "```\n",
    "sqlite> select * from cones order by Price;\n",
    "1|strawberry|pink|3.55\n",
    "2|chocolate|light brown|4.75\n",
    "5|bubblegum|pink|4.75\n",
    "3|chocolate|dark brown|5.25\n",
    "4|strawberry|pink|5.25\n",
    "6|chocolate|dark brown|5.25\n",
    "sqlite> 6|chocolate|dark brown|5.25\n",
    "```"
   ]
  },
  {
   "cell_type": "markdown",
   "id": "9daaa13e",
   "metadata": {},
   "source": [
    "# Selecting columns - Projection\n",
    "\n",
    "By default, operations on tables refer to *all* the columns.\n",
    "One can *select* certain columns however, by naming out the specific column in the SELECT statement (instead of using a `*`).\n",
    "\n",
    "```\n",
    "SELECT <columns expr> FROM <table>;\n",
    "```"
   ]
  },
  {
   "cell_type": "code",
   "execution_count": 6,
   "id": "973a2dc7",
   "metadata": {
    "execution": {
     "iopub.execute_input": "2022-07-25T23:57:32.051847Z",
     "iopub.status.busy": "2022-07-25T23:57:32.051614Z",
     "iopub.status.idle": "2022-07-25T23:57:32.055985Z",
     "shell.execute_reply": "2022-07-25T23:57:32.055429Z"
    }
   },
   "outputs": [],
   "source": [
    "cones.select(['Flavor', 'Price'])"
   ]
  },
  {
   "cell_type": "markdown",
   "id": "6ffef3b2",
   "metadata": {},
   "source": [
    "## SELECT from table\n",
    "\n",
    "The `SELECT` statement specifies the table explicitly.  (It's not a method on an object.  The database keeps track of all the tables.)\n",
    "\n",
    "Specify the columns to select\n",
    "\n",
    "```\n",
    "SELECT <column names or expr> FROM <table name>;\n",
    "```\n",
    "<hr>\n",
    "```\n",
    "sqlite> .headers on\n",
    "sqlite> select Flavor, Price from cones;\n",
    "Flavor|Price\n",
    "strawberry|3.55\n",
    "chocolate|4.75\n",
    "chocolate|5.25\n",
    "strawberry|5.25\n",
    "bubblegum|4.75\n",
    "chocolate|5.25\n",
    "\n",
    "```\n",
    "\n",
    "We can also do expression selection, essentially doing math in our SELECT statement. For example, let's say we want the prices to double in our table:\n",
    "\n",
    "```\n",
    "sqlite> .headers on\n",
    "sqlite> select Flavor, 2 * Price from cones;\n",
    "Flavor|Price\n",
    "strawberry|7.10\n",
    "chocolate|9.50\n",
    "chocolate|10.50\n",
    "strawberry|10.50\n",
    "bubblegum|9.50\n",
    "chocolate|10.50\n",
    "\n",
    "```\n"
   ]
  },
  {
   "cell_type": "markdown",
   "id": "36ef8a67",
   "metadata": {},
   "source": [
    "## Permanent data\n",
    "\n",
    "Quit sqlite3 with the `.quit` pseudo command. Then start it up again on the same database.  Notice how everything is still there."
   ]
  },
  {
   "cell_type": "markdown",
   "id": "3da6ee31",
   "metadata": {},
   "source": [
    "## Filtering rows - where"
   ]
  },
  {
   "cell_type": "code",
   "execution_count": 7,
   "id": "02ce7830",
   "metadata": {
    "execution": {
     "iopub.execute_input": "2022-07-25T23:57:32.059027Z",
     "iopub.status.busy": "2022-07-25T23:57:32.058793Z",
     "iopub.status.idle": "2022-07-25T23:57:32.062981Z",
     "shell.execute_reply": "2022-07-25T23:57:32.062459Z"
    }
   },
   "outputs": [],
   "source": [
    "# Here's the simple equality filter in Tables\n",
    "\n",
    "cones.where('Flavor', 'chocolate')"
   ]
  },
  {
   "cell_type": "markdown",
   "id": "0c793500",
   "metadata": {},
   "source": [
    "### SQL where clause\n",
    "\n",
    "By default, `SELECT` operations on tables refer to *all* the rows.\n",
    "One can operate on a subset of the rows by specifying a predicate expression in the `WHERE` clause.\n",
    "\n",
    "```\n",
    "SELECT <column names or expr> \n",
    "FROM <table name>\n",
    "WHERE <condition>;\n",
    "```\n",
    "<hr>\n",
    "\n",
    "```\n",
    "sqlite> select * from cones where Flavor = \"chocolate\";\n",
    "ID|Flavor|Color|Price\n",
    "2|chocolate|light brown|4.75\n",
    "3|chocolate|dark brown|5.25\n",
    "6|chocolate|dark brown|5.25\n",
    "```"
   ]
  },
  {
   "cell_type": "code",
   "execution_count": 8,
   "id": "d1420a0a",
   "metadata": {
    "collapsed": true,
    "execution": {
     "iopub.execute_input": "2022-07-25T23:57:32.065883Z",
     "iopub.status.busy": "2022-07-25T23:57:32.065630Z",
     "iopub.status.idle": "2022-07-25T23:57:32.069623Z",
     "shell.execute_reply": "2022-07-25T23:57:32.069088Z"
    }
   },
   "outputs": [],
   "source": [
    "# Or an expression that produces a boolean array\n",
    "cones.where(cones[\"Price\"] > 5)"
   ]
  },
  {
   "cell_type": "markdown",
   "id": "6c59e195",
   "metadata": {},
   "source": [
    "### SQL:\n",
    "\n",
    "```\n",
    "sqlite> select * from cones where Price > 5;\n",
    "ID|Flavor|Color|Price\n",
    "3|chocolate|dark brown|5.25\n",
    "4|strawberry|pink|5.25\n",
    "6|chocolate|dark brown|5.25\n",
    "```"
   ]
  },
  {
   "cell_type": "markdown",
   "id": "3a67ec54",
   "metadata": {},
   "source": [
    "### Approximate match\n",
    "\n",
    "Regular expression matches are so common that they are built in in SQL.\n",
    "\n",
    "```\n",
    "sqlite> select * from cones where Flavor like \"%berry%\";\n",
    "Flavor|Color|Price\n",
    "strawberry|pink|3.55\n",
    "strawberry|pink|5.25\n",
    "sqlite> \n",
    "```"
   ]
  },
  {
   "cell_type": "markdown",
   "id": "399c0640",
   "metadata": {},
   "source": [
    "## SQL Boolean operators\n",
    "\n",
    "There are many operators that you can use in SQL.\n",
    "An operator is a word or character that is used in an SQL statement to perform operation(s), like comparisons and arithmetic operations.\n",
    "\n",
    "SQLite understands the following binary operators, in order from highest to lowest precedence:\n",
    "```\n",
    "||\n",
    "*    /    %\n",
    "+    -\n",
    "<<   >>   &    |\n",
    "<    <=   >    >=\n",
    "=    ==   !=   <>   IS   IS NOT   IN   LIKE   GLOB   MATCH   REGEXP\n",
    "AND   \n",
    "OR\n",
    "```\n",
    "Supported unary prefix operators are these:\n",
    "```\n",
    "-    +    ~    NOT\n",
    "```"
   ]
  },
  {
   "cell_type": "markdown",
   "id": "c3ca8b1a",
   "metadata": {},
   "source": [
    "# Grouping and Aggregation\n",
    "\n",
    "The\u00a0\u00a0GROUP BY\u00a0clause is used to group rows of\u00a0SELECT statement\u00a0into a set of summary rows or groups based on values of columns or expressions. \n",
    "\n",
    "Apply an\u00a0aggregate function, such as\u00a0SUM,\u00a0AVG,\u00a0MIN, MAX\u00a0or\u00a0COUNT,\u00a0to each group to output the summary information.\n",
    "\n",
    "```\n",
    "SELECT <expr> \n",
    "FROM <table name> \n",
    "WHERE <cond> \n",
    "GROUP BY <grouping>;\n",
    "```\n",
    "<hr>\n",
    "\n",
    "You have been applying aggregation functions to \"groups\" of rows.  "
   ]
  },
  {
   "cell_type": "code",
   "execution_count": 9,
   "id": "bfd44d5e",
   "metadata": {
    "execution": {
     "iopub.execute_input": "2022-07-25T23:57:32.073081Z",
     "iopub.status.busy": "2022-07-25T23:57:32.072796Z",
     "iopub.status.idle": "2022-07-25T23:57:32.077095Z",
     "shell.execute_reply": "2022-07-25T23:57:32.076587Z"
    }
   },
   "outputs": [],
   "source": [
    "# By default Tables aggregate with count\n",
    "cones.group('Flavor')"
   ]
  },
  {
   "cell_type": "markdown",
   "id": "1b9e2615",
   "metadata": {},
   "source": [
    "The analogous SQL has a `group by` clause in the select statement.  The value expression specifies what aggregation operation to perform on the groups.\n",
    "\n",
    "```\n",
    "sqlite> select count(Price), Flavor from cones group by Flavor;\n",
    "count(Price)|Flavor\n",
    "1|bubblegum\n",
    "2|chocolate\n",
    "2|strawberry\n",
    "```"
   ]
  },
  {
   "cell_type": "code",
   "execution_count": 10,
   "id": "b52a7ffa",
   "metadata": {
    "execution": {
     "iopub.execute_input": "2022-07-25T23:57:32.084153Z",
     "iopub.status.busy": "2022-07-25T23:57:32.083910Z",
     "iopub.status.idle": "2022-07-25T23:57:32.088084Z",
     "shell.execute_reply": "2022-07-25T23:57:32.087630Z"
    }
   },
   "outputs": [],
   "source": [
    "# You can specify how to aggregate\n",
    "cones.group('Flavor', min)"
   ]
  },
  {
   "cell_type": "code",
   "execution_count": 11,
   "id": "8de8424d",
   "metadata": {
    "execution": {
     "iopub.execute_input": "2022-07-25T23:57:32.090880Z",
     "iopub.status.busy": "2022-07-25T23:57:32.090630Z",
     "iopub.status.idle": "2022-07-25T23:57:32.094881Z",
     "shell.execute_reply": "2022-07-25T23:57:32.094416Z"
    }
   },
   "outputs": [],
   "source": [
    "# And select the meaningful columns\n",
    "cones.select(['Flavor', 'Price']).group('Flavor', np.mean)"
   ]
  },
  {
   "cell_type": "markdown",
   "id": "b55cca6e",
   "metadata": {},
   "source": [
    "### SQL GROUP BY built in operators in the column expression\n",
    "\n",
    "```\n",
    "sqlite> select min(Price), Flavor from cones group by Flavor;\n",
    "min(Price)|Flavor\n",
    "4.75|bubblegum\n",
    "4.75|chocolate\n",
    "3.55|strawberry\n",
    "\n",
    "sqlite> select avg(Price), Flavor from cones group by Flavor;\n",
    "avg(Price)|Flavor\n",
    "4.75|bubblegum\n",
    "5.0|chocolate\n",
    "4.4|strawberry\n",
    "sqlite> \n",
    "```"
   ]
  },
  {
   "cell_type": "markdown",
   "id": "2ce2dafc",
   "metadata": {},
   "source": [
    "### GROUP operators\n",
    "\n",
    "The following are the most commonly used SQL aggregate functions:\n",
    "\n",
    "* AVG \u2013 calculates the average of a set of values.\n",
    "* COUNT \u2013 counts rows in a specified table or view.\n",
    "* MIN \u2013 gets the minimum value in a set of values.\n",
    "* MAX \u2013 gets the maximum value in a set of values.\n",
    "* SUM \u2013 calculates the sum of values.\n",
    "\n",
    "Notice that all aggregate functions above ignore NULL values except for the COUNT function."
   ]
  },
  {
   "cell_type": "markdown",
   "id": "d98d9992",
   "metadata": {},
   "source": [
    "\n",
    "```\n",
    "sqlite> .header on\n",
    "sqlite> select Color, max(Price) - min(Price) from cones group by Color;\n",
    "Color|max(Price) - min(Price)\n",
    "dark brown|0.0\n",
    "light brown|0.0\n",
    "pink|1.7\n",
    "```"
   ]
  },
  {
   "cell_type": "markdown",
   "id": "6d87fe7f",
   "metadata": {},
   "source": [
    "## Unique values\n",
    "\n",
    "Being able to determine the unique values in a column or collection of columns in common enough working with data that SQL builds it in.  This is a different sort of aggregation that does not involve groups.\n",
    "\n",
    "```\n",
    "select distinct Flavor from cones;\n",
    "select distinct Flavor, Color from cones;\n",
    "```"
   ]
  },
  {
   "cell_type": "code",
   "execution_count": 12,
   "id": "9bde8d2a",
   "metadata": {
    "collapsed": true,
    "execution": {
     "iopub.execute_input": "2022-07-25T23:57:32.098006Z",
     "iopub.status.busy": "2022-07-25T23:57:32.097772Z",
     "iopub.status.idle": "2022-07-25T23:57:32.101511Z",
     "shell.execute_reply": "2022-07-25T23:57:32.100999Z"
    }
   },
   "outputs": [],
   "source": [
    "np.unique(cones['Flavor'])"
   ]
  },
  {
   "cell_type": "code",
   "execution_count": 13,
   "id": "946a0a6a",
   "metadata": {
    "collapsed": true,
    "execution": {
     "iopub.execute_input": "2022-07-25T23:57:32.104227Z",
     "iopub.status.busy": "2022-07-25T23:57:32.103995Z",
     "iopub.status.idle": "2022-07-25T23:57:32.108729Z",
     "shell.execute_reply": "2022-07-25T23:57:32.108172Z"
    }
   },
   "outputs": [],
   "source": [
    "cones.groups(['Flavor', 'Color']).drop('count')"
   ]
  },
  {
   "cell_type": "markdown",
   "id": "b264f0f0",
   "metadata": {},
   "source": [
    "## Joining multiple tables\n",
    "\n",
    "Information in different tables can be brought together using *join* operations.  You've had a lot of experience with this already.\n",
    "\n",
    "Let's imagine that there was another table associated with the cashier's transations."
   ]
  },
  {
   "cell_type": "code",
   "execution_count": 14,
   "id": "1e589ba4",
   "metadata": {
    "collapsed": true,
    "execution": {
     "iopub.execute_input": "2022-07-25T23:57:32.111670Z",
     "iopub.status.busy": "2022-07-25T23:57:32.111448Z",
     "iopub.status.idle": "2022-07-25T23:57:32.116038Z",
     "shell.execute_reply": "2022-07-25T23:57:32.115575Z"
    }
   },
   "outputs": [],
   "source": [
    "sales = Table(['Cashier', 'Tid']).with_rows([\n",
    "    ('Baskin', 1),\n",
    "    ('Robin', 2),\n",
    "    ('Baskin', 3),\n",
    "    ('Baskin', 4),\n",
    "    ('Robin', 5),\n",
    "    ('Robin', 6)\n",
    "])\n",
    "sales"
   ]
  },
  {
   "cell_type": "markdown",
   "id": "a32b17df",
   "metadata": {},
   "source": [
    "### SQL - create a similar table\n",
    "\n",
    "```\n",
    "create table sales as\n",
    "    select \"Baskin\" as Cashier, 1 as Tid union\n",
    "    select \"Baskin\", 3 union\n",
    "    select \"Baskin\", 4 union\n",
    "    select \"Robin\", 2 union\n",
    "    select \"Robin\", 5 union\n",
    "    select \"Robin\", 6;\n",
    "```\n",
    "Paste this into sqlite3\n",
    "```\n",
    "sqlite> .tables\n",
    "cones  sales\n",
    "sqlite> select * from sales;\n",
    "Cashier|Tid\n",
    "Baskin|1\n",
    "Baskin|3\n",
    "Baskin|4\n",
    "Robin|2\n",
    "Robin|5\n",
    "Robin|6\n",
    "sqlite> \n",
    "```"
   ]
  },
  {
   "cell_type": "code",
   "execution_count": 15,
   "id": "25e7a913",
   "metadata": {
    "collapsed": true,
    "execution": {
     "iopub.execute_input": "2022-07-25T23:57:32.118767Z",
     "iopub.status.busy": "2022-07-25T23:57:32.118563Z",
     "iopub.status.idle": "2022-07-25T23:57:32.123191Z",
     "shell.execute_reply": "2022-07-25T23:57:32.122721Z"
    }
   },
   "outputs": [],
   "source": [
    "# The JOIN of these two tables around their related columns\n",
    "sales.join('Tid', cones, 'Id')"
   ]
  },
  {
   "cell_type": "markdown",
   "id": "777dea27",
   "metadata": {},
   "source": [
    "## SQL join \n",
    "\n",
    "In SQL the join operation is easily expressed by multiple `FROM` tables, but it is not the same as the \"inner join\" you are familiar with.\n",
    "\n",
    "```\n",
    "SELECT * FROM sales, cones;\n",
    "```\n",
    "produces the cross-product (outer join) of all the rows of `sales` and the rows of `cones`.  We want the ones with matching `Id`'s.  This is expressed through the `WHERE` clause.\n",
    "\n",
    "```\n",
    "SELECT * FROM sales, cones WHERE Tid=Id;\n",
    "```\n",
    "\n",
    "Try it out.\n",
    "\n",
    "```\n",
    "sqlite> .tables\n",
    "cones  sales\n",
    "sqlite> SELECT * FROM sales, cones WHERE Tid=Id;\n",
    "Cashier|Tid|Id|Flavor|Color|Price\n",
    "Baskin|1|1|strawberry|pink|3.55\n",
    "Baskin|3|3|chocolate|dark brown|5.25\n",
    "Baskin|4|4|strawberry|pink|5.25\n",
    "Robin|2|2|chocolate|light brown|4.75\n",
    "Robin|5|5|bubblegum|pink|4.75\n",
    "Robin|6|6|chocolate|dark brown|5.25\n",
    "sqlite> \n",
    "```"
   ]
  },
  {
   "cell_type": "markdown",
   "id": "d25354e9",
   "metadata": {},
   "source": [
    "#### Refining the join description\n",
    "\n",
    "The names of tables can be used to disambiguate, say if the columns have the same names in different tables.\n",
    "\n",
    "```\n",
    "select * from sales, cones where sales.Tid=cones.Id;\n",
    "```\n",
    "\n",
    "And, we can tailor the result with the expression.\n",
    "\n",
    "```\n",
    "select Flavor, Color, Price, Cashier, Id from sales, cones where sales.Tid=cones.Id;\n",
    "```\n",
    "\n",
    "And we could create this as a new, permanent table.\n",
    "\n",
    "```\n",
    "create table full as \n",
    "    select Flavor, Color, Price, Cashier, ID from sales, cones where sales.Tid=cones.Id;\n",
    "```"
   ]
  },
  {
   "cell_type": "markdown",
   "id": "11e0c3f2",
   "metadata": {},
   "source": [
    "## Creating and dropping tables\n",
    "\n",
    "```\n",
    "DROP TABLE <table name>\n",
    "```\n",
    "For example, create a new table of the join and drop it.\n",
    "\n",
    "```\n",
    "sqlite> create table full as \n",
    "   ...>     select Flavor, Color, Price, Cashier, ID from sales, cones where sales.TID=cones.ID;\n",
    "sqlite> .tables\n",
    "cones  full   sales\n",
    "sqlite> select * from full;\n",
    "Flavor|Color|Price|Cashier|ID\n",
    "strawberry|pink|3.55|Baskin|1\n",
    "chocolate|dark brown|5.25|Baskin|3\n",
    "strawberry|pink|5.25|Baskin|4\n",
    "chocolate|light brown|4.75|Robin|2\n",
    "bubblegum|pink|4.75|Robin|5\n",
    "chocolate|dark brown|5.25|Robin|6\n",
    "```\n",
    "\n",
    "```\n",
    "sqlite> drop table full;\n",
    "sqlite> .tables\n",
    "cones  sales\n",
    "```"
   ]
  },
  {
   "cell_type": "markdown",
   "id": "a45c8449",
   "metadata": {},
   "source": [
    "## Naming result columns\n",
    "\n",
    "```\n",
    "SELECT <expr> as <name> FROM <tables> WHERE <c-expr> GROUP BY <g-expr>\n",
    "\n",
    "```\n",
    "Create a table with a `Taste` column with two values: \"delicious\" and \"other\".\n",
    "\n",
    "```\n",
    "select \"delicious\" as Taste, Flavor, Color from cones where Flavor is \"chocolate\" union\n",
    "select \"other\", Flavor, Color from cones where Flavor is not \"chocolate\";\n",
    "```"
   ]
  },
  {
   "cell_type": "markdown",
   "id": "250926db",
   "metadata": {},
   "source": [
    "# Programming language APIs\n",
    "\n",
    "Database tables are seldom accessed from a command line as we've done in our interactive session.  They are used by passing queries to the database interpreter - typically underneath some application.  So, they are accessed from within the programming language via an *Application Programming Interface* or *API*.\n",
    "\n",
    "To learn more about an API and what it is used for, check out [this](https://medium.freecodecamp.org/what-is-an-api-in-english-please-b880a3214a82) link.\n",
    "\n",
    "Here's an example of the python API to sqlite3."
   ]
  },
  {
   "cell_type": "code",
   "execution_count": 16,
   "id": "d19f3a2d",
   "metadata": {
    "collapsed": true,
    "execution": {
     "iopub.execute_input": "2022-07-25T23:57:32.126470Z",
     "iopub.status.busy": "2022-07-25T23:57:32.126228Z",
     "iopub.status.idle": "2022-07-25T23:57:32.128939Z",
     "shell.execute_reply": "2022-07-25T23:57:32.128456Z"
    }
   },
   "outputs": [],
   "source": [
    "import sqlite3"
   ]
  },
  {
   "cell_type": "code",
   "execution_count": 17,
   "id": "911a657d",
   "metadata": {
    "collapsed": true,
    "execution": {
     "iopub.execute_input": "2022-07-25T23:57:32.131542Z",
     "iopub.status.busy": "2022-07-25T23:57:32.131337Z",
     "iopub.status.idle": "2022-07-25T23:57:32.134121Z",
     "shell.execute_reply": "2022-07-25T23:57:32.133624Z"
    }
   },
   "outputs": [],
   "source": [
    "icecream = sqlite3.connect('icecream.db')"
   ]
  },
  {
   "cell_type": "code",
   "execution_count": 18,
   "id": "29a9fc79",
   "metadata": {
    "execution": {
     "iopub.execute_input": "2022-07-25T23:57:32.136883Z",
     "iopub.status.busy": "2022-07-25T23:57:32.136658Z",
     "iopub.status.idle": "2022-07-25T23:57:32.555802Z",
     "shell.execute_reply": "2022-07-25T23:57:32.555249Z"
    }
   },
   "outputs": [],
   "source": [
    "icecream.execute('SELECT * FROM cones;')"
   ]
  },
  {
   "cell_type": "code",
   "execution_count": 19,
   "id": "e23b0006",
   "metadata": {
    "execution": {
     "iopub.execute_input": "2022-07-25T23:57:32.559363Z",
     "iopub.status.busy": "2022-07-25T23:57:32.559111Z",
     "iopub.status.idle": "2022-07-25T23:57:32.570499Z",
     "shell.execute_reply": "2022-07-25T23:57:32.569994Z"
    }
   },
   "outputs": [],
   "source": [
    "icecream.execute('SELECT DISTINCT Flavor FROM cones;').fetchall()"
   ]
  },
  {
   "cell_type": "code",
   "execution_count": 20,
   "id": "7e88a4da",
   "metadata": {
    "execution": {
     "iopub.execute_input": "2022-07-25T23:57:32.573315Z",
     "iopub.status.busy": "2022-07-25T23:57:32.573094Z",
     "iopub.status.idle": "2022-07-25T23:57:32.584491Z",
     "shell.execute_reply": "2022-07-25T23:57:32.583837Z"
    }
   },
   "outputs": [],
   "source": [
    "icecream.execute('SELECT * FROM cones WHERE Flavor is \"chocolate\";').fetchall()"
   ]
  },
  {
   "cell_type": "code",
   "execution_count": 21,
   "id": "3f64d6df",
   "metadata": {
    "collapsed": true,
    "execution": {
     "iopub.execute_input": "2022-07-25T23:57:32.587350Z",
     "iopub.status.busy": "2022-07-25T23:57:32.587123Z",
     "iopub.status.idle": "2022-07-25T23:57:32.589646Z",
     "shell.execute_reply": "2022-07-25T23:57:32.589185Z"
    }
   },
   "outputs": [],
   "source": [
    "# Be careful about filling in parameters of the query casually\n",
    "# as it may be open SQL injection attacks\n",
    "\n",
    "col = \"Flavor\""
   ]
  },
  {
   "cell_type": "code",
   "execution_count": 22,
   "id": "b8cedea3",
   "metadata": {
    "execution": {
     "iopub.execute_input": "2022-07-25T23:57:32.592237Z",
     "iopub.status.busy": "2022-07-25T23:57:32.591989Z",
     "iopub.status.idle": "2022-07-25T23:57:32.603741Z",
     "shell.execute_reply": "2022-07-25T23:57:32.603259Z"
    }
   },
   "outputs": [],
   "source": [
    "# This looks like it is providing just the list of flavors\n",
    "\n",
    "icecream.execute('SELECT DISTINCT %s FROM cones;' % col).fetchall()"
   ]
  },
  {
   "cell_type": "code",
   "execution_count": 23,
   "id": "8dacf9aa",
   "metadata": {
    "collapsed": true,
    "execution": {
     "iopub.execute_input": "2022-07-25T23:57:32.606490Z",
     "iopub.status.busy": "2022-07-25T23:57:32.606248Z",
     "iopub.status.idle": "2022-07-25T23:57:32.608804Z",
     "shell.execute_reply": "2022-07-25T23:57:32.608363Z"
    }
   },
   "outputs": [],
   "source": [
    "# What if an attacker managed this?  Go back and evaluate the query above\n",
    "col = \"*\""
   ]
  },
  {
   "cell_type": "code",
   "execution_count": 24,
   "id": "3ffcdc1d",
   "metadata": {
    "execution": {
     "iopub.execute_input": "2022-07-25T23:57:32.611420Z",
     "iopub.status.busy": "2022-07-25T23:57:32.611172Z",
     "iopub.status.idle": "2022-07-25T23:57:32.622817Z",
     "shell.execute_reply": "2022-07-25T23:57:32.622301Z"
    }
   },
   "outputs": [],
   "source": [
    "# Query parameter substitution allows the parameters to be filled in\n",
    "# at the database query processor.\n",
    "\n",
    "icecream.execute('SELECT * FROM cones WHERE Flavor is ?;', (\"chocolate\",)).fetchall()"
   ]
  },
  {
   "cell_type": "code",
   "execution_count": 25,
   "id": "cb9b7b8a",
   "metadata": {
    "collapsed": true,
    "execution": {
     "iopub.execute_input": "2022-07-25T23:57:32.625676Z",
     "iopub.status.busy": "2022-07-25T23:57:32.625458Z",
     "iopub.status.idle": "2022-07-25T23:57:32.628278Z",
     "shell.execute_reply": "2022-07-25T23:57:32.627815Z"
    }
   },
   "outputs": [],
   "source": [
    "# Building abstractions that hide the database\n",
    "def flavor(db, flv):\n",
    "    return db.execute('SELECT * FROM cones WHERE Flavor is ?;', (flv,)).fetchall()"
   ]
  },
  {
   "cell_type": "code",
   "execution_count": 26,
   "id": "dd435697",
   "metadata": {
    "execution": {
     "iopub.execute_input": "2022-07-25T23:57:32.630871Z",
     "iopub.status.busy": "2022-07-25T23:57:32.630622Z",
     "iopub.status.idle": "2022-07-25T23:57:32.646493Z",
     "shell.execute_reply": "2022-07-25T23:57:32.646044Z"
    }
   },
   "outputs": [],
   "source": [
    "flavor(icecream, \"chocolate\")"
   ]
  },
  {
   "cell_type": "markdown",
   "id": "9a6e5f02",
   "metadata": {},
   "source": [
    "## SQL Tables - a new class\n",
    "\n",
    "The following section is optional and for Python experts (this goes beyond the scope of Data8X programming). Let's derive a class from Tables that allows Tables to be read or written to a database.\n",
    "\n",
    "This illustrates:\n",
    "* Class inheritance to extend functionality\n",
    "* Use of helper functions to make coding clear and abstract messy details of a particular implementation.\n",
    "* Exception handling to deal with behavior of underlying module\n",
    "* classmethods and instance methods"
   ]
  },
  {
   "cell_type": "code",
   "execution_count": 27,
   "id": "14c256a3",
   "metadata": {
    "collapsed": true,
    "execution": {
     "iopub.execute_input": "2022-07-25T23:57:32.649315Z",
     "iopub.status.busy": "2022-07-25T23:57:32.649075Z",
     "iopub.status.idle": "2022-07-25T23:57:32.654348Z",
     "shell.execute_reply": "2022-07-25T23:57:32.653849Z"
    }
   },
   "outputs": [],
   "source": [
    "# sqlite3 Helper functions for the SQL_Table class\n",
    "\n",
    "import sqlite3\n",
    "def build_list(s):\n",
    "    \"\"\"Return string representing column name tuple.\"\"\"\n",
    "    res = \"(\"\n",
    "    for v in s[:-1]:\n",
    "        res = res + v + \", \"\n",
    "    res = res + s[-1] + \")\"\n",
    "    return res\n",
    "\n",
    "def build_q(n):\n",
    "    \"\"\"Return string representing parameter substitution tuple.\"\"\"\n",
    "    return \"(\" + \"?, \"*(n-1) + \"?)\"\n",
    "\n",
    "def sqltable_exists(dbconn, table):\n",
    "    \"\"\"Return schema as SQL create statement if table exists.\"\"\"\n",
    "    create = dbconn.execute('select sql from sqlite_master where name=?;', \n",
    "                          (table,)).fetchall()\n",
    "    return create[0][0] if create else False\n",
    "\n",
    "def sqlcol_names(dbconn, table):\n",
    "    \"\"\"Return list of column names of a SQL table.\"\"\"\n",
    "    cursor = dbconn.execute('SELECT * FROM %s LIMIT 1;' % table)\n",
    "    col_names = [col[0] for col in cursor.description]\n",
    "    return col_names\n",
    "\n",
    "def sqlexec(dbconn, query, verbose=False):\n",
    "    \"\"\"Wrap verbose processing around SQL query.\"\"\"\n",
    "    if verbose:\n",
    "        print(query)\n",
    "    return dbconn.execute(query)"
   ]
  },
  {
   "cell_type": "markdown",
   "id": "dec730cd",
   "metadata": {},
   "source": [
    "### SQL_Table Class"
   ]
  },
  {
   "cell_type": "code",
   "execution_count": 28,
   "id": "7d548368",
   "metadata": {
    "collapsed": true,
    "execution": {
     "iopub.execute_input": "2022-07-25T23:57:32.657154Z",
     "iopub.status.busy": "2022-07-25T23:57:32.656949Z",
     "iopub.status.idle": "2022-07-25T23:57:32.663265Z",
     "shell.execute_reply": "2022-07-25T23:57:32.662778Z"
    }
   },
   "outputs": [],
   "source": [
    "class SQL_Table(Table):\n",
    "    \"\"\" Extend Table class with methods to read/write a Table\n",
    "    from/to a table in a SQLite3 database.\n",
    "    \"\"\"\n",
    "    @classmethod\n",
    "    def read(cls, filepath, table, verbose=False):\n",
    "        \"\"\"Create a SQL_Table by reading a table from a SQL database.\"\"\"\n",
    "        \n",
    "        dbconn = sqlite3.connect(filepath, \n",
    "                                 detect_types=sqlite3.PARSE_COLNAMES)\n",
    "        \n",
    "        col_names = sqlcol_names(dbconn, table)\n",
    "        rows = sqlexec(dbconn,'SELECT * from %s;' % table, verbose).fetchall()\n",
    "        dbconn.close()\n",
    "        return cls(col_names).with_rows(rows)\n",
    "    \n",
    "    def write(self, filepath, table, verbose=False, overwrite=True):\n",
    "        \"\"\"Write a Table into a SQL database as a SQL table.\"\"\"\n",
    "        \n",
    "        dbconn = sqlite3.connect(filepath)\n",
    "        # If a table of this name exists, set it aside\n",
    "        old_table = sqltable_exists(dbconn, table)\n",
    "        if overwrite and old_table:\n",
    "            backup = table+\"_bkp\"\n",
    "            if sqltable_exists(dbconn, backup):\n",
    "                sqlexec(dbconn, 'DROP TABLE %s;' % backup, verbose)\n",
    "            sqlexec(dbconn, 'ALTER TABLE %s RENAME TO %s;' % (table, backup), verbose)\n",
    "\n",
    "        # Create table and insert each row\n",
    "        cols = build_list(self.labels)\n",
    "        sqlexec(dbconn, \"CREATE TABLE %s %s;\" % (table, cols), verbose)\n",
    "        for row in self.rows:  \n",
    "            sqlexec(dbconn, 'INSERT INTO %s VALUES %s;' % (table, tuple(row)), verbose)\n",
    "        dbconn.commit()\n",
    "        \n",
    "        # clean up table, if was set aside\n",
    "        if overwrite and old_table:\n",
    "            try:\n",
    "                sqlexec(dbconn, 'DROP TABLE %s;' % backup, verbose)\n",
    "            except:\n",
    "                print('Unable to drop %s', backup)\n",
    "        dbconn.close()\n",
    "        \n",
    "    @classmethod\n",
    "    def cast(cls, table):\n",
    "        \"\"\"Return a SQL_Table version of a Table.\"\"\"\n",
    "        return cls().with_columns(zip(table.labels, table.columns))"
   ]
  },
  {
   "cell_type": "code",
   "execution_count": 29,
   "id": "6bd1490a",
   "metadata": {
    "execution": {
     "iopub.execute_input": "2022-07-25T23:57:32.665916Z",
     "iopub.status.busy": "2022-07-25T23:57:32.665666Z",
     "iopub.status.idle": "2022-07-25T23:57:32.699996Z",
     "shell.execute_reply": "2022-07-25T23:57:32.699271Z"
    }
   },
   "outputs": [],
   "source": [
    "mycones = SQL_Table.read(\"icecream.db\", \"cones\", verbose=True)\n",
    "mycones"
   ]
  },
  {
   "cell_type": "code",
   "execution_count": 30,
   "id": "504d2c97",
   "metadata": {
    "execution": {
     "iopub.execute_input": "2022-07-25T23:57:32.702783Z",
     "iopub.status.busy": "2022-07-25T23:57:32.702545Z",
     "iopub.status.idle": "2022-07-25T23:57:32.713447Z",
     "shell.execute_reply": "2022-07-25T23:57:32.712979Z"
    }
   },
   "outputs": [],
   "source": [
    "type(mycones)"
   ]
  },
  {
   "cell_type": "code",
   "execution_count": 31,
   "id": "54d3f4bf",
   "metadata": {
    "execution": {
     "iopub.execute_input": "2022-07-25T23:57:32.716260Z",
     "iopub.status.busy": "2022-07-25T23:57:32.716048Z",
     "iopub.status.idle": "2022-07-25T23:57:32.727293Z",
     "shell.execute_reply": "2022-07-25T23:57:32.726831Z"
    }
   },
   "outputs": [],
   "source": [
    "db = mycones.write(\"test.db\", \"cones\", verbose=True)"
   ]
  },
  {
   "cell_type": "code",
   "execution_count": 32,
   "id": "4b394e3a",
   "metadata": {
    "execution": {
     "iopub.execute_input": "2022-07-25T23:57:32.729953Z",
     "iopub.status.busy": "2022-07-25T23:57:32.729697Z",
     "iopub.status.idle": "2022-07-25T23:57:32.750107Z",
     "shell.execute_reply": "2022-07-25T23:57:32.749570Z"
    }
   },
   "outputs": [],
   "source": [
    "SQL_Table.read(\"test.db\", \"cones\")"
   ]
  },
  {
   "cell_type": "code",
   "execution_count": 33,
   "id": "221647e3",
   "metadata": {
    "collapsed": true,
    "execution": {
     "iopub.execute_input": "2022-07-25T23:57:32.754606Z",
     "iopub.status.busy": "2022-07-25T23:57:32.754354Z",
     "iopub.status.idle": "2022-07-25T23:57:32.759276Z",
     "shell.execute_reply": "2022-07-25T23:57:32.758689Z"
    }
   },
   "outputs": [],
   "source": [
    "scones = SQL_Table.cast(cones)\n",
    "scones.write(\"cones.db\", \"cones\")"
   ]
  },
  {
   "cell_type": "code",
   "execution_count": 34,
   "id": "437d6a99",
   "metadata": {
    "execution": {
     "iopub.execute_input": "2022-07-25T23:57:32.762071Z",
     "iopub.status.busy": "2022-07-25T23:57:32.761805Z",
     "iopub.status.idle": "2022-07-25T23:57:32.766639Z",
     "shell.execute_reply": "2022-07-25T23:57:32.765959Z"
    }
   },
   "outputs": [],
   "source": [
    "SQL_Table.read(\"cones.db\", \"cones\")"
   ]
  },
  {
   "cell_type": "markdown",
   "id": "88965038",
   "metadata": {},
   "source": [
    "## A larger example - NBA Players\n",
    "We are now going to use a different dataset for more examples. This data set is related to NBA Players and their salary and has information such as the player name, the position they play, what team they are on, and their salary. "
   ]
  },
  {
   "cell_type": "code",
   "execution_count": 35,
   "id": "04cbe804",
   "metadata": {
    "execution": {
     "iopub.execute_input": "2022-07-25T23:57:32.769873Z",
     "iopub.status.busy": "2022-07-25T23:57:32.769635Z",
     "iopub.status.idle": "2022-07-25T23:57:33.795732Z",
     "shell.execute_reply": "2022-07-25T23:57:33.794958Z"
    }
   },
   "outputs": [],
   "source": [
    "# Table constructor method\n",
    "\n",
    "# NBA player data from 15-16 season\n",
    "nba = SQL_Table.read_table('nba_salaries.csv')\n",
    "nba"
   ]
  },
  {
   "cell_type": "markdown",
   "id": "3499c938",
   "metadata": {},
   "source": [
    "SQL equivalent\n",
    "\n",
    "sqlite3 non-standard way to create a table from a csv file\n",
    "\n",
    "```\n",
    ".mode csv\n",
    ".import nba_salaries.csv nba_raw\n",
    "```\n",
    "\n",
    "Now we have a real table to work with\n",
    "```\n",
    "sqlite>.tables\n",
    "nba\n",
    "sqlite> .headers on\n",
    "sqlite> select * from nba_raw limit 10;\n",
    "```\n",
    "\n",
    "Caution: Here we have specified `limit` to reduce the size of the output.  Unlike the `__repr__` of `Table`, this is actually limiting the size of the returned table value. In non-interactive use, you would seldom want to do this."
   ]
  },
  {
   "cell_type": "code",
   "execution_count": 36,
   "id": "24309713",
   "metadata": {
    "collapsed": true,
    "execution": {
     "iopub.execute_input": "2022-07-25T23:57:33.799198Z",
     "iopub.status.busy": "2022-07-25T23:57:33.798940Z",
     "iopub.status.idle": "2022-07-25T23:57:33.810369Z",
     "shell.execute_reply": "2022-07-25T23:57:33.809875Z"
    }
   },
   "outputs": [],
   "source": [
    "nba.write(\"nba_salaries.db\", \"nba\")"
   ]
  },
  {
   "cell_type": "code",
   "execution_count": 37,
   "id": "7516c2e4",
   "metadata": {
    "collapsed": true,
    "execution": {
     "iopub.execute_input": "2022-07-25T23:57:33.813089Z",
     "iopub.status.busy": "2022-07-25T23:57:33.812846Z",
     "iopub.status.idle": "2022-07-25T23:57:33.815840Z",
     "shell.execute_reply": "2022-07-25T23:57:33.815278Z"
    }
   },
   "outputs": [],
   "source": [
    "nba_db = sqlite3.connect(\"nba_salaries.db\")"
   ]
  },
  {
   "cell_type": "code",
   "execution_count": 38,
   "id": "28d03894",
   "metadata": {
    "execution": {
     "iopub.execute_input": "2022-07-25T23:57:33.818911Z",
     "iopub.status.busy": "2022-07-25T23:57:33.818627Z",
     "iopub.status.idle": "2022-07-25T23:57:33.830410Z",
     "shell.execute_reply": "2022-07-25T23:57:33.829880Z"
    }
   },
   "outputs": [],
   "source": [
    "nba.select(['PLAYER', 'POSITION', 'TEAM'])"
   ]
  },
  {
   "cell_type": "markdown",
   "id": "0b41f4bd",
   "metadata": {},
   "source": [
    "SQL equivalent\n",
    "\n",
    "Specify columns by sequence of names separated by \",\", instead of \"*\".\n",
    "\n",
    "```\n",
    "select PLAYER, POSITION, TEAM from nba_raw limit 10;\n",
    "\n",
    "sqlite> select PLAYER, POSITION, TEAM from nba limit 10;\n",
    "PLAYER,POSITION,TEAM\n",
    "\"Paul Millsap\",PF,\"Atlanta Hawks\"\n",
    "\"Al Horford\",C,\"Atlanta Hawks\"\n",
    "\"Tiago Splitter\",C,\"Atlanta Hawks\"\n",
    "\"Jeff Teague\",PG,\"Atlanta Hawks\"\n",
    "\"Kyle Korver\",SG,\"Atlanta Hawks\"\n",
    "\"Thabo Sefolosha\",SF,\"Atlanta Hawks\"\n",
    "\"Mike Scott\",PF,\"Atlanta Hawks\"\n",
    "\"Kent Bazemore\",SF,\"Atlanta Hawks\"\n",
    "\"Dennis Schroder\",PG,\"Atlanta Hawks\"\n",
    "\"Tim Hardaway Jr.\",SG,\"Atlanta Hawks\"\n",
    "sqlite> \n",
    "```"
   ]
  },
  {
   "cell_type": "code",
   "execution_count": 39,
   "id": "b4b740fb",
   "metadata": {
    "execution": {
     "iopub.execute_input": "2022-07-25T23:57:33.833195Z",
     "iopub.status.busy": "2022-07-25T23:57:33.832940Z",
     "iopub.status.idle": "2022-07-25T23:57:33.845006Z",
     "shell.execute_reply": "2022-07-25T23:57:33.844472Z"
    }
   },
   "outputs": [],
   "source": [
    "nba_db.execute(\"select PLAYER, POSITION, TEAM from nba;\").fetchall()"
   ]
  },
  {
   "cell_type": "code",
   "execution_count": 40,
   "id": "7150bb8d",
   "metadata": {
    "execution": {
     "iopub.execute_input": "2022-07-25T23:57:33.847775Z",
     "iopub.status.busy": "2022-07-25T23:57:33.847548Z",
     "iopub.status.idle": "2022-07-25T23:57:33.858566Z",
     "shell.execute_reply": "2022-07-25T23:57:33.858030Z"
    }
   },
   "outputs": [],
   "source": [
    "nba.where('TEAM', 'Atlanta Hawks')"
   ]
  },
  {
   "cell_type": "markdown",
   "id": "3ac6527f",
   "metadata": {},
   "source": [
    "SQL equivalent\n",
    "\n",
    "```\n",
    "select * from nba_raw where TEAM = \"Atlanta Hawks\";\n",
    "```\n"
   ]
  },
  {
   "cell_type": "code",
   "execution_count": 41,
   "id": "9a2e6c10",
   "metadata": {
    "execution": {
     "iopub.execute_input": "2022-07-25T23:57:33.861581Z",
     "iopub.status.busy": "2022-07-25T23:57:33.861360Z",
     "iopub.status.idle": "2022-07-25T23:57:33.872720Z",
     "shell.execute_reply": "2022-07-25T23:57:33.872204Z"
    }
   },
   "outputs": [],
   "source": [
    "nba_db.execute('select * from nba where TEAM = \"Atlanta Hawks\";').fetchall()"
   ]
  },
  {
   "cell_type": "code",
   "execution_count": 42,
   "id": "eef109d8",
   "metadata": {
    "execution": {
     "iopub.execute_input": "2022-07-25T23:57:33.875413Z",
     "iopub.status.busy": "2022-07-25T23:57:33.875179Z",
     "iopub.status.idle": "2022-07-25T23:57:33.886653Z",
     "shell.execute_reply": "2022-07-25T23:57:33.886118Z"
    },
    "scrolled": true
   },
   "outputs": [],
   "source": [
    "nba.where(nba['SALARY'] > 15)"
   ]
  },
  {
   "cell_type": "code",
   "execution_count": 43,
   "id": "9f5b3744",
   "metadata": {
    "execution": {
     "iopub.execute_input": "2022-07-25T23:57:33.889555Z",
     "iopub.status.busy": "2022-07-25T23:57:33.889281Z",
     "iopub.status.idle": "2022-07-25T23:57:33.900692Z",
     "shell.execute_reply": "2022-07-25T23:57:33.900208Z"
    }
   },
   "outputs": [],
   "source": [
    "nba_db.execute('select PLAYER, SALARY from nba where SALARY > 15').fetchall()"
   ]
  },
  {
   "cell_type": "markdown",
   "id": "c5fcb9c4",
   "metadata": {},
   "source": [
    "## Exploring this in the sqlite3 session\n",
    "\n",
    "Try this using the nba_raw table in the nba_salaries database imported as above.  You will see some of the common subtleties of data types.\n",
    "\n",
    "```\n",
    "select PLAYER, SALARY from nba_raw where SALARY > 10 limit 10;\n",
    "\n",
    "select PLAYER, SALARY from nba_raw where cast(SALARY as int) > 10 limit 10;\n",
    "```\n",
    "Why isn't this working?\n",
    "\n",
    "At the command line we could do\n",
    "```\n",
    ".schema raw_nba\n",
    "```\n",
    "But within SQL itself we can get to this information because sqlite3\n",
    "holds its own information in (hidden) tables.\n",
    "\n",
    "```\n",
    "select * from sqlite_master;\n",
    "select sql from sqlite_master where name=\"nba_raw\";\n",
    "```\n",
    "We can create a new table from an existing one and get the type specified in the process.\n",
    "\n",
    "```\n",
    "create table nba as\n",
    "    select PLAYER, POSITION, TEAM, cast(SALARY as REAL) as SALARY from nba_raw;\n",
    "    \n",
    "select * from nba where SALARY > 15 order by SALARY;\n",
    "```"
   ]
  },
  {
   "cell_type": "markdown",
   "id": "12e10e1a",
   "metadata": {},
   "source": [
    "### LIKE operator\n",
    "\n",
    "```\n",
    "select * from nba where TEAM like \"Atlanta%\";\n",
    "```\n",
    "Try this out\n",
    "```\n",
    "sqlite> select * from nba where TEAM like \"Atlanta%\";\n",
    "PLAYER,POSITION,TEAM,SALARY\n",
    "\"Paul Millsap\",PF,\"Atlanta Hawks\",18.671659\n",
    "\"Al Horford\",C,\"Atlanta Hawks\",12.0\n",
    "\"Tiago Splitter\",C,\"Atlanta Hawks\",9.75625\n",
    "\"Jeff Teague\",PG,\"Atlanta Hawks\",8.0\n",
    "\"Kyle Korver\",SG,\"Atlanta Hawks\",5.746479\n",
    "\"Thabo Sefolosha\",SF,\"Atlanta Hawks\",4.0\n",
    "\"Mike Scott\",PF,\"Atlanta Hawks\",3.333333\n",
    "\"Kent Bazemore\",SF,\"Atlanta Hawks\",2.0\n",
    "\"Dennis Schroder\",PG,\"Atlanta Hawks\",1.7634\n",
    "\"Tim Hardaway Jr.\",SG,\"Atlanta Hawks\",1.3045200000000001\n",
    "\"Walter Tavares\",C,\"Atlanta Hawks\",1.0\n",
    "\"Jason Richardson\",SG,\"Atlanta Hawks\",0.947276\n",
    "\"Lamar Patterson\",SG,\"Atlanta Hawks\",0.525093\n",
    "\"Terran Petteway\",SG,\"Atlanta Hawks\",0.525093\n",
    "sqlite> \n",
    "```"
   ]
  },
  {
   "cell_type": "code",
   "execution_count": 44,
   "id": "f0ff8904",
   "metadata": {
    "collapsed": true,
    "execution": {
     "iopub.execute_input": "2022-07-25T23:57:33.903693Z",
     "iopub.status.busy": "2022-07-25T23:57:33.903450Z",
     "iopub.status.idle": "2022-07-25T23:57:33.915037Z",
     "shell.execute_reply": "2022-07-25T23:57:33.914533Z"
    }
   },
   "outputs": [],
   "source": [
    "nba_db.execute('select * from nba where TEAM like \"Atlanta%\";').fetchall()"
   ]
  },
  {
   "cell_type": "markdown",
   "id": "4c52440e",
   "metadata": {},
   "source": [
    "### Further Reading\n",
    "To learn more about SQL and get some more practice with it, feel free to check out the following links as resources:\n",
    "* [SQL Zoo](https://sqlzoo.net/)\n",
    "* [Mode Analytics](https://mode.com/)\n",
    "* [W3Schools](https://www.w3resource.com/sql/tutorials.php)\n",
    "\n",
    "Stack Overflow and Google are also great ways to learn more from people who are also working with and learning about SQL as well, definitely use them in your path to learning more about data science and SQL!"
   ]
  },
  {
   "cell_type": "code",
   "execution_count": null,
   "id": "1c1a9a27",
   "metadata": {
    "collapsed": true
   },
   "outputs": [],
   "source": []
  },
  {
   "cell_type": "markdown",
   "id": "8e3c6c1b",
   "metadata": {},
   "source": [
    "---"
   ]
  },
  {
   "cell_type": "markdown",
   "id": "e43c232e",
   "metadata": {},
   "source": [
    "## Finishing up\n",
    "\n",
    "**Important submission information:** \n",
    "- Be sure to run the tests and verify that they all pass by running the `grader.check_all()` cell below,\n",
    "- Save your progress by choosing the **Save and Checkpoint** item in the **File** menu, \n",
    "- Submit your work by clicking the **Submit** button in the toolbar at the top of notebook. \n",
    "- Download a zip file of this notebook by running the last cell below. **Note:** Be sure to run all the tests before exporting so that all images/graphs appear in the exported notebook. \n",
    "\n",
    "**Please save before submitting!**"
   ]
  },
  {
   "cell_type": "code",
   "execution_count": 45,
   "id": "77a1bd6b",
   "metadata": {
    "execution": {
     "iopub.execute_input": "2022-07-25T23:57:33.920185Z",
     "iopub.status.busy": "2022-07-25T23:57:33.919962Z",
     "iopub.status.idle": "2022-07-25T23:57:33.930635Z",
     "shell.execute_reply": "2022-07-25T23:57:33.930131Z"
    }
   },
   "outputs": [],
   "source": [
    "# To double-check your work, the cell below will rerun all of the autograder tests.\n",
    "grader.check_all()"
   ]
  },
  {
   "cell_type": "code",
   "execution_count": 46,
   "id": "83dece64",
   "metadata": {
    "execution": {
     "iopub.execute_input": "2022-07-25T23:57:33.933333Z",
     "iopub.status.busy": "2022-07-25T23:57:33.933101Z",
     "iopub.status.idle": "2022-07-25T23:57:33.944874Z",
     "shell.execute_reply": "2022-07-25T23:57:33.944384Z"
    }
   },
   "outputs": [],
   "source": [
    "# Save your notebook first, then run this cell to export your submission.\n",
    "grader.export(pdf=False)"
   ]
  }
 ],
 "metadata": {
  "kernelspec": {
   "display_name": "Python 3",
   "language": "python",
   "name": "python3"
  },
  "language_info": {
   "codemirror_mode": {
    "name": "ipython",
    "version": 3
   },
   "file_extension": ".py",
   "mimetype": "text/x-python",
   "name": "python",
   "nbconvert_exporter": "python",
   "pygments_lexer": "ipython3",
   "version": "3.9.7"
  },
  "course": "8x",
  "section": "reference",
  "lab": "datascience-to-SQL"
 },
 "nbformat": 4,
 "nbformat_minor": 5
}