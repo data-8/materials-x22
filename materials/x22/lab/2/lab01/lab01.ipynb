{
 "cells": [
  {
   "cell_type": "code",
   "execution_count": null,
   "id": "db5fff5f",
   "metadata": {
    "deletable": false,
    "editable": false
   },
   "outputs": [],
   "source": [
    "# Initialize Otter\n",
    "import otter\n",
    "grader = otter.Notebook(\"lab01.ipynb\")"
   ]
  },
  {
   "cell_type": "markdown",
   "id": "1354a2cb",
   "metadata": {},
   "source": [
    "# Lab 1: Simulations\n",
    "\n",
    "Welcome to Lab 1! \n",
    "\n",
    "We will go over [iteration](https://www.inferentialthinking.com/chapters/09/2/Iteration.html) and [simulations](https://www.inferentialthinking.com/chapters/09/3/Simulation.html), as well as introduce the concept of [randomness](https://www.inferentialthinking.com/chapters/09/Randomness.html)."
   ]
  },
  {
   "cell_type": "code",
   "execution_count": 1,
   "id": "b850aead",
   "metadata": {
    "execution": {
     "iopub.execute_input": "2022-07-17T16:32:01.075316Z",
     "iopub.status.busy": "2022-07-17T16:32:01.074745Z",
     "iopub.status.idle": "2022-07-17T16:32:04.047930Z",
     "shell.execute_reply": "2022-07-17T16:32:04.047227Z"
    }
   },
   "outputs": [],
   "source": [
    "# Run this cell, but please don't change it.\n",
    "\n",
    "# These lines import the Numpy and Datascience modules.\n",
    "import numpy as np\n",
    "from datascience import *\n",
    "\n",
    "# These lines do some fancy plotting magic\n",
    "import matplotlib\n",
    "%matplotlib inline\n",
    "import matplotlib.pyplot as plt\n",
    "plt.style.use('fivethirtyeight')\n",
    "\n",
    "import d8error"
   ]
  },
  {
   "cell_type": "markdown",
   "id": "a28efbd2",
   "metadata": {},
   "source": [
    "## 1. Nachos and Conditionals"
   ]
  },
  {
   "cell_type": "markdown",
   "id": "5aace2bf",
   "metadata": {},
   "source": [
    "In Python, the boolean data type contains only two unique values:  `True` and `False`. Expressions containing comparison operators such as `<` (less than), `>` (greater than), and `==` (equal to) evaluate to Boolean values. A list of common comparison operators can be found below!\n",
    "\n",
    "<img src=\"comparisons.png\">"
   ]
  },
  {
   "cell_type": "markdown",
   "id": "600540e9",
   "metadata": {},
   "source": [
    "Run the cell below to see an example of a comparison operator in action."
   ]
  },
  {
   "cell_type": "code",
   "execution_count": 2,
   "id": "d0ae142a",
   "metadata": {
    "execution": {
     "iopub.execute_input": "2022-07-17T16:32:04.052623Z",
     "iopub.status.busy": "2022-07-17T16:32:04.052346Z",
     "iopub.status.idle": "2022-07-17T16:32:04.057673Z",
     "shell.execute_reply": "2022-07-17T16:32:04.057205Z"
    }
   },
   "outputs": [],
   "source": [
    "3 > (1 + 1)"
   ]
  },
  {
   "cell_type": "markdown",
   "id": "acbc6530",
   "metadata": {},
   "source": [
    "We can even assign the result of a comparison operation to a variable."
   ]
  },
  {
   "cell_type": "code",
   "execution_count": 3,
   "id": "98d7dfff",
   "metadata": {
    "execution": {
     "iopub.execute_input": "2022-07-17T16:32:04.061024Z",
     "iopub.status.busy": "2022-07-17T16:32:04.060695Z",
     "iopub.status.idle": "2022-07-17T16:32:04.064179Z",
     "shell.execute_reply": "2022-07-17T16:32:04.063668Z"
    }
   },
   "outputs": [],
   "source": [
    "result = 10 / 2 == 5\n",
    "result"
   ]
  },
  {
   "cell_type": "markdown",
   "id": "f1eb9c39",
   "metadata": {},
   "source": [
    "Arrays are compatible with comparison operators. The output is an array of boolean values."
   ]
  },
  {
   "cell_type": "code",
   "execution_count": 4,
   "id": "3993d396",
   "metadata": {
    "execution": {
     "iopub.execute_input": "2022-07-17T16:32:04.067646Z",
     "iopub.status.busy": "2022-07-17T16:32:04.067385Z",
     "iopub.status.idle": "2022-07-17T16:32:04.071244Z",
     "shell.execute_reply": "2022-07-17T16:32:04.070782Z"
    }
   },
   "outputs": [],
   "source": [
    "make_array(1, 5, 7, 8, 3, -1) > 3"
   ]
  },
  {
   "cell_type": "markdown",
   "id": "33440b82",
   "metadata": {},
   "source": [
    "One day, when you come home after a long week, you see a hot bowl of nachos waiting on the dining table! Let's say that whenever you take a nacho from the bowl, it will either have only **cheese**, only **salsa**, **both** cheese and salsa, or **neither** cheese nor salsa (a sad tortilla chip indeed). \n",
    "\n",
    "Let's try and simulate taking nachos from the bowl at random using the function, `np.random.choice(...)`."
   ]
  },
  {
   "cell_type": "markdown",
   "id": "cb3b4c7f",
   "metadata": {},
   "source": [
    "### `np.random.choice`\n",
    "\n",
    "`np.random.choice` picks one item at random from the given array. It is equally likely to pick any of the items. Run the cell below several times, and observe how the results change."
   ]
  },
  {
   "cell_type": "code",
   "execution_count": 5,
   "id": "479fe0b9",
   "metadata": {
    "execution": {
     "iopub.execute_input": "2022-07-17T16:32:04.074390Z",
     "iopub.status.busy": "2022-07-17T16:32:04.074088Z",
     "iopub.status.idle": "2022-07-17T16:32:04.078008Z",
     "shell.execute_reply": "2022-07-17T16:32:04.077514Z"
    }
   },
   "outputs": [],
   "source": [
    "nachos = make_array('cheese', 'salsa', 'both', 'neither')\n",
    "np.random.choice(nachos)"
   ]
  },
  {
   "cell_type": "markdown",
   "id": "06635fd2",
   "metadata": {},
   "source": [
    "To repeat this process multiple times, pass in an int `n` as the second argument to return `n` different random choices. By default, `np.random.choice` samples **with replacement** and returns an *array* of items. Sampling **with replacement** means if we sample `n` times, each time, every element has an equal chance of being selected.\n",
    "\n",
    "Run the next cell to see an example of sampling with replacement 10 times from the `nachos` array."
   ]
  },
  {
   "cell_type": "code",
   "execution_count": 6,
   "id": "7dc9312e",
   "metadata": {
    "execution": {
     "iopub.execute_input": "2022-07-17T16:32:04.081038Z",
     "iopub.status.busy": "2022-07-17T16:32:04.080818Z",
     "iopub.status.idle": "2022-07-17T16:32:04.084612Z",
     "shell.execute_reply": "2022-07-17T16:32:04.084158Z"
    }
   },
   "outputs": [],
   "source": [
    "np.random.choice(nachos, 10)"
   ]
  },
  {
   "cell_type": "markdown",
   "id": "ec0803fb",
   "metadata": {},
   "source": [
    "To count the number of times a certain type of nacho is randomly chosen, we can use `np.count_nonzero`"
   ]
  },
  {
   "cell_type": "markdown",
   "id": "6ef32837",
   "metadata": {},
   "source": [
    "### `np.count_nonzero`\n",
    "\n",
    "`np.count_nonzero` counts the number of non-zero values that appear in an array. When an array of boolean values are passed through the function, it will count the number of `True` values (remember that in Python, `True` is coded as 1 and `False` is coded as 0.)\n",
    "\n",
    "Run the next cell to see an example that uses `np.count_nonzero`."
   ]
  },
  {
   "cell_type": "code",
   "execution_count": 7,
   "id": "a2a12d4b",
   "metadata": {
    "execution": {
     "iopub.execute_input": "2022-07-17T16:32:04.088147Z",
     "iopub.status.busy": "2022-07-17T16:32:04.087846Z",
     "iopub.status.idle": "2022-07-17T16:32:04.091398Z",
     "shell.execute_reply": "2022-07-17T16:32:04.090961Z"
    }
   },
   "outputs": [],
   "source": [
    "np.count_nonzero(make_array(True, False, False, True, True))"
   ]
  },
  {
   "cell_type": "markdown",
   "id": "63c26e94",
   "metadata": {
    "deletable": false,
    "editable": false
   },
   "source": [
    "**Question 1.1** Assume we took ten nachos at random, and stored the results in an array called `ten_nachos` as done below. Find the number of nachos with only cheese using code (do not hardcode the answer).  \n",
    "\n",
    "*Hint:* Our solution involves a comparison operator (e.g. `==`, `<`, ...) and the `np.count_nonzero` method.\n",
    "\n",
    "<!--\n",
    "BEGIN QUESTION\n",
    "name: q11\n",
    "-->"
   ]
  },
  {
   "cell_type": "code",
   "execution_count": 8,
   "id": "0a8bcf70",
   "metadata": {
    "execution": {
     "iopub.execute_input": "2022-07-17T16:32:04.094504Z",
     "iopub.status.busy": "2022-07-17T16:32:04.094279Z",
     "iopub.status.idle": "2022-07-17T16:32:04.098079Z",
     "shell.execute_reply": "2022-07-17T16:32:04.097643Z"
    }
   },
   "outputs": [],
   "source": [
    "ten_nachos = make_array('neither', 'cheese', 'both', 'both', 'cheese', 'salsa', 'both', 'neither', 'cheese', 'both')\n",
    "number_cheese = ...\n",
    "number_cheese"
   ]
  },
  {
   "cell_type": "code",
   "execution_count": null,
   "id": "22512838",
   "metadata": {
    "deletable": false,
    "editable": false
   },
   "outputs": [],
   "source": [
    "grader.check(\"q11\")"
   ]
  },
  {
   "cell_type": "markdown",
   "id": "479c70c9",
   "metadata": {},
   "source": [
    "**Conditional Statements**\n",
    "\n",
    "A conditional statement is a multi-line statement that allows Python to choose among different alternatives based on the truth value of an expression.\n",
    "\n",
    "Here is a basic example.\n",
    "\n",
    "```\n",
    "def sign(x):\n",
    "    if x > 0:\n",
    "        return 'Positive'\n",
    "    else:\n",
    "        return 'Negative'\n",
    "```\n",
    "\n",
    "If the input `x` is greater than `0`, we return the string `'Positive'`. Otherwise, we return `'Negative'`.\n",
    "\n",
    "If we want to test multiple conditions at once, we use the following general format.\n",
    "\n",
    "```\n",
    "if <if expression>:\n",
    "    <if body>\n",
    "elif <elif expression 0>:\n",
    "    <elif body 0>\n",
    "elif <elif expression 1>:\n",
    "    <elif body 1>\n",
    "...\n",
    "else:\n",
    "    <else body>\n",
    "```\n",
    "\n",
    "Only the body for the first conditional expression that is true will be evaluated. Each `if` and `elif` expression is evaluated and considered in order, starting at the top. `elif` can only be used if an `if` clause precedes it. As soon as a true value is found, the corresponding body is executed, and the rest of the conditional statement is skipped. If none of the `if` or `elif` expressions are true, then the `else body` is executed. \n",
    "\n",
    "For more examples and explanation, refer to the section on conditional statements [here](https://inferentialthinking.com/chapters/09/1/Conditional_Statements.html)."
   ]
  },
  {
   "cell_type": "markdown",
   "id": "d63cdd6c",
   "metadata": {
    "deletable": false,
    "editable": false
   },
   "source": [
    "**Question 1.2** Complete the following conditional statement so that the string `'More please'` is assigned to the variable `say_please` if the number of nachos with cheese in `ten_nachos` is less than `5`. Use the if statement to do this (do not directly reassign the variable `say_please`). \n",
    "\n",
    "*Hint*: You should be using `number_cheese` from Question 1.\n",
    "\n",
    "<!--\n",
    "BEGIN QUESTION\n",
    "name: q12\n",
    "-->"
   ]
  },
  {
   "cell_type": "code",
   "execution_count": 10,
   "id": "8c10d92a",
   "metadata": {
    "execution": {
     "iopub.execute_input": "2022-07-17T16:32:04.107447Z",
     "iopub.status.busy": "2022-07-17T16:32:04.107210Z",
     "iopub.status.idle": "2022-07-17T16:32:04.110912Z",
     "shell.execute_reply": "2022-07-17T16:32:04.110460Z"
    },
    "for_assignment_type": "student"
   },
   "outputs": [],
   "source": [
    "say_please = '?'\n",
    "\n",
    "if ...:\n",
    "    say_please = 'More please'\n",
    "say_please"
   ]
  },
  {
   "cell_type": "code",
   "execution_count": null,
   "id": "d67e1520",
   "metadata": {
    "deletable": false,
    "editable": false
   },
   "outputs": [],
   "source": [
    "grader.check(\"q12\")"
   ]
  },
  {
   "cell_type": "markdown",
   "id": "2f35cdf8",
   "metadata": {
    "deletable": false,
    "editable": false
   },
   "source": [
    "**Question 1.3** Write a function called `nacho_reaction` that returns a reaction (as a string) based on the type of nacho passed in as an argument. Use the table below to match the nacho type to the appropriate reaction.\n",
    "\n",
    "<img src=\"nacho_reactions.png\">\n",
    "\n",
    "*Hint:* If you're failing the test, double check the spelling of your reactions.\n",
    "\n",
    "<!--\n",
    "BEGIN QUESTION\n",
    "name: q13\n",
    "-->"
   ]
  },
  {
   "cell_type": "code",
   "execution_count": 12,
   "id": "07f4b861",
   "metadata": {
    "execution": {
     "iopub.execute_input": "2022-07-17T16:32:04.120160Z",
     "iopub.status.busy": "2022-07-17T16:32:04.119950Z",
     "iopub.status.idle": "2022-07-17T16:32:04.124272Z",
     "shell.execute_reply": "2022-07-17T16:32:04.123827Z"
    },
    "for_assignment_type": "student"
   },
   "outputs": [],
   "source": [
    "def nacho_reaction(nacho):\n",
    "    if nacho == \"cheese\":\n",
    "        return ...\n",
    "    ... :\n",
    "        ...\n",
    "    ... :\n",
    "        ...\n",
    "    ... :\n",
    "        ...\n",
    "\n",
    "spicy_nacho = nacho_reaction('salsa')\n",
    "spicy_nacho"
   ]
  },
  {
   "cell_type": "code",
   "execution_count": null,
   "id": "941fa910",
   "metadata": {
    "deletable": false,
    "editable": false
   },
   "outputs": [],
   "source": [
    "grader.check(\"q13\")"
   ]
  },
  {
   "cell_type": "markdown",
   "id": "3b061562",
   "metadata": {
    "deletable": false,
    "editable": false
   },
   "source": [
    "**Question 1.4** Create a table `ten_nachos_reactions` that consists of the nachos in `ten_nachos` as well as the reactions for each of those nachos. The columns should be called `Nachos` and `Reactions`.\n",
    "\n",
    "*Hint:* Consider using the `apply` method, which returns an array.\n",
    "\n",
    "<!--\n",
    "BEGIN QUESTION\n",
    "name: q14\n",
    "-->"
   ]
  },
  {
   "cell_type": "code",
   "execution_count": 17,
   "id": "1ac193ab",
   "metadata": {
    "execution": {
     "iopub.execute_input": "2022-07-17T16:32:04.151128Z",
     "iopub.status.busy": "2022-07-17T16:32:04.150865Z",
     "iopub.status.idle": "2022-07-17T16:32:04.155349Z",
     "shell.execute_reply": "2022-07-17T16:32:04.154892Z"
    },
    "for_assignment_type": "student"
   },
   "outputs": [],
   "source": [
    "ten_nachos_tbl = Table().with_column('Nachos', ten_nachos)\n",
    "ten_nachos_reactions = ...\n",
    "ten_nachos_reactions"
   ]
  },
  {
   "cell_type": "code",
   "execution_count": null,
   "id": "0f66f759",
   "metadata": {
    "deletable": false,
    "editable": false
   },
   "outputs": [],
   "source": [
    "grader.check(\"q14\")"
   ]
  },
  {
   "cell_type": "markdown",
   "id": "a3850d55",
   "metadata": {
    "deletable": false,
    "editable": false
   },
   "source": [
    "**Question 1.5** Using code, find the number of 'Wow!' reactions for the nachos in `ten_nachos_reactions`.\n",
    "\n",
    "<!--\n",
    "BEGIN QUESTION\n",
    "name: q15\n",
    "-->"
   ]
  },
  {
   "cell_type": "code",
   "execution_count": 19,
   "id": "79b4560f",
   "metadata": {
    "execution": {
     "iopub.execute_input": "2022-07-17T16:32:04.164449Z",
     "iopub.status.busy": "2022-07-17T16:32:04.164188Z",
     "iopub.status.idle": "2022-07-17T16:32:04.167954Z",
     "shell.execute_reply": "2022-07-17T16:32:04.167498Z"
    }
   },
   "outputs": [],
   "source": [
    "number_wow_reactions = ...\n",
    "number_wow_reactions"
   ]
  },
  {
   "cell_type": "code",
   "execution_count": null,
   "id": "e2fc671f",
   "metadata": {
    "deletable": false,
    "editable": false
   },
   "outputs": [],
   "source": [
    "grader.check(\"q15\")"
   ]
  },
  {
   "cell_type": "markdown",
   "id": "9a1690df",
   "metadata": {},
   "source": [
    "## 2. Simulations and For Loops\n",
    "Using a `for` statement, we can perform a task multiple times. This is known as iteration. The general structure of a for loop is:\n",
    "\n",
    "`for <placeholder> in <array>:` followed by indented lines of code that are repeated for each element of the `array` being iterated over. You can read more about for loops [here](https://www.inferentialthinking.com/chapters/09/2/Iteration.html). \n",
    "\n",
    "**NOTE:** We often use `i` as the `placeholder` in our class examples, but you could name it anything! Some examples can be found below."
   ]
  },
  {
   "cell_type": "markdown",
   "id": "d74a67bc",
   "metadata": {},
   "source": [
    "One use of iteration is to loop through a set of values. For instance, we can print out all of the colors of the rainbow."
   ]
  },
  {
   "cell_type": "code",
   "execution_count": 22,
   "id": "823eea35",
   "metadata": {
    "execution": {
     "iopub.execute_input": "2022-07-17T16:32:04.183356Z",
     "iopub.status.busy": "2022-07-17T16:32:04.183103Z",
     "iopub.status.idle": "2022-07-17T16:32:04.186704Z",
     "shell.execute_reply": "2022-07-17T16:32:04.186091Z"
    }
   },
   "outputs": [],
   "source": [
    "rainbow = make_array(\"red\", \"orange\", \"yellow\", \"green\", \"blue\", \"indigo\", \"violet\")\n",
    "\n",
    "for color in rainbow:\n",
    "    print(color)"
   ]
  },
  {
   "cell_type": "markdown",
   "id": "b1d94f18",
   "metadata": {},
   "source": [
    "We can see that the indented part of the `for` loop, known as the body, is executed once for each item in `rainbow`. The name `color` is assigned to the next value in `rainbow` at the start of each iteration. Note that the name `color` is arbitrary; we could easily have named it something else. The important thing is we stay consistent throughout the `for` loop. "
   ]
  },
  {
   "cell_type": "code",
   "execution_count": 23,
   "id": "72361473",
   "metadata": {
    "execution": {
     "iopub.execute_input": "2022-07-17T16:32:04.190987Z",
     "iopub.status.busy": "2022-07-17T16:32:04.190733Z",
     "iopub.status.idle": "2022-07-17T16:32:04.193797Z",
     "shell.execute_reply": "2022-07-17T16:32:04.193280Z"
    }
   },
   "outputs": [],
   "source": [
    "for another_name in rainbow:\n",
    "    print(another_name)"
   ]
  },
  {
   "cell_type": "markdown",
   "id": "fb5274c1",
   "metadata": {},
   "source": [
    "In general, however, we would like the variable name to be somewhat informative. "
   ]
  },
  {
   "cell_type": "markdown",
   "id": "dec13ae6",
   "metadata": {
    "deletable": false,
    "editable": false
   },
   "source": [
    "**Question 2.1** In the following cell, we've loaded the text of _Pride and Prejudice_ by Jane Austen, split it into individual words, and stored these words in an array `p_and_p_words`. Using a `for` loop, assign `longer_than_five` to the number of words in the novel that are more than 5 letters long.\n",
    "\n",
    "*Hint*: You can find the number of letters in a word with the `len` function.\n",
    "\n",
    "*Hint*: How can you use `longer_than_five` to keep track of the number of words that are more than five letters long?\n",
    "\n",
    "<!--\n",
    "BEGIN QUESTION\n",
    "name: q21\n",
    "-->"
   ]
  },
  {
   "cell_type": "code",
   "execution_count": 24,
   "id": "15ae2720",
   "metadata": {
    "execution": {
     "iopub.execute_input": "2022-07-17T16:32:04.197375Z",
     "iopub.status.busy": "2022-07-17T16:32:04.197053Z",
     "iopub.status.idle": "2022-07-17T16:32:04.291697Z",
     "shell.execute_reply": "2022-07-17T16:32:04.291067Z"
    },
    "for_assignment_type": "student"
   },
   "outputs": [],
   "source": [
    "austen_string = open('Austen_PrideAndPrejudice.txt', encoding='utf-8').read()\n",
    "p_and_p_words = np.array(austen_string.split())\n",
    "\n",
    "longer_than_five = ...\n",
    "\n",
    "for ... in ...:\n",
    "    ...\n",
    "longer_than_five"
   ]
  },
  {
   "cell_type": "code",
   "execution_count": null,
   "id": "94f56b2b",
   "metadata": {
    "deletable": false,
    "editable": false
   },
   "outputs": [],
   "source": [
    "grader.check(\"q21\")"
   ]
  },
  {
   "cell_type": "markdown",
   "id": "9084d03c",
   "metadata": {},
   "source": [
    "Another way we can use `for` loops is to repeat lines of code many times. Recall the structure of a `for` loop: \n",
    "\n",
    "`for <placeholder> in <array>:` followed by indented lines of code that are repeated for each element of the array being iterated over. \n",
    "\n",
    "Sometimes, we don't care about what the value of the placeholder is. We instead take advantage of the fact that the `for` loop will repeat as many times as the length of our array. In the following cell, we iterate through an array of length 5 and print out \"Hello, world!\" in each iteration. "
   ]
  },
  {
   "cell_type": "code",
   "execution_count": 26,
   "id": "84d52fa7",
   "metadata": {
    "execution": {
     "iopub.execute_input": "2022-07-17T16:32:04.302116Z",
     "iopub.status.busy": "2022-07-17T16:32:04.301805Z",
     "iopub.status.idle": "2022-07-17T16:32:04.305005Z",
     "shell.execute_reply": "2022-07-17T16:32:04.304422Z"
    }
   },
   "outputs": [],
   "source": [
    "for i in np.arange(5):\n",
    "    print(\"Hello, world!\")"
   ]
  },
  {
   "cell_type": "markdown",
   "id": "5c572203",
   "metadata": {
    "deletable": false,
    "editable": false
   },
   "source": [
    "**Question 2.2** Using a simulation with 10,000 trials, assign `num_different` to the number of times, in 10,000 trials, that two words picked uniformly at random (with replacement) from Pride and Prejudice have different lengths. \n",
    "\n",
    "*Hint 1*: What function did we use in section 1 to sample at random with replacement from an array? \n",
    "\n",
    "*Hint 2*: Remember that `!=` checks for non-equality between two items.\n",
    "\n",
    "<!--\n",
    "BEGIN QUESTION\n",
    "name: q22\n",
    "-->"
   ]
  },
  {
   "cell_type": "code",
   "execution_count": 27,
   "id": "bf2e9788",
   "metadata": {
    "execution": {
     "iopub.execute_input": "2022-07-17T16:32:04.308351Z",
     "iopub.status.busy": "2022-07-17T16:32:04.308035Z",
     "iopub.status.idle": "2022-07-17T16:32:04.463596Z",
     "shell.execute_reply": "2022-07-17T16:32:04.463066Z"
    },
    "for_assignment_type": "student"
   },
   "outputs": [],
   "source": [
    "trials = 10000\n",
    "num_different = ...\n",
    "\n",
    "for ... in ...:\n",
    "    ...\n",
    "num_different"
   ]
  },
  {
   "cell_type": "code",
   "execution_count": null,
   "id": "6c717148",
   "metadata": {
    "deletable": false,
    "editable": false
   },
   "outputs": [],
   "source": [
    "grader.check(\"q22\")"
   ]
  },
  {
   "cell_type": "markdown",
   "id": "ae351b2a",
   "metadata": {},
   "source": [
    "<img src=\"luke.jpg\" alt=\"drawing\" width=\"300\"/>\n",
    "\n",
    "Luke wants to congratulate you on getting this far!\n"
   ]
  },
  {
   "cell_type": "markdown",
   "id": "4b5ae8b9",
   "metadata": {},
   "source": [
    "---"
   ]
  },
  {
   "cell_type": "markdown",
   "id": "097759f2",
   "metadata": {},
   "source": [
    "## Finishing up\n",
    "\n",
    "**Important submission information:** \n",
    "- Be sure to run the tests and verify that they all pass by running the `grader.check_all()` cell below,\n",
    "- Save your progress by choosing the **Save and Checkpoint** item in the **File** menu, \n",
    "- Submit your work by clicking the **Submit** button in the toolbar at the top of notebook. \n",
    "- Download a zip file of this notebook by running the last cell below. **Note:** Be sure to run all the tests before exporting so that all images/graphs appear in the exported notebook. \n",
    "\n",
    "**Please save before submitting!**"
   ]
  },
  {
   "cell_type": "code",
   "execution_count": 29,
   "id": "dafc2560",
   "metadata": {
    "execution": {
     "iopub.execute_input": "2022-07-17T16:32:04.473325Z",
     "iopub.status.busy": "2022-07-17T16:32:04.473090Z",
     "iopub.status.idle": "2022-07-17T16:32:04.483793Z",
     "shell.execute_reply": "2022-07-17T16:32:04.483243Z"
    }
   },
   "outputs": [],
   "source": [
    "# To double-check your work, the cell below will rerun all of the autograder tests.\n",
    "grader.check_all()"
   ]
  },
  {
   "cell_type": "code",
   "execution_count": 30,
   "id": "5817ca09",
   "metadata": {
    "execution": {
     "iopub.execute_input": "2022-07-17T16:32:04.486813Z",
     "iopub.status.busy": "2022-07-17T16:32:04.486502Z",
     "iopub.status.idle": "2022-07-17T16:32:04.497284Z",
     "shell.execute_reply": "2022-07-17T16:32:04.496770Z"
    }
   },
   "outputs": [],
   "source": [
    "# Save your notebook first, then run this cell to export your submission.\n",
    "grader.export(pdf=False)"
   ]
  }
 ],
 "metadata": {
  "kernelspec": {
   "display_name": "Python 3",
   "language": "python",
   "name": "python3"
  },
  "language_info": {
   "codemirror_mode": {
    "name": "ipython",
    "version": 3
   },
   "file_extension": ".py",
   "mimetype": "text/x-python",
   "name": "python",
   "nbconvert_exporter": "python",
   "pygments_lexer": "ipython3",
   "version": "3.9.7"
  },
  "course": "8x",
  "section": "2",
  "lab": "lab01"
 },
 "nbformat": 4,
 "nbformat_minor": 5
}